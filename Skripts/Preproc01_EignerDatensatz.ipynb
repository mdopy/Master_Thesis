{
 "cells": [
  {
   "cell_type": "markdown",
   "metadata": {},
   "source": [
    "Handpoints2angles\n",
    "\n",
    "Notebook that reads the CSV saved Data from for example Dataset DHG and calculates the handangles out of it"
   ]
  },
  {
   "cell_type": "code",
   "execution_count": 1,
   "metadata": {},
   "outputs": [],
   "source": [
    "import pandas as pd\n",
    "import numpy as np\n",
    "import matplotlib.pyplot as plt\n",
    "import plotly.express as px\n",
    "import plotly.graph_objects as go\n",
    "from handpoints2anglesv2 import *\n",
    "from pathlib import Path\n",
    "from scipy.spatial.transform import Slerp, Rotation\n",
    "import os\n",
    "import re\n",
    "from scipy.spatial.transform import Rotation as R\n",
    "# import chart_studio\n",
    "# chart_studio.tools.set_credentials_file(username='mado24', api_key='6yxG1nNuc8NtNNktcJ3D')\n",
    "# import chart_studio.plotly as plotly"
   ]
  },
  {
   "cell_type": "code",
   "execution_count": 2,
   "metadata": {},
   "outputs": [],
   "source": [
    "# Namesof the joints that, CSV file does not contain these, named acordingly to the manus gloves\n",
    "\n",
    "joint_names = {\n",
    "    0: 'Wrist',\n",
    "    1: 'Palm',\n",
    "    2: 'Thumb_CMC',\n",
    "    3: 'Thumb_MCP',\n",
    "    4: 'Thumb_IP',\n",
    "    5: 'Thumb_TIP',\n",
    "    6: 'Index_MCP',\n",
    "    7: 'Index_PIP',\n",
    "    8: 'Index_DIP',\n",
    "    9: 'Index_TIP',\n",
    "    10: 'Middle_MCP',\n",
    "    11: 'Middle_PIP',\n",
    "    12: 'Middle_DIP',\n",
    "    13: 'Middle_TIP',\n",
    "    14: 'Ring_MCP',\n",
    "    15: 'Ring_PIP',\n",
    "    16: 'Ring_DIP',\n",
    "    17: 'Ring_TIP',\n",
    "    18: 'Pinky_MCP',\n",
    "    19: 'Pinky_PIP',\n",
    "    20: 'Pinky_DIP',\n",
    "    21: 'Pinky_TIP'\n",
    "}"
   ]
  },
  {
   "cell_type": "code",
   "execution_count": 3,
   "metadata": {},
   "outputs": [],
   "source": [
    "'''calculates the angles out of the given skeletal data and stores it in an pickle file. Additionally for the stored angle slinear interpolation is done. \n",
    "The stored pickle with 3D Data points does not undergo interpolation'''\n",
    "\n",
    "cwd = Path.cwd()\n",
    "data_dir = cwd / '..' / 'Data'   / 'ODHG2024'\n",
    "\n"
   ]
  },
  {
   "cell_type": "code",
   "execution_count": 4,
   "metadata": {},
   "outputs": [],
   "source": [
    "def matrix_to_quaternion(row, trans_mat):\n",
    "    # Extract the rotation matrix elements from the row\n",
    "    rotation_matrix = row[['Rot[0]', 'Rot[1]', 'Rot[2]', 'Rot[3]', 'Rot[4]', 'Rot[5]', 'Rot[6]', 'Rot[7]', 'Rot[8]']].values.reshape(3, 3)\n",
    "    # Convert the rotation matrix to a quaternion\n",
    "    quaternion = R.from_matrix(trans_mat @ rotation_matrix).as_quat()\n",
    "    return pd.Series(quaternion, dtype='float32')\n",
    "\n",
    "def coordinatesystem_rotation(row, trans_mat):\n",
    "    p = row[['Handpoint_X', 'Handpoint_Y', 'Handpoint_Z']].values.reshape(3, 1)\n",
    "    return pd.Series(np.squeeze(trans_mat @ p), dtype='float32')"
   ]
  },
  {
   "cell_type": "code",
   "execution_count": 14,
   "metadata": {},
   "outputs": [
    {
     "name": "stdout",
     "output_type": "stream",
     "text": [
      "Number of annotated gestures:  56\n",
      "Alternating: True\n",
      "Same fingernumber: True\n",
      "Sequence:  1 N_frames to interpolate:  53\n",
      "Number of annotated gestures:  56\n",
      "Alternating: True\n",
      "Same fingernumber: True\n",
      "Sequence:  2 N_frames to interpolate:  58\n",
      "Number of annotated gestures:  56\n",
      "Alternating: True\n",
      "Same fingernumber: True\n",
      "Sequence:  3 N_frames to interpolate:  20\n",
      "Number of annotated gestures:  56\n",
      "Alternating: True\n",
      "Same fingernumber: True\n",
      "Sequence:  4 N_frames to interpolate:  13\n",
      "Number of annotated gestures:  56\n",
      "Alternating: True\n",
      "Same fingernumber: True\n",
      "Sequence:  5 N_frames to interpolate:  46\n",
      "Number of annotated gestures:  56\n",
      "Alternating: True\n",
      "Same fingernumber: True\n",
      "Sequence:  6 N_frames to interpolate:  26\n",
      "Number of annotated gestures:  56\n",
      "Alternating: True\n",
      "Same fingernumber: True\n",
      "Sequence:  7 N_frames to interpolate:  37\n",
      "Number of annotated gestures:  56\n",
      "Alternating: True\n",
      "Same fingernumber: True\n",
      "Sequence:  8 N_frames to interpolate:  0\n",
      "Number of annotated gestures:  56\n",
      "Alternating: True\n",
      "Same fingernumber: True\n",
      "Sequence:  9 N_frames to interpolate:  5\n",
      "Number of annotated gestures:  56\n",
      "Alternating: True\n",
      "Same fingernumber: True\n",
      "Sequence:  10 N_frames to interpolate:  25\n"
     ]
    }
   ],
   "source": [
    "# First analysis for missing frames in Qualisys Data\n",
    "n_sequences = np.arange(1,11)\n",
    "\n",
    "Eventslist = []\n",
    "for n_sequence in n_sequences:\n",
    "\n",
    "    file_destin = (data_dir / 'Qualisys' / ('sequence' + str(n_sequence) + '_6D.tsv')).resolve()\n",
    "\n",
    "    line_number = 0\n",
    "    eventlines = []\n",
    "    with open(file_destin, 'r') as file:\n",
    "        for line in file:\n",
    "            if line.startswith(\"EVENT\"):\n",
    "                eventlines.append(line_number)\n",
    "            if line.startswith(\"Frame\"):\n",
    "                break\n",
    "            line_number += 1\n",
    "\n",
    "\n",
    "    print('Number of annotated gestures: ', len(eventlines))\n",
    "\n",
    "    if not len(eventlines) == 0:\n",
    "        Events = pd.read_csv(file_destin, sep='\\t' , decimal=',', skiprows=min(eventlines), nrows=max(eventlines)-min(eventlines)+1, usecols = [1,2,3], names = ['name', 'frame_idx', 'timestamp'])\n",
    "        Events[['n_gesture', 'n_fingers', 'start_end']] = Events['name'].str.extract(r'g(\\d+)f(\\d+)([a-z])')\n",
    "        Eventslist.append(Events)\n",
    "        \n",
    "        alternating = all(Events.loc[:, 'start_end'].iloc[i] != Events.loc[:, 'start_end'].iloc[i+1] for i in range(len(Eventslist)-1))\n",
    "        print('Alternating:', alternating)\n",
    "        samefingers = all(Events.loc[:, 'n_fingers'].iloc[2*i] == Events.loc[:, 'n_fingers'].iloc[2*i+1] for i in range(int(len(Eventslist)/2)))\n",
    "        print('Same fingernumber:', samefingers)\n",
    "\n",
    "\n",
    "    Qualisys_dtypes = {'Frame': 'int32', 'Time': 'float32', 'Right_Hand X':'float32', 'Y':'float32', 'Z':'float32', 'Roll':'float32', 'Pitch':'float32', 'Yaw':'float32',\n",
    "       'Residual':'float32', 'Rot[0]':'float32', 'Rot[1]':'float32', 'Rot[2]':'float32', 'Rot[3]':'float32', 'Rot[4]':'float32', 'Rot[5]':'float32',\n",
    "       'Rot[6]':'float32', 'Rot[7]':'float32', 'Rot[8]':'float32'}\n",
    "    Data_Qualisys = pd.read_csv(file_destin, sep='\\t' , decimal=',', header = line_number, usecols = range(0,18)).astype(Qualisys_dtypes)\n",
    "\n",
    "\n",
    "    print('Sequence: ', n_sequence, 'N_frames to interpolate: ',len(Data_Qualisys.loc[(Data_Qualisys['Right_Hand X'] == 0) & (Data_Qualisys['Y'] == 0) & (Data_Qualisys['Z'] == 0),:]))\n",
    "    #zero_rotation_rows = Data_Qualisys.loc[(Data_Qualisys['Rot[0]', 'Rot[1]', 'Rot[2]', 'Rot[3]', 'Rot[4]', 'Rot[5]', 'Rot[6]', 'Rot[7]', 'Rot[8]'], :] == 0).all(axis=1)]\n"
   ]
  },
  {
   "cell_type": "code",
   "execution_count": 15,
   "metadata": {},
   "outputs": [
    {
     "data": {
      "text/plain": [
       "<Axes: >"
      ]
     },
     "execution_count": 15,
     "metadata": {},
     "output_type": "execute_result"
    },
    {
     "data": {
      "image/png": "[encoded data removed]",
      "text/plain": [
       "<Figure size 640x480 with 1 Axes>"
      ]
     },
     "metadata": {},
     "output_type": "display_data"
    }
   ],
   "source": [
    "Eventslist[0]['n_fingers'].hist(bins=2)"
   ]
  },
  {
   "cell_type": "code",
   "execution_count": 23,
   "metadata": {},
   "outputs": [
    {
     "name": "stdout",
     "output_type": "stream",
     "text": [
      "Hand pose coverage in sequence 1: 99.5%\n",
      "Hand pose coverage in sequence 2: 99.4%\n",
      "Hand pose coverage in sequence 3: 99.8%\n",
      "Hand pose coverage in sequence 4: 99.9%\n",
      "Hand pose coverage in sequence 5: 99.5%\n",
      "Hand pose coverage in sequence 6: 99.7%\n",
      "Hand pose coverage in sequence 7: 99.5%\n",
      "Hand pose coverage in sequence 8: 100.0%\n",
      "Hand pose coverage in sequence 9: 99.9%\n",
      "Hand pose coverage in sequence 10: 99.7%\n"
     ]
    }
   ],
   "source": [
    "# analysis of missing frames in qualysis data\n",
    "n_sequences = np.arange(1,11)\n",
    "\n",
    "for n_sequence in n_sequences:\n",
    "\n",
    "    file_destin = (data_dir / 'Qualisys' / ('sequence' + str(n_sequence) + '_6D.tsv')).resolve()\n",
    "\n",
    "    Data_Qualisys = pd.read_csv(file_destin, sep='\\t' , decimal=',', header = line_number, usecols = range(0,18)).astype(Qualisys_dtypes)\n",
    "\n",
    "    Data_Qualisys.rename(columns={'Frame': 'frame_idx', 'Right_Hand X': 'Handpoint_X', 'Y': 'Handpoint_Y', 'Z': 'Handpoint_Z', 'Time': 'timestamp'}, inplace=True)\n",
    "    Data_Qualisys.loc[:, 'frame_idx'] = Data_Qualisys.loc[:, 'frame_idx'] - 1\n",
    "\n",
    "    coverage = sum((Data_Qualisys.loc[:, 'Handpoint_X'] != 0.0) & (Data_Qualisys.loc[:, 'Handpoint_Y'] != 0.0) & (Data_Qualisys.loc[:, 'Handpoint_Z'] != 0.0)) / len(Data_Qualisys.loc[:, 'Handpoint_X'])\n",
    "    print(f'Hand pose coverage in sequence {n_sequence}: {coverage*100 :.1f}%')\n",
    "\n",
    "\n",
    "\n"
   ]
  },
  {
   "cell_type": "code",
   "execution_count": 94,
   "metadata": {},
   "outputs": [
    {
     "data": {
      "text/plain": [
       "array([[ 1,  0,  0],\n",
       "       [ 0,  0,  1],\n",
       "       [ 0, -1,  0]])"
      ]
     },
     "execution_count": 94,
     "metadata": {},
     "output_type": "execute_result"
    }
   ],
   "source": [
    "trans = np.array([[1,0,0],[0,0,1],[0,-1,0]])\n",
    "trans"
   ]
  },
  {
   "cell_type": "code",
   "execution_count": 91,
   "metadata": {},
   "outputs": [
    {
     "data": {
      "text/plain": [
       "array([[0],\n",
       "       [1],\n",
       "       [0]])"
      ]
     },
     "execution_count": 91,
     "metadata": {},
     "output_type": "execute_result"
    }
   ],
   "source": [
    "v_test = np.array([[0],[1],[0]])\n",
    "v_test"
   ]
  },
  {
   "cell_type": "code",
   "execution_count": 92,
   "metadata": {},
   "outputs": [
    {
     "data": {
      "text/plain": [
       "array([[0],\n",
       "       [0],\n",
       "       [1]])"
      ]
     },
     "execution_count": 92,
     "metadata": {},
     "output_type": "execute_result"
    }
   ],
   "source": [
    "trans @ v_test"
   ]
  },
  {
   "cell_type": "code",
   "execution_count": 95,
   "metadata": {},
   "outputs": [
    {
     "data": {
      "application/vnd.plotly.v1+json": {
       "config": {
        "plotlyServerURL": "https://plotly.com"
       },
       "data": [
        {
         "line": {
          "color": "red",
          "width": 5
         },
         "mode": "lines",
         "name": "X",
         "type": "scatter3d",
         "x": [
          0,
          -0.4096300005912781
         ],
         "y": [
          0,
          0.8277000188827515
         ],
         "z": [
          0,
          0.38356998562812805
         ]
        },
        {
         "line": {
          "color": "green",
          "width": 5
         },
         "mode": "lines",
         "name": "Y",
         "type": "scatter3d",
         "x": [
          0,
          0.9074100255966187
         ],
         "y": [
          0,
          0.32642000913619995
         ],
         "z": [
          0,
          0.26467999815940857
         ]
        },
        {
         "line": {
          "color": "blue",
          "width": 5
         },
         "mode": "lines",
         "name": "Z",
         "type": "scatter3d",
         "x": [
          0,
          0.09386999905109406
         ],
         "y": [
          0,
          0.4564700126647949
         ],
         "z": [
          0,
          -0.8847699761390686
         ]
        }
       ],
       "layout": {
        "scene": {
         "camera": {
          "eye": {
           "x": 0,
           "y": 1.25,
           "z": 1.25
          },
          "up": {
           "x": 0,
           "y": 1,
           "z": 0
          }
         },
         "xaxis": {
          "title": {
           "text": "X"
          }
         },
         "yaxis": {
          "title": {
           "text": "Y"
          }
         },
         "zaxis": {
          "title": {
           "text": "Z"
          }
         }
        },
        "template": {
         "data": {
          "bar": [
           {
            "error_x": {
             "color": "#2a3f5f"
            },
            "error_y": {
             "color": "#2a3f5f"
            },
            "marker": {
             "line": {
              "color": "#E5ECF6",
              "width": 0.5
             },
             "pattern": {
              "fillmode": "overlay",
              "size": 10,
              "solidity": 0.2
             }
            },
            "type": "bar"
           }
          ],
          "barpolar": [
           {
            "marker": {
             "line": {
              "color": "#E5ECF6",
              "width": 0.5
             },
             "pattern": {
              "fillmode": "overlay",
              "size": 10,
              "solidity": 0.2
             }
            },
            "type": "barpolar"
           }
          ],
          "carpet": [
           {
            "aaxis": {
             "endlinecolor": "#2a3f5f",
             "gridcolor": "white",
             "linecolor": "white",
             "minorgridcolor": "white",
             "startlinecolor": "#2a3f5f"
            },
            "baxis": {
             "endlinecolor": "#2a3f5f",
             "gridcolor": "white",
             "linecolor": "white",
             "minorgridcolor": "white",
             "startlinecolor": "#2a3f5f"
            },
            "type": "carpet"
           }
          ],
          "choropleth": [
           {
            "colorbar": {
             "outlinewidth": 0,
             "ticks": ""
            },
            "type": "choropleth"
           }
          ],
          "contour": [
           {
            "colorbar": {
             "outlinewidth": 0,
             "ticks": ""
            },
            "colorscale": [
             [
              0,
              "#0d0887"
             ],
             [
              0.1111111111111111,
              "#46039f"
             ],
             [
              0.2222222222222222,
              "#7201a8"
             ],
             [
              0.3333333333333333,
              "#9c179e"
             ],
             [
              0.4444444444444444,
              "#bd3786"
             ],
             [
              0.5555555555555556,
              "#d8576b"
             ],
             [
              0.6666666666666666,
              "#ed7953"
             ],
             [
              0.7777777777777778,
              "#fb9f3a"
             ],
             [
              0.8888888888888888,
              "#fdca26"
             ],
             [
              1,
              "#f0f921"
             ]
            ],
            "type": "contour"
           }
          ],
          "contourcarpet": [
           {
            "colorbar": {
             "outlinewidth": 0,
             "ticks": ""
            },
            "type": "contourcarpet"
           }
          ],
          "heatmap": [
           {
            "colorbar": {
             "outlinewidth": 0,
             "ticks": ""
            },
            "colorscale": [
             [
              0,
              "#0d0887"
             ],
             [
              0.1111111111111111,
              "#46039f"
             ],
             [
              0.2222222222222222,
              "#7201a8"
             ],
             [
              0.3333333333333333,
              "#9c179e"
             ],
             [
              0.4444444444444444,
              "#bd3786"
             ],
             [
              0.5555555555555556,
              "#d8576b"
             ],
             [
              0.6666666666666666,
              "#ed7953"
             ],
             [
              0.7777777777777778,
              "#fb9f3a"
             ],
             [
              0.8888888888888888,
              "#fdca26"
             ],
             [
              1,
              "#f0f921"
             ]
            ],
            "type": "heatmap"
           }
          ],
          "heatmapgl": [
           {
            "colorbar": {
             "outlinewidth": 0,
             "ticks": ""
            },
            "colorscale": [
             [
              0,
              "#0d0887"
             ],
             [
              0.1111111111111111,
              "#46039f"
             ],
             [
              0.2222222222222222,
              "#7201a8"
             ],
             [
              0.3333333333333333,
              "#9c179e"
             ],
             [
              0.4444444444444444,
              "#bd3786"
             ],
             [
              0.5555555555555556,
              "#d8576b"
             ],
             [
              0.6666666666666666,
              "#ed7953"
             ],
             [
              0.7777777777777778,
              "#fb9f3a"
             ],
             [
              0.8888888888888888,
              "#fdca26"
             ],
             [
              1,
              "#f0f921"
             ]
            ],
            "type": "heatmapgl"
           }
          ],
          "histogram": [
           {
            "marker": {
             "pattern": {
              "fillmode": "overlay",
              "size": 10,
              "solidity": 0.2
             }
            },
            "type": "histogram"
           }
          ],
          "histogram2d": [
           {
            "colorbar": {
             "outlinewidth": 0,
             "ticks": ""
            },
            "colorscale": [
             [
              0,
              "#0d0887"
             ],
             [
              0.1111111111111111,
              "#46039f"
             ],
             [
              0.2222222222222222,
              "#7201a8"
             ],
             [
              0.3333333333333333,
              "#9c179e"
             ],
             [
              0.4444444444444444,
              "#bd3786"
             ],
             [
              0.5555555555555556,
              "#d8576b"
             ],
             [
              0.6666666666666666,
              "#ed7953"
             ],
             [
              0.7777777777777778,
              "#fb9f3a"
             ],
             [
              0.8888888888888888,
              "#fdca26"
             ],
             [
              1,
              "#f0f921"
             ]
            ],
            "type": "histogram2d"
           }
          ],
          "histogram2dcontour": [
           {
            "colorbar": {
             "outlinewidth": 0,
             "ticks": ""
            },
            "colorscale": [
             [
              0,
              "#0d0887"
             ],
             [
              0.1111111111111111,
              "#46039f"
             ],
             [
              0.2222222222222222,
              "#7201a8"
             ],
             [
              0.3333333333333333,
              "#9c179e"
             ],
             [
              0.4444444444444444,
              "#bd3786"
             ],
             [
              0.5555555555555556,
              "#d8576b"
             ],
             [
              0.6666666666666666,
              "#ed7953"
             ],
             [
              0.7777777777777778,
              "#fb9f3a"
             ],
             [
              0.8888888888888888,
              "#fdca26"
             ],
             [
              1,
              "#f0f921"
             ]
            ],
            "type": "histogram2dcontour"
           }
          ],
          "mesh3d": [
           {
            "colorbar": {
             "outlinewidth": 0,
             "ticks": ""
            },
            "type": "mesh3d"
           }
          ],
          "parcoords": [
           {
            "line": {
             "colorbar": {
              "outlinewidth": 0,
              "ticks": ""
             }
            },
            "type": "parcoords"
           }
          ],
          "pie": [
           {
            "automargin": true,
            "type": "pie"
           }
          ],
          "scatter": [
           {
            "fillpattern": {
             "fillmode": "overlay",
             "size": 10,
             "solidity": 0.2
            },
            "type": "scatter"
           }
          ],
          "scatter3d": [
           {
            "line": {
             "colorbar": {
              "outlinewidth": 0,
              "ticks": ""
             }
            },
            "marker": {
             "colorbar": {
              "outlinewidth": 0,
              "ticks": ""
             }
            },
            "type": "scatter3d"
           }
          ],
          "scattercarpet": [
           {
            "marker": {
             "colorbar": {
              "outlinewidth": 0,
              "ticks": ""
             }
            },
            "type": "scattercarpet"
           }
          ],
          "scattergeo": [
           {
            "marker": {
             "colorbar": {
              "outlinewidth": 0,
              "ticks": ""
             }
            },
            "type": "scattergeo"
           }
          ],
          "scattergl": [
           {
            "marker": {
             "colorbar": {
              "outlinewidth": 0,
              "ticks": ""
             }
            },
            "type": "scattergl"
           }
          ],
          "scattermapbox": [
           {
            "marker": {
             "colorbar": {
              "outlinewidth": 0,
              "ticks": ""
             }
            },
            "type": "scattermapbox"
           }
          ],
          "scatterpolar": [
           {
            "marker": {
             "colorbar": {
              "outlinewidth": 0,
              "ticks": ""
             }
            },
            "type": "scatterpolar"
           }
          ],
          "scatterpolargl": [
           {
            "marker": {
             "colorbar": {
              "outlinewidth": 0,
              "ticks": ""
             }
            },
            "type": "scatterpolargl"
           }
          ],
          "scatterternary": [
           {
            "marker": {
             "colorbar": {
              "outlinewidth": 0,
              "ticks": ""
             }
            },
            "type": "scatterternary"
           }
          ],
          "surface": [
           {
            "colorbar": {
             "outlinewidth": 0,
             "ticks": ""
            },
            "colorscale": [
             [
              0,
              "#0d0887"
             ],
             [
              0.1111111111111111,
              "#46039f"
             ],
             [
              0.2222222222222222,
              "#7201a8"
             ],
             [
              0.3333333333333333,
              "#9c179e"
             ],
             [
              0.4444444444444444,
              "#bd3786"
             ],
             [
              0.5555555555555556,
              "#d8576b"
             ],
             [
              0.6666666666666666,
              "#ed7953"
             ],
             [
              0.7777777777777778,
              "#fb9f3a"
             ],
             [
              0.8888888888888888,
              "#fdca26"
             ],
             [
              1,
              "#f0f921"
             ]
            ],
            "type": "surface"
           }
          ],
          "table": [
           {
            "cells": {
             "fill": {
              "color": "#EBF0F8"
             },
             "line": {
              "color": "white"
             }
            },
            "header": {
             "fill": {
              "color": "#C8D4E3"
             },
             "line": {
              "color": "white"
             }
            },
            "type": "table"
           }
          ]
         },
         "layout": {
          "annotationdefaults": {
           "arrowcolor": "#2a3f5f",
           "arrowhead": 0,
           "arrowwidth": 1
          },
          "autotypenumbers": "strict",
          "coloraxis": {
           "colorbar": {
            "outlinewidth": 0,
            "ticks": ""
           }
          },
          "colorscale": {
           "diverging": [
            [
             0,
             "#8e0152"
            ],
            [
             0.1,
             "#c51b7d"
            ],
            [
             0.2,
             "#de77ae"
            ],
            [
             0.3,
             "#f1b6da"
            ],
            [
             0.4,
             "#fde0ef"
            ],
            [
             0.5,
             "#f7f7f7"
            ],
            [
             0.6,
             "#e6f5d0"
            ],
            [
             0.7,
             "#b8e186"
            ],
            [
             0.8,
             "#7fbc41"
            ],
            [
             0.9,
             "#4d9221"
            ],
            [
             1,
             "#276419"
            ]
           ],
           "sequential": [
            [
             0,
             "#0d0887"
            ],
            [
             0.1111111111111111,
             "#46039f"
            ],
            [
             0.2222222222222222,
             "#7201a8"
            ],
            [
             0.3333333333333333,
             "#9c179e"
            ],
            [
             0.4444444444444444,
             "#bd3786"
            ],
            [
             0.5555555555555556,
             "#d8576b"
            ],
            [
             0.6666666666666666,
             "#ed7953"
            ],
            [
             0.7777777777777778,
             "#fb9f3a"
            ],
            [
             0.8888888888888888,
             "#fdca26"
            ],
            [
             1,
             "#f0f921"
            ]
           ],
           "sequentialminus": [
            [
             0,
             "#0d0887"
            ],
            [
             0.1111111111111111,
             "#46039f"
            ],
            [
             0.2222222222222222,
             "#7201a8"
            ],
            [
             0.3333333333333333,
             "#9c179e"
            ],
            [
             0.4444444444444444,
             "#bd3786"
            ],
            [
             0.5555555555555556,
             "#d8576b"
            ],
            [
             0.6666666666666666,
             "#ed7953"
            ],
            [
             0.7777777777777778,
             "#fb9f3a"
            ],
            [
             0.8888888888888888,
             "#fdca26"
            ],
            [
             1,
             "#f0f921"
            ]
           ]
          },
          "colorway": [
           "#636efa",
           "#EF553B",
           "#00cc96",
           "#ab63fa",
           "#FFA15A",
           "#19d3f3",
           "#FF6692",
           "#B6E880",
           "#FF97FF",
           "#FECB52"
          ],
          "font": {
           "color": "#2a3f5f"
          },
          "geo": {
           "bgcolor": "white",
           "lakecolor": "white",
           "landcolor": "#E5ECF6",
           "showlakes": true,
           "showland": true,
           "subunitcolor": "white"
          },
          "hoverlabel": {
           "align": "left"
          },
          "hovermode": "closest",
          "mapbox": {
           "style": "light"
          },
          "paper_bgcolor": "white",
          "plot_bgcolor": "#E5ECF6",
          "polar": {
           "angularaxis": {
            "gridcolor": "white",
            "linecolor": "white",
            "ticks": ""
           },
           "bgcolor": "#E5ECF6",
           "radialaxis": {
            "gridcolor": "white",
            "linecolor": "white",
            "ticks": ""
           }
          },
          "scene": {
           "xaxis": {
            "backgroundcolor": "#E5ECF6",
            "gridcolor": "white",
            "gridwidth": 2,
            "linecolor": "white",
            "showbackground": true,
            "ticks": "",
            "zerolinecolor": "white"
           },
           "yaxis": {
            "backgroundcolor": "#E5ECF6",
            "gridcolor": "white",
            "gridwidth": 2,
            "linecolor": "white",
            "showbackground": true,
            "ticks": "",
            "zerolinecolor": "white"
           },
           "zaxis": {
            "backgroundcolor": "#E5ECF6",
            "gridcolor": "white",
            "gridwidth": 2,
            "linecolor": "white",
            "showbackground": true,
            "ticks": "",
            "zerolinecolor": "white"
           }
          },
          "shapedefaults": {
           "line": {
            "color": "#2a3f5f"
           }
          },
          "ternary": {
           "aaxis": {
            "gridcolor": "white",
            "linecolor": "white",
            "ticks": ""
           },
           "baxis": {
            "gridcolor": "white",
            "linecolor": "white",
            "ticks": ""
           },
           "bgcolor": "#E5ECF6",
           "caxis": {
            "gridcolor": "white",
            "linecolor": "white",
            "ticks": ""
           }
          },
          "title": {
           "x": 0.05
          },
          "xaxis": {
           "automargin": true,
           "gridcolor": "white",
           "linecolor": "white",
           "ticks": "",
           "title": {
            "standoff": 15
           },
           "zerolinecolor": "white",
           "zerolinewidth": 2
          },
          "yaxis": {
           "automargin": true,
           "gridcolor": "white",
           "linecolor": "white",
           "ticks": "",
           "title": {
            "standoff": 15
           },
           "zerolinecolor": "white",
           "zerolinewidth": 2
          }
         }
        },
        "title": {
         "text": "3D Line Plot"
        }
       }
      }
     },
     "metadata": {},
     "output_type": "display_data"
    }
   ],
   "source": [
    "# apply and check rotation for one sequnece\n",
    "\n",
    "n_sequence = 1\n",
    "\n",
    "file_destin = (data_dir / 'Qualisys' / ('sequence' + str(n_sequence) + '_6D.tsv')).resolve()\n",
    "Data_Qualisys = pd.read_csv(file_destin, sep='\\t' , decimal=',', header = line_number, usecols = range(0,18)).astype(Qualisys_dtypes)\n",
    "\n",
    "Data_Qualisys.rename(columns={'Frame': 'frame_idx', 'Right_Hand X': 'Handpoint_X', 'Y': 'Handpoint_Y', 'Z': 'Handpoint_Z', 'Time': 'timestamp'}, inplace=True)\n",
    "Data_Qualisys.loc[:, 'frame_idx'] = Data_Qualisys.loc[:, 'frame_idx'] - 1\n",
    "\n",
    "# display coordinate system of the hand\n",
    "row = Data_Qualisys.iloc[0,:]\n",
    "rot_mat = row[['Rot[0]', 'Rot[1]', 'Rot[2]', 'Rot[3]', 'Rot[4]', 'Rot[5]', 'Rot[6]', 'Rot[7]', 'Rot[8]']].values.reshape(3, 3).transpose()\n",
    "\n",
    "fig = go.Figure()\n",
    "\n",
    "rot_mat = trans @ rot_mat\n",
    "# Add the 3D line\n",
    "fig.add_trace(go.Scatter3d(\n",
    "    x=[0, rot_mat[0, 0]],\n",
    "    y=[0, rot_mat[1, 0]],\n",
    "    z=[0, rot_mat[2, 0]],\n",
    "    mode='lines',\n",
    "    line=dict(color='red', width=5),\n",
    "    name = 'X'\n",
    "))\n",
    "fig.add_trace(go.Scatter3d(\n",
    "    y=[0, rot_mat[1, 1]],\n",
    "    z=[0, rot_mat[2, 1]],\n",
    "    x=[0, rot_mat[0, 1]],\n",
    "    mode='lines',\n",
    "    line=dict(color='green', width=5),\n",
    "    name='Y'\n",
    "))\n",
    "fig.add_trace(go.Scatter3d(\n",
    "    x=[0, rot_mat[0, 2]],\n",
    "    y=[0, rot_mat[1, 2]],\n",
    "    z=[0, rot_mat[2, 2]],\n",
    "    mode='lines',\n",
    "    line=dict(color='blue', width=5),\n",
    "    name='Z'\n",
    "))\n",
    "\n",
    "# Set plot title and labels\n",
    "fig.update_layout(\n",
    "    title='3D Line Plot',\n",
    "    scene=dict(\n",
    "        xaxis_title='X',\n",
    "        yaxis_title='Y',\n",
    "        zaxis_title='Z',\n",
    "        camera=dict(\n",
    "            eye=dict(x=0, y=1.25, z=1.25),  # Adjust the camera position\n",
    "            up = dict(x=0, y=1, z=0)\n",
    "        )\n",
    "    )\n",
    ")"
   ]
  },
  {
   "cell_type": "code",
   "execution_count": 72,
   "metadata": {},
   "outputs": [
    {
     "data": {
      "text/plain": [
       "array([[0, 3, 6],\n",
       "       [1, 4, 7],\n",
       "       [2, 5, 8]])"
      ]
     },
     "execution_count": 72,
     "metadata": {},
     "output_type": "execute_result"
    }
   ],
   "source": [
    "np.reshape(np.arange(0,9), (3,3)).transpose()"
   ]
  },
  {
   "cell_type": "code",
   "execution_count": 10,
   "metadata": {},
   "outputs": [
    {
     "name": "stdout",
     "output_type": "stream",
     "text": [
      "Number of annotated gestures:  56\n",
      "Number of annotated gestures:  56\n",
      "Number of annotated gestures:  56\n",
      "Number of annotated gestures:  56\n",
      "Number of annotated gestures:  56\n",
      "Number of annotated gestures:  56\n",
      "Number of annotated gestures:  56\n",
      "Number of annotated gestures:  56\n",
      "Number of annotated gestures:  56\n",
      "Number of annotated gestures:  56\n"
     ]
    }
   ],
   "source": [
    "# Dataprocessing Qualisys Data\n",
    "n_sequences = np.arange(1,11)\n",
    "Qualisys_dtypes = {'Frame': 'int32', 'Time': 'float32', 'Right_Hand X':'float32', 'Y':'float32', 'Z':'float32', 'Roll':'float32', 'Pitch':'float32', 'Yaw':'float32',\n",
    "    'Residual':'float32', 'Rot[0]':'float32', 'Rot[1]':'float32', 'Rot[2]':'float32', 'Rot[3]':'float32', 'Rot[4]':'float32', 'Rot[5]':'float32',\n",
    "    'Rot[6]':'float32', 'Rot[7]':'float32', 'Rot[8]':'float32'}\n",
    "\n",
    "quatnames = ['Handpoint_Quaternion_v1', 'Handpoint_Quaternion_v2', 'Handpoint_Quaternion_v3', 'Handpoint_Quaternion_s']\n",
    "pt_names = ['Handpoint_X', 'Handpoint_Y', 'Handpoint_Z']\n",
    "\n",
    "trans = np.array([[1,0,0],[0,0,1],[0,-1,0]])\n",
    "\n",
    "Events_dtypes = {'name': 'str', 'frame_idx': 'int32', 'timestamp': 'float32', 'n_gesture': 'int8', 'n_fingers': 'int8', 'start_end': 'str'}\n",
    "\n",
    "Datasetslist = []\n",
    "for n_sequence in n_sequences:\n",
    "\n",
    "    file_destin = (data_dir / 'Qualisys' / ('sequence' + str(n_sequence) + '_6D.tsv')).resolve()\n",
    "\n",
    "    line_number = 0\n",
    "    eventlines = []\n",
    "    with open(file_destin, 'r') as file:\n",
    "        for line in file:\n",
    "            if line.startswith(\"EVENT\"):\n",
    "                eventlines.append(line_number)\n",
    "            if line.startswith(\"Frame\"):\n",
    "                break\n",
    "            line_number += 1\n",
    "\n",
    "\n",
    "    print('Number of annotated gestures: ', len(eventlines))\n",
    "\n",
    "    Events = pd.read_csv(file_destin, sep='\\t' , decimal=',', skiprows=min(eventlines), nrows=max(eventlines)-min(eventlines)+1, usecols = [1,2,3], names = ['name', 'frame_idx', 'timestamp'])\n",
    "    Events[['n_gesture', 'n_fingers', 'start_end']] = Events['name'].str.extract(r'g(\\d+)f(\\d+)([a-z])')\n",
    "    Events = Events.astype(Events_dtypes)\n",
    "    \n",
    "    # Data_Qualisys = pd.read_csv(file_destin, sep='\\t' , decimal=',', header = line_number, usecols = range(0,18)).astype(Qualisys_dtypes)\n",
    "    Data_Qualisys = pd.read_csv(file_destin, sep='\\t' , decimal=',', header = line_number, usecols = range(0,18)).astype(Qualisys_dtypes)\n",
    "\n",
    "    Data_Qualisys.rename(columns={'Frame': 'frame_idx', 'Right_Hand X': 'Handpoint_X', 'Y': 'Handpoint_Y', 'Z': 'Handpoint_Z', 'Time': 'timestamp'}, inplace=True)\n",
    "    Data_Qualisys.loc[:, 'frame_idx'] = Data_Qualisys.loc[:, 'frame_idx'] - 1\n",
    "    Events.loc[:, 'frame_idx'] = Events.loc[:, 'frame_idx'] - 1\n",
    "\n",
    "    if n_sequence == 2:\n",
    "        Data_Qualisys = Data_Qualisys.drop(index = [9615, 9616, 9617, 9618, 9619]) # unfortunate recording difference in Manus Data and Qualysis data with this recording\n",
    "\n",
    "    # transform coordinate system\n",
    "    Data_Qualisys[pt_names] = Data_Qualisys.apply(lambda row: coordinatesystem_rotation(row, trans_mat=trans), axis=1)\n",
    "\n",
    "    \n",
    "    InterpolationIndexes = (Data_Qualisys['Handpoint_X'] == 0) & (Data_Qualisys['Handpoint_Y'] == 0) & (Data_Qualisys['Handpoint_Z'] == 0)\n",
    "    Data_Qualisys.loc[InterpolationIndexes, pt_names] = np.nan\n",
    "    Data_Qualisys.loc[:, pt_names] = Data_Qualisys.loc[:, pt_names].interpolate(method = 'linear')\n",
    "\n",
    "    # Apply the conversion to each row and create a new DataFrame with the quaternion components\n",
    "    Data_Qualisys[quatnames] = Data_Qualisys.apply(lambda row: matrix_to_quaternion(row, trans_mat = trans), axis=1) # important not to use loc, loc is not working in ths case\n",
    "    Data_Qualisys.drop(columns=['Roll', 'Pitch', 'Yaw', 'Residual', 'Rot[0]', 'Rot[1]', 'Rot[2]', 'Rot[3]', 'Rot[4]', 'Rot[5]', 'Rot[6]', 'Rot[7]', 'Rot[8]'], inplace=True)\n",
    "\n",
    "    # interpolate quaternions\n",
    "    slerp = Slerp(Data_Qualisys.loc[~InterpolationIndexes, 'timestamp'], \n",
    "                  Rotation.from_quat(Data_Qualisys.loc[~InterpolationIndexes, quatnames].values))\n",
    "    Data_Qualisys.loc[:, quatnames] = slerp(Data_Qualisys.loc[:, 'timestamp']).as_quat().astype('float32')\n",
    "    \n",
    "    # Manus Data\n",
    "    Data_Manus = pd.read_csv((data_dir / 'Manus' / ('sequence' + str(n_sequence) + '_mado_R.csv')).resolve(), sep='\\t' , decimal=',')\n",
    "    Data_Manus.rename(columns={'Frame': 'frame_idx', 'Thumb_PIP_Flex': 'Thumb_MCP_Flex', 'Thumb_DIP_Flex': 'Thumb_IP_Flex'}, inplace=True)\n",
    "    # Data_Manus['Elapsed_Time_In_Seconds'] = Data_Manus['Elapsed_Time_In_Milliseconds']/1000\n",
    "    Data = Data_Qualisys.join(Data_Manus.set_index('frame_idx').loc[:, 'Thumb_CMC_Spread':].astype('float32'), on='frame_idx')\n",
    "    #Data = Data_Qualisys.join(Data_Manus.set_index('Frame').loc[:, 'Thumb_CMC_Spread':'Pinky_DIP_Flex'], on='Frame')\n",
    "\n",
    "    # Label Sequence\n",
    "    for eventidx, event in Events.iterrows():\n",
    "        Data.loc[0, 'label'] = 0\n",
    "        Data.loc[0, 'n_fingers'] = 0\n",
    "        # Data.loc[event['frame_idx'], 'eventtimestamp'] = event['timestamp']\n",
    "        if event['start_end'] == 's':\n",
    "            Data.loc[event['frame_idx'], 'label'] = event['n_gesture']\n",
    "            Data.loc[event['frame_idx'], 'n_fingers'] = event['n_fingers']\n",
    "        elif event['start_end'] == 'e':\n",
    "            Data.loc[event['frame_idx'] + 1, 'label'] = 0\n",
    "            Data.loc[event['frame_idx'] + 1, 'n_fingers'] = 0\n",
    "        else:\n",
    "            raise ValueError('Event {eventidx} in sequence {n_sequence} not correctly labeled')\n",
    "    Data.loc[:, ('label', 'n_fingers')] = Data.loc[:, ('label', 'n_fingers')].ffill()\n",
    "    Data.loc[:, 'n_sequence'] = n_sequence\n",
    "\n",
    "\n",
    "    Datasetslist.append(Data)\n",
    "\n",
    "Datasets_df = pd.concat(Datasetslist)\n",
    "Datasets_df[['label', 'n_fingers', 'n_sequence']] = Datasets_df.loc[:, ['label', 'n_fingers', 'n_sequence']].astype('uint8')\n",
    "\n",
    "Datasets_df.to_pickle((data_dir / 'Dataset.pkl').resolve())\n",
    "\n",
    "info_dtypes = { 'n_subject': 'uint8', 'n_gesture': 'uint8', 'n_finger': 'uint8', 'n_essai': 'uint8', 'window_idx': 'uint16',\n",
    "                            'window_idx_overall': 'uint16', 'frame_idx': 'uint16', 'timestamp': 'float32',  'label': 'int8'}\n",
    "\n",
    "            \n",
    "\n",
    "    \n",
    "    "
   ]
  },
  {
   "cell_type": "code",
   "execution_count": 108,
   "metadata": {},
   "outputs": [
    {
     "data": {
      "text/plain": [
       "frame_idx                    int32\n",
       "timestamp                  float32\n",
       "Handpoint_X                float32\n",
       "Handpoint_Y                float32\n",
       "Handpoint_Z                float32\n",
       "Handpoint_Quaternion_v1    float32\n",
       "Handpoint_Quaternion_v2    float32\n",
       "Handpoint_Quaternion_v3    float32\n",
       "Handpoint_Quaternion_s     float32\n",
       "Thumb_CMC_Spread           float32\n",
       "Thumb_CMC_Flex             float32\n",
       "Thumb_MCP_Flex             float32\n",
       "Thumb_IP_Flex              float32\n",
       "Index_MCP_Spread           float32\n",
       "Index_MCP_Flex             float32\n",
       "Index_PIP_Flex             float32\n",
       "Index_DIP_Flex             float32\n",
       "Middle_MCP_Spread          float32\n",
       "Middle_MCP_Flex            float32\n",
       "Middle_PIP_Flex            float32\n",
       "Middle_DIP_Flex            float32\n",
       "Ring_MCP_Spread            float32\n",
       "Ring_MCP_Flex              float32\n",
       "Ring_PIP_Flex              float32\n",
       "Ring_DIP_Flex              float32\n",
       "Pinky_MCP_Spread           float32\n",
       "Pinky_MCP_Flex             float32\n",
       "Pinky_PIP_Flex             float32\n",
       "Pinky_DIP_Flex             float32\n",
       "label                        uint8\n",
       "n_sequence                   uint8\n",
       "dtype: object"
      ]
     },
     "execution_count": 108,
     "metadata": {},
     "output_type": "execute_result"
    }
   ],
   "source": [
    "Datasets_df.dtypes"
   ]
  },
  {
   "cell_type": "code",
   "execution_count": null,
   "metadata": {},
   "outputs": [],
   "source": [
    "# Dataprocessing Manus Data\n",
    "\n",
    "Data_Manus = pd.read_csv((data_dir / 'Manus' / 'sequence1_mado_R.csv').resolve(), sep='\\t' , decimal=',')\n",
    "Data_Manus['Elapsed_Time_In_Seconds'] = Data_Manus['Elapsed_Time_In_Milliseconds']/1000"
   ]
  },
  {
   "cell_type": "code",
   "execution_count": 17,
   "metadata": {},
   "outputs": [
    {
     "data": {
      "text/plain": [
       "Frame                           10319\n",
       "Time                        171.96667\n",
       "Right_Hand X                420.79040\n",
       "Y                          -779.17439\n",
       "Z                           264.16210\n",
       "Roll                        -81.05405\n",
       "Pitch                        32.54673\n",
       "Yaw                        -177.80429\n",
       "Residual                      0.10218\n",
       "Rot[0]                       -0.84233\n",
       "Rot[1]                        0.52510\n",
       "Rot[2]                        0.12144\n",
       "Rot[3]                        0.03230\n",
       "Rot[4]                       -0.17575\n",
       "Rot[5]                        0.98391\n",
       "Rot[6]                        0.53799\n",
       "Rot[7]                        0.83270\n",
       "Rot[8]                        0.13108\n",
       "Handpoint_Quaternion_v1      0.224907\n",
       "Handpoint_Quaternion_v2      0.619579\n",
       "Handpoint_Quaternion_v3         0.733\n",
       "Handpoint_Quaternion_s      -0.168076\n",
       "Name: 10318, dtype: object"
      ]
     },
     "execution_count": 17,
     "metadata": {},
     "output_type": "execute_result"
    }
   ],
   "source": [
    "Data_Qualisys.iloc[-1]\n"
   ]
  }
 ],
 "metadata": {
  "kernelspec": {
   "display_name": "gestclass2",
   "language": "python",
   "name": "python3"
  },
  "language_info": {
   "codemirror_mode": {
    "name": "ipython",
    "version": 3
   },
   "file_extension": ".py",
   "mimetype": "text/x-python",
   "name": "python",
   "nbconvert_exporter": "python",
   "pygments_lexer": "ipython3",
   "version": "3.12.2"
  }
 },
 "nbformat": 4,
 "nbformat_minor": 2
}
