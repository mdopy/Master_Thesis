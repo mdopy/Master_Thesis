{
 "cells": [
  {
   "cell_type": "code",
   "execution_count": 1,
   "metadata": {},
   "outputs": [],
   "source": [
    "#import pandas as pd\n",
    "import pandas as pd\n",
    "import numpy as np\n",
    "import matplotlib.pyplot as plt\n",
    "#import plotly.express as px\n",
    "import plotly.graph_objects as go\n",
    "from pathlib import Path\n",
    "import pickle\n",
    "import yaml\n",
    "\n",
    "import importlib\n",
    "\n",
    "import Model10_OOP_small\n",
    "importlib.reload(Model10_OOP_small)\n",
    "from Model10_OOP_small import ConvModel as ConvModel_small\n",
    "\n",
    "import BaseData20Fold\n",
    "importlib.reload(BaseData20Fold)\n",
    "from BaseData20Fold import DataProcessor\n",
    "\n",
    "import Plots\n",
    "importlib.reload(Plots)\n",
    "from Plots import plot_CM\n",
    "\n",
    "\n",
    "# COntains 2stream Neural Network to process fine fatures and coarse features separate\n"
   ]
  },
  {
   "cell_type": "code",
   "execution_count": 2,
   "metadata": {},
   "outputs": [],
   "source": [
    "\n",
    "cwd = Path.cwd()\n",
    "%load_ext tensorboard\n",
    "%load_ext version_information\n",
    "#!rm -rf ./logs/\n",
    "\n",
    "logsdir = cwd / '..' / 'logs'\n",
    "# !rmdir /s /q {logsdir}\n",
    "#!tensorboard --logdir {logsdir} --host localhost --port 6006\n",
    "\n",
    "cfg = 'config_mdl10_small.yaml'\n",
    "with open(cfg, 'r') as file:\n",
    "    config = yaml.safe_load(file)\n",
    "seeds = config['seeds']\n",
    "\n",
    "folds = np.arange(1,21)\n",
    "\n",
    "datapath = cwd / '..' / 'Data' / 'DHG2016' / 'small_windows'"
   ]
  },
  {
   "cell_type": "code",
   "execution_count": null,
   "metadata": {},
   "outputs": [],
   "source": [
    "resultsDFlong = pd.DataFrame()\n",
    "folder = 'small_windows'\n",
    "data_processor = DataProcessor(cfg)\n",
    "data_processor.load_handgestdata()\n",
    "data_processor.handangles2windows()\n",
    "data_processor.save_config(folder)\n",
    "data_processor.save_windowsets(folder)\n",
    "\n",
    "#folds = [5]\n",
    "    \n",
    "for fold in folds:\n",
    "    data_processor = DataProcessor(cfg, fold = fold)\n",
    "    # data_processor.load_handgestdata()\n",
    "    # data_processor.handangles2windows()\n",
    "    # data_processor.save_windowsets(folder)\n",
    "    data_processor.load_windows(folder)\n",
    "    data_processor.processwindows()\n",
    "    data_processor.save_windowsets_processed(folder, name='Fold'+str(fold))\n"
   ]
  },
  {
   "cell_type": "code",
   "execution_count": 12,
   "metadata": {},
   "outputs": [
    {
     "name": "stdout",
     "output_type": "stream",
     "text": [
      "evaluating Fold 1\n",
      "Setting seed to 5\n",
      "Epoch 1/20\n",
      "844/844 - 20s - 24ms/step - NLL: 1.5575 - accuracy: 0.5169 - f1_score: 0.2869 - loss: 1.8086 - precision: 0.6743 - recall: 0.3065 - val_NLL: 1.5190 - val_accuracy: 0.4870 - val_f1_score: 0.2990 - val_loss: 1.7153 - val_precision: 0.6432 - val_recall: 0.3608\n",
      "Epoch 2/20\n",
      "844/844 - 17s - 20ms/step - NLL: 1.2151 - accuracy: 0.6010 - f1_score: 0.4391 - loss: 1.4115 - precision: 0.7400 - recall: 0.4422 - val_NLL: 1.4016 - val_accuracy: 0.5265 - val_f1_score: 0.3692 - val_loss: 1.5854 - val_precision: 0.6599 - val_recall: 0.4246\n",
      "Epoch 3/20\n",
      "844/844 - 15s - 18ms/step - NLL: 1.1176 - accuracy: 0.6304 - f1_score: 0.4895 - loss: 1.3104 - precision: 0.7600 - recall: 0.4856 - val_NLL: 1.3411 - val_accuracy: 0.5438 - val_f1_score: 0.4072 - val_loss: 1.5235 - val_precision: 0.6653 - val_recall: 0.4432\n",
      "Epoch 4/20\n",
      "844/844 - 14s - 17ms/step - NLL: 1.0543 - accuracy: 0.6495 - f1_score: 0.5173 - loss: 1.2485 - precision: 0.7713 - recall: 0.5143 - val_NLL: 1.3119 - val_accuracy: 0.5531 - val_f1_score: 0.4241 - val_loss: 1.4948 - val_precision: 0.6757 - val_recall: 0.4628\n",
      "Epoch 5/20\n",
      "844/844 - 14s - 17ms/step - NLL: 1.0151 - accuracy: 0.6609 - f1_score: 0.5379 - loss: 1.2108 - precision: 0.7753 - recall: 0.5303 - val_NLL: 1.2776 - val_accuracy: 0.5703 - val_f1_score: 0.4522 - val_loss: 1.4620 - val_precision: 0.6918 - val_recall: 0.4777\n",
      "Epoch 6/20\n",
      "844/844 - 14s - 17ms/step - NLL: 0.9844 - accuracy: 0.6690 - f1_score: 0.5503 - loss: 1.1809 - precision: 0.7824 - recall: 0.5449 - val_NLL: 1.2838 - val_accuracy: 0.5661 - val_f1_score: 0.4417 - val_loss: 1.4670 - val_precision: 0.6696 - val_recall: 0.4907\n",
      "Epoch 7/20\n",
      "844/844 - 14s - 17ms/step - NLL: 0.9630 - accuracy: 0.6760 - f1_score: 0.5598 - loss: 1.1606 - precision: 0.7867 - recall: 0.5569 - val_NLL: 1.3002 - val_accuracy: 0.5642 - val_f1_score: 0.4473 - val_loss: 1.4849 - val_precision: 0.6755 - val_recall: 0.4767\n",
      "Epoch 8/20\n",
      "844/844 - 14s - 17ms/step - NLL: 0.9436 - accuracy: 0.6782 - f1_score: 0.5633 - loss: 1.1426 - precision: 0.7882 - recall: 0.5628 - val_NLL: 1.2458 - val_accuracy: 0.5773 - val_f1_score: 0.4675 - val_loss: 1.4344 - val_precision: 0.6980 - val_recall: 0.4949\n",
      "Epoch 9/20\n",
      "844/844 - 14s - 17ms/step - NLL: 0.9277 - accuracy: 0.6856 - f1_score: 0.5754 - loss: 1.1276 - precision: 0.7920 - recall: 0.5707 - val_NLL: 1.2669 - val_accuracy: 0.5782 - val_f1_score: 0.4751 - val_loss: 1.4550 - val_precision: 0.6827 - val_recall: 0.4898\n",
      "Epoch 10/20\n",
      "844/844 - 16s - 19ms/step - NLL: 0.9136 - accuracy: 0.6895 - f1_score: 0.5813 - loss: 1.1149 - precision: 0.7928 - recall: 0.5776 - val_NLL: 1.2785 - val_accuracy: 0.5824 - val_f1_score: 0.4734 - val_loss: 1.4670 - val_precision: 0.6892 - val_recall: 0.4977\n",
      "Epoch 11/20\n",
      "844/844 - 15s - 18ms/step - NLL: 0.8970 - accuracy: 0.6929 - f1_score: 0.5873 - loss: 1.0988 - precision: 0.7961 - recall: 0.5855 - val_NLL: 1.3163 - val_accuracy: 0.5764 - val_f1_score: 0.4702 - val_loss: 1.5043 - val_precision: 0.6735 - val_recall: 0.5061\n",
      "Epoch 12/20\n",
      "844/844 - 14s - 16ms/step - NLL: 0.8864 - accuracy: 0.6958 - f1_score: 0.5937 - loss: 1.0897 - precision: 0.7989 - recall: 0.5914 - val_NLL: 1.3114 - val_accuracy: 0.5708 - val_f1_score: 0.4586 - val_loss: 1.5012 - val_precision: 0.6806 - val_recall: 0.5070\n",
      "Epoch 13/20\n",
      "844/844 - 14s - 17ms/step - NLL: 0.8782 - accuracy: 0.6979 - f1_score: 0.5977 - loss: 1.0828 - precision: 0.7998 - recall: 0.5927 - val_NLL: 1.2917 - val_accuracy: 0.5745 - val_f1_score: 0.4738 - val_loss: 1.4839 - val_precision: 0.6869 - val_recall: 0.5005\n",
      "Epoch 14/20\n",
      "844/844 - 14s - 17ms/step - NLL: 0.8692 - accuracy: 0.6996 - f1_score: 0.5999 - loss: 1.0749 - precision: 0.8007 - recall: 0.5980 - val_NLL: 1.2684 - val_accuracy: 0.5843 - val_f1_score: 0.4847 - val_loss: 1.4613 - val_precision: 0.6888 - val_recall: 0.5121\n",
      "Epoch 15/20\n",
      "844/844 - 14s - 17ms/step - NLL: 0.8611 - accuracy: 0.7020 - f1_score: 0.6026 - loss: 1.0682 - precision: 0.8007 - recall: 0.6009 - val_NLL: 1.2797 - val_accuracy: 0.5787 - val_f1_score: 0.4789 - val_loss: 1.4729 - val_precision: 0.6793 - val_recall: 0.5019\n",
      "Epoch 16/20\n",
      "844/844 - 15s - 18ms/step - NLL: 0.8558 - accuracy: 0.7039 - f1_score: 0.6055 - loss: 1.0628 - precision: 0.8031 - recall: 0.6049 - val_NLL: 1.2780 - val_accuracy: 0.5754 - val_f1_score: 0.4737 - val_loss: 1.4721 - val_precision: 0.6795 - val_recall: 0.5023\n",
      "Epoch 17/20\n",
      "844/844 - 15s - 18ms/step - NLL: 0.8497 - accuracy: 0.7061 - f1_score: 0.6090 - loss: 1.0580 - precision: 0.8026 - recall: 0.6067 - val_NLL: 1.2770 - val_accuracy: 0.5829 - val_f1_score: 0.4746 - val_loss: 1.4717 - val_precision: 0.6934 - val_recall: 0.5116\n",
      "Epoch 18/20\n",
      "844/844 - 15s - 18ms/step - NLL: 0.8399 - accuracy: 0.7093 - f1_score: 0.6129 - loss: 1.0491 - precision: 0.8064 - recall: 0.6105 - val_NLL: 1.3340 - val_accuracy: 0.5680 - val_f1_score: 0.4515 - val_loss: 1.5301 - val_precision: 0.6580 - val_recall: 0.4963\n",
      "\u001b[1m1687/1687\u001b[0m \u001b[32m━━━━━━━━━━━━━━━━━━━━\u001b[0m\u001b[37m\u001b[0m \u001b[1m10s\u001b[0m 6ms/step\n",
      "\u001b[1m68/68\u001b[0m \u001b[32m━━━━━━━━━━━━━━━━━━━━\u001b[0m\u001b[37m\u001b[0m \u001b[1m0s\u001b[0m 5ms/step\n",
      "NLL: 1.25\n",
      "Validation accuracy: 0.58\n",
      "Validation F1Score: 0.47\n",
      "evaluating Fold 2\n",
      "Setting seed to 26\n",
      "Epoch 1/20\n",
      "828/828 - 20s - 25ms/step - NLL: 1.5925 - accuracy: 0.5042 - f1_score: 0.2738 - loss: 1.8379 - precision: 0.6647 - recall: 0.2864 - val_NLL: 1.3986 - val_accuracy: 0.5666 - val_f1_score: 0.2780 - val_loss: 1.5966 - val_precision: 0.7362 - val_recall: 0.4049\n",
      "Epoch 2/20\n",
      "828/828 - 16s - 20ms/step - NLL: 1.2612 - accuracy: 0.5903 - f1_score: 0.4316 - loss: 1.4531 - precision: 0.7315 - recall: 0.4214 - val_NLL: 1.3229 - val_accuracy: 0.5765 - val_f1_score: 0.3159 - val_loss: 1.5150 - val_precision: 0.7032 - val_recall: 0.4535\n",
      "Epoch 3/20\n",
      "828/828 - 16s - 19ms/step - NLL: 1.1360 - accuracy: 0.6253 - f1_score: 0.4872 - loss: 1.3262 - precision: 0.7579 - recall: 0.4781 - val_NLL: 1.2511 - val_accuracy: 0.5954 - val_f1_score: 0.3497 - val_loss: 1.4426 - val_precision: 0.7210 - val_recall: 0.4775\n",
      "Epoch 4/20\n",
      "828/828 - 14s - 17ms/step - NLL: 1.0687 - accuracy: 0.6441 - f1_score: 0.5125 - loss: 1.2599 - precision: 0.7706 - recall: 0.5105 - val_NLL: 1.2584 - val_accuracy: 0.5960 - val_f1_score: 0.3693 - val_loss: 1.4517 - val_precision: 0.7076 - val_recall: 0.4896\n",
      "Epoch 5/20\n",
      "828/828 - 14s - 17ms/step - NLL: 1.0297 - accuracy: 0.6551 - f1_score: 0.5306 - loss: 1.2216 - precision: 0.7758 - recall: 0.5272 - val_NLL: 1.2287 - val_accuracy: 0.5986 - val_f1_score: 0.3741 - val_loss: 1.4205 - val_precision: 0.7084 - val_recall: 0.5046\n",
      "Epoch 6/20\n",
      "828/828 - 14s - 17ms/step - NLL: 0.9999 - accuracy: 0.6617 - f1_score: 0.5427 - loss: 1.1930 - precision: 0.7807 - recall: 0.5378 - val_NLL: 1.2115 - val_accuracy: 0.6085 - val_f1_score: 0.3954 - val_loss: 1.4048 - val_precision: 0.7354 - val_recall: 0.4903\n",
      "Epoch 7/20\n",
      "828/828 - 14s - 17ms/step - NLL: 0.9719 - accuracy: 0.6723 - f1_score: 0.5574 - loss: 1.1663 - precision: 0.7865 - recall: 0.5515 - val_NLL: 1.2473 - val_accuracy: 0.5992 - val_f1_score: 0.3763 - val_loss: 1.4414 - val_precision: 0.7113 - val_recall: 0.5094\n",
      "Epoch 8/20\n",
      "828/828 - 14s - 17ms/step - NLL: 0.9545 - accuracy: 0.6744 - f1_score: 0.5641 - loss: 1.1501 - precision: 0.7870 - recall: 0.5577 - val_NLL: 1.2114 - val_accuracy: 0.6095 - val_f1_score: 0.3982 - val_loss: 1.4072 - val_precision: 0.7141 - val_recall: 0.5133\n",
      "Epoch 9/20\n",
      "828/828 - 14s - 17ms/step - NLL: 0.9400 - accuracy: 0.6774 - f1_score: 0.5674 - loss: 1.1368 - precision: 0.7892 - recall: 0.5648 - val_NLL: 1.2102 - val_accuracy: 0.6117 - val_f1_score: 0.4073 - val_loss: 1.4066 - val_precision: 0.7109 - val_recall: 0.5251\n",
      "Epoch 10/20\n",
      "828/828 - 14s - 17ms/step - NLL: 0.9256 - accuracy: 0.6832 - f1_score: 0.5743 - loss: 1.1224 - precision: 0.7931 - recall: 0.5719 - val_NLL: 1.2342 - val_accuracy: 0.6027 - val_f1_score: 0.3912 - val_loss: 1.4314 - val_precision: 0.7046 - val_recall: 0.5206\n",
      "Epoch 11/20\n",
      "828/828 - 14s - 17ms/step - NLL: 0.9147 - accuracy: 0.6879 - f1_score: 0.5848 - loss: 1.1125 - precision: 0.7940 - recall: 0.5772 - val_NLL: 1.2111 - val_accuracy: 0.6120 - val_f1_score: 0.4099 - val_loss: 1.4093 - val_precision: 0.7150 - val_recall: 0.5308\n",
      "Epoch 12/20\n",
      "828/828 - 14s - 17ms/step - NLL: 0.9046 - accuracy: 0.6907 - f1_score: 0.5877 - loss: 1.1040 - precision: 0.7950 - recall: 0.5794 - val_NLL: 1.2455 - val_accuracy: 0.6095 - val_f1_score: 0.4019 - val_loss: 1.4453 - val_precision: 0.7053 - val_recall: 0.5254\n",
      "Epoch 13/20\n",
      "828/828 - 14s - 17ms/step - NLL: 0.8948 - accuracy: 0.6900 - f1_score: 0.5877 - loss: 1.0950 - precision: 0.7941 - recall: 0.5818 - val_NLL: 1.2155 - val_accuracy: 0.6139 - val_f1_score: 0.4146 - val_loss: 1.4158 - val_precision: 0.7273 - val_recall: 0.5200\n",
      "Epoch 14/20\n",
      "828/828 - 14s - 17ms/step - NLL: 0.8860 - accuracy: 0.6941 - f1_score: 0.5945 - loss: 1.0872 - precision: 0.7988 - recall: 0.5876 - val_NLL: 1.2023 - val_accuracy: 0.6133 - val_f1_score: 0.4152 - val_loss: 1.4029 - val_precision: 0.7232 - val_recall: 0.5219\n",
      "Epoch 15/20\n",
      "828/828 - 15s - 18ms/step - NLL: 0.8790 - accuracy: 0.6976 - f1_score: 0.6005 - loss: 1.0812 - precision: 0.7974 - recall: 0.5921 - val_NLL: 1.1923 - val_accuracy: 0.6152 - val_f1_score: 0.4133 - val_loss: 1.3948 - val_precision: 0.7222 - val_recall: 0.5292\n",
      "Epoch 16/20\n",
      "828/828 - 14s - 17ms/step - NLL: 0.8683 - accuracy: 0.7003 - f1_score: 0.6034 - loss: 1.0718 - precision: 0.7989 - recall: 0.5967 - val_NLL: 1.1812 - val_accuracy: 0.6184 - val_f1_score: 0.4126 - val_loss: 1.3846 - val_precision: 0.7196 - val_recall: 0.5340\n",
      "Epoch 17/20\n",
      "828/828 - 15s - 18ms/step - NLL: 0.8611 - accuracy: 0.7024 - f1_score: 0.6076 - loss: 1.0661 - precision: 0.8020 - recall: 0.6000 - val_NLL: 1.2258 - val_accuracy: 0.6190 - val_f1_score: 0.4240 - val_loss: 1.4319 - val_precision: 0.7288 - val_recall: 0.5222\n",
      "Epoch 18/20\n",
      "828/828 - 14s - 17ms/step - NLL: 0.8574 - accuracy: 0.7015 - f1_score: 0.6073 - loss: 1.0636 - precision: 0.8013 - recall: 0.6005 - val_NLL: 1.2336 - val_accuracy: 0.6117 - val_f1_score: 0.3973 - val_loss: 1.4401 - val_precision: 0.7052 - val_recall: 0.5420\n",
      "Epoch 19/20\n",
      "828/828 - 14s - 17ms/step - NLL: 0.8491 - accuracy: 0.7040 - f1_score: 0.6078 - loss: 1.0565 - precision: 0.8008 - recall: 0.6045 - val_NLL: 1.2218 - val_accuracy: 0.6107 - val_f1_score: 0.4047 - val_loss: 1.4297 - val_precision: 0.7140 - val_recall: 0.5305\n",
      "Epoch 20/20\n",
      "828/828 - 14s - 17ms/step - NLL: 0.8457 - accuracy: 0.7034 - f1_score: 0.6103 - loss: 1.0543 - precision: 0.8008 - recall: 0.6052 - val_NLL: 1.2281 - val_accuracy: 0.6059 - val_f1_score: 0.4052 - val_loss: 1.4369 - val_precision: 0.7027 - val_recall: 0.5385\n",
      "\u001b[1m1656/1656\u001b[0m \u001b[32m━━━━━━━━━━━━━━━━━━━━\u001b[0m\u001b[37m\u001b[0m \u001b[1m8s\u001b[0m 5ms/step\n",
      "\u001b[1m98/98\u001b[0m \u001b[32m━━━━━━━━━━━━━━━━━━━━\u001b[0m\u001b[37m\u001b[0m \u001b[1m1s\u001b[0m 5ms/step\n",
      "NLL: 1.18\n",
      "Validation accuracy: 0.62\n",
      "Validation F1Score: 0.41\n",
      "evaluating Fold 3\n",
      "Setting seed to 90\n",
      "Epoch 1/20\n",
      "836/836 - 21s - 25ms/step - NLL: 1.6148 - accuracy: 0.4970 - f1_score: 0.2518 - loss: 1.8560 - precision: 0.6624 - recall: 0.2828 - val_NLL: 1.3505 - val_accuracy: 0.5450 - val_f1_score: 0.3950 - val_loss: 1.5450 - val_precision: 0.7305 - val_recall: 0.3766\n",
      "Epoch 2/20\n",
      "836/836 - 17s - 20ms/step - NLL: 1.2616 - accuracy: 0.5907 - f1_score: 0.4255 - loss: 1.4528 - precision: 0.7338 - recall: 0.4210 - val_NLL: 1.1961 - val_accuracy: 0.6135 - val_f1_score: 0.5171 - val_loss: 1.3875 - val_precision: 0.7471 - val_recall: 0.4669\n",
      "Epoch 3/20\n",
      "836/836 - 16s - 19ms/step - NLL: 1.1360 - accuracy: 0.6272 - f1_score: 0.4803 - loss: 1.3277 - precision: 0.7551 - recall: 0.4789 - val_NLL: 1.1149 - val_accuracy: 0.6514 - val_f1_score: 0.5714 - val_loss: 1.3090 - val_precision: 0.7811 - val_recall: 0.5285\n",
      "Epoch 4/20\n",
      "836/836 - 18s - 21ms/step - NLL: 1.0678 - accuracy: 0.6437 - f1_score: 0.5078 - loss: 1.2618 - precision: 0.7682 - recall: 0.5086 - val_NLL: 1.0814 - val_accuracy: 0.6682 - val_f1_score: 0.6006 - val_loss: 1.2761 - val_precision: 0.7966 - val_recall: 0.5442\n",
      "Epoch 5/20\n",
      "836/836 - 17s - 20ms/step - NLL: 1.0260 - accuracy: 0.6562 - f1_score: 0.5274 - loss: 1.2212 - precision: 0.7762 - recall: 0.5292 - val_NLL: 1.0947 - val_accuracy: 0.6586 - val_f1_score: 0.5784 - val_loss: 1.2912 - val_precision: 0.7809 - val_recall: 0.5320\n",
      "Epoch 6/20\n",
      "836/836 - 21s - 26ms/step - NLL: 0.9940 - accuracy: 0.6634 - f1_score: 0.5394 - loss: 1.1906 - precision: 0.7788 - recall: 0.5390 - val_NLL: 1.0535 - val_accuracy: 0.6709 - val_f1_score: 0.6036 - val_loss: 1.2505 - val_precision: 0.7845 - val_recall: 0.5446\n",
      "Epoch 7/20\n",
      "836/836 - 23s - 28ms/step - NLL: 0.9712 - accuracy: 0.6704 - f1_score: 0.5524 - loss: 1.1685 - precision: 0.7860 - recall: 0.5519 - val_NLL: 1.0881 - val_accuracy: 0.6605 - val_f1_score: 0.5889 - val_loss: 1.2869 - val_precision: 0.7693 - val_recall: 0.5488\n",
      "Epoch 8/20\n",
      "836/836 - 39s - 47ms/step - NLL: 0.9539 - accuracy: 0.6753 - f1_score: 0.5590 - loss: 1.1526 - precision: 0.7890 - recall: 0.5578 - val_NLL: 1.0335 - val_accuracy: 0.6701 - val_f1_score: 0.5956 - val_loss: 1.2337 - val_precision: 0.7748 - val_recall: 0.5675\n",
      "Epoch 9/20\n",
      "836/836 - 39s - 46ms/step - NLL: 0.9335 - accuracy: 0.6796 - f1_score: 0.5661 - loss: 1.1335 - precision: 0.7906 - recall: 0.5673 - val_NLL: 1.0872 - val_accuracy: 0.6560 - val_f1_score: 0.5815 - val_loss: 1.2883 - val_precision: 0.7567 - val_recall: 0.5499\n",
      "Epoch 10/20\n",
      "836/836 - 40s - 48ms/step - NLL: 0.9216 - accuracy: 0.6852 - f1_score: 0.5744 - loss: 1.1231 - precision: 0.7928 - recall: 0.5714 - val_NLL: 1.0391 - val_accuracy: 0.6732 - val_f1_score: 0.6010 - val_loss: 1.2429 - val_precision: 0.7658 - val_recall: 0.5718\n",
      "Epoch 11/20\n",
      "836/836 - 35s - 42ms/step - NLL: 0.9080 - accuracy: 0.6869 - f1_score: 0.5793 - loss: 1.1103 - precision: 0.7973 - recall: 0.5781 - val_NLL: 1.0735 - val_accuracy: 0.6739 - val_f1_score: 0.6069 - val_loss: 1.2758 - val_precision: 0.7673 - val_recall: 0.5817\n",
      "Epoch 12/20\n",
      "836/836 - 43s - 52ms/step - NLL: 0.8975 - accuracy: 0.6911 - f1_score: 0.5874 - loss: 1.1005 - precision: 0.7957 - recall: 0.5817 - val_NLL: 1.0876 - val_accuracy: 0.6728 - val_f1_score: 0.6106 - val_loss: 1.2922 - val_precision: 0.7770 - val_recall: 0.5721\n",
      "Epoch 13/20\n",
      "836/836 - 51s - 61ms/step - NLL: 0.8875 - accuracy: 0.6933 - f1_score: 0.5903 - loss: 1.0913 - precision: 0.7978 - recall: 0.5878 - val_NLL: 1.0296 - val_accuracy: 0.6759 - val_f1_score: 0.6060 - val_loss: 1.2350 - val_precision: 0.7790 - val_recall: 0.5840\n",
      "Epoch 14/20\n",
      "836/836 - 50s - 60ms/step - NLL: 0.8793 - accuracy: 0.6949 - f1_score: 0.5921 - loss: 1.0847 - precision: 0.7983 - recall: 0.5882 - val_NLL: 1.1186 - val_accuracy: 0.6850 - val_f1_score: 0.6211 - val_loss: 1.3258 - val_precision: 0.7755 - val_recall: 0.5855\n",
      "Epoch 15/20\n",
      "836/836 - 45s - 54ms/step - NLL: 0.8706 - accuracy: 0.6987 - f1_score: 0.5991 - loss: 1.0769 - precision: 0.8019 - recall: 0.5933 - val_NLL: 1.0741 - val_accuracy: 0.6724 - val_f1_score: 0.6059 - val_loss: 1.2832 - val_precision: 0.7650 - val_recall: 0.5894\n",
      "Epoch 16/20\n",
      "836/836 - 42s - 50ms/step - NLL: 0.8641 - accuracy: 0.7001 - f1_score: 0.6031 - loss: 1.0725 - precision: 0.8030 - recall: 0.5976 - val_NLL: 1.0465 - val_accuracy: 0.6839 - val_f1_score: 0.6208 - val_loss: 1.2571 - val_precision: 0.7797 - val_recall: 0.5985\n",
      "Epoch 17/20\n",
      "836/836 - 38s - 46ms/step - NLL: 0.8548 - accuracy: 0.7023 - f1_score: 0.6053 - loss: 1.0640 - precision: 0.8029 - recall: 0.5986 - val_NLL: 1.0403 - val_accuracy: 0.6801 - val_f1_score: 0.6140 - val_loss: 1.2524 - val_precision: 0.7528 - val_recall: 0.6012\n",
      "Epoch 18/20\n",
      "836/836 - 40s - 48ms/step - NLL: 0.8514 - accuracy: 0.7038 - f1_score: 0.6084 - loss: 1.0612 - precision: 0.8034 - recall: 0.5998 - val_NLL: 1.0352 - val_accuracy: 0.6762 - val_f1_score: 0.6109 - val_loss: 1.2477 - val_precision: 0.7754 - val_recall: 0.5867\n",
      "Epoch 19/20\n",
      "836/836 - 39s - 46ms/step - NLL: 0.8444 - accuracy: 0.7052 - f1_score: 0.6107 - loss: 1.0562 - precision: 0.8046 - recall: 0.6052 - val_NLL: 1.0647 - val_accuracy: 0.6755 - val_f1_score: 0.6103 - val_loss: 1.2787 - val_precision: 0.7684 - val_recall: 0.5955\n",
      "Epoch 20/20\n",
      "836/836 - 40s - 47ms/step - NLL: 0.8388 - accuracy: 0.7095 - f1_score: 0.6158 - loss: 1.0514 - precision: 0.8064 - recall: 0.6088 - val_NLL: 1.0788 - val_accuracy: 0.6709 - val_f1_score: 0.6060 - val_loss: 1.2943 - val_precision: 0.7507 - val_recall: 0.6051\n",
      "\u001b[1m1672/1672\u001b[0m \u001b[32m━━━━━━━━━━━━━━━━━━━━\u001b[0m\u001b[37m\u001b[0m \u001b[1m29s\u001b[0m 17ms/step\n",
      "\u001b[1m82/82\u001b[0m \u001b[32m━━━━━━━━━━━━━━━━━━━━\u001b[0m\u001b[37m\u001b[0m \u001b[1m2s\u001b[0m 18ms/step\n",
      "NLL: 1.03\n",
      "Validation accuracy: 0.68\n",
      "Validation F1Score: 0.61\n",
      "evaluating Fold 4\n",
      "Setting seed to 232\n",
      "Epoch 1/20\n",
      "841/841 - 73s - 87ms/step - NLL: 1.5893 - accuracy: 0.5089 - f1_score: 0.2764 - loss: 1.8292 - precision: 0.6651 - recall: 0.2945 - val_NLL: 1.4643 - val_accuracy: 0.5736 - val_f1_score: 0.2969 - val_loss: 1.6468 - val_precision: 0.7936 - val_recall: 0.3731\n",
      "Epoch 2/20\n",
      "841/841 - 44s - 52ms/step - NLL: 1.2323 - accuracy: 0.5961 - f1_score: 0.4382 - loss: 1.4280 - precision: 0.7357 - recall: 0.4329 - val_NLL: 1.3524 - val_accuracy: 0.5955 - val_f1_score: 0.3449 - val_loss: 1.5336 - val_precision: 0.7678 - val_recall: 0.4358\n",
      "Epoch 3/20\n",
      "841/841 - 42s - 49ms/step - NLL: 1.1212 - accuracy: 0.6295 - f1_score: 0.4917 - loss: 1.3182 - precision: 0.7571 - recall: 0.4827 - val_NLL: 1.2405 - val_accuracy: 0.6183 - val_f1_score: 0.3959 - val_loss: 1.4249 - val_precision: 0.7984 - val_recall: 0.4590\n",
      "Epoch 4/20\n",
      "841/841 - 44s - 53ms/step - NLL: 1.0576 - accuracy: 0.6483 - f1_score: 0.5223 - loss: 1.2577 - precision: 0.7688 - recall: 0.5120 - val_NLL: 1.2356 - val_accuracy: 0.6243 - val_f1_score: 0.4049 - val_loss: 1.4227 - val_precision: 0.7714 - val_recall: 0.4766\n",
      "Epoch 5/20\n",
      "841/841 - 77s - 92ms/step - NLL: 1.0131 - accuracy: 0.6579 - f1_score: 0.5374 - loss: 1.2155 - precision: 0.7768 - recall: 0.5331 - val_NLL: 1.1934 - val_accuracy: 0.6303 - val_f1_score: 0.4075 - val_loss: 1.3842 - val_precision: 0.7516 - val_recall: 0.5170\n",
      "Epoch 6/20\n",
      "841/841 - 41s - 48ms/step - NLL: 0.9842 - accuracy: 0.6683 - f1_score: 0.5538 - loss: 1.1876 - precision: 0.7794 - recall: 0.5460 - val_NLL: 1.1598 - val_accuracy: 0.6402 - val_f1_score: 0.4425 - val_loss: 1.3515 - val_precision: 0.7737 - val_recall: 0.5122\n",
      "Epoch 7/20\n",
      "841/841 - 41s - 48ms/step - NLL: 0.9617 - accuracy: 0.6727 - f1_score: 0.5623 - loss: 1.1659 - precision: 0.7829 - recall: 0.5554 - val_NLL: 1.2022 - val_accuracy: 0.6269 - val_f1_score: 0.4120 - val_loss: 1.3932 - val_precision: 0.7403 - val_recall: 0.5152\n",
      "Epoch 8/20\n",
      "841/841 - 41s - 48ms/step - NLL: 0.9409 - accuracy: 0.6783 - f1_score: 0.5718 - loss: 1.1466 - precision: 0.7875 - recall: 0.5647 - val_NLL: 1.1762 - val_accuracy: 0.6449 - val_f1_score: 0.4391 - val_loss: 1.3724 - val_precision: 0.7646 - val_recall: 0.5243\n",
      "Epoch 9/20\n",
      "841/841 - 40s - 48ms/step - NLL: 0.9216 - accuracy: 0.6855 - f1_score: 0.5813 - loss: 1.1302 - precision: 0.7925 - recall: 0.5729 - val_NLL: 1.2141 - val_accuracy: 0.6415 - val_f1_score: 0.4376 - val_loss: 1.4103 - val_precision: 0.7575 - val_recall: 0.5217\n",
      "Epoch 10/20\n",
      "841/841 - 29s - 34ms/step - NLL: 0.9079 - accuracy: 0.6884 - f1_score: 0.5878 - loss: 1.1174 - precision: 0.7922 - recall: 0.5792 - val_NLL: 1.1848 - val_accuracy: 0.6419 - val_f1_score: 0.4298 - val_loss: 1.3834 - val_precision: 0.7631 - val_recall: 0.5049\n",
      "Epoch 11/20\n",
      "841/841 - 40s - 47ms/step - NLL: 0.8961 - accuracy: 0.6919 - f1_score: 0.5925 - loss: 1.1068 - precision: 0.7955 - recall: 0.5847 - val_NLL: 1.1838 - val_accuracy: 0.6441 - val_f1_score: 0.4352 - val_loss: 1.3845 - val_precision: 0.7743 - val_recall: 0.5127\n",
      "Epoch 12/20\n",
      "841/841 - 41s - 48ms/step - NLL: 0.8837 - accuracy: 0.6972 - f1_score: 0.6009 - loss: 1.0961 - precision: 0.7975 - recall: 0.5892 - val_NLL: 1.1855 - val_accuracy: 0.6518 - val_f1_score: 0.4470 - val_loss: 1.3865 - val_precision: 0.7576 - val_recall: 0.5423\n",
      "Epoch 13/20\n",
      "841/841 - 41s - 48ms/step - NLL: 0.8757 - accuracy: 0.6971 - f1_score: 0.6007 - loss: 1.0888 - precision: 0.7982 - recall: 0.5934 - val_NLL: 1.1531 - val_accuracy: 0.6479 - val_f1_score: 0.4388 - val_loss: 1.3573 - val_precision: 0.7497 - val_recall: 0.5324\n",
      "Epoch 14/20\n",
      "841/841 - 29s - 34ms/step - NLL: 0.8688 - accuracy: 0.7015 - f1_score: 0.6084 - loss: 1.0831 - precision: 0.8003 - recall: 0.5979 - val_NLL: 1.2698 - val_accuracy: 0.6346 - val_f1_score: 0.4112 - val_loss: 1.4722 - val_precision: 0.7247 - val_recall: 0.5255\n",
      "Epoch 15/20\n",
      "841/841 - 26s - 31ms/step - NLL: 0.8566 - accuracy: 0.7052 - f1_score: 0.6154 - loss: 1.0722 - precision: 0.8020 - recall: 0.6033 - val_NLL: 1.2037 - val_accuracy: 0.6410 - val_f1_score: 0.4435 - val_loss: 1.4084 - val_precision: 0.7396 - val_recall: 0.5367\n",
      "Epoch 16/20\n",
      "841/841 - 23s - 28ms/step - NLL: 0.8524 - accuracy: 0.7067 - f1_score: 0.6161 - loss: 1.0690 - precision: 0.8042 - recall: 0.6052 - val_NLL: 1.1956 - val_accuracy: 0.6458 - val_f1_score: 0.4519 - val_loss: 1.4022 - val_precision: 0.7286 - val_recall: 0.5337\n",
      "Epoch 17/20\n",
      "841/841 - 28s - 33ms/step - NLL: 0.8438 - accuracy: 0.7083 - f1_score: 0.6187 - loss: 1.0616 - precision: 0.8037 - recall: 0.6079 - val_NLL: 1.1670 - val_accuracy: 0.6548 - val_f1_score: 0.4567 - val_loss: 1.3751 - val_precision: 0.7502 - val_recall: 0.5350\n",
      "Epoch 18/20\n",
      "841/841 - 29s - 34ms/step - NLL: 0.8376 - accuracy: 0.7105 - f1_score: 0.6229 - loss: 1.0559 - precision: 0.8067 - recall: 0.6128 - val_NLL: 1.1815 - val_accuracy: 0.6505 - val_f1_score: 0.4498 - val_loss: 1.3878 - val_precision: 0.7364 - val_recall: 0.5410\n",
      "Epoch 19/20\n",
      "841/841 - 22s - 26ms/step - NLL: 0.8295 - accuracy: 0.7123 - f1_score: 0.6254 - loss: 1.0488 - precision: 0.8038 - recall: 0.6149 - val_NLL: 1.1765 - val_accuracy: 0.6398 - val_f1_score: 0.4330 - val_loss: 1.3846 - val_precision: 0.7367 - val_recall: 0.5513\n",
      "Epoch 20/20\n",
      "841/841 - 34s - 41ms/step - NLL: 0.8260 - accuracy: 0.7122 - f1_score: 0.6271 - loss: 1.0467 - precision: 0.8045 - recall: 0.6160 - val_NLL: 1.2348 - val_accuracy: 0.6393 - val_f1_score: 0.4213 - val_loss: 1.4428 - val_precision: 0.7319 - val_recall: 0.5462\n",
      "\u001b[1m1681/1681\u001b[0m \u001b[32m━━━━━━━━━━━━━━━━━━━━\u001b[0m\u001b[37m\u001b[0m \u001b[1m30s\u001b[0m 18ms/step\n",
      "\u001b[1m73/73\u001b[0m \u001b[32m━━━━━━━━━━━━━━━━━━━━\u001b[0m\u001b[37m\u001b[0m \u001b[1m1s\u001b[0m 18ms/step\n",
      "NLL: 1.15\n",
      "Validation accuracy: 0.65\n",
      "Validation F1Score: 0.44\n",
      "evaluating Fold 5\n",
      "Setting seed to 819\n",
      "Epoch 1/20\n",
      "839/839 - 58s - 69ms/step - NLL: 1.5713 - accuracy: 0.5137 - f1_score: 0.2902 - loss: 1.8137 - precision: 0.6786 - recall: 0.3039 - val_NLL: 1.3969 - val_accuracy: 0.5924 - val_f1_score: 0.3616 - val_loss: 1.5933 - val_precision: 0.6851 - val_recall: 0.3840\n",
      "Epoch 2/20\n",
      "839/839 - 43s - 51ms/step - NLL: 1.2166 - accuracy: 0.6040 - f1_score: 0.4484 - loss: 1.4124 - precision: 0.7428 - recall: 0.4451 - val_NLL: 1.3368 - val_accuracy: 0.6044 - val_f1_score: 0.4051 - val_loss: 1.5275 - val_precision: 0.7108 - val_recall: 0.4287\n",
      "Epoch 3/20\n",
      "839/839 - 40s - 48ms/step - NLL: 1.1138 - accuracy: 0.6327 - f1_score: 0.4939 - loss: 1.3067 - precision: 0.7612 - recall: 0.4897 - val_NLL: 1.2726 - val_accuracy: 0.6122 - val_f1_score: 0.4243 - val_loss: 1.4621 - val_precision: 0.7103 - val_recall: 0.4775\n",
      "Epoch 4/20\n",
      "839/839 - 41s - 49ms/step - NLL: 1.0569 - accuracy: 0.6481 - f1_score: 0.5195 - loss: 1.2490 - precision: 0.7718 - recall: 0.5137 - val_NLL: 1.3542 - val_accuracy: 0.6110 - val_f1_score: 0.3846 - val_loss: 1.5438 - val_precision: 0.6809 - val_recall: 0.5081\n",
      "Epoch 5/20\n",
      "839/839 - 40s - 48ms/step - NLL: 1.0216 - accuracy: 0.6581 - f1_score: 0.5347 - loss: 1.2134 - precision: 0.7777 - recall: 0.5306 - val_NLL: 1.1518 - val_accuracy: 0.6263 - val_f1_score: 0.4360 - val_loss: 1.3417 - val_precision: 0.7288 - val_recall: 0.5267\n",
      "Epoch 6/20\n",
      "839/839 - 46s - 55ms/step - NLL: 0.9898 - accuracy: 0.6647 - f1_score: 0.5456 - loss: 1.1823 - precision: 0.7799 - recall: 0.5422 - val_NLL: 1.2102 - val_accuracy: 0.6205 - val_f1_score: 0.4163 - val_loss: 1.4016 - val_precision: 0.7123 - val_recall: 0.5312\n",
      "Epoch 7/20\n",
      "839/839 - 57s - 68ms/step - NLL: 0.9633 - accuracy: 0.6728 - f1_score: 0.5595 - loss: 1.1578 - precision: 0.7857 - recall: 0.5534 - val_NLL: 1.1752 - val_accuracy: 0.6246 - val_f1_score: 0.4352 - val_loss: 1.3688 - val_precision: 0.7167 - val_recall: 0.5407\n",
      "Epoch 8/20\n",
      "839/839 - 27s - 32ms/step - NLL: 0.9472 - accuracy: 0.6769 - f1_score: 0.5663 - loss: 1.1436 - precision: 0.7866 - recall: 0.5603 - val_NLL: 1.1751 - val_accuracy: 0.6251 - val_f1_score: 0.4389 - val_loss: 1.3694 - val_precision: 0.7209 - val_recall: 0.5349\n",
      "Epoch 9/20\n",
      "839/839 - 40s - 48ms/step - NLL: 0.9299 - accuracy: 0.6842 - f1_score: 0.5775 - loss: 1.1270 - precision: 0.7926 - recall: 0.5706 - val_NLL: 1.1614 - val_accuracy: 0.6321 - val_f1_score: 0.4585 - val_loss: 1.3577 - val_precision: 0.7129 - val_recall: 0.5440\n",
      "Epoch 10/20\n",
      "839/839 - 37s - 45ms/step - NLL: 0.9172 - accuracy: 0.6862 - f1_score: 0.5813 - loss: 1.1163 - precision: 0.7915 - recall: 0.5754 - val_NLL: 1.1933 - val_accuracy: 0.6193 - val_f1_score: 0.4119 - val_loss: 1.3903 - val_precision: 0.7093 - val_recall: 0.5366\n",
      "Epoch 11/20\n",
      "839/839 - 40s - 48ms/step - NLL: 0.9034 - accuracy: 0.6883 - f1_score: 0.5866 - loss: 1.1030 - precision: 0.7952 - recall: 0.5812 - val_NLL: 1.1688 - val_accuracy: 0.6251 - val_f1_score: 0.4381 - val_loss: 1.3667 - val_precision: 0.7189 - val_recall: 0.5424\n",
      "Epoch 12/20\n",
      "839/839 - 38s - 45ms/step - NLL: 0.8941 - accuracy: 0.6935 - f1_score: 0.5923 - loss: 1.0944 - precision: 0.7969 - recall: 0.5849 - val_NLL: 1.0956 - val_accuracy: 0.6346 - val_f1_score: 0.4378 - val_loss: 1.2954 - val_precision: 0.7383 - val_recall: 0.5539\n",
      "Epoch 13/20\n",
      "839/839 - 38s - 45ms/step - NLL: 0.8833 - accuracy: 0.6957 - f1_score: 0.5973 - loss: 1.0851 - precision: 0.7990 - recall: 0.5903 - val_NLL: 1.1497 - val_accuracy: 0.6275 - val_f1_score: 0.4488 - val_loss: 1.3505 - val_precision: 0.7161 - val_recall: 0.5453\n",
      "Epoch 14/20\n",
      "839/839 - 38s - 45ms/step - NLL: 0.8753 - accuracy: 0.6972 - f1_score: 0.5992 - loss: 1.0781 - precision: 0.7993 - recall: 0.5930 - val_NLL: 1.1377 - val_accuracy: 0.6263 - val_f1_score: 0.4230 - val_loss: 1.3397 - val_precision: 0.7170 - val_recall: 0.5457\n",
      "Epoch 15/20\n",
      "839/839 - 33s - 39ms/step - NLL: 0.8668 - accuracy: 0.7018 - f1_score: 0.6075 - loss: 1.0704 - precision: 0.8021 - recall: 0.5979 - val_NLL: 1.1717 - val_accuracy: 0.6189 - val_f1_score: 0.4463 - val_loss: 1.3752 - val_precision: 0.7115 - val_recall: 0.5444\n",
      "Epoch 16/20\n",
      "839/839 - 35s - 42ms/step - NLL: 0.8637 - accuracy: 0.7033 - f1_score: 0.6083 - loss: 1.0690 - precision: 0.8037 - recall: 0.6001 - val_NLL: 1.1679 - val_accuracy: 0.6251 - val_f1_score: 0.4354 - val_loss: 1.3721 - val_precision: 0.7075 - val_recall: 0.5511\n",
      "Epoch 17/20\n",
      "839/839 - 42s - 50ms/step - NLL: 0.8566 - accuracy: 0.7049 - f1_score: 0.6132 - loss: 1.0629 - precision: 0.8023 - recall: 0.6009 - val_NLL: 1.1509 - val_accuracy: 0.6172 - val_f1_score: 0.4504 - val_loss: 1.3569 - val_precision: 0.7067 - val_recall: 0.5308\n",
      "Epoch 18/20\n",
      "839/839 - 41s - 49ms/step - NLL: 0.8454 - accuracy: 0.7069 - f1_score: 0.6168 - loss: 1.0532 - precision: 0.8051 - recall: 0.6062 - val_NLL: 1.2067 - val_accuracy: 0.6242 - val_f1_score: 0.4367 - val_loss: 1.4137 - val_precision: 0.7077 - val_recall: 0.5415\n",
      "Epoch 19/20\n",
      "839/839 - 35s - 42ms/step - NLL: 0.8374 - accuracy: 0.7098 - f1_score: 0.6195 - loss: 1.0465 - precision: 0.8055 - recall: 0.6111 - val_NLL: 1.1479 - val_accuracy: 0.6267 - val_f1_score: 0.4394 - val_loss: 1.3552 - val_precision: 0.7154 - val_recall: 0.5382\n",
      "Epoch 20/20\n",
      "839/839 - 34s - 40ms/step - NLL: 0.8361 - accuracy: 0.7099 - f1_score: 0.6200 - loss: 1.0464 - precision: 0.8058 - recall: 0.6111 - val_NLL: 1.1506 - val_accuracy: 0.6317 - val_f1_score: 0.4395 - val_loss: 1.3607 - val_precision: 0.7095 - val_recall: 0.5502\n",
      "\u001b[1m1678/1678\u001b[0m \u001b[32m━━━━━━━━━━━━━━━━━━━━\u001b[0m\u001b[37m\u001b[0m \u001b[1m34s\u001b[0m 20ms/step\n",
      "\u001b[1m76/76\u001b[0m \u001b[32m━━━━━━━━━━━━━━━━━━━━\u001b[0m\u001b[37m\u001b[0m \u001b[1m1s\u001b[0m 17ms/step\n",
      "NLL: 1.10\n",
      "Validation accuracy: 0.63\n",
      "Validation F1Score: 0.44\n",
      "evaluating Fold 6\n",
      "Setting seed to 1027\n",
      "Epoch 1/20\n",
      "812/812 - 60s - 74ms/step - NLL: 1.5865 - accuracy: 0.5068 - f1_score: 0.2895 - loss: 1.8255 - precision: 0.6691 - recall: 0.2911 - val_NLL: 1.2462 - val_accuracy: 0.6428 - val_f1_score: 0.3040 - val_loss: 1.4337 - val_precision: 0.7726 - val_recall: 0.4874\n",
      "Epoch 2/20\n",
      "812/812 - 40s - 49ms/step - NLL: 1.2377 - accuracy: 0.5967 - f1_score: 0.4452 - loss: 1.4304 - precision: 0.7340 - recall: 0.4297 - val_NLL: 1.1756 - val_accuracy: 0.6500 - val_f1_score: 0.3273 - val_loss: 1.3576 - val_precision: 0.7472 - val_recall: 0.5568\n",
      "Epoch 3/20\n",
      "812/812 - 39s - 48ms/step - NLL: 1.1276 - accuracy: 0.6264 - f1_score: 0.4938 - loss: 1.3193 - precision: 0.7552 - recall: 0.4780 - val_NLL: 1.1442 - val_accuracy: 0.6560 - val_f1_score: 0.3448 - val_loss: 1.3289 - val_precision: 0.7601 - val_recall: 0.5484\n",
      "Epoch 4/20\n",
      "812/812 - 31s - 38ms/step - NLL: 1.0713 - accuracy: 0.6410 - f1_score: 0.5146 - loss: 1.2635 - precision: 0.7645 - recall: 0.5046 - val_NLL: 1.1514 - val_accuracy: 0.6610 - val_f1_score: 0.3467 - val_loss: 1.3350 - val_precision: 0.7519 - val_recall: 0.5716\n",
      "Epoch 5/20\n",
      "812/812 - 29s - 36ms/step - NLL: 1.0284 - accuracy: 0.6524 - f1_score: 0.5332 - loss: 1.2220 - precision: 0.7724 - recall: 0.5244 - val_NLL: 1.0992 - val_accuracy: 0.6679 - val_f1_score: 0.3751 - val_loss: 1.2861 - val_precision: 0.7723 - val_recall: 0.5804\n",
      "Epoch 6/20\n",
      "812/812 - 19s - 23ms/step - NLL: 0.9977 - accuracy: 0.6609 - f1_score: 0.5479 - loss: 1.1927 - precision: 0.7777 - recall: 0.5366 - val_NLL: 1.1400 - val_accuracy: 0.6617 - val_f1_score: 0.3520 - val_loss: 1.3274 - val_precision: 0.7413 - val_recall: 0.5945\n",
      "Epoch 7/20\n",
      "812/812 - 25s - 31ms/step - NLL: 0.9749 - accuracy: 0.6673 - f1_score: 0.5580 - loss: 1.1716 - precision: 0.7824 - recall: 0.5489 - val_NLL: 1.1052 - val_accuracy: 0.6651 - val_f1_score: 0.3629 - val_loss: 1.2944 - val_precision: 0.7758 - val_recall: 0.5723\n",
      "Epoch 8/20\n",
      "812/812 - 25s - 31ms/step - NLL: 0.9530 - accuracy: 0.6734 - f1_score: 0.5660 - loss: 1.1515 - precision: 0.7851 - recall: 0.5567 - val_NLL: 1.0920 - val_accuracy: 0.6603 - val_f1_score: 0.3583 - val_loss: 1.2846 - val_precision: 0.7649 - val_recall: 0.5826\n",
      "Epoch 9/20\n",
      "812/812 - 28s - 34ms/step - NLL: 0.9406 - accuracy: 0.6762 - f1_score: 0.5729 - loss: 1.1400 - precision: 0.7862 - recall: 0.5626 - val_NLL: 1.0773 - val_accuracy: 0.6715 - val_f1_score: 0.3789 - val_loss: 1.2676 - val_precision: 0.7794 - val_recall: 0.5996\n",
      "Epoch 10/20\n",
      "812/812 - 40s - 50ms/step - NLL: 0.9236 - accuracy: 0.6820 - f1_score: 0.5823 - loss: 1.1245 - precision: 0.7900 - recall: 0.5700 - val_NLL: 1.0883 - val_accuracy: 0.6658 - val_f1_score: 0.3695 - val_loss: 1.2813 - val_precision: 0.7730 - val_recall: 0.5950\n",
      "Epoch 11/20\n",
      "812/812 - 37s - 45ms/step - NLL: 0.9082 - accuracy: 0.6865 - f1_score: 0.5891 - loss: 1.1102 - precision: 0.7914 - recall: 0.5765 - val_NLL: 1.0933 - val_accuracy: 0.6715 - val_f1_score: 0.3774 - val_loss: 1.2893 - val_precision: 0.7816 - val_recall: 0.5886\n",
      "Epoch 12/20\n",
      "812/812 - 39s - 49ms/step - NLL: 0.9006 - accuracy: 0.6897 - f1_score: 0.5929 - loss: 1.1043 - precision: 0.7931 - recall: 0.5817 - val_NLL: 1.0942 - val_accuracy: 0.6687 - val_f1_score: 0.3695 - val_loss: 1.2890 - val_precision: 0.7702 - val_recall: 0.6024\n",
      "Epoch 13/20\n",
      "812/812 - 41s - 51ms/step - NLL: 0.8902 - accuracy: 0.6919 - f1_score: 0.5969 - loss: 1.0940 - precision: 0.7943 - recall: 0.5852 - val_NLL: 1.1105 - val_accuracy: 0.6699 - val_f1_score: 0.3728 - val_loss: 1.3064 - val_precision: 0.7656 - val_recall: 0.5981\n",
      "Epoch 14/20\n",
      "812/812 - 41s - 50ms/step - NLL: 0.8812 - accuracy: 0.6939 - f1_score: 0.6010 - loss: 1.0863 - precision: 0.7946 - recall: 0.5870 - val_NLL: 1.0723 - val_accuracy: 0.6754 - val_f1_score: 0.3889 - val_loss: 1.2688 - val_precision: 0.7781 - val_recall: 0.5986\n",
      "Epoch 15/20\n",
      "812/812 - 38s - 47ms/step - NLL: 0.8726 - accuracy: 0.6987 - f1_score: 0.6081 - loss: 1.0792 - precision: 0.7997 - recall: 0.5930 - val_NLL: 1.1191 - val_accuracy: 0.6713 - val_f1_score: 0.3822 - val_loss: 1.3167 - val_precision: 0.7711 - val_recall: 0.5984\n",
      "Epoch 16/20\n",
      "812/812 - 48s - 59ms/step - NLL: 0.8682 - accuracy: 0.7005 - f1_score: 0.6106 - loss: 1.0755 - precision: 0.7995 - recall: 0.5951 - val_NLL: 1.0727 - val_accuracy: 0.6734 - val_f1_score: 0.3956 - val_loss: 1.2718 - val_precision: 0.7737 - val_recall: 0.6032\n",
      "Epoch 17/20\n",
      "812/812 - 42s - 51ms/step - NLL: 0.8586 - accuracy: 0.7015 - f1_score: 0.6123 - loss: 1.0674 - precision: 0.8002 - recall: 0.5994 - val_NLL: 1.0863 - val_accuracy: 0.6715 - val_f1_score: 0.3877 - val_loss: 1.2871 - val_precision: 0.7691 - val_recall: 0.6098\n",
      "Epoch 18/20\n",
      "812/812 - 41s - 51ms/step - NLL: 0.8506 - accuracy: 0.7035 - f1_score: 0.6145 - loss: 1.0611 - precision: 0.8012 - recall: 0.6007 - val_NLL: 1.0891 - val_accuracy: 0.6701 - val_f1_score: 0.3963 - val_loss: 1.2912 - val_precision: 0.7696 - val_recall: 0.5924\n",
      "Epoch 19/20\n",
      "812/812 - 41s - 50ms/step - NLL: 0.8443 - accuracy: 0.7044 - f1_score: 0.6167 - loss: 1.0555 - precision: 0.8001 - recall: 0.6024 - val_NLL: 1.1143 - val_accuracy: 0.6751 - val_f1_score: 0.3988 - val_loss: 1.3167 - val_precision: 0.7742 - val_recall: 0.6048\n",
      "Epoch 20/20\n",
      "812/812 - 42s - 52ms/step - NLL: 0.8420 - accuracy: 0.7068 - f1_score: 0.6205 - loss: 1.0541 - precision: 0.8042 - recall: 0.6050 - val_NLL: 1.1504 - val_accuracy: 0.6608 - val_f1_score: 0.3668 - val_loss: 1.3526 - val_precision: 0.7578 - val_recall: 0.5879\n",
      "\u001b[1m1623/1623\u001b[0m \u001b[32m━━━━━━━━━━━━━━━━━━━━\u001b[0m\u001b[37m\u001b[0m \u001b[1m30s\u001b[0m 18ms/step\n",
      "\u001b[1m131/131\u001b[0m \u001b[32m━━━━━━━━━━━━━━━━━━━━\u001b[0m\u001b[37m\u001b[0m \u001b[1m2s\u001b[0m 17ms/step\n",
      "NLL: 1.07\n",
      "Validation accuracy: 0.68\n",
      "Validation F1Score: 0.39\n",
      "evaluating Fold 7\n",
      "Setting seed to 5825\n",
      "Epoch 1/20\n",
      "835/835 - 73s - 87ms/step - NLL: 1.5624 - accuracy: 0.5147 - f1_score: 0.2868 - loss: 1.7997 - precision: 0.6770 - recall: 0.3018 - val_NLL: 1.4564 - val_accuracy: 0.5231 - val_f1_score: 0.2948 - val_loss: 1.6523 - val_precision: 0.6599 - val_recall: 0.3217\n",
      "Epoch 2/20\n",
      "835/835 - 56s - 67ms/step - NLL: 1.2196 - accuracy: 0.6035 - f1_score: 0.4444 - loss: 1.4150 - precision: 0.7435 - recall: 0.4399 - val_NLL: 1.3478 - val_accuracy: 0.5395 - val_f1_score: 0.3480 - val_loss: 1.5378 - val_precision: 0.6777 - val_recall: 0.3832\n",
      "Epoch 3/20\n",
      "835/835 - 42s - 50ms/step - NLL: 1.1163 - accuracy: 0.6313 - f1_score: 0.4897 - loss: 1.3106 - precision: 0.7625 - recall: 0.4871 - val_NLL: 1.3053 - val_accuracy: 0.5564 - val_f1_score: 0.3684 - val_loss: 1.4973 - val_precision: 0.6578 - val_recall: 0.4440\n",
      "Epoch 4/20\n",
      "835/835 - 48s - 58ms/step - NLL: 1.0562 - accuracy: 0.6490 - f1_score: 0.5190 - loss: 1.2517 - precision: 0.7722 - recall: 0.5126 - val_NLL: 1.3041 - val_accuracy: 0.5531 - val_f1_score: 0.3679 - val_loss: 1.4957 - val_precision: 0.6544 - val_recall: 0.4568\n",
      "Epoch 5/20\n",
      "835/835 - 46s - 55ms/step - NLL: 1.0175 - accuracy: 0.6597 - f1_score: 0.5354 - loss: 1.2144 - precision: 0.7800 - recall: 0.5320 - val_NLL: 1.2875 - val_accuracy: 0.5619 - val_f1_score: 0.3884 - val_loss: 1.4803 - val_precision: 0.6658 - val_recall: 0.4447\n",
      "Epoch 6/20\n",
      "835/835 - 44s - 53ms/step - NLL: 0.9922 - accuracy: 0.6651 - f1_score: 0.5450 - loss: 1.1895 - precision: 0.7866 - recall: 0.5434 - val_NLL: 1.2933 - val_accuracy: 0.5633 - val_f1_score: 0.3951 - val_loss: 1.4878 - val_precision: 0.6557 - val_recall: 0.4608\n",
      "Epoch 7/20\n",
      "835/835 - 41s - 49ms/step - NLL: 0.9680 - accuracy: 0.6725 - f1_score: 0.5559 - loss: 1.1664 - precision: 0.7872 - recall: 0.5534 - val_NLL: 1.2957 - val_accuracy: 0.5604 - val_f1_score: 0.3884 - val_loss: 1.4916 - val_precision: 0.6584 - val_recall: 0.4733\n",
      "Epoch 8/20\n",
      "835/835 - 40s - 48ms/step - NLL: 0.9462 - accuracy: 0.6777 - f1_score: 0.5676 - loss: 1.1448 - precision: 0.7919 - recall: 0.5653 - val_NLL: 1.2681 - val_accuracy: 0.5860 - val_f1_score: 0.4393 - val_loss: 1.4630 - val_precision: 0.6647 - val_recall: 0.4978\n",
      "Epoch 9/20\n",
      "835/835 - 41s - 50ms/step - NLL: 0.9331 - accuracy: 0.6821 - f1_score: 0.5732 - loss: 1.1334 - precision: 0.7915 - recall: 0.5698 - val_NLL: 1.3232 - val_accuracy: 0.5655 - val_f1_score: 0.3951 - val_loss: 1.5183 - val_precision: 0.6428 - val_recall: 0.4894\n",
      "Epoch 10/20\n",
      "835/835 - 40s - 47ms/step - NLL: 0.9198 - accuracy: 0.6867 - f1_score: 0.5790 - loss: 1.1206 - precision: 0.7941 - recall: 0.5759 - val_NLL: 1.2443 - val_accuracy: 0.5783 - val_f1_score: 0.4256 - val_loss: 1.4419 - val_precision: 0.6665 - val_recall: 0.4784\n",
      "Epoch 11/20\n",
      "835/835 - 40s - 48ms/step - NLL: 0.9074 - accuracy: 0.6889 - f1_score: 0.5842 - loss: 1.1107 - precision: 0.7951 - recall: 0.5796 - val_NLL: 1.2537 - val_accuracy: 0.5706 - val_f1_score: 0.3961 - val_loss: 1.4535 - val_precision: 0.6658 - val_recall: 0.4916\n",
      "Epoch 12/20\n",
      "835/835 - 39s - 47ms/step - NLL: 0.8925 - accuracy: 0.6932 - f1_score: 0.5901 - loss: 1.0973 - precision: 0.7980 - recall: 0.5862 - val_NLL: 1.2578 - val_accuracy: 0.5787 - val_f1_score: 0.4127 - val_loss: 1.4588 - val_precision: 0.6621 - val_recall: 0.4963\n",
      "Epoch 13/20\n",
      "835/835 - 41s - 49ms/step - NLL: 0.8852 - accuracy: 0.6948 - f1_score: 0.5945 - loss: 1.0910 - precision: 0.7975 - recall: 0.5893 - val_NLL: 1.2483 - val_accuracy: 0.5736 - val_f1_score: 0.4022 - val_loss: 1.4494 - val_precision: 0.6485 - val_recall: 0.5092\n",
      "Epoch 14/20\n",
      "835/835 - 41s - 49ms/step - NLL: 0.8763 - accuracy: 0.7009 - f1_score: 0.6022 - loss: 1.0832 - precision: 0.8019 - recall: 0.5959 - val_NLL: 1.2608 - val_accuracy: 0.5677 - val_f1_score: 0.4005 - val_loss: 1.4634 - val_precision: 0.6487 - val_recall: 0.4941\n",
      "Epoch 15/20\n",
      "835/835 - 40s - 48ms/step - NLL: 0.8718 - accuracy: 0.7006 - f1_score: 0.6017 - loss: 1.0808 - precision: 0.8029 - recall: 0.5986 - val_NLL: 1.2132 - val_accuracy: 0.5758 - val_f1_score: 0.4152 - val_loss: 1.4180 - val_precision: 0.6673 - val_recall: 0.4883\n",
      "Epoch 16/20\n",
      "835/835 - 40s - 48ms/step - NLL: 0.8649 - accuracy: 0.7017 - f1_score: 0.6052 - loss: 1.0739 - precision: 0.8031 - recall: 0.5968 - val_NLL: 1.2347 - val_accuracy: 0.5706 - val_f1_score: 0.4094 - val_loss: 1.4400 - val_precision: 0.6579 - val_recall: 0.4941\n",
      "Epoch 17/20\n",
      "835/835 - 41s - 49ms/step - NLL: 0.8540 - accuracy: 0.7054 - f1_score: 0.6102 - loss: 1.0640 - precision: 0.8031 - recall: 0.6040 - val_NLL: 1.2618 - val_accuracy: 0.5673 - val_f1_score: 0.4096 - val_loss: 1.4679 - val_precision: 0.6482 - val_recall: 0.4963\n",
      "Epoch 18/20\n",
      "835/835 - 40s - 48ms/step - NLL: 0.8486 - accuracy: 0.7058 - f1_score: 0.6117 - loss: 1.0594 - precision: 0.8053 - recall: 0.6054 - val_NLL: 1.2617 - val_accuracy: 0.5736 - val_f1_score: 0.4262 - val_loss: 1.4693 - val_precision: 0.6618 - val_recall: 0.4985\n",
      "Epoch 19/20\n",
      "835/835 - 41s - 49ms/step - NLL: 0.8381 - accuracy: 0.7115 - f1_score: 0.6204 - loss: 1.0497 - precision: 0.8080 - recall: 0.6123 - val_NLL: 1.2426 - val_accuracy: 0.5717 - val_f1_score: 0.4164 - val_loss: 1.4512 - val_precision: 0.6581 - val_recall: 0.5059\n",
      "Epoch 20/20\n",
      "835/835 - 41s - 49ms/step - NLL: 0.8370 - accuracy: 0.7110 - f1_score: 0.6187 - loss: 1.0503 - precision: 0.8053 - recall: 0.6136 - val_NLL: 1.2093 - val_accuracy: 0.5875 - val_f1_score: 0.4485 - val_loss: 1.4191 - val_precision: 0.6697 - val_recall: 0.5128\n",
      "\u001b[1m1669/1669\u001b[0m \u001b[32m━━━━━━━━━━━━━━━━━━━━\u001b[0m\u001b[37m\u001b[0m \u001b[1m30s\u001b[0m 18ms/step\n",
      "\u001b[1m86/86\u001b[0m \u001b[32m━━━━━━━━━━━━━━━━━━━━\u001b[0m\u001b[37m\u001b[0m \u001b[1m1s\u001b[0m 12ms/step\n",
      "NLL: 1.21\n",
      "Validation accuracy: 0.59\n",
      "Validation F1Score: 0.45\n",
      "evaluating Fold 8\n",
      "Setting seed to 52408\n",
      "Epoch 1/20\n",
      "833/833 - 54s - 65ms/step - NLL: 1.5714 - accuracy: 0.5130 - f1_score: 0.2818 - loss: 1.8196 - precision: 0.6677 - recall: 0.3024 - val_NLL: 1.4435 - val_accuracy: 0.5116 - val_f1_score: 0.3615 - val_loss: 1.6433 - val_precision: 0.6979 - val_recall: 0.3323\n",
      "Epoch 2/20\n",
      "833/833 - 30s - 36ms/step - NLL: 1.2357 - accuracy: 0.5973 - f1_score: 0.4351 - loss: 1.4316 - precision: 0.7356 - recall: 0.4340 - val_NLL: 1.3190 - val_accuracy: 0.5688 - val_f1_score: 0.4375 - val_loss: 1.5070 - val_precision: 0.7375 - val_recall: 0.4239\n",
      "Epoch 3/20\n",
      "833/833 - 31s - 38ms/step - NLL: 1.1223 - accuracy: 0.6299 - f1_score: 0.4863 - loss: 1.3158 - precision: 0.7554 - recall: 0.4843 - val_NLL: 1.2540 - val_accuracy: 0.5761 - val_f1_score: 0.4501 - val_loss: 1.4428 - val_precision: 0.7501 - val_recall: 0.4435\n",
      "Epoch 4/20\n",
      "833/833 - 35s - 41ms/step - NLL: 1.0652 - accuracy: 0.6451 - f1_score: 0.5087 - loss: 1.2593 - precision: 0.7668 - recall: 0.5107 - val_NLL: 1.1609 - val_accuracy: 0.6133 - val_f1_score: 0.4999 - val_loss: 1.3523 - val_precision: 0.7840 - val_recall: 0.4853\n",
      "Epoch 5/20\n",
      "833/833 - 44s - 53ms/step - NLL: 1.0253 - accuracy: 0.6565 - f1_score: 0.5293 - loss: 1.2211 - precision: 0.7720 - recall: 0.5293 - val_NLL: 1.2012 - val_accuracy: 0.5940 - val_f1_score: 0.4882 - val_loss: 1.3932 - val_precision: 0.7518 - val_recall: 0.4646\n",
      "Epoch 6/20\n",
      "833/833 - 46s - 55ms/step - NLL: 0.9937 - accuracy: 0.6661 - f1_score: 0.5436 - loss: 1.1907 - precision: 0.7777 - recall: 0.5431 - val_NLL: 1.1795 - val_accuracy: 0.6112 - val_f1_score: 0.4963 - val_loss: 1.3738 - val_precision: 0.7673 - val_recall: 0.4905\n",
      "Epoch 7/20\n",
      "833/833 - 43s - 51ms/step - NLL: 0.9702 - accuracy: 0.6721 - f1_score: 0.5534 - loss: 1.1680 - precision: 0.7810 - recall: 0.5504 - val_NLL: 1.1632 - val_accuracy: 0.6144 - val_f1_score: 0.4968 - val_loss: 1.3573 - val_precision: 0.7618 - val_recall: 0.4926\n",
      "Epoch 8/20\n",
      "833/833 - 83s - 100ms/step - NLL: 0.9524 - accuracy: 0.6770 - f1_score: 0.5611 - loss: 1.1515 - precision: 0.7851 - recall: 0.5622 - val_NLL: 1.1765 - val_accuracy: 0.6098 - val_f1_score: 0.4983 - val_loss: 1.3718 - val_precision: 0.7576 - val_recall: 0.4881\n",
      "Epoch 9/20\n",
      "833/833 - 44s - 53ms/step - NLL: 0.9361 - accuracy: 0.6818 - f1_score: 0.5696 - loss: 1.1366 - precision: 0.7889 - recall: 0.5676 - val_NLL: 1.1468 - val_accuracy: 0.6158 - val_f1_score: 0.4961 - val_loss: 1.3434 - val_precision: 0.7637 - val_recall: 0.5046\n",
      "Epoch 10/20\n",
      "833/833 - 44s - 53ms/step - NLL: 0.9243 - accuracy: 0.6846 - f1_score: 0.5760 - loss: 1.1263 - precision: 0.7875 - recall: 0.5738 - val_NLL: 1.1663 - val_accuracy: 0.6165 - val_f1_score: 0.4937 - val_loss: 1.3640 - val_precision: 0.7647 - val_recall: 0.5053\n",
      "Epoch 11/20\n",
      "833/833 - 43s - 52ms/step - NLL: 0.9077 - accuracy: 0.6887 - f1_score: 0.5820 - loss: 1.1105 - precision: 0.7911 - recall: 0.5796 - val_NLL: 1.1268 - val_accuracy: 0.6158 - val_f1_score: 0.4938 - val_loss: 1.3252 - val_precision: 0.7662 - val_recall: 0.5060\n",
      "Epoch 12/20\n",
      "833/833 - 44s - 53ms/step - NLL: 0.8985 - accuracy: 0.6909 - f1_score: 0.5854 - loss: 1.1025 - precision: 0.7914 - recall: 0.5831 - val_NLL: 1.1626 - val_accuracy: 0.6081 - val_f1_score: 0.4968 - val_loss: 1.3639 - val_precision: 0.7674 - val_recall: 0.5025\n",
      "Epoch 13/20\n",
      "833/833 - 81s - 98ms/step - NLL: 0.8874 - accuracy: 0.6944 - f1_score: 0.5928 - loss: 1.0930 - precision: 0.7950 - recall: 0.5882 - val_NLL: 1.1695 - val_accuracy: 0.6102 - val_f1_score: 0.5026 - val_loss: 1.3742 - val_precision: 0.7630 - val_recall: 0.4982\n",
      "Epoch 14/20\n",
      "833/833 - 44s - 52ms/step - NLL: 0.8787 - accuracy: 0.6983 - f1_score: 0.5981 - loss: 1.0856 - precision: 0.7951 - recall: 0.5919 - val_NLL: 1.1504 - val_accuracy: 0.6112 - val_f1_score: 0.5005 - val_loss: 1.3540 - val_precision: 0.7639 - val_recall: 0.4982\n",
      "Epoch 15/20\n",
      "833/833 - 82s - 98ms/step - NLL: 0.8688 - accuracy: 0.7005 - f1_score: 0.5997 - loss: 1.0766 - precision: 0.7989 - recall: 0.5985 - val_NLL: 1.1516 - val_accuracy: 0.6074 - val_f1_score: 0.4969 - val_loss: 1.3550 - val_precision: 0.7524 - val_recall: 0.5011\n",
      "Epoch 16/20\n",
      "833/833 - 42s - 51ms/step - NLL: 0.8624 - accuracy: 0.7031 - f1_score: 0.6068 - loss: 1.0719 - precision: 0.7995 - recall: 0.5997 - val_NLL: 1.1470 - val_accuracy: 0.6154 - val_f1_score: 0.5179 - val_loss: 1.3515 - val_precision: 0.7557 - val_recall: 0.5014\n",
      "Epoch 17/20\n",
      "833/833 - 44s - 52ms/step - NLL: 0.8489 - accuracy: 0.7067 - f1_score: 0.6115 - loss: 1.0604 - precision: 0.8014 - recall: 0.6055 - val_NLL: 1.1721 - val_accuracy: 0.6126 - val_f1_score: 0.4990 - val_loss: 1.3785 - val_precision: 0.7450 - val_recall: 0.5137\n",
      "Epoch 18/20\n",
      "833/833 - 81s - 97ms/step - NLL: 0.8447 - accuracy: 0.7065 - f1_score: 0.6118 - loss: 1.0559 - precision: 0.8016 - recall: 0.6096 - val_NLL: 1.1256 - val_accuracy: 0.6228 - val_f1_score: 0.5225 - val_loss: 1.3328 - val_precision: 0.7614 - val_recall: 0.5196\n",
      "Epoch 19/20\n",
      "833/833 - 43s - 52ms/step - NLL: 0.8419 - accuracy: 0.7108 - f1_score: 0.6182 - loss: 1.0549 - precision: 0.8028 - recall: 0.6106 - val_NLL: 1.1505 - val_accuracy: 0.6211 - val_f1_score: 0.5168 - val_loss: 1.3587 - val_precision: 0.7562 - val_recall: 0.5147\n",
      "Epoch 20/20\n",
      "833/833 - 42s - 51ms/step - NLL: 0.8335 - accuracy: 0.7101 - f1_score: 0.6176 - loss: 1.0475 - precision: 0.8020 - recall: 0.6127 - val_NLL: 1.1355 - val_accuracy: 0.6277 - val_f1_score: 0.5259 - val_loss: 1.3441 - val_precision: 0.7695 - val_recall: 0.5189\n",
      "\u001b[1m1665/1665\u001b[0m \u001b[32m━━━━━━━━━━━━━━━━━━━━\u001b[0m\u001b[37m\u001b[0m \u001b[1m33s\u001b[0m 19ms/step\n",
      "\u001b[1m90/90\u001b[0m \u001b[32m━━━━━━━━━━━━━━━━━━━━\u001b[0m\u001b[37m\u001b[0m \u001b[1m2s\u001b[0m 19ms/step\n",
      "NLL: 1.13\n",
      "Validation accuracy: 0.62\n",
      "Validation F1Score: 0.52\n",
      "evaluating Fold 9\n",
      "Setting seed to 88243\n",
      "Epoch 1/20\n",
      "812/812 - 57s - 71ms/step - NLL: 1.5999 - accuracy: 0.5044 - f1_score: 0.2728 - loss: 1.8382 - precision: 0.6747 - recall: 0.2905 - val_NLL: 1.4851 - val_accuracy: 0.5832 - val_f1_score: 0.3047 - val_loss: 1.6873 - val_precision: 0.6977 - val_recall: 0.3857\n",
      "Epoch 2/20\n",
      "812/812 - 43s - 53ms/step - NLL: 1.2465 - accuracy: 0.5922 - f1_score: 0.4293 - loss: 1.4437 - precision: 0.7369 - recall: 0.4218 - val_NLL: 1.3572 - val_accuracy: 0.6079 - val_f1_score: 0.3583 - val_loss: 1.5492 - val_precision: 0.7208 - val_recall: 0.4556\n",
      "Epoch 3/20\n",
      "812/812 - 42s - 52ms/step - NLL: 1.1268 - accuracy: 0.6260 - f1_score: 0.4833 - loss: 1.3224 - precision: 0.7587 - recall: 0.4769 - val_NLL: 1.3180 - val_accuracy: 0.6055 - val_f1_score: 0.3816 - val_loss: 1.5117 - val_precision: 0.7360 - val_recall: 0.4640\n",
      "Epoch 4/20\n",
      "812/812 - 43s - 53ms/step - NLL: 1.0618 - accuracy: 0.6428 - f1_score: 0.5114 - loss: 1.2590 - precision: 0.7685 - recall: 0.5055 - val_NLL: 1.2776 - val_accuracy: 0.6213 - val_f1_score: 0.3933 - val_loss: 1.4725 - val_precision: 0.7244 - val_recall: 0.4984\n",
      "Epoch 5/20\n",
      "812/812 - 42s - 52ms/step - NLL: 1.0217 - accuracy: 0.6559 - f1_score: 0.5307 - loss: 1.2199 - precision: 0.7762 - recall: 0.5257 - val_NLL: 1.2207 - val_accuracy: 0.6330 - val_f1_score: 0.4211 - val_loss: 1.4141 - val_precision: 0.7345 - val_recall: 0.5147\n",
      "Epoch 6/20\n",
      "812/812 - 44s - 54ms/step - NLL: 0.9917 - accuracy: 0.6645 - f1_score: 0.5458 - loss: 1.1907 - precision: 0.7824 - recall: 0.5397 - val_NLL: 1.2183 - val_accuracy: 0.6289 - val_f1_score: 0.4247 - val_loss: 1.4093 - val_precision: 0.7226 - val_recall: 0.5020\n",
      "Epoch 7/20\n",
      "812/812 - 33s - 41ms/step - NLL: 0.9668 - accuracy: 0.6728 - f1_score: 0.5596 - loss: 1.1672 - precision: 0.7881 - recall: 0.5498 - val_NLL: 1.2410 - val_accuracy: 0.6237 - val_f1_score: 0.4152 - val_loss: 1.4352 - val_precision: 0.7177 - val_recall: 0.5193\n",
      "Epoch 8/20\n",
      "812/812 - 29s - 36ms/step - NLL: 0.9467 - accuracy: 0.6762 - f1_score: 0.5642 - loss: 1.1477 - precision: 0.7891 - recall: 0.5586 - val_NLL: 1.2207 - val_accuracy: 0.6311 - val_f1_score: 0.4394 - val_loss: 1.4144 - val_precision: 0.7251 - val_recall: 0.5260\n",
      "Epoch 9/20\n",
      "812/812 - 30s - 37ms/step - NLL: 0.9290 - accuracy: 0.6835 - f1_score: 0.5769 - loss: 1.1314 - precision: 0.7930 - recall: 0.5675 - val_NLL: 1.2543 - val_accuracy: 0.6268 - val_f1_score: 0.4302 - val_loss: 1.4507 - val_precision: 0.7232 - val_recall: 0.5229\n",
      "Epoch 10/20\n",
      "812/812 - 35s - 43ms/step - NLL: 0.9176 - accuracy: 0.6844 - f1_score: 0.5811 - loss: 1.1219 - precision: 0.7922 - recall: 0.5730 - val_NLL: 1.2385 - val_accuracy: 0.6380 - val_f1_score: 0.4327 - val_loss: 1.4377 - val_precision: 0.7297 - val_recall: 0.5384\n",
      "Epoch 11/20\n",
      "812/812 - 23s - 28ms/step - NLL: 0.8992 - accuracy: 0.6927 - f1_score: 0.5918 - loss: 1.1053 - precision: 0.7977 - recall: 0.5812 - val_NLL: 1.2623 - val_accuracy: 0.6330 - val_f1_score: 0.4338 - val_loss: 1.4652 - val_precision: 0.7272 - val_recall: 0.5257\n",
      "Epoch 12/20\n",
      "812/812 - 25s - 30ms/step - NLL: 0.8911 - accuracy: 0.6927 - f1_score: 0.5936 - loss: 1.0990 - precision: 0.7974 - recall: 0.5841 - val_NLL: 1.2385 - val_accuracy: 0.6371 - val_f1_score: 0.4468 - val_loss: 1.4429 - val_precision: 0.7254 - val_recall: 0.5401\n",
      "Epoch 13/20\n",
      "812/812 - 43s - 53ms/step - NLL: 0.8775 - accuracy: 0.6984 - f1_score: 0.6024 - loss: 1.0861 - precision: 0.8003 - recall: 0.5921 - val_NLL: 1.2671 - val_accuracy: 0.6397 - val_f1_score: 0.4530 - val_loss: 1.4696 - val_precision: 0.7305 - val_recall: 0.5497\n",
      "Epoch 14/20\n",
      "812/812 - 40s - 50ms/step - NLL: 0.8706 - accuracy: 0.6996 - f1_score: 0.6063 - loss: 1.0805 - precision: 0.8021 - recall: 0.5946 - val_NLL: 1.2853 - val_accuracy: 0.6280 - val_f1_score: 0.4170 - val_loss: 1.4887 - val_precision: 0.7161 - val_recall: 0.5327\n",
      "Epoch 15/20\n",
      "812/812 - 43s - 53ms/step - NLL: 0.8580 - accuracy: 0.7044 - f1_score: 0.6115 - loss: 1.0696 - precision: 0.8031 - recall: 0.5996 - val_NLL: 1.2506 - val_accuracy: 0.6397 - val_f1_score: 0.4511 - val_loss: 1.4542 - val_precision: 0.7212 - val_recall: 0.5394\n",
      "Epoch 16/20\n",
      "812/812 - 35s - 43ms/step - NLL: 0.8520 - accuracy: 0.7055 - f1_score: 0.6131 - loss: 1.0652 - precision: 0.8038 - recall: 0.6015 - val_NLL: 1.2748 - val_accuracy: 0.6330 - val_f1_score: 0.4407 - val_loss: 1.4823 - val_precision: 0.7264 - val_recall: 0.5461\n",
      "\u001b[1m1623/1623\u001b[0m \u001b[32m━━━━━━━━━━━━━━━━━━━━\u001b[0m\u001b[37m\u001b[0m \u001b[1m31s\u001b[0m 19ms/step\n",
      "\u001b[1m131/131\u001b[0m \u001b[32m━━━━━━━━━━━━━━━━━━━━\u001b[0m\u001b[37m\u001b[0m \u001b[1m2s\u001b[0m 19ms/step\n",
      "NLL: 1.22\n",
      "Validation accuracy: 0.63\n",
      "Validation F1Score: 0.42\n",
      "evaluating Fold 10\n",
      "Setting seed to 419748\n",
      "Epoch 1/20\n",
      "815/815 - 57s - 70ms/step - NLL: 1.5933 - accuracy: 0.5032 - f1_score: 0.2820 - loss: 1.8390 - precision: 0.6685 - recall: 0.2908 - val_NLL: 1.1412 - val_accuracy: 0.6444 - val_f1_score: 0.4338 - val_loss: 1.3391 - val_precision: 0.7556 - val_recall: 0.4783\n",
      "Epoch 2/20\n",
      "815/815 - 78s - 96ms/step - NLL: 1.2511 - accuracy: 0.5943 - f1_score: 0.4436 - loss: 1.4444 - precision: 0.7352 - recall: 0.4280 - val_NLL: 1.0063 - val_accuracy: 0.6840 - val_f1_score: 0.4886 - val_loss: 1.1972 - val_precision: 0.7811 - val_recall: 0.5658\n",
      "Epoch 3/20\n",
      "815/815 - 42s - 52ms/step - NLL: 1.1307 - accuracy: 0.6263 - f1_score: 0.4920 - loss: 1.3221 - precision: 0.7551 - recall: 0.4810 - val_NLL: 0.9726 - val_accuracy: 0.6822 - val_f1_score: 0.5111 - val_loss: 1.1657 - val_precision: 0.7692 - val_recall: 0.5897\n",
      "Epoch 4/20\n",
      "815/815 - 41s - 51ms/step - NLL: 1.0730 - accuracy: 0.6431 - f1_score: 0.5180 - loss: 1.2664 - precision: 0.7644 - recall: 0.5073 - val_NLL: 0.9310 - val_accuracy: 0.6943 - val_f1_score: 0.5276 - val_loss: 1.1251 - val_precision: 0.7759 - val_recall: 0.5975\n",
      "Epoch 5/20\n",
      "815/815 - 43s - 53ms/step - NLL: 1.0283 - accuracy: 0.6545 - f1_score: 0.5345 - loss: 1.2232 - precision: 0.7739 - recall: 0.5263 - val_NLL: 0.9386 - val_accuracy: 0.6837 - val_f1_score: 0.5176 - val_loss: 1.1337 - val_precision: 0.7681 - val_recall: 0.6026\n",
      "Epoch 6/20\n",
      "815/815 - 36s - 44ms/step - NLL: 0.9993 - accuracy: 0.6638 - f1_score: 0.5488 - loss: 1.1955 - precision: 0.7776 - recall: 0.5401 - val_NLL: 0.9347 - val_accuracy: 0.6958 - val_f1_score: 0.5246 - val_loss: 1.1318 - val_precision: 0.7855 - val_recall: 0.6127\n",
      "Epoch 7/20\n",
      "815/815 - 42s - 52ms/step - NLL: 0.9762 - accuracy: 0.6694 - f1_score: 0.5577 - loss: 1.1743 - precision: 0.7810 - recall: 0.5491 - val_NLL: 0.9261 - val_accuracy: 0.6973 - val_f1_score: 0.5419 - val_loss: 1.1253 - val_precision: 0.7759 - val_recall: 0.6169\n",
      "Epoch 8/20\n",
      "815/815 - 43s - 52ms/step - NLL: 0.9584 - accuracy: 0.6722 - f1_score: 0.5633 - loss: 1.1591 - precision: 0.7832 - recall: 0.5550 - val_NLL: 0.9086 - val_accuracy: 0.7019 - val_f1_score: 0.5457 - val_loss: 1.1111 - val_precision: 0.7857 - val_recall: 0.6200\n",
      "Epoch 9/20\n",
      "815/815 - 43s - 53ms/step - NLL: 0.9370 - accuracy: 0.6792 - f1_score: 0.5735 - loss: 1.1394 - precision: 0.7864 - recall: 0.5674 - val_NLL: 0.8950 - val_accuracy: 0.7004 - val_f1_score: 0.5452 - val_loss: 1.0990 - val_precision: 0.7750 - val_recall: 0.6200\n",
      "Epoch 10/20\n",
      "815/815 - 82s - 100ms/step - NLL: 0.9257 - accuracy: 0.6844 - f1_score: 0.5820 - loss: 1.1302 - precision: 0.7902 - recall: 0.5710 - val_NLL: 0.9137 - val_accuracy: 0.6998 - val_f1_score: 0.5566 - val_loss: 1.1192 - val_precision: 0.7863 - val_recall: 0.6195\n",
      "Epoch 11/20\n",
      "815/815 - 42s - 51ms/step - NLL: 0.9102 - accuracy: 0.6888 - f1_score: 0.5877 - loss: 1.1156 - precision: 0.7945 - recall: 0.5793 - val_NLL: 0.9113 - val_accuracy: 0.7074 - val_f1_score: 0.5515 - val_loss: 1.1176 - val_precision: 0.7756 - val_recall: 0.6386\n",
      "Epoch 12/20\n",
      "815/815 - 42s - 51ms/step - NLL: 0.8984 - accuracy: 0.6917 - f1_score: 0.5934 - loss: 1.1063 - precision: 0.7931 - recall: 0.5831 - val_NLL: 0.8975 - val_accuracy: 0.7019 - val_f1_score: 0.5664 - val_loss: 1.1064 - val_precision: 0.7781 - val_recall: 0.6258\n",
      "Epoch 13/20\n",
      "815/815 - 43s - 52ms/step - NLL: 0.8917 - accuracy: 0.6929 - f1_score: 0.5954 - loss: 1.1003 - precision: 0.7944 - recall: 0.5853 - val_NLL: 0.9233 - val_accuracy: 0.6953 - val_f1_score: 0.5390 - val_loss: 1.1332 - val_precision: 0.7687 - val_recall: 0.6333\n",
      "Epoch 14/20\n",
      "815/815 - 42s - 52ms/step - NLL: 0.8817 - accuracy: 0.6963 - f1_score: 0.6016 - loss: 1.0917 - precision: 0.7966 - recall: 0.5911 - val_NLL: 0.9237 - val_accuracy: 0.6956 - val_f1_score: 0.5521 - val_loss: 1.1341 - val_precision: 0.7718 - val_recall: 0.6190\n",
      "Epoch 15/20\n",
      "815/815 - 43s - 53ms/step - NLL: 0.8706 - accuracy: 0.6997 - f1_score: 0.6050 - loss: 1.0813 - precision: 0.7983 - recall: 0.5952 - val_NLL: 0.9320 - val_accuracy: 0.6998 - val_f1_score: 0.5452 - val_loss: 1.1433 - val_precision: 0.7668 - val_recall: 0.6298\n",
      "Epoch 16/20\n",
      "815/815 - 43s - 52ms/step - NLL: 0.8608 - accuracy: 0.7027 - f1_score: 0.6095 - loss: 1.0724 - precision: 0.8012 - recall: 0.6012 - val_NLL: 0.9390 - val_accuracy: 0.6971 - val_f1_score: 0.5564 - val_loss: 1.1515 - val_precision: 0.7732 - val_recall: 0.6273\n",
      "Epoch 17/20\n",
      "815/815 - 43s - 52ms/step - NLL: 0.8583 - accuracy: 0.7035 - f1_score: 0.6121 - loss: 1.0718 - precision: 0.7998 - recall: 0.6007 - val_NLL: 0.9334 - val_accuracy: 0.6998 - val_f1_score: 0.5627 - val_loss: 1.1476 - val_precision: 0.7774 - val_recall: 0.6159\n",
      "Epoch 18/20\n",
      "815/815 - 43s - 53ms/step - NLL: 0.8505 - accuracy: 0.7070 - f1_score: 0.6168 - loss: 1.0655 - precision: 0.8028 - recall: 0.6064 - val_NLL: 0.8998 - val_accuracy: 0.7157 - val_f1_score: 0.5759 - val_loss: 1.1150 - val_precision: 0.7857 - val_recall: 0.6542\n",
      "Epoch 19/20\n",
      "815/815 - 43s - 52ms/step - NLL: 0.8423 - accuracy: 0.7085 - f1_score: 0.6195 - loss: 1.0583 - precision: 0.8022 - recall: 0.6079 - val_NLL: 0.9251 - val_accuracy: 0.7001 - val_f1_score: 0.5593 - val_loss: 1.1426 - val_precision: 0.7779 - val_recall: 0.6346\n",
      "\u001b[1m1630/1630\u001b[0m \u001b[32m━━━━━━━━━━━━━━━━━━━━\u001b[0m\u001b[37m\u001b[0m \u001b[1m33s\u001b[0m 20ms/step\n",
      "\u001b[1m124/124\u001b[0m \u001b[32m━━━━━━━━━━━━━━━━━━━━\u001b[0m\u001b[37m\u001b[0m \u001b[1m2s\u001b[0m 15ms/step\n",
      "NLL: 0.89\n",
      "Validation accuracy: 0.70\n",
      "Validation F1Score: 0.55\n",
      "evaluating Fold 11\n",
      "Setting seed to 786191\n",
      "Epoch 1/20\n",
      "825/825 - 55s - 67ms/step - NLL: 1.5969 - accuracy: 0.5040 - f1_score: 0.2765 - loss: 1.8427 - precision: 0.6705 - recall: 0.2879 - val_NLL: 1.2215 - val_accuracy: 0.5821 - val_f1_score: 0.3708 - val_loss: 1.4397 - val_precision: 0.7144 - val_recall: 0.3893\n",
      "Epoch 2/20\n",
      "825/825 - 31s - 37ms/step - NLL: 1.2408 - accuracy: 0.5962 - f1_score: 0.4423 - loss: 1.4371 - precision: 0.7355 - recall: 0.4296 - val_NLL: 1.0501 - val_accuracy: 0.6441 - val_f1_score: 0.4822 - val_loss: 1.2429 - val_precision: 0.7898 - val_recall: 0.4939\n",
      "Epoch 3/20\n",
      "825/825 - 32s - 39ms/step - NLL: 1.1273 - accuracy: 0.6289 - f1_score: 0.4931 - loss: 1.3226 - precision: 0.7577 - recall: 0.4827 - val_NLL: 0.9975 - val_accuracy: 0.6587 - val_f1_score: 0.4931 - val_loss: 1.1902 - val_precision: 0.7966 - val_recall: 0.5368\n",
      "Epoch 4/20\n",
      "825/825 - 34s - 41ms/step - NLL: 1.0611 - accuracy: 0.6456 - f1_score: 0.5191 - loss: 1.2586 - precision: 0.7680 - recall: 0.5126 - val_NLL: 0.9832 - val_accuracy: 0.6584 - val_f1_score: 0.5073 - val_loss: 1.1784 - val_precision: 0.8052 - val_recall: 0.5434\n",
      "Epoch 5/20\n",
      "825/825 - 54s - 66ms/step - NLL: 1.0216 - accuracy: 0.6596 - f1_score: 0.5396 - loss: 1.2204 - precision: 0.7735 - recall: 0.5296 - val_NLL: 0.9861 - val_accuracy: 0.6554 - val_f1_score: 0.4870 - val_loss: 1.1822 - val_precision: 0.7843 - val_recall: 0.5484\n",
      "Epoch 6/20\n",
      "825/825 - 45s - 55ms/step - NLL: 0.9908 - accuracy: 0.6672 - f1_score: 0.5528 - loss: 1.1909 - precision: 0.7807 - recall: 0.5438 - val_NLL: 0.9717 - val_accuracy: 0.6578 - val_f1_score: 0.4969 - val_loss: 1.1682 - val_precision: 0.7925 - val_recall: 0.5580\n",
      "Epoch 7/20\n",
      "825/825 - 84s - 102ms/step - NLL: 0.9669 - accuracy: 0.6741 - f1_score: 0.5632 - loss: 1.1693 - precision: 0.7834 - recall: 0.5546 - val_NLL: 0.9476 - val_accuracy: 0.6653 - val_f1_score: 0.5090 - val_loss: 1.1456 - val_precision: 0.8007 - val_recall: 0.5604\n",
      "Epoch 8/20\n",
      "825/825 - 46s - 56ms/step - NLL: 0.9447 - accuracy: 0.6811 - f1_score: 0.5746 - loss: 1.1488 - precision: 0.7888 - recall: 0.5651 - val_NLL: 0.9190 - val_accuracy: 0.6757 - val_f1_score: 0.5431 - val_loss: 1.1197 - val_precision: 0.7905 - val_recall: 0.5872\n",
      "Epoch 9/20\n",
      "825/825 - 48s - 58ms/step - NLL: 0.9278 - accuracy: 0.6842 - f1_score: 0.5781 - loss: 1.1337 - precision: 0.7898 - recall: 0.5727 - val_NLL: 0.9224 - val_accuracy: 0.6763 - val_f1_score: 0.5533 - val_loss: 1.1237 - val_precision: 0.7952 - val_recall: 0.5797\n",
      "Epoch 10/20\n",
      "825/825 - 45s - 54ms/step - NLL: 0.9091 - accuracy: 0.6910 - f1_score: 0.5880 - loss: 1.1166 - precision: 0.7946 - recall: 0.5816 - val_NLL: 0.9320 - val_accuracy: 0.6677 - val_f1_score: 0.5397 - val_loss: 1.1364 - val_precision: 0.8011 - val_recall: 0.5678\n",
      "Epoch 11/20\n",
      "825/825 - 45s - 54ms/step - NLL: 0.8997 - accuracy: 0.6935 - f1_score: 0.5925 - loss: 1.1089 - precision: 0.7955 - recall: 0.5866 - val_NLL: 0.9301 - val_accuracy: 0.6665 - val_f1_score: 0.5375 - val_loss: 1.1331 - val_precision: 0.7921 - val_recall: 0.5714\n",
      "Epoch 12/20\n",
      "825/825 - 45s - 55ms/step - NLL: 0.8969 - accuracy: 0.6948 - f1_score: 0.5956 - loss: 1.1061 - precision: 0.7938 - recall: 0.5861 - val_NLL: 0.9307 - val_accuracy: 0.6700 - val_f1_score: 0.5365 - val_loss: 1.1343 - val_precision: 0.7895 - val_recall: 0.5848\n",
      "Epoch 13/20\n",
      "825/825 - 44s - 54ms/step - NLL: 0.8831 - accuracy: 0.6981 - f1_score: 0.6020 - loss: 1.0935 - precision: 0.7966 - recall: 0.5945 - val_NLL: 0.9258 - val_accuracy: 0.6659 - val_f1_score: 0.5377 - val_loss: 1.1308 - val_precision: 0.7940 - val_recall: 0.5687\n",
      "Epoch 14/20\n",
      "825/825 - 45s - 55ms/step - NLL: 0.8759 - accuracy: 0.7002 - f1_score: 0.6043 - loss: 1.0861 - precision: 0.7985 - recall: 0.5968 - val_NLL: 0.9300 - val_accuracy: 0.6760 - val_f1_score: 0.5606 - val_loss: 1.1338 - val_precision: 0.8028 - val_recall: 0.5836\n",
      "Epoch 15/20\n",
      "825/825 - 44s - 54ms/step - NLL: 0.8649 - accuracy: 0.7030 - f1_score: 0.6078 - loss: 1.0763 - precision: 0.7983 - recall: 0.6010 - val_NLL: 0.9105 - val_accuracy: 0.6820 - val_f1_score: 0.5495 - val_loss: 1.1166 - val_precision: 0.8001 - val_recall: 0.6036\n",
      "Epoch 16/20\n",
      "825/825 - 45s - 54ms/step - NLL: 0.8571 - accuracy: 0.7064 - f1_score: 0.6124 - loss: 1.0695 - precision: 0.8023 - recall: 0.6051 - val_NLL: 0.9322 - val_accuracy: 0.6796 - val_f1_score: 0.5600 - val_loss: 1.1396 - val_precision: 0.7918 - val_recall: 0.5839\n",
      "Epoch 17/20\n",
      "825/825 - 46s - 55ms/step - NLL: 0.8523 - accuracy: 0.7068 - f1_score: 0.6132 - loss: 1.0664 - precision: 0.8027 - recall: 0.6067 - val_NLL: 0.9422 - val_accuracy: 0.6689 - val_f1_score: 0.5514 - val_loss: 1.1492 - val_precision: 0.7926 - val_recall: 0.5833\n",
      "Epoch 18/20\n",
      "825/825 - 35s - 43ms/step - NLL: 0.8504 - accuracy: 0.7080 - f1_score: 0.6156 - loss: 1.0641 - precision: 0.8001 - recall: 0.6067 - val_NLL: 0.9084 - val_accuracy: 0.6826 - val_f1_score: 0.5534 - val_loss: 1.1162 - val_precision: 0.7896 - val_recall: 0.6119\n",
      "Epoch 19/20\n",
      "825/825 - 46s - 56ms/step - NLL: 0.8398 - accuracy: 0.7113 - f1_score: 0.6196 - loss: 1.0540 - precision: 0.8039 - recall: 0.6132 - val_NLL: 0.9112 - val_accuracy: 0.6718 - val_f1_score: 0.5570 - val_loss: 1.1207 - val_precision: 0.7925 - val_recall: 0.5896\n",
      "Epoch 20/20\n",
      "825/825 - 44s - 54ms/step - NLL: 0.8330 - accuracy: 0.7099 - f1_score: 0.6198 - loss: 1.0486 - precision: 0.8023 - recall: 0.6134 - val_NLL: 0.9112 - val_accuracy: 0.6674 - val_f1_score: 0.5598 - val_loss: 1.1208 - val_precision: 0.7818 - val_recall: 0.5809\n",
      "\u001b[1m1649/1649\u001b[0m \u001b[32m━━━━━━━━━━━━━━━━━━━━\u001b[0m\u001b[37m\u001b[0m \u001b[1m35s\u001b[0m 21ms/step\n",
      "\u001b[1m105/105\u001b[0m \u001b[32m━━━━━━━━━━━━━━━━━━━━\u001b[0m\u001b[37m\u001b[0m \u001b[1m2s\u001b[0m 21ms/step\n",
      "NLL: 0.91\n",
      "Validation accuracy: 0.68\n",
      "Validation F1Score: 0.55\n",
      "evaluating Fold 12\n",
      "Setting seed to 3907426\n",
      "Epoch 1/20\n",
      "827/827 - 60s - 72ms/step - NLL: 1.5741 - accuracy: 0.5128 - f1_score: 0.2810 - loss: 1.8179 - precision: 0.6710 - recall: 0.3015 - val_NLL: 1.5484 - val_accuracy: 0.4961 - val_f1_score: 0.2352 - val_loss: 1.7470 - val_precision: 0.6872 - val_recall: 0.2830\n",
      "Epoch 2/20\n",
      "827/827 - 46s - 56ms/step - NLL: 1.2223 - accuracy: 0.6028 - f1_score: 0.4418 - loss: 1.4153 - precision: 0.7396 - recall: 0.4391 - val_NLL: 1.4738 - val_accuracy: 0.5183 - val_f1_score: 0.2909 - val_loss: 1.6675 - val_precision: 0.6496 - val_recall: 0.3334\n",
      "Epoch 3/20\n",
      "827/827 - 44s - 54ms/step - NLL: 1.1062 - accuracy: 0.6340 - f1_score: 0.4941 - loss: 1.2981 - precision: 0.7610 - recall: 0.4907 - val_NLL: 1.4555 - val_accuracy: 0.5324 - val_f1_score: 0.3062 - val_loss: 1.6539 - val_precision: 0.6527 - val_recall: 0.3911\n",
      "Epoch 4/20\n",
      "827/827 - 83s - 101ms/step - NLL: 1.0479 - accuracy: 0.6519 - f1_score: 0.5241 - loss: 1.2404 - precision: 0.7727 - recall: 0.5197 - val_NLL: 1.4253 - val_accuracy: 0.5443 - val_f1_score: 0.3301 - val_loss: 1.6229 - val_precision: 0.6613 - val_recall: 0.3971\n",
      "Epoch 5/20\n",
      "827/827 - 44s - 53ms/step - NLL: 1.0075 - accuracy: 0.6614 - f1_score: 0.5387 - loss: 1.2001 - precision: 0.7802 - recall: 0.5381 - val_NLL: 1.4144 - val_accuracy: 0.5453 - val_f1_score: 0.3307 - val_loss: 1.6130 - val_precision: 0.6544 - val_recall: 0.4177\n",
      "Epoch 6/20\n",
      "827/827 - 46s - 55ms/step - NLL: 0.9752 - accuracy: 0.6684 - f1_score: 0.5496 - loss: 1.1686 - precision: 0.7831 - recall: 0.5514 - val_NLL: 1.4207 - val_accuracy: 0.5519 - val_f1_score: 0.3409 - val_loss: 1.6213 - val_precision: 0.6408 - val_recall: 0.4350\n",
      "Epoch 7/20\n",
      "827/827 - 36s - 43ms/step - NLL: 0.9526 - accuracy: 0.6757 - f1_score: 0.5621 - loss: 1.1469 - precision: 0.7859 - recall: 0.5609 - val_NLL: 1.4231 - val_accuracy: 0.5428 - val_f1_score: 0.3241 - val_loss: 1.6227 - val_precision: 0.6353 - val_recall: 0.4318\n",
      "Epoch 8/20\n",
      "827/827 - 31s - 37ms/step - NLL: 0.9341 - accuracy: 0.6818 - f1_score: 0.5711 - loss: 1.1291 - precision: 0.7899 - recall: 0.5677 - val_NLL: 1.4465 - val_accuracy: 0.5387 - val_f1_score: 0.3240 - val_loss: 1.6484 - val_precision: 0.6388 - val_recall: 0.4356\n",
      "Epoch 9/20\n",
      "827/827 - 31s - 37ms/step - NLL: 0.9140 - accuracy: 0.6868 - f1_score: 0.5810 - loss: 1.1092 - precision: 0.7927 - recall: 0.5775 - val_NLL: 1.4096 - val_accuracy: 0.5516 - val_f1_score: 0.3486 - val_loss: 1.6113 - val_precision: 0.6336 - val_recall: 0.4384\n",
      "Epoch 10/20\n",
      "827/827 - 35s - 43ms/step - NLL: 0.9050 - accuracy: 0.6899 - f1_score: 0.5861 - loss: 1.1020 - precision: 0.7940 - recall: 0.5807 - val_NLL: 1.4462 - val_accuracy: 0.5503 - val_f1_score: 0.3495 - val_loss: 1.6522 - val_precision: 0.6441 - val_recall: 0.4463\n",
      "Epoch 11/20\n",
      "827/827 - 39s - 48ms/step - NLL: 0.8928 - accuracy: 0.6944 - f1_score: 0.5918 - loss: 1.0906 - precision: 0.7962 - recall: 0.5869 - val_NLL: 1.5291 - val_accuracy: 0.5293 - val_f1_score: 0.3279 - val_loss: 1.7347 - val_precision: 0.6172 - val_recall: 0.4209\n",
      "Epoch 12/20\n",
      "827/827 - 44s - 53ms/step - NLL: 0.8806 - accuracy: 0.6965 - f1_score: 0.5950 - loss: 1.0788 - precision: 0.7992 - recall: 0.5930 - val_NLL: 1.4826 - val_accuracy: 0.5440 - val_f1_score: 0.3418 - val_loss: 1.6890 - val_precision: 0.6457 - val_recall: 0.4334\n",
      "Epoch 13/20\n",
      "827/827 - 44s - 53ms/step - NLL: 0.8736 - accuracy: 0.6986 - f1_score: 0.5976 - loss: 1.0734 - precision: 0.7993 - recall: 0.5949 - val_NLL: 1.4451 - val_accuracy: 0.5478 - val_f1_score: 0.3553 - val_loss: 1.6509 - val_precision: 0.6369 - val_recall: 0.4607\n",
      "Epoch 14/20\n",
      "827/827 - 43s - 53ms/step - NLL: 0.8651 - accuracy: 0.7022 - f1_score: 0.6043 - loss: 1.0660 - precision: 0.8020 - recall: 0.5987 - val_NLL: 1.4617 - val_accuracy: 0.5497 - val_f1_score: 0.3557 - val_loss: 1.6700 - val_precision: 0.6447 - val_recall: 0.4390\n",
      "Epoch 15/20\n",
      "827/827 - 44s - 53ms/step - NLL: 0.8585 - accuracy: 0.7036 - f1_score: 0.6073 - loss: 1.0605 - precision: 0.8009 - recall: 0.6019 - val_NLL: 1.4861 - val_accuracy: 0.5494 - val_f1_score: 0.3538 - val_loss: 1.6959 - val_precision: 0.6306 - val_recall: 0.4553\n",
      "Epoch 16/20\n",
      "827/827 - 43s - 53ms/step - NLL: 0.8478 - accuracy: 0.7071 - f1_score: 0.6135 - loss: 1.0506 - precision: 0.8030 - recall: 0.6060 - val_NLL: 1.4842 - val_accuracy: 0.5472 - val_f1_score: 0.3421 - val_loss: 1.6946 - val_precision: 0.6309 - val_recall: 0.4613\n",
      "Epoch 17/20\n",
      "827/827 - 44s - 53ms/step - NLL: 0.8429 - accuracy: 0.7084 - f1_score: 0.6152 - loss: 1.0465 - precision: 0.8043 - recall: 0.6107 - val_NLL: 1.4434 - val_accuracy: 0.5465 - val_f1_score: 0.3599 - val_loss: 1.6541 - val_precision: 0.6501 - val_recall: 0.4500\n",
      "Epoch 18/20\n",
      "827/827 - 44s - 53ms/step - NLL: 0.8389 - accuracy: 0.7092 - f1_score: 0.6172 - loss: 1.0434 - precision: 0.8035 - recall: 0.6111 - val_NLL: 1.4849 - val_accuracy: 0.5393 - val_f1_score: 0.3445 - val_loss: 1.6980 - val_precision: 0.6348 - val_recall: 0.4456\n",
      "Epoch 19/20\n",
      "827/827 - 82s - 99ms/step - NLL: 0.8263 - accuracy: 0.7133 - f1_score: 0.6236 - loss: 1.0319 - precision: 0.8073 - recall: 0.6173 - val_NLL: 1.5111 - val_accuracy: 0.5494 - val_f1_score: 0.3621 - val_loss: 1.7233 - val_precision: 0.6337 - val_recall: 0.4626\n",
      "\u001b[1m1654/1654\u001b[0m \u001b[32m━━━━━━━━━━━━━━━━━━━━\u001b[0m\u001b[37m\u001b[0m \u001b[1m34s\u001b[0m 20ms/step\n",
      "\u001b[1m100/100\u001b[0m \u001b[32m━━━━━━━━━━━━━━━━━━━━\u001b[0m\u001b[37m\u001b[0m \u001b[1m2s\u001b[0m 20ms/step\n",
      "NLL: 1.41\n",
      "Validation accuracy: 0.55\n",
      "Validation F1Score: 0.35\n",
      "evaluating Fold 13\n",
      "Setting seed to 9741265\n",
      "Epoch 1/20\n",
      "842/842 - 58s - 69ms/step - NLL: 1.5904 - accuracy: 0.5057 - f1_score: 0.2742 - loss: 1.8242 - precision: 0.6645 - recall: 0.2898 - val_NLL: 1.5429 - val_accuracy: 0.5492 - val_f1_score: 0.3505 - val_loss: 1.7302 - val_precision: 0.7127 - val_recall: 0.3746\n",
      "Epoch 2/20\n",
      "842/842 - 45s - 53ms/step - NLL: 1.2431 - accuracy: 0.5924 - f1_score: 0.4330 - loss: 1.4347 - precision: 0.7311 - recall: 0.4265 - val_NLL: 1.3863 - val_accuracy: 0.5886 - val_f1_score: 0.4036 - val_loss: 1.5696 - val_precision: 0.7395 - val_recall: 0.4372\n",
      "Epoch 3/20\n",
      "842/842 - 44s - 52ms/step - NLL: 1.1180 - accuracy: 0.6292 - f1_score: 0.4896 - loss: 1.3093 - precision: 0.7538 - recall: 0.4816 - val_NLL: 1.4183 - val_accuracy: 0.5882 - val_f1_score: 0.4083 - val_loss: 1.6033 - val_precision: 0.7312 - val_recall: 0.4464\n",
      "Epoch 4/20\n",
      "842/842 - 44s - 52ms/step - NLL: 1.0529 - accuracy: 0.6468 - f1_score: 0.5183 - loss: 1.2464 - precision: 0.7668 - recall: 0.5105 - val_NLL: 1.3592 - val_accuracy: 0.6039 - val_f1_score: 0.4334 - val_loss: 1.5453 - val_precision: 0.7286 - val_recall: 0.4888\n",
      "Epoch 5/20\n",
      "842/842 - 45s - 53ms/step - NLL: 1.0132 - accuracy: 0.6582 - f1_score: 0.5368 - loss: 1.2071 - precision: 0.7741 - recall: 0.5283 - val_NLL: 1.4103 - val_accuracy: 0.5912 - val_f1_score: 0.4182 - val_loss: 1.5981 - val_precision: 0.7117 - val_recall: 0.4818\n",
      "Epoch 6/20\n",
      "842/842 - 45s - 53ms/step - NLL: 0.9808 - accuracy: 0.6665 - f1_score: 0.5501 - loss: 1.1747 - precision: 0.7792 - recall: 0.5450 - val_NLL: 1.3185 - val_accuracy: 0.6166 - val_f1_score: 0.4425 - val_loss: 1.5069 - val_precision: 0.7394 - val_recall: 0.5028\n",
      "Epoch 7/20\n",
      "842/842 - 46s - 55ms/step - NLL: 0.9588 - accuracy: 0.6737 - f1_score: 0.5624 - loss: 1.1527 - precision: 0.7853 - recall: 0.5552 - val_NLL: 1.4024 - val_accuracy: 0.6018 - val_f1_score: 0.4235 - val_loss: 1.5904 - val_precision: 0.7059 - val_recall: 0.4832\n",
      "Epoch 8/20\n",
      "842/842 - 44s - 53ms/step - NLL: 0.9402 - accuracy: 0.6800 - f1_score: 0.5707 - loss: 1.1349 - precision: 0.7887 - recall: 0.5642 - val_NLL: 1.3250 - val_accuracy: 0.6267 - val_f1_score: 0.4447 - val_loss: 1.5146 - val_precision: 0.7346 - val_recall: 0.5282\n",
      "Epoch 9/20\n",
      "842/842 - 44s - 53ms/step - NLL: 0.9265 - accuracy: 0.6817 - f1_score: 0.5754 - loss: 1.1222 - precision: 0.7892 - recall: 0.5682 - val_NLL: 1.4462 - val_accuracy: 0.6053 - val_f1_score: 0.4382 - val_loss: 1.6357 - val_precision: 0.7237 - val_recall: 0.4998\n",
      "Epoch 10/20\n",
      "842/842 - 44s - 52ms/step - NLL: 0.9162 - accuracy: 0.6854 - f1_score: 0.5798 - loss: 1.1131 - precision: 0.7935 - recall: 0.5756 - val_NLL: 1.3773 - val_accuracy: 0.6206 - val_f1_score: 0.4475 - val_loss: 1.5690 - val_precision: 0.7218 - val_recall: 0.5313\n",
      "Epoch 11/20\n",
      "842/842 - 45s - 53ms/step - NLL: 0.8981 - accuracy: 0.6899 - f1_score: 0.5871 - loss: 1.0951 - precision: 0.7953 - recall: 0.5829 - val_NLL: 1.4000 - val_accuracy: 0.6175 - val_f1_score: 0.4425 - val_loss: 1.5947 - val_precision: 0.7307 - val_recall: 0.5212\n",
      "Epoch 12/20\n",
      "842/842 - 44s - 52ms/step - NLL: 0.8865 - accuracy: 0.6936 - f1_score: 0.5922 - loss: 1.0854 - precision: 0.7972 - recall: 0.5874 - val_NLL: 1.4541 - val_accuracy: 0.6127 - val_f1_score: 0.4377 - val_loss: 1.6485 - val_precision: 0.7254 - val_recall: 0.5155\n",
      "Epoch 13/20\n",
      "842/842 - 44s - 52ms/step - NLL: 0.8762 - accuracy: 0.6985 - f1_score: 0.6000 - loss: 1.0769 - precision: 0.7977 - recall: 0.5919 - val_NLL: 1.4703 - val_accuracy: 0.6118 - val_f1_score: 0.4346 - val_loss: 1.6660 - val_precision: 0.7139 - val_recall: 0.5274\n",
      "Epoch 14/20\n",
      "842/842 - 45s - 53ms/step - NLL: 0.8700 - accuracy: 0.6994 - f1_score: 0.6014 - loss: 1.0716 - precision: 0.7992 - recall: 0.5966 - val_NLL: 1.3878 - val_accuracy: 0.6197 - val_f1_score: 0.4564 - val_loss: 1.5842 - val_precision: 0.7433 - val_recall: 0.5234\n",
      "Epoch 15/20\n",
      "842/842 - 44s - 53ms/step - NLL: 0.8617 - accuracy: 0.7007 - f1_score: 0.6023 - loss: 1.0643 - precision: 0.8000 - recall: 0.5998 - val_NLL: 1.3101 - val_accuracy: 0.6363 - val_f1_score: 0.4752 - val_loss: 1.5076 - val_precision: 0.7419 - val_recall: 0.5322\n",
      "Epoch 16/20\n",
      "842/842 - 45s - 54ms/step - NLL: 0.8559 - accuracy: 0.7023 - f1_score: 0.6057 - loss: 1.0587 - precision: 0.7999 - recall: 0.6020 - val_NLL: 1.4195 - val_accuracy: 0.6210 - val_f1_score: 0.4588 - val_loss: 1.6181 - val_precision: 0.7288 - val_recall: 0.5339\n",
      "Epoch 17/20\n",
      "842/842 - 44s - 52ms/step - NLL: 0.8477 - accuracy: 0.7064 - f1_score: 0.6116 - loss: 1.0515 - precision: 0.8034 - recall: 0.6060 - val_NLL: 1.4366 - val_accuracy: 0.6193 - val_f1_score: 0.4546 - val_loss: 1.6368 - val_precision: 0.7364 - val_recall: 0.5317\n",
      "Epoch 18/20\n",
      "842/842 - 45s - 54ms/step - NLL: 0.8440 - accuracy: 0.7072 - f1_score: 0.6131 - loss: 1.0491 - precision: 0.8039 - recall: 0.6093 - val_NLL: 1.4086 - val_accuracy: 0.6289 - val_f1_score: 0.4626 - val_loss: 1.6076 - val_precision: 0.7241 - val_recall: 0.5409\n",
      "Epoch 19/20\n",
      "842/842 - 45s - 53ms/step - NLL: 0.8377 - accuracy: 0.7102 - f1_score: 0.6168 - loss: 1.0432 - precision: 0.8043 - recall: 0.6084 - val_NLL: 1.3779 - val_accuracy: 0.6302 - val_f1_score: 0.4628 - val_loss: 1.5790 - val_precision: 0.7210 - val_recall: 0.5418\n",
      "Epoch 20/20\n",
      "842/842 - 41s - 49ms/step - NLL: 0.8348 - accuracy: 0.7104 - f1_score: 0.6182 - loss: 1.0407 - precision: 0.8049 - recall: 0.6113 - val_NLL: 1.4448 - val_accuracy: 0.6166 - val_f1_score: 0.4545 - val_loss: 1.6459 - val_precision: 0.7257 - val_recall: 0.5199\n",
      "\u001b[1m1683/1683\u001b[0m \u001b[32m━━━━━━━━━━━━━━━━━━━━\u001b[0m\u001b[37m\u001b[0m \u001b[1m25s\u001b[0m 14ms/step\n",
      "\u001b[1m72/72\u001b[0m \u001b[32m━━━━━━━━━━━━━━━━━━━━\u001b[0m\u001b[37m\u001b[0m \u001b[1m1s\u001b[0m 14ms/step\n",
      "NLL: 1.31\n",
      "Validation accuracy: 0.64\n",
      "Validation F1Score: 0.48\n",
      "evaluating Fold 14\n",
      "Setting seed to 20465670\n",
      "Epoch 1/20\n",
      "845/845 - 65s - 77ms/step - NLL: 1.5844 - accuracy: 0.5073 - f1_score: 0.2723 - loss: 1.8298 - precision: 0.6710 - recall: 0.2926 - val_NLL: 1.3649 - val_accuracy: 0.5553 - val_f1_score: 0.3123 - val_loss: 1.5625 - val_precision: 0.7454 - val_recall: 0.3351\n",
      "Epoch 2/20\n",
      "845/845 - 66s - 78ms/step - NLL: 1.2457 - accuracy: 0.5956 - f1_score: 0.4286 - loss: 1.4407 - precision: 0.7346 - recall: 0.4283 - val_NLL: 1.2399 - val_accuracy: 0.6128 - val_f1_score: 0.4054 - val_loss: 1.4266 - val_precision: 0.7938 - val_recall: 0.4162\n",
      "Epoch 3/20\n",
      "845/845 - 50s - 59ms/step - NLL: 1.1309 - accuracy: 0.6270 - f1_score: 0.4839 - loss: 1.3238 - precision: 0.7547 - recall: 0.4795 - val_NLL: 1.1521 - val_accuracy: 0.6378 - val_f1_score: 0.4529 - val_loss: 1.3407 - val_precision: 0.7887 - val_recall: 0.4732\n",
      "Epoch 4/20\n",
      "845/845 - 51s - 60ms/step - NLL: 1.0658 - accuracy: 0.6451 - f1_score: 0.5112 - loss: 1.2608 - precision: 0.7683 - recall: 0.5092 - val_NLL: 1.1157 - val_accuracy: 0.6403 - val_f1_score: 0.4523 - val_loss: 1.3063 - val_precision: 0.7823 - val_recall: 0.4998\n",
      "Epoch 5/20\n",
      "845/845 - 52s - 61ms/step - NLL: 1.0231 - accuracy: 0.6561 - f1_score: 0.5318 - loss: 1.2191 - precision: 0.7728 - recall: 0.5292 - val_NLL: 1.0769 - val_accuracy: 0.6590 - val_f1_score: 0.4612 - val_loss: 1.2673 - val_precision: 0.7862 - val_recall: 0.5366\n",
      "Epoch 6/20\n",
      "845/845 - 51s - 60ms/step - NLL: 0.9894 - accuracy: 0.6644 - f1_score: 0.5433 - loss: 1.1861 - precision: 0.7806 - recall: 0.5431 - val_NLL: 1.0551 - val_accuracy: 0.6634 - val_f1_score: 0.4780 - val_loss: 1.2475 - val_precision: 0.8046 - val_recall: 0.5342\n",
      "Epoch 7/20\n",
      "845/845 - 83s - 98ms/step - NLL: 0.9664 - accuracy: 0.6709 - f1_score: 0.5567 - loss: 1.1643 - precision: 0.7827 - recall: 0.5522 - val_NLL: 1.0308 - val_accuracy: 0.6536 - val_f1_score: 0.4614 - val_loss: 1.2252 - val_precision: 0.7844 - val_recall: 0.5381\n",
      "Epoch 8/20\n",
      "845/845 - 50s - 59ms/step - NLL: 0.9492 - accuracy: 0.6753 - f1_score: 0.5628 - loss: 1.1481 - precision: 0.7870 - recall: 0.5591 - val_NLL: 1.0465 - val_accuracy: 0.6614 - val_f1_score: 0.4660 - val_loss: 1.2412 - val_precision: 0.8013 - val_recall: 0.5509\n",
      "Epoch 9/20\n",
      "845/845 - 50s - 59ms/step - NLL: 0.9360 - accuracy: 0.6793 - f1_score: 0.5688 - loss: 1.1351 - precision: 0.7893 - recall: 0.5646 - val_NLL: 1.0460 - val_accuracy: 0.6590 - val_f1_score: 0.4690 - val_loss: 1.2401 - val_precision: 0.7935 - val_recall: 0.5440\n",
      "Epoch 10/20\n",
      "845/845 - 50s - 59ms/step - NLL: 0.9181 - accuracy: 0.6852 - f1_score: 0.5803 - loss: 1.1186 - precision: 0.7922 - recall: 0.5756 - val_NLL: 1.0257 - val_accuracy: 0.6678 - val_f1_score: 0.4814 - val_loss: 1.2216 - val_precision: 0.7992 - val_recall: 0.5553\n",
      "Epoch 11/20\n",
      "845/845 - 81s - 96ms/step - NLL: 0.9091 - accuracy: 0.6862 - f1_score: 0.5804 - loss: 1.1103 - precision: 0.7940 - recall: 0.5787 - val_NLL: 1.0234 - val_accuracy: 0.6683 - val_f1_score: 0.4692 - val_loss: 1.2208 - val_precision: 0.7866 - val_recall: 0.5523\n",
      "Epoch 12/20\n",
      "845/845 - 50s - 59ms/step - NLL: 0.8995 - accuracy: 0.6907 - f1_score: 0.5895 - loss: 1.1016 - precision: 0.7949 - recall: 0.5813 - val_NLL: 1.0312 - val_accuracy: 0.6722 - val_f1_score: 0.4644 - val_loss: 1.2288 - val_precision: 0.8062 - val_recall: 0.5602\n",
      "Epoch 13/20\n",
      "845/845 - 47s - 56ms/step - NLL: 0.8874 - accuracy: 0.6944 - f1_score: 0.5943 - loss: 1.0901 - precision: 0.7958 - recall: 0.5870 - val_NLL: 1.0224 - val_accuracy: 0.6673 - val_f1_score: 0.4723 - val_loss: 1.2201 - val_precision: 0.7829 - val_recall: 0.5617\n",
      "Epoch 14/20\n",
      "845/845 - 48s - 56ms/step - NLL: 0.8813 - accuracy: 0.6945 - f1_score: 0.5957 - loss: 1.0845 - precision: 0.7974 - recall: 0.5906 - val_NLL: 1.0100 - val_accuracy: 0.6781 - val_f1_score: 0.4989 - val_loss: 1.2095 - val_precision: 0.8023 - val_recall: 0.5725\n",
      "Epoch 15/20\n",
      "845/845 - 47s - 55ms/step - NLL: 0.8743 - accuracy: 0.6962 - f1_score: 0.5983 - loss: 1.0785 - precision: 0.7985 - recall: 0.5942 - val_NLL: 1.0271 - val_accuracy: 0.6649 - val_f1_score: 0.4843 - val_loss: 1.2265 - val_precision: 0.7996 - val_recall: 0.5391\n",
      "Epoch 16/20\n",
      "845/845 - 48s - 56ms/step - NLL: 0.8635 - accuracy: 0.7019 - f1_score: 0.6065 - loss: 1.0683 - precision: 0.8032 - recall: 0.5973 - val_NLL: 0.9836 - val_accuracy: 0.6816 - val_f1_score: 0.4875 - val_loss: 1.1843 - val_precision: 0.8102 - val_recall: 0.5789\n",
      "Epoch 17/20\n",
      "845/845 - 81s - 96ms/step - NLL: 0.8591 - accuracy: 0.7001 - f1_score: 0.6020 - loss: 1.0647 - precision: 0.8001 - recall: 0.5991 - val_NLL: 0.9881 - val_accuracy: 0.6821 - val_f1_score: 0.5025 - val_loss: 1.1893 - val_precision: 0.8176 - val_recall: 0.5484\n",
      "Epoch 18/20\n",
      "845/845 - 48s - 57ms/step - NLL: 0.8530 - accuracy: 0.7037 - f1_score: 0.6095 - loss: 1.0593 - precision: 0.8004 - recall: 0.6004 - val_NLL: 0.9788 - val_accuracy: 0.6816 - val_f1_score: 0.4733 - val_loss: 1.1803 - val_precision: 0.8012 - val_recall: 0.5921\n",
      "Epoch 19/20\n",
      "845/845 - 47s - 55ms/step - NLL: 0.8446 - accuracy: 0.7069 - f1_score: 0.6143 - loss: 1.0517 - precision: 0.8036 - recall: 0.6054 - val_NLL: 1.0269 - val_accuracy: 0.6619 - val_f1_score: 0.4832 - val_loss: 1.2297 - val_precision: 0.8058 - val_recall: 0.5484\n",
      "Epoch 20/20\n",
      "845/845 - 48s - 56ms/step - NLL: 0.8420 - accuracy: 0.7075 - f1_score: 0.6163 - loss: 1.0507 - precision: 0.8054 - recall: 0.6076 - val_NLL: 1.0322 - val_accuracy: 0.6614 - val_f1_score: 0.4721 - val_loss: 1.2362 - val_precision: 0.7709 - val_recall: 0.5607\n",
      "\u001b[1m1690/1690\u001b[0m \u001b[32m━━━━━━━━━━━━━━━━━━━━\u001b[0m\u001b[37m\u001b[0m \u001b[1m36s\u001b[0m 21ms/step\n",
      "\u001b[1m64/64\u001b[0m \u001b[32m━━━━━━━━━━━━━━━━━━━━\u001b[0m\u001b[37m\u001b[0m \u001b[1m1s\u001b[0m 22ms/step\n",
      "NLL: 0.98\n",
      "Validation accuracy: 0.68\n",
      "Validation F1Score: 0.47\n",
      "evaluating Fold 15\n",
      "Setting seed to 80337754\n",
      "Epoch 1/20\n",
      "845/845 - 61s - 72ms/step - NLL: 1.5941 - accuracy: 0.5090 - f1_score: 0.2654 - loss: 1.8270 - precision: 0.6724 - recall: 0.2981 - val_NLL: 1.4607 - val_accuracy: 0.5165 - val_f1_score: 0.3816 - val_loss: 1.6431 - val_precision: 0.6616 - val_recall: 0.3715\n",
      "Epoch 2/20\n",
      "845/845 - 46s - 54ms/step - NLL: 1.2479 - accuracy: 0.5956 - f1_score: 0.4248 - loss: 1.4370 - precision: 0.7398 - recall: 0.4280 - val_NLL: 1.3032 - val_accuracy: 0.5764 - val_f1_score: 0.4586 - val_loss: 1.4763 - val_precision: 0.6898 - val_recall: 0.4471\n",
      "Epoch 3/20\n",
      "845/845 - 46s - 54ms/step - NLL: 1.1362 - accuracy: 0.6249 - f1_score: 0.4761 - loss: 1.3238 - precision: 0.7562 - recall: 0.4775 - val_NLL: 1.2661 - val_accuracy: 0.5893 - val_f1_score: 0.4770 - val_loss: 1.4415 - val_precision: 0.7050 - val_recall: 0.4840\n",
      "Epoch 4/20\n",
      "845/845 - 47s - 56ms/step - NLL: 1.0760 - accuracy: 0.6425 - f1_score: 0.5057 - loss: 1.2650 - precision: 0.7685 - recall: 0.5044 - val_NLL: 1.2183 - val_accuracy: 0.5950 - val_f1_score: 0.5009 - val_loss: 1.3954 - val_precision: 0.7035 - val_recall: 0.4998\n",
      "Epoch 5/20\n",
      "845/845 - 46s - 54ms/step - NLL: 1.0311 - accuracy: 0.6550 - f1_score: 0.5267 - loss: 1.2219 - precision: 0.7753 - recall: 0.5249 - val_NLL: 1.1774 - val_accuracy: 0.6041 - val_f1_score: 0.5088 - val_loss: 1.3565 - val_precision: 0.7119 - val_recall: 0.5074\n",
      "Epoch 6/20\n",
      "845/845 - 47s - 55ms/step - NLL: 0.9960 - accuracy: 0.6637 - f1_score: 0.5402 - loss: 1.1885 - precision: 0.7823 - recall: 0.5385 - val_NLL: 1.1487 - val_accuracy: 0.6166 - val_f1_score: 0.5260 - val_loss: 1.3309 - val_precision: 0.7316 - val_recall: 0.5376\n",
      "Epoch 7/20\n",
      "845/845 - 45s - 54ms/step - NLL: 0.9700 - accuracy: 0.6720 - f1_score: 0.5517 - loss: 1.1647 - precision: 0.7863 - recall: 0.5534 - val_NLL: 1.1899 - val_accuracy: 0.6199 - val_f1_score: 0.5339 - val_loss: 1.3736 - val_precision: 0.7215 - val_recall: 0.5481\n",
      "Epoch 8/20\n",
      "845/845 - 46s - 54ms/step - NLL: 0.9494 - accuracy: 0.6770 - f1_score: 0.5627 - loss: 1.1459 - precision: 0.7899 - recall: 0.5627 - val_NLL: 1.1576 - val_accuracy: 0.6190 - val_f1_score: 0.5296 - val_loss: 1.3434 - val_precision: 0.7237 - val_recall: 0.5390\n",
      "Epoch 9/20\n",
      "845/845 - 36s - 42ms/step - NLL: 0.9358 - accuracy: 0.6800 - f1_score: 0.5675 - loss: 1.1332 - precision: 0.7897 - recall: 0.5653 - val_NLL: 1.1423 - val_accuracy: 0.6266 - val_f1_score: 0.5441 - val_loss: 1.3286 - val_precision: 0.7305 - val_recall: 0.5347\n",
      "Epoch 10/20\n",
      "845/845 - 31s - 37ms/step - NLL: 0.9195 - accuracy: 0.6849 - f1_score: 0.5741 - loss: 1.1177 - precision: 0.7929 - recall: 0.5728 - val_NLL: 1.2160 - val_accuracy: 0.6213 - val_f1_score: 0.5439 - val_loss: 1.4022 - val_precision: 0.7181 - val_recall: 0.5500\n",
      "Epoch 11/20\n",
      "845/845 - 31s - 37ms/step - NLL: 0.9023 - accuracy: 0.6913 - f1_score: 0.5847 - loss: 1.1018 - precision: 0.7962 - recall: 0.5815 - val_NLL: 1.1495 - val_accuracy: 0.6371 - val_f1_score: 0.5560 - val_loss: 1.3385 - val_precision: 0.7450 - val_recall: 0.5510\n",
      "Epoch 12/20\n",
      "845/845 - 46s - 55ms/step - NLL: 0.8942 - accuracy: 0.6960 - f1_score: 0.5918 - loss: 1.0946 - precision: 0.7986 - recall: 0.5873 - val_NLL: 1.1687 - val_accuracy: 0.6266 - val_f1_score: 0.5453 - val_loss: 1.3574 - val_precision: 0.7263 - val_recall: 0.5539\n",
      "Epoch 13/20\n",
      "845/845 - 46s - 54ms/step - NLL: 0.8852 - accuracy: 0.6963 - f1_score: 0.5933 - loss: 1.0873 - precision: 0.7985 - recall: 0.5891 - val_NLL: 1.1393 - val_accuracy: 0.6276 - val_f1_score: 0.5530 - val_loss: 1.3301 - val_precision: 0.7299 - val_recall: 0.5486\n",
      "Epoch 14/20\n",
      "845/845 - 46s - 55ms/step - NLL: 0.8763 - accuracy: 0.6989 - f1_score: 0.5964 - loss: 1.0789 - precision: 0.7980 - recall: 0.5932 - val_NLL: 1.1513 - val_accuracy: 0.6223 - val_f1_score: 0.5406 - val_loss: 1.3420 - val_precision: 0.7258 - val_recall: 0.5500\n",
      "Epoch 15/20\n",
      "845/845 - 49s - 58ms/step - NLL: 0.8649 - accuracy: 0.7012 - f1_score: 0.6012 - loss: 1.0683 - precision: 0.8008 - recall: 0.5971 - val_NLL: 1.1754 - val_accuracy: 0.6213 - val_f1_score: 0.5338 - val_loss: 1.3671 - val_precision: 0.7131 - val_recall: 0.5486\n",
      "Epoch 16/20\n",
      "845/845 - 45s - 53ms/step - NLL: 0.8589 - accuracy: 0.7019 - f1_score: 0.6024 - loss: 1.0629 - precision: 0.8006 - recall: 0.6000 - val_NLL: 1.1458 - val_accuracy: 0.6266 - val_f1_score: 0.5541 - val_loss: 1.3385 - val_precision: 0.7250 - val_recall: 0.5577\n",
      "Epoch 17/20\n",
      "845/845 - 46s - 54ms/step - NLL: 0.8526 - accuracy: 0.7056 - f1_score: 0.6091 - loss: 1.0573 - precision: 0.8027 - recall: 0.6048 - val_NLL: 1.1398 - val_accuracy: 0.6319 - val_f1_score: 0.5608 - val_loss: 1.3329 - val_precision: 0.7334 - val_recall: 0.5596\n",
      "Epoch 18/20\n",
      "845/845 - 78s - 92ms/step - NLL: 0.8447 - accuracy: 0.7073 - f1_score: 0.6118 - loss: 1.0502 - precision: 0.8024 - recall: 0.6073 - val_NLL: 1.1922 - val_accuracy: 0.6281 - val_f1_score: 0.5427 - val_loss: 1.3855 - val_precision: 0.7054 - val_recall: 0.5639\n",
      "Epoch 19/20\n",
      "845/845 - 38s - 45ms/step - NLL: 0.8417 - accuracy: 0.7079 - f1_score: 0.6125 - loss: 1.0488 - precision: 0.8036 - recall: 0.6078 - val_NLL: 1.1425 - val_accuracy: 0.6281 - val_f1_score: 0.5512 - val_loss: 1.3381 - val_precision: 0.7293 - val_recall: 0.5610\n",
      "Epoch 20/20\n",
      "845/845 - 47s - 55ms/step - NLL: 0.8360 - accuracy: 0.7109 - f1_score: 0.6179 - loss: 1.0436 - precision: 0.8063 - recall: 0.6111 - val_NLL: 1.2525 - val_accuracy: 0.6065 - val_f1_score: 0.5191 - val_loss: 1.4463 - val_precision: 0.6989 - val_recall: 0.5357\n",
      "\u001b[1m1689/1689\u001b[0m \u001b[32m━━━━━━━━━━━━━━━━━━━━\u001b[0m\u001b[37m\u001b[0m \u001b[1m35s\u001b[0m 20ms/step\n",
      "\u001b[1m66/66\u001b[0m \u001b[32m━━━━━━━━━━━━━━━━━━━━\u001b[0m\u001b[37m\u001b[0m \u001b[1m1s\u001b[0m 21ms/step\n",
      "NLL: 1.14\n",
      "Validation accuracy: 0.63\n",
      "Validation F1Score: 0.55\n",
      "evaluating Fold 16\n",
      "Setting seed to 123456789\n",
      "Epoch 1/20\n",
      "849/849 - 60s - 70ms/step - NLL: 1.5667 - accuracy: 0.5161 - f1_score: 0.2826 - loss: 1.8092 - precision: 0.6746 - recall: 0.3058 - val_NLL: 1.3235 - val_accuracy: 0.5671 - val_f1_score: 0.4435 - val_loss: 1.5054 - val_precision: 0.6914 - val_recall: 0.4070\n",
      "Epoch 2/20\n",
      "849/849 - 46s - 54ms/step - NLL: 1.2250 - accuracy: 0.6017 - f1_score: 0.4371 - loss: 1.4159 - precision: 0.7395 - recall: 0.4416 - val_NLL: 1.2364 - val_accuracy: 0.5842 - val_f1_score: 0.4860 - val_loss: 1.4105 - val_precision: 0.7054 - val_recall: 0.4456\n",
      "Epoch 3/20\n",
      "849/849 - 47s - 55ms/step - NLL: 1.1262 - accuracy: 0.6289 - f1_score: 0.4831 - loss: 1.3142 - precision: 0.7577 - recall: 0.4855 - val_NLL: 1.1488 - val_accuracy: 0.6146 - val_f1_score: 0.5208 - val_loss: 1.3251 - val_precision: 0.7117 - val_recall: 0.4975\n",
      "Epoch 4/20\n",
      "849/849 - 46s - 54ms/step - NLL: 1.0688 - accuracy: 0.6448 - f1_score: 0.5093 - loss: 1.2572 - precision: 0.7701 - recall: 0.5098 - val_NLL: 1.1376 - val_accuracy: 0.6135 - val_f1_score: 0.5176 - val_loss: 1.3123 - val_precision: 0.7220 - val_recall: 0.4876\n",
      "Epoch 5/20\n",
      "849/849 - 46s - 54ms/step - NLL: 1.0341 - accuracy: 0.6534 - f1_score: 0.5240 - loss: 1.2238 - precision: 0.7736 - recall: 0.5238 - val_NLL: 1.1254 - val_accuracy: 0.6223 - val_f1_score: 0.5482 - val_loss: 1.3021 - val_precision: 0.7120 - val_recall: 0.5091\n",
      "Epoch 6/20\n",
      "849/849 - 47s - 55ms/step - NLL: 1.0049 - accuracy: 0.6619 - f1_score: 0.5373 - loss: 1.1969 - precision: 0.7791 - recall: 0.5381 - val_NLL: 1.1021 - val_accuracy: 0.6295 - val_f1_score: 0.5521 - val_loss: 1.2777 - val_precision: 0.7126 - val_recall: 0.5284\n",
      "Epoch 7/20\n",
      "849/849 - 46s - 54ms/step - NLL: 0.9784 - accuracy: 0.6679 - f1_score: 0.5491 - loss: 1.1722 - precision: 0.7827 - recall: 0.5487 - val_NLL: 1.0713 - val_accuracy: 0.6411 - val_f1_score: 0.5606 - val_loss: 1.2538 - val_precision: 0.7249 - val_recall: 0.5572\n",
      "Epoch 8/20\n",
      "849/849 - 47s - 55ms/step - NLL: 0.9586 - accuracy: 0.6748 - f1_score: 0.5594 - loss: 1.1542 - precision: 0.7874 - recall: 0.5569 - val_NLL: 1.0587 - val_accuracy: 0.6444 - val_f1_score: 0.5775 - val_loss: 1.2403 - val_precision: 0.7325 - val_recall: 0.5533\n",
      "Epoch 9/20\n",
      "849/849 - 46s - 54ms/step - NLL: 0.9439 - accuracy: 0.6771 - f1_score: 0.5623 - loss: 1.1404 - precision: 0.7878 - recall: 0.5623 - val_NLL: 1.0540 - val_accuracy: 0.6433 - val_f1_score: 0.5626 - val_loss: 1.2383 - val_precision: 0.7286 - val_recall: 0.5605\n",
      "Epoch 10/20\n",
      "849/849 - 47s - 55ms/step - NLL: 0.9279 - accuracy: 0.6814 - f1_score: 0.5701 - loss: 1.1260 - precision: 0.7917 - recall: 0.5690 - val_NLL: 1.0319 - val_accuracy: 0.6449 - val_f1_score: 0.5711 - val_loss: 1.2140 - val_precision: 0.7351 - val_recall: 0.5638\n",
      "Epoch 11/20\n",
      "849/849 - 47s - 56ms/step - NLL: 0.9151 - accuracy: 0.6867 - f1_score: 0.5785 - loss: 1.1152 - precision: 0.7935 - recall: 0.5760 - val_NLL: 1.0274 - val_accuracy: 0.6560 - val_f1_score: 0.5886 - val_loss: 1.2140 - val_precision: 0.7393 - val_recall: 0.5699\n",
      "Epoch 12/20\n",
      "849/849 - 82s - 97ms/step - NLL: 0.9083 - accuracy: 0.6887 - f1_score: 0.5820 - loss: 1.1098 - precision: 0.7934 - recall: 0.5766 - val_NLL: 0.9870 - val_accuracy: 0.6643 - val_f1_score: 0.6024 - val_loss: 1.1740 - val_precision: 0.7530 - val_recall: 0.5826\n",
      "Epoch 13/20\n",
      "849/849 - 54s - 64ms/step - NLL: 0.8923 - accuracy: 0.6918 - f1_score: 0.5862 - loss: 1.0955 - precision: 0.7952 - recall: 0.5829 - val_NLL: 1.0467 - val_accuracy: 0.6510 - val_f1_score: 0.5826 - val_loss: 1.2368 - val_precision: 0.7306 - val_recall: 0.5809\n",
      "Epoch 14/20\n",
      "849/849 - 53s - 62ms/step - NLL: 0.8864 - accuracy: 0.6938 - f1_score: 0.5895 - loss: 1.0918 - precision: 0.7979 - recall: 0.5860 - val_NLL: 1.0598 - val_accuracy: 0.6422 - val_f1_score: 0.5783 - val_loss: 1.2444 - val_precision: 0.7241 - val_recall: 0.5638\n",
      "Epoch 15/20\n",
      "849/849 - 37s - 44ms/step - NLL: 0.8776 - accuracy: 0.6980 - f1_score: 0.5964 - loss: 1.0840 - precision: 0.7981 - recall: 0.5904 - val_NLL: 0.9821 - val_accuracy: 0.6626 - val_f1_score: 0.5830 - val_loss: 1.1710 - val_precision: 0.7521 - val_recall: 0.5831\n",
      "Epoch 16/20\n",
      "849/849 - 34s - 40ms/step - NLL: 0.8691 - accuracy: 0.6993 - f1_score: 0.5998 - loss: 1.0772 - precision: 0.7998 - recall: 0.5946 - val_NLL: 1.0142 - val_accuracy: 0.6593 - val_f1_score: 0.5862 - val_loss: 1.2078 - val_precision: 0.7404 - val_recall: 0.5875\n",
      "Epoch 17/20\n",
      "849/849 - 33s - 39ms/step - NLL: 0.8645 - accuracy: 0.7003 - f1_score: 0.6015 - loss: 1.0740 - precision: 0.8011 - recall: 0.5969 - val_NLL: 1.0076 - val_accuracy: 0.6637 - val_f1_score: 0.5984 - val_loss: 1.1966 - val_precision: 0.7310 - val_recall: 0.5897\n",
      "Epoch 18/20\n",
      "849/849 - 46s - 54ms/step - NLL: 0.8548 - accuracy: 0.7030 - f1_score: 0.6079 - loss: 1.0653 - precision: 0.8018 - recall: 0.6017 - val_NLL: 1.0262 - val_accuracy: 0.6466 - val_f1_score: 0.5662 - val_loss: 1.2185 - val_precision: 0.7318 - val_recall: 0.5770\n",
      "Epoch 19/20\n",
      "849/849 - 48s - 57ms/step - NLL: 0.8505 - accuracy: 0.7051 - f1_score: 0.6092 - loss: 1.0624 - precision: 0.8013 - recall: 0.6023 - val_NLL: 1.0538 - val_accuracy: 0.6422 - val_f1_score: 0.5637 - val_loss: 1.2453 - val_precision: 0.7260 - val_recall: 0.5676\n",
      "Epoch 20/20\n",
      "849/849 - 46s - 54ms/step - NLL: 0.8427 - accuracy: 0.7062 - f1_score: 0.6116 - loss: 1.0563 - precision: 0.8041 - recall: 0.6071 - val_NLL: 1.1016 - val_accuracy: 0.6361 - val_f1_score: 0.5481 - val_loss: 1.2934 - val_precision: 0.7148 - val_recall: 0.5577\n",
      "\u001b[1m1697/1697\u001b[0m \u001b[32m━━━━━━━━━━━━━━━━━━━━\u001b[0m\u001b[37m\u001b[0m \u001b[1m37s\u001b[0m 21ms/step\n",
      "\u001b[1m57/57\u001b[0m \u001b[32m━━━━━━━━━━━━━━━━━━━━\u001b[0m\u001b[37m\u001b[0m \u001b[1m1s\u001b[0m 23ms/step\n",
      "NLL: 0.98\n",
      "Validation accuracy: 0.66\n",
      "Validation F1Score: 0.58\n",
      "evaluating Fold 17\n",
      "Setting seed to 966726221\n",
      "Epoch 1/20\n",
      "845/845 - 69s - 82ms/step - NLL: 1.5786 - accuracy: 0.5087 - f1_score: 0.2740 - loss: 1.8155 - precision: 0.6696 - recall: 0.2975 - val_NLL: 1.5642 - val_accuracy: 0.5315 - val_f1_score: 0.3749 - val_loss: 1.7447 - val_precision: 0.6854 - val_recall: 0.2968\n",
      "Epoch 2/20\n",
      "845/845 - 60s - 71ms/step - NLL: 1.2381 - accuracy: 0.5967 - f1_score: 0.4332 - loss: 1.4280 - precision: 0.7363 - recall: 0.4357 - val_NLL: 1.4386 - val_accuracy: 0.5641 - val_f1_score: 0.4446 - val_loss: 1.6130 - val_precision: 0.7192 - val_recall: 0.3623\n",
      "Epoch 3/20\n",
      "845/845 - 53s - 63ms/step - NLL: 1.1246 - accuracy: 0.6307 - f1_score: 0.4861 - loss: 1.3127 - precision: 0.7606 - recall: 0.4880 - val_NLL: 1.3936 - val_accuracy: 0.5789 - val_f1_score: 0.4598 - val_loss: 1.5688 - val_precision: 0.7165 - val_recall: 0.4240\n",
      "Epoch 4/20\n",
      "845/845 - 51s - 60ms/step - NLL: 1.0588 - accuracy: 0.6461 - f1_score: 0.5144 - loss: 1.2473 - precision: 0.7726 - recall: 0.5152 - val_NLL: 1.3522 - val_accuracy: 0.5860 - val_f1_score: 0.4676 - val_loss: 1.5291 - val_precision: 0.7063 - val_recall: 0.4369\n",
      "Epoch 5/20\n",
      "845/845 - 52s - 62ms/step - NLL: 1.0187 - accuracy: 0.6587 - f1_score: 0.5306 - loss: 1.2090 - precision: 0.7824 - recall: 0.5308 - val_NLL: 1.3509 - val_accuracy: 0.5980 - val_f1_score: 0.4849 - val_loss: 1.5301 - val_precision: 0.7099 - val_recall: 0.4632\n",
      "Epoch 6/20\n",
      "845/845 - 54s - 63ms/step - NLL: 0.9893 - accuracy: 0.6635 - f1_score: 0.5415 - loss: 1.1818 - precision: 0.7849 - recall: 0.5434 - val_NLL: 1.3275 - val_accuracy: 0.6109 - val_f1_score: 0.4997 - val_loss: 1.5091 - val_precision: 0.7488 - val_recall: 0.4632\n",
      "Epoch 7/20\n",
      "845/845 - 53s - 62ms/step - NLL: 0.9606 - accuracy: 0.6743 - f1_score: 0.5568 - loss: 1.1549 - precision: 0.7904 - recall: 0.5571 - val_NLL: 1.3077 - val_accuracy: 0.6061 - val_f1_score: 0.4953 - val_loss: 1.4910 - val_precision: 0.7239 - val_recall: 0.4637\n",
      "Epoch 8/20\n",
      "845/845 - 54s - 64ms/step - NLL: 0.9445 - accuracy: 0.6760 - f1_score: 0.5606 - loss: 1.1398 - precision: 0.7910 - recall: 0.5622 - val_NLL: 1.2865 - val_accuracy: 0.6205 - val_f1_score: 0.5110 - val_loss: 1.4699 - val_precision: 0.7346 - val_recall: 0.4804\n",
      "Epoch 9/20\n",
      "845/845 - 48s - 56ms/step - NLL: 0.9285 - accuracy: 0.6819 - f1_score: 0.5712 - loss: 1.1243 - precision: 0.7932 - recall: 0.5687 - val_NLL: 1.3388 - val_accuracy: 0.6066 - val_f1_score: 0.4851 - val_loss: 1.5238 - val_precision: 0.7315 - val_recall: 0.4909\n",
      "Epoch 10/20\n",
      "845/845 - 48s - 57ms/step - NLL: 0.9113 - accuracy: 0.6879 - f1_score: 0.5804 - loss: 1.1096 - precision: 0.7958 - recall: 0.5766 - val_NLL: 1.2836 - val_accuracy: 0.6147 - val_f1_score: 0.5047 - val_loss: 1.4709 - val_precision: 0.7213 - val_recall: 0.4737\n",
      "Epoch 11/20\n",
      "845/845 - 48s - 56ms/step - NLL: 0.9040 - accuracy: 0.6894 - f1_score: 0.5816 - loss: 1.1034 - precision: 0.7958 - recall: 0.5802 - val_NLL: 1.3021 - val_accuracy: 0.6195 - val_f1_score: 0.5068 - val_loss: 1.4908 - val_precision: 0.7272 - val_recall: 0.5033\n",
      "Epoch 12/20\n",
      "845/845 - 47s - 56ms/step - NLL: 0.8923 - accuracy: 0.6930 - f1_score: 0.5869 - loss: 1.0923 - precision: 0.7994 - recall: 0.5852 - val_NLL: 1.3262 - val_accuracy: 0.6076 - val_f1_score: 0.4950 - val_loss: 1.5151 - val_precision: 0.7180 - val_recall: 0.4833\n",
      "Epoch 13/20\n",
      "845/845 - 48s - 57ms/step - NLL: 0.8839 - accuracy: 0.6941 - f1_score: 0.5915 - loss: 1.0848 - precision: 0.7994 - recall: 0.5878 - val_NLL: 1.3093 - val_accuracy: 0.6152 - val_f1_score: 0.5075 - val_loss: 1.4996 - val_precision: 0.7194 - val_recall: 0.4938\n",
      "Epoch 14/20\n",
      "845/845 - 48s - 57ms/step - NLL: 0.8730 - accuracy: 0.6972 - f1_score: 0.5976 - loss: 1.0749 - precision: 0.8013 - recall: 0.5930 - val_NLL: 1.2706 - val_accuracy: 0.6257 - val_f1_score: 0.5220 - val_loss: 1.4623 - val_precision: 0.7388 - val_recall: 0.4962\n",
      "Epoch 15/20\n",
      "845/845 - 50s - 59ms/step - NLL: 0.8647 - accuracy: 0.7014 - f1_score: 0.6023 - loss: 1.0681 - precision: 0.8017 - recall: 0.5973 - val_NLL: 1.2699 - val_accuracy: 0.6228 - val_f1_score: 0.5011 - val_loss: 1.4626 - val_precision: 0.7380 - val_recall: 0.5010\n",
      "Epoch 16/20\n",
      "845/845 - 47s - 56ms/step - NLL: 0.8570 - accuracy: 0.7038 - f1_score: 0.6084 - loss: 1.0609 - precision: 0.8020 - recall: 0.6001 - val_NLL: 1.2988 - val_accuracy: 0.6128 - val_f1_score: 0.4953 - val_loss: 1.4918 - val_precision: 0.7238 - val_recall: 0.4986\n",
      "Epoch 17/20\n",
      "845/845 - 82s - 97ms/step - NLL: 0.8470 - accuracy: 0.7069 - f1_score: 0.6127 - loss: 1.0525 - precision: 0.8051 - recall: 0.6053 - val_NLL: 1.3128 - val_accuracy: 0.6109 - val_f1_score: 0.4993 - val_loss: 1.5072 - val_precision: 0.7192 - val_recall: 0.4933\n",
      "Epoch 18/20\n",
      "845/845 - 48s - 57ms/step - NLL: 0.8434 - accuracy: 0.7087 - f1_score: 0.6125 - loss: 1.0505 - precision: 0.8039 - recall: 0.6051 - val_NLL: 1.3225 - val_accuracy: 0.6099 - val_f1_score: 0.4929 - val_loss: 1.5181 - val_precision: 0.7230 - val_recall: 0.5029\n",
      "Epoch 19/20\n",
      "845/845 - 49s - 58ms/step - NLL: 0.8365 - accuracy: 0.7085 - f1_score: 0.6135 - loss: 1.0445 - precision: 0.8054 - recall: 0.6110 - val_NLL: 1.3196 - val_accuracy: 0.6099 - val_f1_score: 0.5042 - val_loss: 1.5167 - val_precision: 0.7174 - val_recall: 0.5024\n",
      "Epoch 20/20\n",
      "845/845 - 53s - 63ms/step - NLL: 0.8324 - accuracy: 0.7099 - f1_score: 0.6166 - loss: 1.0416 - precision: 0.8034 - recall: 0.6107 - val_NLL: 1.2981 - val_accuracy: 0.6243 - val_f1_score: 0.5080 - val_loss: 1.4963 - val_precision: 0.7312 - val_recall: 0.5019\n",
      "\u001b[1m1689/1689\u001b[0m \u001b[32m━━━━━━━━━━━━━━━━━━━━\u001b[0m\u001b[37m\u001b[0m \u001b[1m40s\u001b[0m 23ms/step\n",
      "\u001b[1m66/66\u001b[0m \u001b[32m━━━━━━━━━━━━━━━━━━━━\u001b[0m\u001b[37m\u001b[0m \u001b[1m2s\u001b[0m 24ms/step\n",
      "NLL: 1.27\n",
      "Validation accuracy: 0.62\n",
      "Validation F1Score: 0.50\n",
      "evaluating Fold 18\n",
      "Setting seed to 1625494306\n",
      "Epoch 1/20\n",
      "854/854 - 62s - 73ms/step - NLL: 1.5933 - accuracy: 0.5125 - f1_score: 0.2746 - loss: 1.8240 - precision: 0.6684 - recall: 0.2990 - val_NLL: 1.4317 - val_accuracy: 0.4727 - val_f1_score: 0.3513 - val_loss: 1.6162 - val_precision: 0.6562 - val_recall: 0.2783\n",
      "Epoch 2/20\n",
      "854/854 - 49s - 58ms/step - NLL: 1.2451 - accuracy: 0.5982 - f1_score: 0.4292 - loss: 1.4291 - precision: 0.7370 - recall: 0.4345 - val_NLL: 1.2055 - val_accuracy: 0.5659 - val_f1_score: 0.4722 - val_loss: 1.3823 - val_precision: 0.7220 - val_recall: 0.3908\n",
      "Epoch 3/20\n",
      "854/854 - 48s - 56ms/step - NLL: 1.1350 - accuracy: 0.6269 - f1_score: 0.4805 - loss: 1.3205 - precision: 0.7587 - recall: 0.4808 - val_NLL: 1.1755 - val_accuracy: 0.5792 - val_f1_score: 0.4730 - val_loss: 1.3585 - val_precision: 0.6757 - val_recall: 0.4314\n",
      "Epoch 4/20\n",
      "854/854 - 48s - 56ms/step - NLL: 1.0755 - accuracy: 0.6428 - f1_score: 0.5081 - loss: 1.2633 - precision: 0.7662 - recall: 0.5046 - val_NLL: 1.1082 - val_accuracy: 0.5866 - val_f1_score: 0.4919 - val_loss: 1.2886 - val_precision: 0.6796 - val_recall: 0.4787\n",
      "Epoch 5/20\n",
      "854/854 - 51s - 60ms/step - NLL: 1.0363 - accuracy: 0.6529 - f1_score: 0.5251 - loss: 1.2258 - precision: 0.7720 - recall: 0.5228 - val_NLL: 1.0683 - val_accuracy: 0.6112 - val_f1_score: 0.5054 - val_loss: 1.2495 - val_precision: 0.6923 - val_recall: 0.5033\n",
      "Epoch 6/20\n",
      "854/854 - 49s - 57ms/step - NLL: 1.0039 - accuracy: 0.6612 - f1_score: 0.5391 - loss: 1.1952 - precision: 0.7795 - recall: 0.5362 - val_NLL: 1.0388 - val_accuracy: 0.6079 - val_f1_score: 0.5195 - val_loss: 1.2244 - val_precision: 0.7010 - val_recall: 0.5027\n",
      "Epoch 7/20\n",
      "854/854 - 82s - 96ms/step - NLL: 0.9808 - accuracy: 0.6674 - f1_score: 0.5456 - loss: 1.1735 - precision: 0.7817 - recall: 0.5449 - val_NLL: 0.9978 - val_accuracy: 0.6258 - val_f1_score: 0.5559 - val_loss: 1.1831 - val_precision: 0.7120 - val_recall: 0.5120\n",
      "Epoch 8/20\n",
      "854/854 - 52s - 61ms/step - NLL: 0.9619 - accuracy: 0.6725 - f1_score: 0.5562 - loss: 1.1557 - precision: 0.7845 - recall: 0.5538 - val_NLL: 0.9499 - val_accuracy: 0.6365 - val_f1_score: 0.5535 - val_loss: 1.1364 - val_precision: 0.7191 - val_recall: 0.5353\n",
      "Epoch 9/20\n",
      "854/854 - 57s - 66ms/step - NLL: 0.9454 - accuracy: 0.6779 - f1_score: 0.5647 - loss: 1.1402 - precision: 0.7893 - recall: 0.5618 - val_NLL: 0.9717 - val_accuracy: 0.6205 - val_f1_score: 0.5398 - val_loss: 1.1594 - val_precision: 0.6938 - val_recall: 0.5326\n",
      "Epoch 10/20\n",
      "854/854 - 49s - 58ms/step - NLL: 0.9316 - accuracy: 0.6807 - f1_score: 0.5698 - loss: 1.1276 - precision: 0.7930 - recall: 0.5690 - val_NLL: 1.0009 - val_accuracy: 0.6132 - val_f1_score: 0.5330 - val_loss: 1.1898 - val_precision: 0.7000 - val_recall: 0.5126\n",
      "Epoch 11/20\n",
      "854/854 - 49s - 58ms/step - NLL: 0.9199 - accuracy: 0.6858 - f1_score: 0.5769 - loss: 1.1166 - precision: 0.7912 - recall: 0.5744 - val_NLL: 0.9646 - val_accuracy: 0.6258 - val_f1_score: 0.5574 - val_loss: 1.1528 - val_precision: 0.7004 - val_recall: 0.5260\n",
      "Epoch 12/20\n",
      "854/854 - 49s - 57ms/step - NLL: 0.9126 - accuracy: 0.6863 - f1_score: 0.5793 - loss: 1.1101 - precision: 0.7949 - recall: 0.5760 - val_NLL: 0.9595 - val_accuracy: 0.6245 - val_f1_score: 0.5418 - val_loss: 1.1490 - val_precision: 0.7024 - val_recall: 0.5233\n",
      "Epoch 13/20\n",
      "854/854 - 49s - 58ms/step - NLL: 0.9015 - accuracy: 0.6896 - f1_score: 0.5844 - loss: 1.1002 - precision: 0.7958 - recall: 0.5814 - val_NLL: 0.9920 - val_accuracy: 0.6278 - val_f1_score: 0.5297 - val_loss: 1.1835 - val_precision: 0.7059 - val_recall: 0.5386\n",
      "Epoch 14/20\n",
      "854/854 - 49s - 58ms/step - NLL: 0.8910 - accuracy: 0.6930 - f1_score: 0.5906 - loss: 1.0914 - precision: 0.7972 - recall: 0.5871 - val_NLL: 0.9815 - val_accuracy: 0.6391 - val_f1_score: 0.5653 - val_loss: 1.1724 - val_precision: 0.7123 - val_recall: 0.5539\n",
      "Epoch 15/20\n",
      "854/854 - 49s - 57ms/step - NLL: 0.8850 - accuracy: 0.6948 - f1_score: 0.5940 - loss: 1.0866 - precision: 0.7959 - recall: 0.5878 - val_NLL: 0.9726 - val_accuracy: 0.6471 - val_f1_score: 0.5877 - val_loss: 1.1650 - val_precision: 0.6978 - val_recall: 0.5519\n",
      "Epoch 16/20\n",
      "854/854 - 49s - 58ms/step - NLL: 0.8784 - accuracy: 0.6961 - f1_score: 0.5946 - loss: 1.0814 - precision: 0.7979 - recall: 0.5920 - val_NLL: 0.9798 - val_accuracy: 0.6258 - val_f1_score: 0.5596 - val_loss: 1.1770 - val_precision: 0.6836 - val_recall: 0.5280\n",
      "Epoch 17/20\n",
      "854/854 - 49s - 57ms/step - NLL: 0.8688 - accuracy: 0.6995 - f1_score: 0.6025 - loss: 1.0726 - precision: 0.8017 - recall: 0.5980 - val_NLL: 0.9364 - val_accuracy: 0.6531 - val_f1_score: 0.5864 - val_loss: 1.1313 - val_precision: 0.7134 - val_recall: 0.5619\n",
      "Epoch 18/20\n",
      "854/854 - 48s - 57ms/step - NLL: 0.8637 - accuracy: 0.7006 - f1_score: 0.6027 - loss: 1.0679 - precision: 0.7994 - recall: 0.5985 - val_NLL: 0.9754 - val_accuracy: 0.6471 - val_f1_score: 0.5643 - val_loss: 1.1704 - val_precision: 0.7137 - val_recall: 0.5692\n",
      "Epoch 19/20\n",
      "854/854 - 49s - 58ms/step - NLL: 0.8598 - accuracy: 0.7029 - f1_score: 0.6084 - loss: 1.0645 - precision: 0.8001 - recall: 0.6010 - val_NLL: 0.9806 - val_accuracy: 0.6471 - val_f1_score: 0.5667 - val_loss: 1.1772 - val_precision: 0.7065 - val_recall: 0.5626\n",
      "Epoch 20/20\n",
      "854/854 - 49s - 58ms/step - NLL: 0.8552 - accuracy: 0.7054 - f1_score: 0.6094 - loss: 1.0606 - precision: 0.8035 - recall: 0.6032 - val_NLL: 0.9608 - val_accuracy: 0.6418 - val_f1_score: 0.5631 - val_loss: 1.1574 - val_precision: 0.7179 - val_recall: 0.5626\n",
      "\u001b[1m1707/1707\u001b[0m \u001b[32m━━━━━━━━━━━━━━━━━━━━\u001b[0m\u001b[37m\u001b[0m \u001b[1m38s\u001b[0m 22ms/step\n",
      "\u001b[1m47/47\u001b[0m \u001b[32m━━━━━━━━━━━━━━━━━━━━\u001b[0m\u001b[37m\u001b[0m \u001b[1m1s\u001b[0m 22ms/step\n",
      "NLL: 0.94\n",
      "Validation accuracy: 0.65\n",
      "Validation F1Score: 0.59\n",
      "evaluating Fold 19\n",
      "Setting seed to 3063573539\n",
      "Epoch 1/20\n",
      "806/806 - 44s - 55ms/step - NLL: 1.5893 - accuracy: 0.5058 - f1_score: 0.2760 - loss: 1.8384 - precision: 0.6724 - recall: 0.2934 - val_NLL: 1.2448 - val_accuracy: 0.6199 - val_f1_score: 0.3643 - val_loss: 1.4395 - val_precision: 0.7143 - val_recall: 0.4178\n",
      "Epoch 2/20\n",
      "806/806 - 38s - 47ms/step - NLL: 1.2421 - accuracy: 0.5918 - f1_score: 0.4374 - loss: 1.4390 - precision: 0.7383 - recall: 0.4276 - val_NLL: 1.1015 - val_accuracy: 0.6566 - val_f1_score: 0.4508 - val_loss: 1.2935 - val_precision: 0.7665 - val_recall: 0.4652\n",
      "Epoch 3/20\n",
      "806/806 - 41s - 50ms/step - NLL: 1.1305 - accuracy: 0.6238 - f1_score: 0.4900 - loss: 1.3274 - precision: 0.7584 - recall: 0.4766 - val_NLL: 1.0851 - val_accuracy: 0.6708 - val_f1_score: 0.4684 - val_loss: 1.2780 - val_precision: 0.7539 - val_recall: 0.5186\n",
      "Epoch 4/20\n",
      "806/806 - 44s - 54ms/step - NLL: 1.0687 - accuracy: 0.6413 - f1_score: 0.5169 - loss: 1.2674 - precision: 0.7693 - recall: 0.5030 - val_NLL: 1.0540 - val_accuracy: 0.6693 - val_f1_score: 0.5061 - val_loss: 1.2527 - val_precision: 0.7753 - val_recall: 0.5109\n",
      "Epoch 5/20\n",
      "806/806 - 46s - 57ms/step - NLL: 1.0262 - accuracy: 0.6530 - f1_score: 0.5352 - loss: 1.2270 - precision: 0.7745 - recall: 0.5209 - val_NLL: 1.0231 - val_accuracy: 0.6809 - val_f1_score: 0.5001 - val_loss: 1.2223 - val_precision: 0.7650 - val_recall: 0.5453\n",
      "Epoch 6/20\n",
      "806/806 - 49s - 61ms/step - NLL: 0.9951 - accuracy: 0.6615 - f1_score: 0.5492 - loss: 1.1971 - precision: 0.7794 - recall: 0.5363 - val_NLL: 1.0194 - val_accuracy: 0.6739 - val_f1_score: 0.4955 - val_loss: 1.2205 - val_precision: 0.7756 - val_recall: 0.5444\n",
      "Epoch 7/20\n",
      "806/806 - 82s - 102ms/step - NLL: 0.9703 - accuracy: 0.6694 - f1_score: 0.5604 - loss: 1.1727 - precision: 0.7853 - recall: 0.5479 - val_NLL: 1.0234 - val_accuracy: 0.6789 - val_f1_score: 0.5026 - val_loss: 1.2222 - val_precision: 0.7565 - val_recall: 0.5593\n",
      "Epoch 8/20\n",
      "806/806 - 48s - 60ms/step - NLL: 0.9523 - accuracy: 0.6756 - f1_score: 0.5685 - loss: 1.1556 - precision: 0.7884 - recall: 0.5564 - val_NLL: 0.9928 - val_accuracy: 0.6820 - val_f1_score: 0.5163 - val_loss: 1.1932 - val_precision: 0.7729 - val_recall: 0.5696\n",
      "Epoch 9/20\n",
      "806/806 - 49s - 60ms/step - NLL: 0.9310 - accuracy: 0.6819 - f1_score: 0.5790 - loss: 1.1365 - precision: 0.7917 - recall: 0.5656 - val_NLL: 0.9929 - val_accuracy: 0.6879 - val_f1_score: 0.5281 - val_loss: 1.2000 - val_precision: 0.7867 - val_recall: 0.5702\n",
      "Epoch 10/20\n",
      "806/806 - 49s - 60ms/step - NLL: 0.9148 - accuracy: 0.6863 - f1_score: 0.5864 - loss: 1.1223 - precision: 0.7920 - recall: 0.5708 - val_NLL: 1.0188 - val_accuracy: 0.6785 - val_f1_score: 0.5207 - val_loss: 1.2247 - val_precision: 0.7633 - val_recall: 0.5693\n",
      "Epoch 11/20\n",
      "806/806 - 48s - 59ms/step - NLL: 0.9041 - accuracy: 0.6876 - f1_score: 0.5881 - loss: 1.1129 - precision: 0.7934 - recall: 0.5769 - val_NLL: 1.0449 - val_accuracy: 0.6807 - val_f1_score: 0.5003 - val_loss: 1.2536 - val_precision: 0.7578 - val_recall: 0.5790\n",
      "Epoch 12/20\n",
      "806/806 - 49s - 61ms/step - NLL: 0.8943 - accuracy: 0.6922 - f1_score: 0.5948 - loss: 1.1046 - precision: 0.7961 - recall: 0.5817 - val_NLL: 1.0344 - val_accuracy: 0.6890 - val_f1_score: 0.5324 - val_loss: 1.2456 - val_precision: 0.7667 - val_recall: 0.5901\n",
      "Epoch 13/20\n",
      "806/806 - 48s - 59ms/step - NLL: 0.8802 - accuracy: 0.6950 - f1_score: 0.5999 - loss: 1.0918 - precision: 0.7968 - recall: 0.5886 - val_NLL: 1.0172 - val_accuracy: 0.6831 - val_f1_score: 0.5159 - val_loss: 1.2282 - val_precision: 0.7650 - val_recall: 0.5888\n",
      "Epoch 14/20\n",
      "806/806 - 49s - 61ms/step - NLL: 0.8745 - accuracy: 0.6980 - f1_score: 0.6023 - loss: 1.0882 - precision: 0.8000 - recall: 0.5922 - val_NLL: 1.0010 - val_accuracy: 0.6767 - val_f1_score: 0.5079 - val_loss: 1.2180 - val_precision: 0.7652 - val_recall: 0.5866\n",
      "Epoch 15/20\n",
      "806/806 - 48s - 60ms/step - NLL: 0.8653 - accuracy: 0.7002 - f1_score: 0.6086 - loss: 1.0794 - precision: 0.8004 - recall: 0.5952 - val_NLL: 1.0224 - val_accuracy: 0.6763 - val_f1_score: 0.4990 - val_loss: 1.2347 - val_precision: 0.7473 - val_recall: 0.5919\n",
      "Epoch 16/20\n",
      "806/806 - 49s - 60ms/step - NLL: 0.8596 - accuracy: 0.7036 - f1_score: 0.6125 - loss: 1.0745 - precision: 0.8003 - recall: 0.5990 - val_NLL: 1.0185 - val_accuracy: 0.6811 - val_f1_score: 0.5132 - val_loss: 1.2347 - val_precision: 0.7551 - val_recall: 0.5853\n",
      "Epoch 17/20\n",
      "806/806 - 49s - 61ms/step - NLL: 0.8526 - accuracy: 0.7035 - f1_score: 0.6138 - loss: 1.0690 - precision: 0.8024 - recall: 0.6006 - val_NLL: 1.0719 - val_accuracy: 0.6671 - val_f1_score: 0.5048 - val_loss: 1.2886 - val_precision: 0.7446 - val_recall: 0.5700\n",
      "Epoch 18/20\n",
      "806/806 - 83s - 102ms/step - NLL: 0.8431 - accuracy: 0.7055 - f1_score: 0.6164 - loss: 1.0608 - precision: 0.8032 - recall: 0.6035 - val_NLL: 1.0453 - val_accuracy: 0.6706 - val_f1_score: 0.4993 - val_loss: 1.2633 - val_precision: 0.7473 - val_recall: 0.5809\n",
      "\u001b[1m1611/1611\u001b[0m \u001b[32m━━━━━━━━━━━━━━━━━━━━\u001b[0m\u001b[37m\u001b[0m \u001b[1m36s\u001b[0m 22ms/step\n",
      "\u001b[1m143/143\u001b[0m \u001b[32m━━━━━━━━━━━━━━━━━━━━\u001b[0m\u001b[37m\u001b[0m \u001b[1m3s\u001b[0m 23ms/step\n",
      "NLL: 0.99\n",
      "Validation accuracy: 0.68\n",
      "Validation F1Score: 0.52\n",
      "evaluating Fold 20\n",
      "Setting seed to 1898784207\n",
      "Epoch 1/20\n",
      "836/836 - 66s - 79ms/step - NLL: 1.5573 - accuracy: 0.5167 - f1_score: 0.2834 - loss: 1.8007 - precision: 0.6726 - recall: 0.3073 - val_NLL: 1.7458 - val_accuracy: 0.4470 - val_f1_score: 0.3204 - val_loss: 1.9286 - val_precision: 0.5853 - val_recall: 0.2699\n",
      "Epoch 2/20\n",
      "836/836 - 51s - 60ms/step - NLL: 1.2241 - accuracy: 0.6015 - f1_score: 0.4352 - loss: 1.4174 - precision: 0.7402 - recall: 0.4407 - val_NLL: 1.6383 - val_accuracy: 0.4804 - val_f1_score: 0.3811 - val_loss: 1.7999 - val_precision: 0.6032 - val_recall: 0.3478\n",
      "Epoch 3/20\n",
      "836/836 - 54s - 64ms/step - NLL: 1.1178 - accuracy: 0.6303 - f1_score: 0.4836 - loss: 1.3088 - precision: 0.7592 - recall: 0.4875 - val_NLL: 1.5568 - val_accuracy: 0.5089 - val_f1_score: 0.4059 - val_loss: 1.7192 - val_precision: 0.6226 - val_recall: 0.3919\n",
      "Epoch 4/20\n",
      "836/836 - 51s - 62ms/step - NLL: 1.0557 - accuracy: 0.6486 - f1_score: 0.5116 - loss: 1.2478 - precision: 0.7707 - recall: 0.5153 - val_NLL: 1.5057 - val_accuracy: 0.5184 - val_f1_score: 0.4175 - val_loss: 1.6693 - val_precision: 0.6243 - val_recall: 0.4257\n",
      "Epoch 5/20\n",
      "836/836 - 51s - 61ms/step - NLL: 1.0180 - accuracy: 0.6576 - f1_score: 0.5268 - loss: 1.2123 - precision: 0.7768 - recall: 0.5306 - val_NLL: 1.5231 - val_accuracy: 0.5287 - val_f1_score: 0.4375 - val_loss: 1.6884 - val_precision: 0.6218 - val_recall: 0.4211\n",
      "Epoch 6/20\n",
      "836/836 - 51s - 61ms/step - NLL: 0.9914 - accuracy: 0.6686 - f1_score: 0.5436 - loss: 1.1857 - precision: 0.7823 - recall: 0.5450 - val_NLL: 1.4976 - val_accuracy: 0.5317 - val_f1_score: 0.4507 - val_loss: 1.6612 - val_precision: 0.6401 - val_recall: 0.4394\n",
      "Epoch 7/20\n",
      "836/836 - 50s - 60ms/step - NLL: 0.9659 - accuracy: 0.6722 - f1_score: 0.5480 - loss: 1.1605 - precision: 0.7837 - recall: 0.5539 - val_NLL: 1.4912 - val_accuracy: 0.5401 - val_f1_score: 0.4576 - val_loss: 1.6561 - val_precision: 0.6378 - val_recall: 0.4424\n",
      "Epoch 8/20\n",
      "836/836 - 52s - 62ms/step - NLL: 0.9488 - accuracy: 0.6766 - f1_score: 0.5572 - loss: 1.1437 - precision: 0.7878 - recall: 0.5611 - val_NLL: 1.5433 - val_accuracy: 0.5454 - val_f1_score: 0.4636 - val_loss: 1.7075 - val_precision: 0.6343 - val_recall: 0.4443\n",
      "Epoch 9/20\n",
      "836/836 - 50s - 60ms/step - NLL: 0.9376 - accuracy: 0.6794 - f1_score: 0.5635 - loss: 1.1326 - precision: 0.7876 - recall: 0.5662 - val_NLL: 1.4901 - val_accuracy: 0.5473 - val_f1_score: 0.4766 - val_loss: 1.6549 - val_precision: 0.6370 - val_recall: 0.4401\n",
      "Epoch 10/20\n",
      "836/836 - 50s - 60ms/step - NLL: 0.9182 - accuracy: 0.6867 - f1_score: 0.5756 - loss: 1.1153 - precision: 0.7948 - recall: 0.5765 - val_NLL: 1.5921 - val_accuracy: 0.5473 - val_f1_score: 0.4787 - val_loss: 1.7559 - val_precision: 0.6272 - val_recall: 0.4546\n",
      "Epoch 11/20\n",
      "836/836 - 50s - 60ms/step - NLL: 0.9068 - accuracy: 0.6894 - f1_score: 0.5781 - loss: 1.1045 - precision: 0.7954 - recall: 0.5812 - val_NLL: 1.4955 - val_accuracy: 0.5534 - val_f1_score: 0.4807 - val_loss: 1.6632 - val_precision: 0.6221 - val_recall: 0.4531\n",
      "Epoch 12/20\n",
      "836/836 - 42s - 51ms/step - NLL: 0.8990 - accuracy: 0.6916 - f1_score: 0.5814 - loss: 1.0976 - precision: 0.7958 - recall: 0.5825 - val_NLL: 1.4762 - val_accuracy: 0.5602 - val_f1_score: 0.4984 - val_loss: 1.6445 - val_precision: 0.6499 - val_recall: 0.4629\n",
      "Epoch 13/20\n",
      "836/836 - 38s - 45ms/step - NLL: 0.8873 - accuracy: 0.6952 - f1_score: 0.5882 - loss: 1.0871 - precision: 0.7981 - recall: 0.5897 - val_NLL: 1.4620 - val_accuracy: 0.5728 - val_f1_score: 0.5126 - val_loss: 1.6317 - val_precision: 0.6504 - val_recall: 0.4675\n",
      "Epoch 14/20\n",
      "836/836 - 37s - 44ms/step - NLL: 0.8780 - accuracy: 0.6979 - f1_score: 0.5941 - loss: 1.0785 - precision: 0.7996 - recall: 0.5933 - val_NLL: 1.5144 - val_accuracy: 0.5534 - val_f1_score: 0.4877 - val_loss: 1.6836 - val_precision: 0.6334 - val_recall: 0.4648\n",
      "Epoch 15/20\n",
      "836/836 - 51s - 61ms/step - NLL: 0.8703 - accuracy: 0.6997 - f1_score: 0.5966 - loss: 1.0720 - precision: 0.8004 - recall: 0.5958 - val_NLL: 1.4243 - val_accuracy: 0.5694 - val_f1_score: 0.5075 - val_loss: 1.5971 - val_precision: 0.6495 - val_recall: 0.4755\n",
      "Epoch 16/20\n",
      "836/836 - 46s - 55ms/step - NLL: 0.8635 - accuracy: 0.7027 - f1_score: 0.5990 - loss: 1.0668 - precision: 0.8021 - recall: 0.5993 - val_NLL: 1.4585 - val_accuracy: 0.5667 - val_f1_score: 0.5045 - val_loss: 1.6327 - val_precision: 0.6556 - val_recall: 0.4709\n",
      "Epoch 17/20\n",
      "836/836 - 48s - 58ms/step - NLL: 0.8537 - accuracy: 0.7044 - f1_score: 0.6037 - loss: 1.0584 - precision: 0.8028 - recall: 0.6024 - val_NLL: 1.4990 - val_accuracy: 0.5690 - val_f1_score: 0.5053 - val_loss: 1.6729 - val_precision: 0.6535 - val_recall: 0.4838\n",
      "Epoch 18/20\n",
      "836/836 - 48s - 57ms/step - NLL: 0.8493 - accuracy: 0.7070 - f1_score: 0.6077 - loss: 1.0547 - precision: 0.8032 - recall: 0.6051 - val_NLL: 1.4367 - val_accuracy: 0.5690 - val_f1_score: 0.5094 - val_loss: 1.6131 - val_precision: 0.6546 - val_recall: 0.4724\n",
      "Epoch 19/20\n",
      "836/836 - 50s - 59ms/step - NLL: 0.8407 - accuracy: 0.7067 - f1_score: 0.6070 - loss: 1.0471 - precision: 0.8010 - recall: 0.6075 - val_NLL: 1.4267 - val_accuracy: 0.5792 - val_f1_score: 0.5042 - val_loss: 1.6045 - val_precision: 0.6630 - val_recall: 0.4823\n",
      "Epoch 20/20\n",
      "836/836 - 50s - 60ms/step - NLL: 0.8371 - accuracy: 0.7111 - f1_score: 0.6141 - loss: 1.0446 - precision: 0.8050 - recall: 0.6132 - val_NLL: 1.4498 - val_accuracy: 0.5709 - val_f1_score: 0.5149 - val_loss: 1.6275 - val_precision: 0.6430 - val_recall: 0.4793\n",
      "\u001b[1m1672/1672\u001b[0m \u001b[32m━━━━━━━━━━━━━━━━━━━━\u001b[0m\u001b[37m\u001b[0m \u001b[1m39s\u001b[0m 23ms/step\n",
      "\u001b[1m83/83\u001b[0m \u001b[32m━━━━━━━━━━━━━━━━━━━━\u001b[0m\u001b[37m\u001b[0m \u001b[1m2s\u001b[0m 23ms/step\n",
      "NLL: 1.42\n",
      "Validation accuracy: 0.57\n",
      "Validation F1Score: 0.51\n"
     ]
    }
   ],
   "source": [
    "datapath = cwd / '..' / 'Data' / 'DHG2016' / 'small_windows'\n",
    "\n",
    "results_valid_labels_list = []\n",
    "results_scores_list_valid = []\n",
    "results_scores_list_train = []\n",
    "\n",
    "\n",
    "for seedidx, n_fold in enumerate(folds):\n",
    "    print('evaluating Fold', n_fold)\n",
    "    seed_val = seeds[seedidx]\n",
    "\n",
    "    fold = pickle.load(open((datapath / ('Fold' + str(n_fold) + '.pkl')).resolve(), 'rb'))\n",
    "    Y_train_oh = fold['train']['Y_oh']\n",
    "    Y_valid_oh = fold['valid']['Y_oh']\n",
    "    X_train = fold['train']['X']\n",
    "    X_valid = fold['valid']['X']\n",
    "  \n",
    "\n",
    "    like7_small = ConvModel_small(cfg, 'Test', seed = seed_val)\n",
    "    like7_small.compile_model()\n",
    "\n",
    "    # Train the model\n",
    "    like7_small.train_model(X_train, Y_train_oh, X_valid, Y_valid_oh)\n",
    "\n",
    "    Y_prob_train = like7_small.model.predict(X_train)\n",
    "    Y_prob_valid = like7_small.model.predict(X_valid)\n",
    "    Y_score_true = np.max(Y_prob_valid, axis=-1)\n",
    "\n",
    "    Y_hat_train = np.argmax(Y_prob_train, axis=-1)\n",
    "    Y_hat_valid = np.argmax(Y_prob_valid, axis=-1)\n",
    "\n",
    "    results_train = like7_small.model.evaluate(X_train, Y_train_oh, verbose = 0, return_dict=True)\n",
    "    results_valid = like7_small.model.evaluate(X_valid, Y_valid_oh, verbose = 0, return_dict=True)\n",
    "\n",
    "    print(f'NLL: {results_valid['NLL']:,.2f}')\n",
    "    #print(f'Validation score: {results['loss']:,.2f}')\n",
    "    print(f'Validation accuracy: {results_valid['accuracy']:,.2f}')\n",
    "    print(f'Validation F1Score: {results_valid['f1_score']:,.2f}')\n",
    "\n",
    "    results_valid_labels_list.append(pd.DataFrame({'Fold': n_fold, 'Y': fold['valid']['Y'], 'Y_hat': Y_hat_valid, 'Y_prob': Y_score_true}))\n",
    "    results_scores_list_train.append(pd.DataFrame(results_train, index = [n_fold]))\n",
    "    results_scores_list_valid.append(pd.DataFrame(results_valid, index = [n_fold]))\n",
    "    #results_scores_list.append({'Fold': n_fold, 'Accuracy_train': accuracy_train, 'Accuracy_valid': accuracy_valid, 'F1-Score_train': f1_score_train, 'F1-Score_valid': f1_score_valid, 'NLL_train': nll_train, 'NLL_valid': nll_valid})\n",
    "    \n",
    "results_scores = pd.concat([pd.concat(results_scores_list_train).add_suffix('_train'),pd.concat(results_scores_list_valid).add_suffix('_valid')],axis = 1)\n",
    "results_scores.rename(columns = {'fold_train': 'fold'}, inplace = True)\n",
    "results_valid_labels = pd.concat(results_valid_labels_list)\n"
   ]
  },
  {
   "cell_type": "code",
   "execution_count": 13,
   "metadata": {},
   "outputs": [],
   "source": [
    "results_valid_labels.to_pickle(datapath/'results_valid_labels_dcnn.pkl')\n",
    "results_scores.to_pickle(datapath/'results_scores_dcnn.pkl')"
   ]
  },
  {
   "cell_type": "code",
   "execution_count": 8,
   "metadata": {},
   "outputs": [
    {
     "data": {
      "text/plain": [
       "Index(['NLL_train', 'accuracy_train', 'f1_score_train', 'loss_train',\n",
       "       'precision_train', 'recall_train', 'NLL_valid', 'accuracy_valid',\n",
       "       'f1_score_valid', 'loss_valid', 'precision_valid', 'recall_valid'],\n",
       "      dtype='object')"
      ]
     },
     "execution_count": 8,
     "metadata": {},
     "output_type": "execute_result"
    }
   ],
   "source": [
    "results_scores.columns"
   ]
  },
  {
   "cell_type": "code",
   "execution_count": 14,
   "metadata": {},
   "outputs": [
    {
     "name": "stdout",
     "output_type": "stream",
     "text": [
      "accuracy on training data - frames: 72.3% +-  1.4%\n",
      "F1_Score on training data - frames: 63.0% +- 2.5%\n",
      "NLL on training data - frames: 0.79 +- 0.04\n",
      "accuracy on validation data - frames: 63.7% +- 4.2%\n",
      "F1-Score on validation data - frames: 49.0% +- 7.0%\n",
      "NLL on validation data - frames: 1.13 +- 0.16\n"
     ]
    }
   ],
   "source": [
    "mean = results_scores.mean()\n",
    "std = results_scores.std()\n",
    "\n",
    "print(f'accuracy on training data - frames: {mean[\"accuracy_train\"]*100:.1f}% +-  {std[\"accuracy_train\"]*100:.1f}%')\n",
    "print(f'F1_Score on training data - frames: {mean[\"f1_score_train\"]*100:.1f}% +- {std[\"f1_score_train\"]*100:.1f}%')\n",
    "print(f'NLL on training data - frames: {mean[\"NLL_train\"]:.2f} +- {std[\"NLL_train\"]:.2f}')\n",
    "\n",
    "print(f'accuracy on validation data - frames: {mean['accuracy_valid']*100:.1f}% +- {std['accuracy_valid']*100:.1f}%')\n",
    "print(f'F1-Score on validation data - frames: {mean['f1_score_valid']*100:.1f}% +- {std['f1_score_valid']*100:.1f}%')\n",
    "print(f'NLL on validation data - frames: {mean['NLL_valid']:.2f} +- {std['NLL_valid']:.2f}')"
   ]
  },
  {
   "cell_type": "code",
   "execution_count": 11,
   "metadata": {},
   "outputs": [
    {
     "name": "stdout",
     "output_type": "stream",
     "text": [
      "accuracy on training data - frames: 58.3% +-  2.2%\n",
      "F1_Score on training data - frames: 60.0% +- 2.2%\n",
      "NLL on training data - frames: 1.16 +- 0.06\n",
      "accuracy on validation data - frames: 47.0% +- 5.2%\n",
      "F1-Score on validation data - frames: 45.1% +- 5.9%\n",
      "NLL on validation data - frames: 1.56 +- 0.17\n"
     ]
    }
   ],
   "source": [
    "mean = results_scores.mean()\n",
    "std = results_scores.std()\n",
    "\n",
    "print(f'accuracy on training data - frames: {mean[\"accuracy_train\"]*100:.1f}% +-  {std[\"accuracy_train\"]*100:.1f}%')\n",
    "print(f'F1_Score on training data - frames: {mean[\"f1_score_train\"]*100:.1f}% +- {std[\"f1_score_train\"]*100:.1f}%')\n",
    "print(f'NLL on training data - frames: {mean[\"NLL_train\"]:.2f} +- {std[\"NLL_train\"]:.2f}')\n",
    "\n",
    "print(f'accuracy on validation data - frames: {mean['accuracy_valid']*100:.1f}% +- {std['accuracy_valid']*100:.1f}%')\n",
    "print(f'F1-Score on validation data - frames: {mean['f1_score_valid']*100:.1f}% +- {std['f1_score_valid']*100:.1f}%')\n",
    "print(f'NLL on validation data - frames: {mean['NLL_valid']:.2f} +- {std['NLL_valid']:.2f}')\n"
   ]
  },
  {
   "cell_type": "code",
   "execution_count": 128,
   "metadata": {},
   "outputs": [
    {
     "name": "stdout",
     "output_type": "stream",
     "text": [
      "fold        2.449490\n",
      "seed        0.000000\n",
      "NLL         0.163328\n",
      "accuracy    0.044899\n",
      "f1_score    0.056034\n",
      "dtype: float64\n",
      "fold         4.500000\n",
      "seed        26.000000\n",
      "NLL          1.265158\n",
      "accuracy     0.589345\n",
      "f1_score     0.536435\n",
      "dtype: float64\n"
     ]
    }
   ],
   "source": [
    "print(resultsDF.std())\n",
    "print(resultsDF.mean())"
   ]
  },
  {
   "cell_type": "code",
   "execution_count": 120,
   "metadata": {},
   "outputs": [
    {
     "name": "stdout",
     "output_type": "stream",
     "text": [
      "\u001b[1m91/91\u001b[0m \u001b[32m━━━━━━━━━━━━━━━━━━━━\u001b[0m\u001b[37m\u001b[0m \u001b[1m1s\u001b[0m 9ms/step\n"
     ]
    },
    {
     "data": {
      "application/vnd.plotly.v1+json": {
       "config": {
        "plotlyServerURL": "https://plot.ly"
       },
       "data": [
        {
         "colorbar": {
          "title": {
           "text": "Percentage of<br>true label"
          }
         },
         "colorscale": [
          [
           0,
           "#440154"
          ],
          [
           0.1111111111111111,
           "#482878"
          ],
          [
           0.2222222222222222,
           "#3e4989"
          ],
          [
           0.3333333333333333,
           "#31688e"
          ],
          [
           0.4444444444444444,
           "#26828e"
          ],
          [
           0.5555555555555556,
           "#1f9e89"
          ],
          [
           0.6666666666666666,
           "#35b779"
          ],
          [
           0.7777777777777778,
           "#6ece58"
          ],
          [
           0.8888888888888888,
           "#b5de2b"
          ],
          [
           1,
           "#fde725"
          ]
         ],
         "text": [
          [
           552,
           65,
           66,
           18,
           120,
           64,
           45,
           31,
           118,
           53,
           81,
           21,
           30,
           13,
           8
          ],
          [
           6,
           40,
           22,
           6,
           18,
           3,
           4,
           0,
           1,
           8,
           16,
           0,
           2,
           0,
           0
          ],
          [
           2,
           3,
           64,
           0,
           0,
           0,
           0,
           0,
           0,
           0,
           9,
           0,
           0,
           0,
           0
          ],
          [
           7,
           2,
           6,
           66,
           5,
           1,
           0,
           1,
           0,
           16,
           2,
           0,
           0,
           0,
           0
          ],
          [
           5,
           22,
           0,
           0,
           64,
           0,
           2,
           0,
           0,
           1,
           12,
           0,
           0,
           0,
           0
          ],
          [
           2,
           7,
           0,
           0,
           5,
           70,
           3,
           0,
           24,
           0,
           2,
           0,
           0,
           0,
           0
          ],
          [
           6,
           22,
           7,
           1,
           3,
           11,
           78,
           0,
           14,
           0,
           1,
           0,
           0,
           0,
           0
          ],
          [
           0,
           0,
           1,
           1,
           0,
           5,
           6,
           42,
           4,
           1,
           0,
           5,
           6,
           2,
           6
          ],
          [
           2,
           1,
           1,
           3,
           3,
           18,
           1,
           1,
           54,
           1,
           3,
           2,
           0,
           0,
           7
          ],
          [
           1,
           1,
           0,
           7,
           0,
           2,
           6,
           1,
           1,
           40,
           0,
           4,
           4,
           1,
           2
          ],
          [
           3,
           0,
           3,
           0,
           0,
           6,
           0,
           1,
           0,
           0,
           47,
           0,
           3,
           0,
           0
          ],
          [
           0,
           0,
           0,
           0,
           0,
           0,
           0,
           3,
           0,
           0,
           0,
           118,
           3,
           39,
           0
          ],
          [
           3,
           0,
           0,
           0,
           0,
           3,
           3,
           32,
           3,
           0,
           14,
           18,
           117,
           11,
           0
          ],
          [
           0,
           0,
           0,
           0,
           0,
           2,
           0,
           3,
           0,
           0,
           0,
           30,
           1,
           102,
           0
          ],
          [
           6,
           2,
           17,
           0,
           4,
           19,
           8,
           6,
           5,
           1,
           15,
           0,
           6,
           0,
           46
          ]
         ],
         "texttemplate": "%{z:.0%}<br>(%{text:d})",
         "type": "heatmap",
         "x": [
          0,
          1,
          2,
          3,
          4,
          5,
          6,
          7,
          8,
          9,
          10,
          11,
          12,
          13,
          14
         ],
         "y": [
          0,
          1,
          2,
          3,
          4,
          5,
          6,
          7,
          8,
          9,
          10,
          11,
          12,
          13,
          14
         ],
         "z": [
          [
           0.43,
           0.05,
           0.05,
           0.01,
           0.09,
           0.05,
           0.04,
           0.02,
           0.09,
           0.04,
           0.06,
           0.02,
           0.02,
           0.01,
           0.01
          ],
          [
           0.05,
           0.32,
           0.17,
           0.05,
           0.14,
           0.02,
           0.03,
           0,
           0.01,
           0.06,
           0.13,
           0,
           0.02,
           0,
           0
          ],
          [
           0.03,
           0.04,
           0.82,
           0,
           0,
           0,
           0,
           0,
           0,
           0,
           0.12,
           0,
           0,
           0,
           0
          ],
          [
           0.07,
           0.02,
           0.06,
           0.62,
           0.05,
           0.01,
           0,
           0.01,
           0,
           0.15,
           0.02,
           0,
           0,
           0,
           0
          ],
          [
           0.05,
           0.21,
           0,
           0,
           0.6,
           0,
           0.02,
           0,
           0,
           0.01,
           0.11,
           0,
           0,
           0,
           0
          ],
          [
           0.02,
           0.06,
           0,
           0,
           0.04,
           0.62,
           0.03,
           0,
           0.21,
           0,
           0.02,
           0,
           0,
           0,
           0
          ],
          [
           0.04,
           0.15,
           0.05,
           0.01,
           0.02,
           0.08,
           0.55,
           0,
           0.1,
           0,
           0.01,
           0,
           0,
           0,
           0
          ],
          [
           0,
           0,
           0.01,
           0.01,
           0,
           0.06,
           0.08,
           0.53,
           0.05,
           0.01,
           0,
           0.06,
           0.08,
           0.03,
           0.08
          ],
          [
           0.02,
           0.01,
           0.01,
           0.03,
           0.03,
           0.19,
           0.01,
           0.01,
           0.56,
           0.01,
           0.03,
           0.02,
           0,
           0,
           0.07
          ],
          [
           0.01,
           0.01,
           0,
           0.1,
           0,
           0.03,
           0.09,
           0.01,
           0.01,
           0.57,
           0,
           0.06,
           0.06,
           0.01,
           0.03
          ],
          [
           0.05,
           0,
           0.05,
           0,
           0,
           0.1,
           0,
           0.02,
           0,
           0,
           0.75,
           0,
           0.05,
           0,
           0
          ],
          [
           0,
           0,
           0,
           0,
           0,
           0,
           0,
           0.02,
           0,
           0,
           0,
           0.72,
           0.02,
           0.24,
           0
          ],
          [
           0.01,
           0,
           0,
           0,
           0,
           0.01,
           0.01,
           0.16,
           0.01,
           0,
           0.07,
           0.09,
           0.57,
           0.05,
           0
          ],
          [
           0,
           0,
           0,
           0,
           0,
           0.01,
           0,
           0.02,
           0,
           0,
           0,
           0.22,
           0.01,
           0.74,
           0
          ],
          [
           0.04,
           0.01,
           0.13,
           0,
           0.03,
           0.14,
           0.06,
           0.04,
           0.04,
           0.01,
           0.11,
           0,
           0.04,
           0,
           0.34
          ]
         ],
         "zmax": 1,
         "zmin": 0
        }
       ],
       "layout": {
        "autosize": false,
        "height": 800,
        "template": {
         "data": {
          "bar": [
           {
            "error_x": {
             "color": "#2a3f5f"
            },
            "error_y": {
             "color": "#2a3f5f"
            },
            "marker": {
             "line": {
              "color": "#E5ECF6",
              "width": 0.5
             },
             "pattern": {
              "fillmode": "overlay",
              "size": 10,
              "solidity": 0.2
             }
            },
            "type": "bar"
           }
          ],
          "barpolar": [
           {
            "marker": {
             "line": {
              "color": "#E5ECF6",
              "width": 0.5
             },
             "pattern": {
              "fillmode": "overlay",
              "size": 10,
              "solidity": 0.2
             }
            },
            "type": "barpolar"
           }
          ],
          "carpet": [
           {
            "aaxis": {
             "endlinecolor": "#2a3f5f",
             "gridcolor": "white",
             "linecolor": "white",
             "minorgridcolor": "white",
             "startlinecolor": "#2a3f5f"
            },
            "baxis": {
             "endlinecolor": "#2a3f5f",
             "gridcolor": "white",
             "linecolor": "white",
             "minorgridcolor": "white",
             "startlinecolor": "#2a3f5f"
            },
            "type": "carpet"
           }
          ],
          "choropleth": [
           {
            "colorbar": {
             "outlinewidth": 0,
             "ticks": ""
            },
            "type": "choropleth"
           }
          ],
          "contour": [
           {
            "colorbar": {
             "outlinewidth": 0,
             "ticks": ""
            },
            "colorscale": [
             [
              0,
              "#0d0887"
             ],
             [
              0.1111111111111111,
              "#46039f"
             ],
             [
              0.2222222222222222,
              "#7201a8"
             ],
             [
              0.3333333333333333,
              "#9c179e"
             ],
             [
              0.4444444444444444,
              "#bd3786"
             ],
             [
              0.5555555555555556,
              "#d8576b"
             ],
             [
              0.6666666666666666,
              "#ed7953"
             ],
             [
              0.7777777777777778,
              "#fb9f3a"
             ],
             [
              0.8888888888888888,
              "#fdca26"
             ],
             [
              1,
              "#f0f921"
             ]
            ],
            "type": "contour"
           }
          ],
          "contourcarpet": [
           {
            "colorbar": {
             "outlinewidth": 0,
             "ticks": ""
            },
            "type": "contourcarpet"
           }
          ],
          "heatmap": [
           {
            "colorbar": {
             "outlinewidth": 0,
             "ticks": ""
            },
            "colorscale": [
             [
              0,
              "#0d0887"
             ],
             [
              0.1111111111111111,
              "#46039f"
             ],
             [
              0.2222222222222222,
              "#7201a8"
             ],
             [
              0.3333333333333333,
              "#9c179e"
             ],
             [
              0.4444444444444444,
              "#bd3786"
             ],
             [
              0.5555555555555556,
              "#d8576b"
             ],
             [
              0.6666666666666666,
              "#ed7953"
             ],
             [
              0.7777777777777778,
              "#fb9f3a"
             ],
             [
              0.8888888888888888,
              "#fdca26"
             ],
             [
              1,
              "#f0f921"
             ]
            ],
            "type": "heatmap"
           }
          ],
          "heatmapgl": [
           {
            "colorbar": {
             "outlinewidth": 0,
             "ticks": ""
            },
            "colorscale": [
             [
              0,
              "#0d0887"
             ],
             [
              0.1111111111111111,
              "#46039f"
             ],
             [
              0.2222222222222222,
              "#7201a8"
             ],
             [
              0.3333333333333333,
              "#9c179e"
             ],
             [
              0.4444444444444444,
              "#bd3786"
             ],
             [
              0.5555555555555556,
              "#d8576b"
             ],
             [
              0.6666666666666666,
              "#ed7953"
             ],
             [
              0.7777777777777778,
              "#fb9f3a"
             ],
             [
              0.8888888888888888,
              "#fdca26"
             ],
             [
              1,
              "#f0f921"
             ]
            ],
            "type": "heatmapgl"
           }
          ],
          "histogram": [
           {
            "marker": {
             "pattern": {
              "fillmode": "overlay",
              "size": 10,
              "solidity": 0.2
             }
            },
            "type": "histogram"
           }
          ],
          "histogram2d": [
           {
            "colorbar": {
             "outlinewidth": 0,
             "ticks": ""
            },
            "colorscale": [
             [
              0,
              "#0d0887"
             ],
             [
              0.1111111111111111,
              "#46039f"
             ],
             [
              0.2222222222222222,
              "#7201a8"
             ],
             [
              0.3333333333333333,
              "#9c179e"
             ],
             [
              0.4444444444444444,
              "#bd3786"
             ],
             [
              0.5555555555555556,
              "#d8576b"
             ],
             [
              0.6666666666666666,
              "#ed7953"
             ],
             [
              0.7777777777777778,
              "#fb9f3a"
             ],
             [
              0.8888888888888888,
              "#fdca26"
             ],
             [
              1,
              "#f0f921"
             ]
            ],
            "type": "histogram2d"
           }
          ],
          "histogram2dcontour": [
           {
            "colorbar": {
             "outlinewidth": 0,
             "ticks": ""
            },
            "colorscale": [
             [
              0,
              "#0d0887"
             ],
             [
              0.1111111111111111,
              "#46039f"
             ],
             [
              0.2222222222222222,
              "#7201a8"
             ],
             [
              0.3333333333333333,
              "#9c179e"
             ],
             [
              0.4444444444444444,
              "#bd3786"
             ],
             [
              0.5555555555555556,
              "#d8576b"
             ],
             [
              0.6666666666666666,
              "#ed7953"
             ],
             [
              0.7777777777777778,
              "#fb9f3a"
             ],
             [
              0.8888888888888888,
              "#fdca26"
             ],
             [
              1,
              "#f0f921"
             ]
            ],
            "type": "histogram2dcontour"
           }
          ],
          "mesh3d": [
           {
            "colorbar": {
             "outlinewidth": 0,
             "ticks": ""
            },
            "type": "mesh3d"
           }
          ],
          "parcoords": [
           {
            "line": {
             "colorbar": {
              "outlinewidth": 0,
              "ticks": ""
             }
            },
            "type": "parcoords"
           }
          ],
          "pie": [
           {
            "automargin": true,
            "type": "pie"
           }
          ],
          "scatter": [
           {
            "fillpattern": {
             "fillmode": "overlay",
             "size": 10,
             "solidity": 0.2
            },
            "type": "scatter"
           }
          ],
          "scatter3d": [
           {
            "line": {
             "colorbar": {
              "outlinewidth": 0,
              "ticks": ""
             }
            },
            "marker": {
             "colorbar": {
              "outlinewidth": 0,
              "ticks": ""
             }
            },
            "type": "scatter3d"
           }
          ],
          "scattercarpet": [
           {
            "marker": {
             "colorbar": {
              "outlinewidth": 0,
              "ticks": ""
             }
            },
            "type": "scattercarpet"
           }
          ],
          "scattergeo": [
           {
            "marker": {
             "colorbar": {
              "outlinewidth": 0,
              "ticks": ""
             }
            },
            "type": "scattergeo"
           }
          ],
          "scattergl": [
           {
            "marker": {
             "colorbar": {
              "outlinewidth": 0,
              "ticks": ""
             }
            },
            "type": "scattergl"
           }
          ],
          "scattermapbox": [
           {
            "marker": {
             "colorbar": {
              "outlinewidth": 0,
              "ticks": ""
             }
            },
            "type": "scattermapbox"
           }
          ],
          "scatterpolar": [
           {
            "marker": {
             "colorbar": {
              "outlinewidth": 0,
              "ticks": ""
             }
            },
            "type": "scatterpolar"
           }
          ],
          "scatterpolargl": [
           {
            "marker": {
             "colorbar": {
              "outlinewidth": 0,
              "ticks": ""
             }
            },
            "type": "scatterpolargl"
           }
          ],
          "scatterternary": [
           {
            "marker": {
             "colorbar": {
              "outlinewidth": 0,
              "ticks": ""
             }
            },
            "type": "scatterternary"
           }
          ],
          "surface": [
           {
            "colorbar": {
             "outlinewidth": 0,
             "ticks": ""
            },
            "colorscale": [
             [
              0,
              "#0d0887"
             ],
             [
              0.1111111111111111,
              "#46039f"
             ],
             [
              0.2222222222222222,
              "#7201a8"
             ],
             [
              0.3333333333333333,
              "#9c179e"
             ],
             [
              0.4444444444444444,
              "#bd3786"
             ],
             [
              0.5555555555555556,
              "#d8576b"
             ],
             [
              0.6666666666666666,
              "#ed7953"
             ],
             [
              0.7777777777777778,
              "#fb9f3a"
             ],
             [
              0.8888888888888888,
              "#fdca26"
             ],
             [
              1,
              "#f0f921"
             ]
            ],
            "type": "surface"
           }
          ],
          "table": [
           {
            "cells": {
             "fill": {
              "color": "#EBF0F8"
             },
             "line": {
              "color": "white"
             }
            },
            "header": {
             "fill": {
              "color": "#C8D4E3"
             },
             "line": {
              "color": "white"
             }
            },
            "type": "table"
           }
          ]
         },
         "layout": {
          "annotationdefaults": {
           "arrowcolor": "#2a3f5f",
           "arrowhead": 0,
           "arrowwidth": 1
          },
          "autotypenumbers": "strict",
          "coloraxis": {
           "colorbar": {
            "outlinewidth": 0,
            "ticks": ""
           }
          },
          "colorscale": {
           "diverging": [
            [
             0,
             "#8e0152"
            ],
            [
             0.1,
             "#c51b7d"
            ],
            [
             0.2,
             "#de77ae"
            ],
            [
             0.3,
             "#f1b6da"
            ],
            [
             0.4,
             "#fde0ef"
            ],
            [
             0.5,
             "#f7f7f7"
            ],
            [
             0.6,
             "#e6f5d0"
            ],
            [
             0.7,
             "#b8e186"
            ],
            [
             0.8,
             "#7fbc41"
            ],
            [
             0.9,
             "#4d9221"
            ],
            [
             1,
             "#276419"
            ]
           ],
           "sequential": [
            [
             0,
             "#0d0887"
            ],
            [
             0.1111111111111111,
             "#46039f"
            ],
            [
             0.2222222222222222,
             "#7201a8"
            ],
            [
             0.3333333333333333,
             "#9c179e"
            ],
            [
             0.4444444444444444,
             "#bd3786"
            ],
            [
             0.5555555555555556,
             "#d8576b"
            ],
            [
             0.6666666666666666,
             "#ed7953"
            ],
            [
             0.7777777777777778,
             "#fb9f3a"
            ],
            [
             0.8888888888888888,
             "#fdca26"
            ],
            [
             1,
             "#f0f921"
            ]
           ],
           "sequentialminus": [
            [
             0,
             "#0d0887"
            ],
            [
             0.1111111111111111,
             "#46039f"
            ],
            [
             0.2222222222222222,
             "#7201a8"
            ],
            [
             0.3333333333333333,
             "#9c179e"
            ],
            [
             0.4444444444444444,
             "#bd3786"
            ],
            [
             0.5555555555555556,
             "#d8576b"
            ],
            [
             0.6666666666666666,
             "#ed7953"
            ],
            [
             0.7777777777777778,
             "#fb9f3a"
            ],
            [
             0.8888888888888888,
             "#fdca26"
            ],
            [
             1,
             "#f0f921"
            ]
           ]
          },
          "colorway": [
           "#636efa",
           "#EF553B",
           "#00cc96",
           "#ab63fa",
           "#FFA15A",
           "#19d3f3",
           "#FF6692",
           "#B6E880",
           "#FF97FF",
           "#FECB52"
          ],
          "font": {
           "color": "#2a3f5f"
          },
          "geo": {
           "bgcolor": "white",
           "lakecolor": "white",
           "landcolor": "#E5ECF6",
           "showlakes": true,
           "showland": true,
           "subunitcolor": "white"
          },
          "hoverlabel": {
           "align": "left"
          },
          "hovermode": "closest",
          "mapbox": {
           "style": "light"
          },
          "paper_bgcolor": "white",
          "plot_bgcolor": "#E5ECF6",
          "polar": {
           "angularaxis": {
            "gridcolor": "white",
            "linecolor": "white",
            "ticks": ""
           },
           "bgcolor": "#E5ECF6",
           "radialaxis": {
            "gridcolor": "white",
            "linecolor": "white",
            "ticks": ""
           }
          },
          "scene": {
           "xaxis": {
            "backgroundcolor": "#E5ECF6",
            "gridcolor": "white",
            "gridwidth": 2,
            "linecolor": "white",
            "showbackground": true,
            "ticks": "",
            "zerolinecolor": "white"
           },
           "yaxis": {
            "backgroundcolor": "#E5ECF6",
            "gridcolor": "white",
            "gridwidth": 2,
            "linecolor": "white",
            "showbackground": true,
            "ticks": "",
            "zerolinecolor": "white"
           },
           "zaxis": {
            "backgroundcolor": "#E5ECF6",
            "gridcolor": "white",
            "gridwidth": 2,
            "linecolor": "white",
            "showbackground": true,
            "ticks": "",
            "zerolinecolor": "white"
           }
          },
          "shapedefaults": {
           "line": {
            "color": "#2a3f5f"
           }
          },
          "ternary": {
           "aaxis": {
            "gridcolor": "white",
            "linecolor": "white",
            "ticks": ""
           },
           "baxis": {
            "gridcolor": "white",
            "linecolor": "white",
            "ticks": ""
           },
           "bgcolor": "#E5ECF6",
           "caxis": {
            "gridcolor": "white",
            "linecolor": "white",
            "ticks": ""
           }
          },
          "title": {
           "x": 0.05
          },
          "xaxis": {
           "automargin": true,
           "gridcolor": "white",
           "linecolor": "white",
           "ticks": "",
           "title": {
            "standoff": 15
           },
           "zerolinecolor": "white",
           "zerolinewidth": 2
          },
          "yaxis": {
           "automargin": true,
           "gridcolor": "white",
           "linecolor": "white",
           "ticks": "",
           "title": {
            "standoff": 15
           },
           "zerolinecolor": "white",
           "zerolinewidth": 2
          }
         }
        },
        "title": {
         "text": "Confusion Matrix Validation Data"
        },
        "width": 800,
        "xaxis": {
         "title": {
          "text": "Predicted label"
         }
        },
        "yaxis": {
         "autorange": "reversed",
         "title": {
          "text": "True Label"
         }
        }
       }
      }
     },
     "metadata": {},
     "output_type": "display_data"
    },
    {
     "data": {
      "application/vnd.plotly.v1+json": {
       "config": {
        "plotlyServerURL": "https://plot.ly"
       },
       "data": [
        {
         "colorbar": {
          "title": {
           "text": "Percentage of<br>predicted label"
          }
         },
         "colorscale": [
          [
           0,
           "#440154"
          ],
          [
           0.1111111111111111,
           "#482878"
          ],
          [
           0.2222222222222222,
           "#3e4989"
          ],
          [
           0.3333333333333333,
           "#31688e"
          ],
          [
           0.4444444444444444,
           "#26828e"
          ],
          [
           0.5555555555555556,
           "#1f9e89"
          ],
          [
           0.6666666666666666,
           "#35b779"
          ],
          [
           0.7777777777777778,
           "#6ece58"
          ],
          [
           0.8888888888888888,
           "#b5de2b"
          ],
          [
           1,
           "#fde725"
          ]
         ],
         "text": [
          [
           552,
           65,
           66,
           18,
           120,
           64,
           45,
           31,
           118,
           53,
           81,
           21,
           30,
           13,
           8
          ],
          [
           6,
           40,
           22,
           6,
           18,
           3,
           4,
           0,
           1,
           8,
           16,
           0,
           2,
           0,
           0
          ],
          [
           2,
           3,
           64,
           0,
           0,
           0,
           0,
           0,
           0,
           0,
           9,
           0,
           0,
           0,
           0
          ],
          [
           7,
           2,
           6,
           66,
           5,
           1,
           0,
           1,
           0,
           16,
           2,
           0,
           0,
           0,
           0
          ],
          [
           5,
           22,
           0,
           0,
           64,
           0,
           2,
           0,
           0,
           1,
           12,
           0,
           0,
           0,
           0
          ],
          [
           2,
           7,
           0,
           0,
           5,
           70,
           3,
           0,
           24,
           0,
           2,
           0,
           0,
           0,
           0
          ],
          [
           6,
           22,
           7,
           1,
           3,
           11,
           78,
           0,
           14,
           0,
           1,
           0,
           0,
           0,
           0
          ],
          [
           0,
           0,
           1,
           1,
           0,
           5,
           6,
           42,
           4,
           1,
           0,
           5,
           6,
           2,
           6
          ],
          [
           2,
           1,
           1,
           3,
           3,
           18,
           1,
           1,
           54,
           1,
           3,
           2,
           0,
           0,
           7
          ],
          [
           1,
           1,
           0,
           7,
           0,
           2,
           6,
           1,
           1,
           40,
           0,
           4,
           4,
           1,
           2
          ],
          [
           3,
           0,
           3,
           0,
           0,
           6,
           0,
           1,
           0,
           0,
           47,
           0,
           3,
           0,
           0
          ],
          [
           0,
           0,
           0,
           0,
           0,
           0,
           0,
           3,
           0,
           0,
           0,
           118,
           3,
           39,
           0
          ],
          [
           3,
           0,
           0,
           0,
           0,
           3,
           3,
           32,
           3,
           0,
           14,
           18,
           117,
           11,
           0
          ],
          [
           0,
           0,
           0,
           0,
           0,
           2,
           0,
           3,
           0,
           0,
           0,
           30,
           1,
           102,
           0
          ],
          [
           6,
           2,
           17,
           0,
           4,
           19,
           8,
           6,
           5,
           1,
           15,
           0,
           6,
           0,
           46
          ]
         ],
         "texttemplate": "%{z:.0%}<br>(%{text:d})",
         "type": "heatmap",
         "x": [
          0,
          1,
          2,
          3,
          4,
          5,
          6,
          7,
          8,
          9,
          10,
          11,
          12,
          13,
          14
         ],
         "y": [
          0,
          1,
          2,
          3,
          4,
          5,
          6,
          7,
          8,
          9,
          10,
          11,
          12,
          13,
          14
         ],
         "z": [
          [
           0.93,
           0.39,
           0.35,
           0.18,
           0.54,
           0.31,
           0.29,
           0.26,
           0.53,
           0.44,
           0.4,
           0.11,
           0.17,
           0.08,
           0.12
          ],
          [
           0.01,
           0.24,
           0.12,
           0.06,
           0.08,
           0.01,
           0.03,
           0,
           0,
           0.07,
           0.08,
           0,
           0.01,
           0,
           0
          ],
          [
           0,
           0.02,
           0.34,
           0,
           0,
           0,
           0,
           0,
           0,
           0,
           0.04,
           0,
           0,
           0,
           0
          ],
          [
           0.01,
           0.01,
           0.03,
           0.65,
           0.02,
           0,
           0,
           0.01,
           0,
           0.13,
           0.01,
           0,
           0,
           0,
           0
          ],
          [
           0.01,
           0.13,
           0,
           0,
           0.29,
           0,
           0.01,
           0,
           0,
           0.01,
           0.06,
           0,
           0,
           0,
           0
          ],
          [
           0,
           0.04,
           0,
           0,
           0.02,
           0.34,
           0.02,
           0,
           0.11,
           0,
           0.01,
           0,
           0,
           0,
           0
          ],
          [
           0.01,
           0.13,
           0.04,
           0.01,
           0.01,
           0.05,
           0.5,
           0,
           0.06,
           0,
           0,
           0,
           0,
           0,
           0
          ],
          [
           0,
           0,
           0.01,
           0.01,
           0,
           0.02,
           0.04,
           0.35,
           0.02,
           0.01,
           0,
           0.03,
           0.03,
           0.01,
           0.09
          ],
          [
           0,
           0.01,
           0.01,
           0.03,
           0.01,
           0.09,
           0.01,
           0.01,
           0.24,
           0.01,
           0.01,
           0.01,
           0,
           0,
           0.1
          ],
          [
           0,
           0.01,
           0,
           0.07,
           0,
           0.01,
           0.04,
           0.01,
           0,
           0.33,
           0,
           0.02,
           0.02,
           0.01,
           0.03
          ],
          [
           0.01,
           0,
           0.02,
           0,
           0,
           0.03,
           0,
           0.01,
           0,
           0,
           0.23,
           0,
           0.02,
           0,
           0
          ],
          [
           0,
           0,
           0,
           0,
           0,
           0,
           0,
           0.02,
           0,
           0,
           0,
           0.6,
           0.02,
           0.23,
           0
          ],
          [
           0.01,
           0,
           0,
           0,
           0,
           0.01,
           0.02,
           0.26,
           0.01,
           0,
           0.07,
           0.09,
           0.68,
           0.07,
           0
          ],
          [
           0,
           0,
           0,
           0,
           0,
           0.01,
           0,
           0.02,
           0,
           0,
           0,
           0.15,
           0.01,
           0.61,
           0
          ],
          [
           0.01,
           0.01,
           0.09,
           0,
           0.02,
           0.09,
           0.05,
           0.05,
           0.02,
           0.01,
           0.07,
           0,
           0.03,
           0,
           0.67
          ]
         ],
         "zmax": 1,
         "zmin": 0
        }
       ],
       "layout": {
        "autosize": false,
        "height": 800,
        "template": {
         "data": {
          "bar": [
           {
            "error_x": {
             "color": "#2a3f5f"
            },
            "error_y": {
             "color": "#2a3f5f"
            },
            "marker": {
             "line": {
              "color": "#E5ECF6",
              "width": 0.5
             },
             "pattern": {
              "fillmode": "overlay",
              "size": 10,
              "solidity": 0.2
             }
            },
            "type": "bar"
           }
          ],
          "barpolar": [
           {
            "marker": {
             "line": {
              "color": "#E5ECF6",
              "width": 0.5
             },
             "pattern": {
              "fillmode": "overlay",
              "size": 10,
              "solidity": 0.2
             }
            },
            "type": "barpolar"
           }
          ],
          "carpet": [
           {
            "aaxis": {
             "endlinecolor": "#2a3f5f",
             "gridcolor": "white",
             "linecolor": "white",
             "minorgridcolor": "white",
             "startlinecolor": "#2a3f5f"
            },
            "baxis": {
             "endlinecolor": "#2a3f5f",
             "gridcolor": "white",
             "linecolor": "white",
             "minorgridcolor": "white",
             "startlinecolor": "#2a3f5f"
            },
            "type": "carpet"
           }
          ],
          "choropleth": [
           {
            "colorbar": {
             "outlinewidth": 0,
             "ticks": ""
            },
            "type": "choropleth"
           }
          ],
          "contour": [
           {
            "colorbar": {
             "outlinewidth": 0,
             "ticks": ""
            },
            "colorscale": [
             [
              0,
              "#0d0887"
             ],
             [
              0.1111111111111111,
              "#46039f"
             ],
             [
              0.2222222222222222,
              "#7201a8"
             ],
             [
              0.3333333333333333,
              "#9c179e"
             ],
             [
              0.4444444444444444,
              "#bd3786"
             ],
             [
              0.5555555555555556,
              "#d8576b"
             ],
             [
              0.6666666666666666,
              "#ed7953"
             ],
             [
              0.7777777777777778,
              "#fb9f3a"
             ],
             [
              0.8888888888888888,
              "#fdca26"
             ],
             [
              1,
              "#f0f921"
             ]
            ],
            "type": "contour"
           }
          ],
          "contourcarpet": [
           {
            "colorbar": {
             "outlinewidth": 0,
             "ticks": ""
            },
            "type": "contourcarpet"
           }
          ],
          "heatmap": [
           {
            "colorbar": {
             "outlinewidth": 0,
             "ticks": ""
            },
            "colorscale": [
             [
              0,
              "#0d0887"
             ],
             [
              0.1111111111111111,
              "#46039f"
             ],
             [
              0.2222222222222222,
              "#7201a8"
             ],
             [
              0.3333333333333333,
              "#9c179e"
             ],
             [
              0.4444444444444444,
              "#bd3786"
             ],
             [
              0.5555555555555556,
              "#d8576b"
             ],
             [
              0.6666666666666666,
              "#ed7953"
             ],
             [
              0.7777777777777778,
              "#fb9f3a"
             ],
             [
              0.8888888888888888,
              "#fdca26"
             ],
             [
              1,
              "#f0f921"
             ]
            ],
            "type": "heatmap"
           }
          ],
          "heatmapgl": [
           {
            "colorbar": {
             "outlinewidth": 0,
             "ticks": ""
            },
            "colorscale": [
             [
              0,
              "#0d0887"
             ],
             [
              0.1111111111111111,
              "#46039f"
             ],
             [
              0.2222222222222222,
              "#7201a8"
             ],
             [
              0.3333333333333333,
              "#9c179e"
             ],
             [
              0.4444444444444444,
              "#bd3786"
             ],
             [
              0.5555555555555556,
              "#d8576b"
             ],
             [
              0.6666666666666666,
              "#ed7953"
             ],
             [
              0.7777777777777778,
              "#fb9f3a"
             ],
             [
              0.8888888888888888,
              "#fdca26"
             ],
             [
              1,
              "#f0f921"
             ]
            ],
            "type": "heatmapgl"
           }
          ],
          "histogram": [
           {
            "marker": {
             "pattern": {
              "fillmode": "overlay",
              "size": 10,
              "solidity": 0.2
             }
            },
            "type": "histogram"
           }
          ],
          "histogram2d": [
           {
            "colorbar": {
             "outlinewidth": 0,
             "ticks": ""
            },
            "colorscale": [
             [
              0,
              "#0d0887"
             ],
             [
              0.1111111111111111,
              "#46039f"
             ],
             [
              0.2222222222222222,
              "#7201a8"
             ],
             [
              0.3333333333333333,
              "#9c179e"
             ],
             [
              0.4444444444444444,
              "#bd3786"
             ],
             [
              0.5555555555555556,
              "#d8576b"
             ],
             [
              0.6666666666666666,
              "#ed7953"
             ],
             [
              0.7777777777777778,
              "#fb9f3a"
             ],
             [
              0.8888888888888888,
              "#fdca26"
             ],
             [
              1,
              "#f0f921"
             ]
            ],
            "type": "histogram2d"
           }
          ],
          "histogram2dcontour": [
           {
            "colorbar": {
             "outlinewidth": 0,
             "ticks": ""
            },
            "colorscale": [
             [
              0,
              "#0d0887"
             ],
             [
              0.1111111111111111,
              "#46039f"
             ],
             [
              0.2222222222222222,
              "#7201a8"
             ],
             [
              0.3333333333333333,
              "#9c179e"
             ],
             [
              0.4444444444444444,
              "#bd3786"
             ],
             [
              0.5555555555555556,
              "#d8576b"
             ],
             [
              0.6666666666666666,
              "#ed7953"
             ],
             [
              0.7777777777777778,
              "#fb9f3a"
             ],
             [
              0.8888888888888888,
              "#fdca26"
             ],
             [
              1,
              "#f0f921"
             ]
            ],
            "type": "histogram2dcontour"
           }
          ],
          "mesh3d": [
           {
            "colorbar": {
             "outlinewidth": 0,
             "ticks": ""
            },
            "type": "mesh3d"
           }
          ],
          "parcoords": [
           {
            "line": {
             "colorbar": {
              "outlinewidth": 0,
              "ticks": ""
             }
            },
            "type": "parcoords"
           }
          ],
          "pie": [
           {
            "automargin": true,
            "type": "pie"
           }
          ],
          "scatter": [
           {
            "fillpattern": {
             "fillmode": "overlay",
             "size": 10,
             "solidity": 0.2
            },
            "type": "scatter"
           }
          ],
          "scatter3d": [
           {
            "line": {
             "colorbar": {
              "outlinewidth": 0,
              "ticks": ""
             }
            },
            "marker": {
             "colorbar": {
              "outlinewidth": 0,
              "ticks": ""
             }
            },
            "type": "scatter3d"
           }
          ],
          "scattercarpet": [
           {
            "marker": {
             "colorbar": {
              "outlinewidth": 0,
              "ticks": ""
             }
            },
            "type": "scattercarpet"
           }
          ],
          "scattergeo": [
           {
            "marker": {
             "colorbar": {
              "outlinewidth": 0,
              "ticks": ""
             }
            },
            "type": "scattergeo"
           }
          ],
          "scattergl": [
           {
            "marker": {
             "colorbar": {
              "outlinewidth": 0,
              "ticks": ""
             }
            },
            "type": "scattergl"
           }
          ],
          "scattermapbox": [
           {
            "marker": {
             "colorbar": {
              "outlinewidth": 0,
              "ticks": ""
             }
            },
            "type": "scattermapbox"
           }
          ],
          "scatterpolar": [
           {
            "marker": {
             "colorbar": {
              "outlinewidth": 0,
              "ticks": ""
             }
            },
            "type": "scatterpolar"
           }
          ],
          "scatterpolargl": [
           {
            "marker": {
             "colorbar": {
              "outlinewidth": 0,
              "ticks": ""
             }
            },
            "type": "scatterpolargl"
           }
          ],
          "scatterternary": [
           {
            "marker": {
             "colorbar": {
              "outlinewidth": 0,
              "ticks": ""
             }
            },
            "type": "scatterternary"
           }
          ],
          "surface": [
           {
            "colorbar": {
             "outlinewidth": 0,
             "ticks": ""
            },
            "colorscale": [
             [
              0,
              "#0d0887"
             ],
             [
              0.1111111111111111,
              "#46039f"
             ],
             [
              0.2222222222222222,
              "#7201a8"
             ],
             [
              0.3333333333333333,
              "#9c179e"
             ],
             [
              0.4444444444444444,
              "#bd3786"
             ],
             [
              0.5555555555555556,
              "#d8576b"
             ],
             [
              0.6666666666666666,
              "#ed7953"
             ],
             [
              0.7777777777777778,
              "#fb9f3a"
             ],
             [
              0.8888888888888888,
              "#fdca26"
             ],
             [
              1,
              "#f0f921"
             ]
            ],
            "type": "surface"
           }
          ],
          "table": [
           {
            "cells": {
             "fill": {
              "color": "#EBF0F8"
             },
             "line": {
              "color": "white"
             }
            },
            "header": {
             "fill": {
              "color": "#C8D4E3"
             },
             "line": {
              "color": "white"
             }
            },
            "type": "table"
           }
          ]
         },
         "layout": {
          "annotationdefaults": {
           "arrowcolor": "#2a3f5f",
           "arrowhead": 0,
           "arrowwidth": 1
          },
          "autotypenumbers": "strict",
          "coloraxis": {
           "colorbar": {
            "outlinewidth": 0,
            "ticks": ""
           }
          },
          "colorscale": {
           "diverging": [
            [
             0,
             "#8e0152"
            ],
            [
             0.1,
             "#c51b7d"
            ],
            [
             0.2,
             "#de77ae"
            ],
            [
             0.3,
             "#f1b6da"
            ],
            [
             0.4,
             "#fde0ef"
            ],
            [
             0.5,
             "#f7f7f7"
            ],
            [
             0.6,
             "#e6f5d0"
            ],
            [
             0.7,
             "#b8e186"
            ],
            [
             0.8,
             "#7fbc41"
            ],
            [
             0.9,
             "#4d9221"
            ],
            [
             1,
             "#276419"
            ]
           ],
           "sequential": [
            [
             0,
             "#0d0887"
            ],
            [
             0.1111111111111111,
             "#46039f"
            ],
            [
             0.2222222222222222,
             "#7201a8"
            ],
            [
             0.3333333333333333,
             "#9c179e"
            ],
            [
             0.4444444444444444,
             "#bd3786"
            ],
            [
             0.5555555555555556,
             "#d8576b"
            ],
            [
             0.6666666666666666,
             "#ed7953"
            ],
            [
             0.7777777777777778,
             "#fb9f3a"
            ],
            [
             0.8888888888888888,
             "#fdca26"
            ],
            [
             1,
             "#f0f921"
            ]
           ],
           "sequentialminus": [
            [
             0,
             "#0d0887"
            ],
            [
             0.1111111111111111,
             "#46039f"
            ],
            [
             0.2222222222222222,
             "#7201a8"
            ],
            [
             0.3333333333333333,
             "#9c179e"
            ],
            [
             0.4444444444444444,
             "#bd3786"
            ],
            [
             0.5555555555555556,
             "#d8576b"
            ],
            [
             0.6666666666666666,
             "#ed7953"
            ],
            [
             0.7777777777777778,
             "#fb9f3a"
            ],
            [
             0.8888888888888888,
             "#fdca26"
            ],
            [
             1,
             "#f0f921"
            ]
           ]
          },
          "colorway": [
           "#636efa",
           "#EF553B",
           "#00cc96",
           "#ab63fa",
           "#FFA15A",
           "#19d3f3",
           "#FF6692",
           "#B6E880",
           "#FF97FF",
           "#FECB52"
          ],
          "font": {
           "color": "#2a3f5f"
          },
          "geo": {
           "bgcolor": "white",
           "lakecolor": "white",
           "landcolor": "#E5ECF6",
           "showlakes": true,
           "showland": true,
           "subunitcolor": "white"
          },
          "hoverlabel": {
           "align": "left"
          },
          "hovermode": "closest",
          "mapbox": {
           "style": "light"
          },
          "paper_bgcolor": "white",
          "plot_bgcolor": "#E5ECF6",
          "polar": {
           "angularaxis": {
            "gridcolor": "white",
            "linecolor": "white",
            "ticks": ""
           },
           "bgcolor": "#E5ECF6",
           "radialaxis": {
            "gridcolor": "white",
            "linecolor": "white",
            "ticks": ""
           }
          },
          "scene": {
           "xaxis": {
            "backgroundcolor": "#E5ECF6",
            "gridcolor": "white",
            "gridwidth": 2,
            "linecolor": "white",
            "showbackground": true,
            "ticks": "",
            "zerolinecolor": "white"
           },
           "yaxis": {
            "backgroundcolor": "#E5ECF6",
            "gridcolor": "white",
            "gridwidth": 2,
            "linecolor": "white",
            "showbackground": true,
            "ticks": "",
            "zerolinecolor": "white"
           },
           "zaxis": {
            "backgroundcolor": "#E5ECF6",
            "gridcolor": "white",
            "gridwidth": 2,
            "linecolor": "white",
            "showbackground": true,
            "ticks": "",
            "zerolinecolor": "white"
           }
          },
          "shapedefaults": {
           "line": {
            "color": "#2a3f5f"
           }
          },
          "ternary": {
           "aaxis": {
            "gridcolor": "white",
            "linecolor": "white",
            "ticks": ""
           },
           "baxis": {
            "gridcolor": "white",
            "linecolor": "white",
            "ticks": ""
           },
           "bgcolor": "#E5ECF6",
           "caxis": {
            "gridcolor": "white",
            "linecolor": "white",
            "ticks": ""
           }
          },
          "title": {
           "x": 0.05
          },
          "xaxis": {
           "automargin": true,
           "gridcolor": "white",
           "linecolor": "white",
           "ticks": "",
           "title": {
            "standoff": 15
           },
           "zerolinecolor": "white",
           "zerolinewidth": 2
          },
          "yaxis": {
           "automargin": true,
           "gridcolor": "white",
           "linecolor": "white",
           "ticks": "",
           "title": {
            "standoff": 15
           },
           "zerolinecolor": "white",
           "zerolinewidth": 2
          }
         }
        },
        "title": {
         "text": "Confusion Matrix Validation Data"
        },
        "width": 800,
        "xaxis": {
         "title": {
          "text": "Predicted label"
         }
        },
        "yaxis": {
         "autorange": "reversed",
         "title": {
          "text": "True Label"
         }
        }
       }
      }
     },
     "metadata": {},
     "output_type": "display_data"
    }
   ],
   "source": [
    "y_scores_valid = like7.model.predict(foldsprocessors[1].window_sets_processed['valid']['X'])\n",
    "Y_hat_valid = np.argmax(y_scores_valid, axis=1)\n",
    "\n",
    "plot_CM(foldsprocessors[1].window_sets_processed['valid']['Y'], Y_hat_valid, 'Confusion Matrix Validation Data', percentagereference='recall')\n",
    "plot_CM(foldsprocessors[1].window_sets_processed['valid']['Y'], Y_hat_valid, 'Confusion Matrix Validation Data', percentagereference='precision')"
   ]
  },
  {
   "cell_type": "code",
   "execution_count": 46,
   "metadata": {},
   "outputs": [
    {
     "data": {
      "text/html": [
       "<div>\n",
       "<style scoped>\n",
       "    .dataframe tbody tr th:only-of-type {\n",
       "        vertical-align: middle;\n",
       "    }\n",
       "\n",
       "    .dataframe tbody tr th {\n",
       "        vertical-align: top;\n",
       "    }\n",
       "\n",
       "    .dataframe thead th {\n",
       "        text-align: right;\n",
       "    }\n",
       "</style>\n",
       "<table border=\"1\" class=\"dataframe\">\n",
       "  <thead>\n",
       "    <tr style=\"text-align: right;\">\n",
       "      <th></th>\n",
       "      <th>fold</th>\n",
       "      <th>seed</th>\n",
       "      <th>NLL</th>\n",
       "      <th>accuracy</th>\n",
       "      <th>f1_score</th>\n",
       "    </tr>\n",
       "  </thead>\n",
       "  <tbody>\n",
       "    <tr>\n",
       "      <th>0</th>\n",
       "      <td>1</td>\n",
       "      <td>26</td>\n",
       "      <td>2.084593</td>\n",
       "      <td>0.3322</td>\n",
       "      <td>0.311073</td>\n",
       "    </tr>\n",
       "  </tbody>\n",
       "</table>\n",
       "</div>"
      ],
      "text/plain": [
       "   fold  seed       NLL  accuracy  f1_score\n",
       "0     1    26  2.084593    0.3322  0.311073"
      ]
     },
     "execution_count": 46,
     "metadata": {},
     "output_type": "execute_result"
    }
   ],
   "source": [
    "resultsDF"
   ]
  },
  {
   "cell_type": "code",
   "execution_count": 52,
   "metadata": {},
   "outputs": [],
   "source": [
    "nameofrun = 'shortsequences_juststandardization'\n",
    "jsonpath = cwd / '..' / 'logs' / 'jsons' / ('resultsDF_' + nameofrun + '.json')\n",
    "resultsDF.to_json(jsonpath)"
   ]
  },
  {
   "cell_type": "code",
   "execution_count": 7,
   "metadata": {},
   "outputs": [
    {
     "ename": "FileNotFoundError",
     "evalue": "File c:\\Users\\mado\\Documents\\gesture_class\\Skripts\\..\\logs\\jsons\\resultsDF_shortsequences_juststandardization.json does not exist",
     "output_type": "error",
     "traceback": [
      "\u001b[1;31m---------------------------------------------------------------------------\u001b[0m",
      "\u001b[1;31mFileNotFoundError\u001b[0m                         Traceback (most recent call last)",
      "Cell \u001b[1;32mIn[7], line 3\u001b[0m\n\u001b[0;32m      1\u001b[0m nameofrun \u001b[38;5;241m=\u001b[39m \u001b[38;5;124m'\u001b[39m\u001b[38;5;124mshortsequences_juststandardization\u001b[39m\u001b[38;5;124m'\u001b[39m\n\u001b[0;32m      2\u001b[0m jsonpath \u001b[38;5;241m=\u001b[39m cwd \u001b[38;5;241m/\u001b[39m \u001b[38;5;124m'\u001b[39m\u001b[38;5;124m..\u001b[39m\u001b[38;5;124m'\u001b[39m \u001b[38;5;241m/\u001b[39m \u001b[38;5;124m'\u001b[39m\u001b[38;5;124mlogs\u001b[39m\u001b[38;5;124m'\u001b[39m \u001b[38;5;241m/\u001b[39m \u001b[38;5;124m'\u001b[39m\u001b[38;5;124mjsons\u001b[39m\u001b[38;5;124m'\u001b[39m \u001b[38;5;241m/\u001b[39m (\u001b[38;5;124m'\u001b[39m\u001b[38;5;124mresultsDF_\u001b[39m\u001b[38;5;124m'\u001b[39m \u001b[38;5;241m+\u001b[39m nameofrun \u001b[38;5;241m+\u001b[39m \u001b[38;5;124m'\u001b[39m\u001b[38;5;124m.json\u001b[39m\u001b[38;5;124m'\u001b[39m)\n\u001b[1;32m----> 3\u001b[0m resultsDF \u001b[38;5;241m=\u001b[39m pd\u001b[38;5;241m.\u001b[39mread_json(jsonpath)\n",
      "File \u001b[1;32mc:\\ProgramData\\Anaconda3\\envs\\gestclass2\\Lib\\site-packages\\pandas\\io\\json\\_json.py:791\u001b[0m, in \u001b[0;36mread_json\u001b[1;34m(path_or_buf, orient, typ, dtype, convert_axes, convert_dates, keep_default_dates, precise_float, date_unit, encoding, encoding_errors, lines, chunksize, compression, nrows, storage_options, dtype_backend, engine)\u001b[0m\n\u001b[0;32m    788\u001b[0m \u001b[38;5;28;01mif\u001b[39;00m convert_axes \u001b[38;5;129;01mis\u001b[39;00m \u001b[38;5;28;01mNone\u001b[39;00m \u001b[38;5;129;01mand\u001b[39;00m orient \u001b[38;5;241m!=\u001b[39m \u001b[38;5;124m\"\u001b[39m\u001b[38;5;124mtable\u001b[39m\u001b[38;5;124m\"\u001b[39m:\n\u001b[0;32m    789\u001b[0m     convert_axes \u001b[38;5;241m=\u001b[39m \u001b[38;5;28;01mTrue\u001b[39;00m\n\u001b[1;32m--> 791\u001b[0m json_reader \u001b[38;5;241m=\u001b[39m JsonReader(\n\u001b[0;32m    792\u001b[0m     path_or_buf,\n\u001b[0;32m    793\u001b[0m     orient\u001b[38;5;241m=\u001b[39morient,\n\u001b[0;32m    794\u001b[0m     typ\u001b[38;5;241m=\u001b[39mtyp,\n\u001b[0;32m    795\u001b[0m     dtype\u001b[38;5;241m=\u001b[39mdtype,\n\u001b[0;32m    796\u001b[0m     convert_axes\u001b[38;5;241m=\u001b[39mconvert_axes,\n\u001b[0;32m    797\u001b[0m     convert_dates\u001b[38;5;241m=\u001b[39mconvert_dates,\n\u001b[0;32m    798\u001b[0m     keep_default_dates\u001b[38;5;241m=\u001b[39mkeep_default_dates,\n\u001b[0;32m    799\u001b[0m     precise_float\u001b[38;5;241m=\u001b[39mprecise_float,\n\u001b[0;32m    800\u001b[0m     date_unit\u001b[38;5;241m=\u001b[39mdate_unit,\n\u001b[0;32m    801\u001b[0m     encoding\u001b[38;5;241m=\u001b[39mencoding,\n\u001b[0;32m    802\u001b[0m     lines\u001b[38;5;241m=\u001b[39mlines,\n\u001b[0;32m    803\u001b[0m     chunksize\u001b[38;5;241m=\u001b[39mchunksize,\n\u001b[0;32m    804\u001b[0m     compression\u001b[38;5;241m=\u001b[39mcompression,\n\u001b[0;32m    805\u001b[0m     nrows\u001b[38;5;241m=\u001b[39mnrows,\n\u001b[0;32m    806\u001b[0m     storage_options\u001b[38;5;241m=\u001b[39mstorage_options,\n\u001b[0;32m    807\u001b[0m     encoding_errors\u001b[38;5;241m=\u001b[39mencoding_errors,\n\u001b[0;32m    808\u001b[0m     dtype_backend\u001b[38;5;241m=\u001b[39mdtype_backend,\n\u001b[0;32m    809\u001b[0m     engine\u001b[38;5;241m=\u001b[39mengine,\n\u001b[0;32m    810\u001b[0m )\n\u001b[0;32m    812\u001b[0m \u001b[38;5;28;01mif\u001b[39;00m chunksize:\n\u001b[0;32m    813\u001b[0m     \u001b[38;5;28;01mreturn\u001b[39;00m json_reader\n",
      "File \u001b[1;32mc:\\ProgramData\\Anaconda3\\envs\\gestclass2\\Lib\\site-packages\\pandas\\io\\json\\_json.py:904\u001b[0m, in \u001b[0;36mJsonReader.__init__\u001b[1;34m(self, filepath_or_buffer, orient, typ, dtype, convert_axes, convert_dates, keep_default_dates, precise_float, date_unit, encoding, lines, chunksize, compression, nrows, storage_options, encoding_errors, dtype_backend, engine)\u001b[0m\n\u001b[0;32m    902\u001b[0m     \u001b[38;5;28mself\u001b[39m\u001b[38;5;241m.\u001b[39mdata \u001b[38;5;241m=\u001b[39m filepath_or_buffer\n\u001b[0;32m    903\u001b[0m \u001b[38;5;28;01melif\u001b[39;00m \u001b[38;5;28mself\u001b[39m\u001b[38;5;241m.\u001b[39mengine \u001b[38;5;241m==\u001b[39m \u001b[38;5;124m\"\u001b[39m\u001b[38;5;124mujson\u001b[39m\u001b[38;5;124m\"\u001b[39m:\n\u001b[1;32m--> 904\u001b[0m     data \u001b[38;5;241m=\u001b[39m \u001b[38;5;28mself\u001b[39m\u001b[38;5;241m.\u001b[39m_get_data_from_filepath(filepath_or_buffer)\n\u001b[0;32m    905\u001b[0m     \u001b[38;5;28mself\u001b[39m\u001b[38;5;241m.\u001b[39mdata \u001b[38;5;241m=\u001b[39m \u001b[38;5;28mself\u001b[39m\u001b[38;5;241m.\u001b[39m_preprocess_data(data)\n",
      "File \u001b[1;32mc:\\ProgramData\\Anaconda3\\envs\\gestclass2\\Lib\\site-packages\\pandas\\io\\json\\_json.py:960\u001b[0m, in \u001b[0;36mJsonReader._get_data_from_filepath\u001b[1;34m(self, filepath_or_buffer)\u001b[0m\n\u001b[0;32m    952\u001b[0m     filepath_or_buffer \u001b[38;5;241m=\u001b[39m \u001b[38;5;28mself\u001b[39m\u001b[38;5;241m.\u001b[39mhandles\u001b[38;5;241m.\u001b[39mhandle\n\u001b[0;32m    953\u001b[0m \u001b[38;5;28;01melif\u001b[39;00m (\n\u001b[0;32m    954\u001b[0m     \u001b[38;5;28misinstance\u001b[39m(filepath_or_buffer, \u001b[38;5;28mstr\u001b[39m)\n\u001b[0;32m    955\u001b[0m     \u001b[38;5;129;01mand\u001b[39;00m filepath_or_buffer\u001b[38;5;241m.\u001b[39mlower()\u001b[38;5;241m.\u001b[39mendswith(\n\u001b[1;32m   (...)\u001b[0m\n\u001b[0;32m    958\u001b[0m     \u001b[38;5;129;01mand\u001b[39;00m \u001b[38;5;129;01mnot\u001b[39;00m file_exists(filepath_or_buffer)\n\u001b[0;32m    959\u001b[0m ):\n\u001b[1;32m--> 960\u001b[0m     \u001b[38;5;28;01mraise\u001b[39;00m \u001b[38;5;167;01mFileNotFoundError\u001b[39;00m(\u001b[38;5;124mf\u001b[39m\u001b[38;5;124m\"\u001b[39m\u001b[38;5;124mFile \u001b[39m\u001b[38;5;132;01m{\u001b[39;00mfilepath_or_buffer\u001b[38;5;132;01m}\u001b[39;00m\u001b[38;5;124m does not exist\u001b[39m\u001b[38;5;124m\"\u001b[39m)\n\u001b[0;32m    961\u001b[0m \u001b[38;5;28;01melse\u001b[39;00m:\n\u001b[0;32m    962\u001b[0m     warnings\u001b[38;5;241m.\u001b[39mwarn(\n\u001b[0;32m    963\u001b[0m         \u001b[38;5;124m\"\u001b[39m\u001b[38;5;124mPassing literal json to \u001b[39m\u001b[38;5;124m'\u001b[39m\u001b[38;5;124mread_json\u001b[39m\u001b[38;5;124m'\u001b[39m\u001b[38;5;124m is deprecated and \u001b[39m\u001b[38;5;124m\"\u001b[39m\n\u001b[0;32m    964\u001b[0m         \u001b[38;5;124m\"\u001b[39m\u001b[38;5;124mwill be removed in a future version. To read from a \u001b[39m\u001b[38;5;124m\"\u001b[39m\n\u001b[1;32m   (...)\u001b[0m\n\u001b[0;32m    967\u001b[0m         stacklevel\u001b[38;5;241m=\u001b[39mfind_stack_level(),\n\u001b[0;32m    968\u001b[0m     )\n",
      "\u001b[1;31mFileNotFoundError\u001b[0m: File c:\\Users\\mado\\Documents\\gesture_class\\Skripts\\..\\logs\\jsons\\resultsDF_shortsequences_juststandardization.json does not exist"
     ]
    },
    {
     "name": "stdout",
     "output_type": "stream",
     "text": [
      "1[{\"variableName\": \"ID_TO_MEANING\", \"type\": \"dictionary\", \"supportedEngines\": [\"pandas\"], \"isLocalVariable\": true}]\n",
      "\n",
      "1[{\"variableName\": \"ID_TO_MEANING\", \"type\": \"dictionary\", \"supportedEngines\": [\"pandas\"], \"isLocalVariable\": true}]\n",
      "\n"
     ]
    }
   ],
   "source": [
    "nameofrun = 'shortsequences_juststandardization'\n",
    "jsonpath = cwd / '..' / 'logs' / 'jsons' / ('resultsDF_' + nameofrun + '.json')\n",
    "resultsDF = pd.read_json(jsonpath)"
   ]
  },
  {
   "cell_type": "code",
   "execution_count": 50,
   "metadata": {},
   "outputs": [
    {
     "name": "stdout",
     "output_type": "stream",
     "text": [
      "NLL         1.107232\n",
      "accuracy    0.683482\n",
      "f1_score    0.677128\n",
      "dtype: float64\n",
      "NLL         0.116826\n",
      "accuracy    0.061265\n",
      "f1_score    0.065539\n",
      "dtype: float64\n",
      "             fold       NLL  accuracy  f1_score\n",
      "seed                                           \n",
      "26        2.44949  0.216514  0.070114  0.070662\n",
      "1027      2.44949  0.116826  0.061265  0.065539\n",
      "52408     2.44949  0.176356  0.046875  0.047720\n",
      "786191    2.44949  0.175712  0.060124  0.061050\n",
      "3907426   2.44949  0.171898  0.058209  0.059100\n",
      "80337754  2.44949  0.212079  0.060381  0.057158\n"
     ]
    }
   ],
   "source": [
    "output = resultsDF.groupby('seed').std()\n",
    "print(f'{output:,.2f}')"
   ]
  },
  {
   "cell_type": "code",
   "execution_count": 121,
   "metadata": {},
   "outputs": [],
   "source": [
    "with open(cwd / '..' / 'Data' / 'DHG2016' / 'data_old_ws50.pkl', \"rb\") as fp:\n",
    "    dada_old = pickle.load(fp)\n",
    "\n",
    "X_train_ = dada_old['X_train']\n",
    "Y_train_oh_ = dada_old['Y_train_oh']\n",
    "X_valid_ = dada_old['X_valid']\n",
    "Y_valid_oh_ = dada_old['Y_valid_oh']\n"
   ]
  },
  {
   "cell_type": "code",
   "execution_count": 115,
   "metadata": {},
   "outputs": [
    {
     "data": {
      "text/html": [
       "<div>\n",
       "<style scoped>\n",
       "    .dataframe tbody tr th:only-of-type {\n",
       "        vertical-align: middle;\n",
       "    }\n",
       "\n",
       "    .dataframe tbody tr th {\n",
       "        vertical-align: top;\n",
       "    }\n",
       "\n",
       "    .dataframe thead th {\n",
       "        text-align: right;\n",
       "    }\n",
       "</style>\n",
       "<table border=\"1\" class=\"dataframe\">\n",
       "  <thead>\n",
       "    <tr style=\"text-align: right;\">\n",
       "      <th></th>\n",
       "      <th>label</th>\n",
       "      <th>frametimestamps</th>\n",
       "      <th>n_gesture</th>\n",
       "      <th>n_finger</th>\n",
       "      <th>n_subject</th>\n",
       "      <th>n_essai</th>\n",
       "    </tr>\n",
       "  </thead>\n",
       "  <tbody>\n",
       "    <tr>\n",
       "      <th>0</th>\n",
       "      <td>0</td>\n",
       "      <td>0.889422</td>\n",
       "      <td>1</td>\n",
       "      <td>1</td>\n",
       "      <td>6</td>\n",
       "      <td>1</td>\n",
       "    </tr>\n",
       "    <tr>\n",
       "      <th>0</th>\n",
       "      <td>0</td>\n",
       "      <td>1.070939</td>\n",
       "      <td>1</td>\n",
       "      <td>1</td>\n",
       "      <td>6</td>\n",
       "      <td>1</td>\n",
       "    </tr>\n",
       "    <tr>\n",
       "      <th>0</th>\n",
       "      <td>0</td>\n",
       "      <td>1.252454</td>\n",
       "      <td>1</td>\n",
       "      <td>1</td>\n",
       "      <td>6</td>\n",
       "      <td>1</td>\n",
       "    </tr>\n",
       "    <tr>\n",
       "      <th>0</th>\n",
       "      <td>1</td>\n",
       "      <td>1.433970</td>\n",
       "      <td>1</td>\n",
       "      <td>1</td>\n",
       "      <td>6</td>\n",
       "      <td>1</td>\n",
       "    </tr>\n",
       "    <tr>\n",
       "      <th>0</th>\n",
       "      <td>1</td>\n",
       "      <td>1.615488</td>\n",
       "      <td>1</td>\n",
       "      <td>1</td>\n",
       "      <td>6</td>\n",
       "      <td>1</td>\n",
       "    </tr>\n",
       "    <tr>\n",
       "      <th>0</th>\n",
       "      <td>1</td>\n",
       "      <td>1.797004</td>\n",
       "      <td>1</td>\n",
       "      <td>1</td>\n",
       "      <td>6</td>\n",
       "      <td>1</td>\n",
       "    </tr>\n",
       "    <tr>\n",
       "      <th>0</th>\n",
       "      <td>1</td>\n",
       "      <td>1.978518</td>\n",
       "      <td>1</td>\n",
       "      <td>1</td>\n",
       "      <td>6</td>\n",
       "      <td>1</td>\n",
       "    </tr>\n",
       "    <tr>\n",
       "      <th>0</th>\n",
       "      <td>1</td>\n",
       "      <td>2.160035</td>\n",
       "      <td>1</td>\n",
       "      <td>1</td>\n",
       "      <td>6</td>\n",
       "      <td>1</td>\n",
       "    </tr>\n",
       "    <tr>\n",
       "      <th>0</th>\n",
       "      <td>1</td>\n",
       "      <td>2.341551</td>\n",
       "      <td>1</td>\n",
       "      <td>1</td>\n",
       "      <td>6</td>\n",
       "      <td>1</td>\n",
       "    </tr>\n",
       "  </tbody>\n",
       "</table>\n",
       "</div>"
      ],
      "text/plain": [
       "   label  frametimestamps  n_gesture  n_finger  n_subject  n_essai\n",
       "0      0         0.889422          1         1          6        1\n",
       "0      0         1.070939          1         1          6        1\n",
       "0      0         1.252454          1         1          6        1\n",
       "0      1         1.433970          1         1          6        1\n",
       "0      1         1.615488          1         1          6        1\n",
       "0      1         1.797004          1         1          6        1\n",
       "0      1         1.978518          1         1          6        1\n",
       "0      1         2.160035          1         1          6        1\n",
       "0      1         2.341551          1         1          6        1"
      ]
     },
     "execution_count": 115,
     "metadata": {},
     "output_type": "execute_result"
    }
   ],
   "source": [
    "\n",
    "infos = dada_old['T_train']\n",
    "infos.loc[(infos['n_subject'] == 6) & (infos['n_gesture'] == 1) & (infos['n_finger'] == 1) & (infos['n_essai'] == 1),:]"
   ]
  },
  {
   "cell_type": "code",
   "execution_count": 116,
   "metadata": {},
   "outputs": [
    {
     "name": "stdout",
     "output_type": "stream",
     "text": [
      "Setting seed to 26\n",
      "Epoch 1/20\n",
      "299/299 - 17s - 57ms/step - NLL: 2.0852 - accuracy: 0.3345 - f1_score: 0.2774 - loss: 2.3061 - precision: 0.5825 - recall: 0.1021 - val_NLL: 1.6051 - val_accuracy: 0.5164 - val_f1_score: 0.4099 - val_loss: 1.8875 - val_precision: 0.7115 - val_recall: 0.2346\n",
      "Epoch 2/20\n",
      "299/299 - 7s - 22ms/step - NLL: 1.6779 - accuracy: 0.4624 - f1_score: 0.4241 - loss: 1.7228 - precision: 0.6512 - recall: 0.2638 - val_NLL: 1.4840 - val_accuracy: 0.5423 - val_f1_score: 0.4640 - val_loss: 1.7496 - val_precision: 0.7095 - val_recall: 0.3451\n",
      "Epoch 3/20\n",
      "299/299 - 7s - 24ms/step - NLL: 1.5354 - accuracy: 0.4971 - f1_score: 0.4714 - loss: 1.5066 - precision: 0.6708 - recall: 0.3342 - val_NLL: 1.4517 - val_accuracy: 0.5484 - val_f1_score: 0.4830 - val_loss: 1.7152 - val_precision: 0.6928 - val_recall: 0.3794\n",
      "Epoch 4/20\n",
      "299/299 - 9s - 29ms/step - NLL: 1.4548 - accuracy: 0.5246 - f1_score: 0.5036 - loss: 1.3964 - precision: 0.6837 - recall: 0.3732 - val_NLL: 1.3526 - val_accuracy: 0.5587 - val_f1_score: 0.5028 - val_loss: 1.6152 - val_precision: 0.6880 - val_recall: 0.4401\n",
      "Epoch 5/20\n",
      "299/299 - 8s - 25ms/step - NLL: 1.3827 - accuracy: 0.5478 - f1_score: 0.5285 - loss: 1.3138 - precision: 0.6977 - recall: 0.4066 - val_NLL: 1.2613 - val_accuracy: 0.6069 - val_f1_score: 0.5279 - val_loss: 1.5249 - val_precision: 0.7461 - val_recall: 0.4575\n",
      "Epoch 6/20\n",
      "299/299 - 8s - 26ms/step - NLL: 1.3302 - accuracy: 0.5606 - f1_score: 0.5438 - loss: 1.2624 - precision: 0.7126 - recall: 0.4257 - val_NLL: 1.2985 - val_accuracy: 0.5856 - val_f1_score: 0.5163 - val_loss: 1.5658 - val_precision: 0.7204 - val_recall: 0.4638\n",
      "Epoch 7/20\n",
      "299/299 - 7s - 23ms/step - NLL: 1.2914 - accuracy: 0.5703 - f1_score: 0.5515 - loss: 1.2179 - precision: 0.7175 - recall: 0.4460 - val_NLL: 1.2758 - val_accuracy: 0.6022 - val_f1_score: 0.5329 - val_loss: 1.5464 - val_precision: 0.7345 - val_recall: 0.4648\n",
      "Epoch 8/20\n",
      "299/299 - 6s - 20ms/step - NLL: 1.2541 - accuracy: 0.5817 - f1_score: 0.5668 - loss: 1.1723 - precision: 0.7231 - recall: 0.4637 - val_NLL: 1.2204 - val_accuracy: 0.6178 - val_f1_score: 0.5511 - val_loss: 1.4949 - val_precision: 0.7358 - val_recall: 0.4905\n",
      "Epoch 9/20\n",
      "299/299 - 6s - 20ms/step - NLL: 1.2283 - accuracy: 0.5945 - f1_score: 0.5815 - loss: 1.1397 - precision: 0.7267 - recall: 0.4753 - val_NLL: 1.2550 - val_accuracy: 0.6083 - val_f1_score: 0.5399 - val_loss: 1.5318 - val_precision: 0.7285 - val_recall: 0.5030\n",
      "Epoch 10/20\n",
      "299/299 - 6s - 20ms/step - NLL: 1.1943 - accuracy: 0.6045 - f1_score: 0.5896 - loss: 1.1093 - precision: 0.7316 - recall: 0.4906 - val_NLL: 1.2235 - val_accuracy: 0.6119 - val_f1_score: 0.5467 - val_loss: 1.5029 - val_precision: 0.7381 - val_recall: 0.4998\n",
      "Epoch 11/20\n",
      "299/299 - 7s - 23ms/step - NLL: 1.1738 - accuracy: 0.6121 - f1_score: 0.5981 - loss: 1.0827 - precision: 0.7362 - recall: 0.5036 - val_NLL: 1.2032 - val_accuracy: 0.6245 - val_f1_score: 0.5449 - val_loss: 1.4855 - val_precision: 0.7339 - val_recall: 0.5243\n",
      "Epoch 12/20\n",
      "299/299 - 6s - 21ms/step - NLL: 1.1589 - accuracy: 0.6177 - f1_score: 0.6060 - loss: 1.0706 - precision: 0.7405 - recall: 0.5123 - val_NLL: 1.2512 - val_accuracy: 0.6085 - val_f1_score: 0.5389 - val_loss: 1.5374 - val_precision: 0.7220 - val_recall: 0.5006\n",
      "Epoch 13/20\n",
      "299/299 - 7s - 22ms/step - NLL: 1.1501 - accuracy: 0.6217 - f1_score: 0.6101 - loss: 1.0562 - precision: 0.7396 - recall: 0.5170 - val_NLL: 1.1522 - val_accuracy: 0.6330 - val_f1_score: 0.5635 - val_loss: 1.4409 - val_precision: 0.7571 - val_recall: 0.5338\n",
      "Epoch 14/20\n",
      "299/299 - 6s - 21ms/step - NLL: 1.1282 - accuracy: 0.6256 - f1_score: 0.6159 - loss: 1.0300 - precision: 0.7436 - recall: 0.5293 - val_NLL: 1.1470 - val_accuracy: 0.6421 - val_f1_score: 0.5609 - val_loss: 1.4375 - val_precision: 0.7488 - val_recall: 0.5419\n",
      "Epoch 15/20\n",
      "299/299 - 6s - 21ms/step - NLL: 1.1086 - accuracy: 0.6292 - f1_score: 0.6192 - loss: 1.0147 - precision: 0.7433 - recall: 0.5306 - val_NLL: 1.1550 - val_accuracy: 0.6387 - val_f1_score: 0.5571 - val_loss: 1.4490 - val_precision: 0.7481 - val_recall: 0.5381\n",
      "Epoch 16/20\n",
      "299/299 - 6s - 20ms/step - NLL: 1.0976 - accuracy: 0.6352 - f1_score: 0.6274 - loss: 1.0017 - precision: 0.7454 - recall: 0.5413 - val_NLL: 1.1090 - val_accuracy: 0.6419 - val_f1_score: 0.5648 - val_loss: 1.4048 - val_precision: 0.7483 - val_recall: 0.5512\n",
      "Epoch 17/20\n",
      "299/299 - 6s - 20ms/step - NLL: 1.0820 - accuracy: 0.6389 - f1_score: 0.6327 - loss: 0.9805 - precision: 0.7436 - recall: 0.5436 - val_NLL: 1.1341 - val_accuracy: 0.6377 - val_f1_score: 0.5556 - val_loss: 1.4329 - val_precision: 0.7298 - val_recall: 0.5549\n",
      "Epoch 18/20\n",
      "299/299 - 6s - 20ms/step - NLL: 1.0717 - accuracy: 0.6401 - f1_score: 0.6339 - loss: 0.9743 - precision: 0.7430 - recall: 0.5507 - val_NLL: 1.1188 - val_accuracy: 0.6514 - val_f1_score: 0.5717 - val_loss: 1.4194 - val_precision: 0.7451 - val_recall: 0.5733\n",
      "Epoch 19/20\n",
      "299/299 - 6s - 20ms/step - NLL: 1.0562 - accuracy: 0.6471 - f1_score: 0.6448 - loss: 0.9459 - precision: 0.7480 - recall: 0.5606 - val_NLL: 1.1579 - val_accuracy: 0.6344 - val_f1_score: 0.5537 - val_loss: 1.4618 - val_precision: 0.7311 - val_recall: 0.5498\n",
      "Epoch 20/20\n",
      "299/299 - 6s - 20ms/step - NLL: 1.0552 - accuracy: 0.6469 - f1_score: 0.6429 - loss: 0.9604 - precision: 0.7480 - recall: 0.5640 - val_NLL: 1.1846 - val_accuracy: 0.6275 - val_f1_score: 0.5455 - val_loss: 1.4931 - val_precision: 0.7174 - val_recall: 0.5494\n"
     ]
    }
   ],
   "source": [
    "\n",
    "# Example usage\n",
    "like7_ = ConvModel('config_mdl10_small.yaml', 'Test')\n",
    "like7_.compile_model()\n",
    "\n",
    "\n",
    "# Train the model\n",
    "#like7.train_model(X_train_angles, X_train_pointquat, Y_train_oh, X_valid_angles, X_valid_pointquat, Y_valid_oh)\n",
    "like7_.train_model(X_train_, Y_train_oh_, X_valid_, Y_valid_oh_)\n",
    "#results = like7.model.evaluate([X_valid_angles, X_valid_pointquat], Y_valid_oh, verbose = 0, return_dict=True)\n",
    "#results"
   ]
  },
  {
   "cell_type": "code",
   "execution_count": 117,
   "metadata": {},
   "outputs": [
    {
     "data": {
      "text/plain": [
       "{'NLL': 1.1089835166931152,\n",
       " 'accuracy': 0.6419028043746948,\n",
       " 'f1_score': 0.5647571682929993,\n",
       " 'loss': 1.4047657251358032,\n",
       " 'precision': 0.7482824921607971,\n",
       " 'recall': 0.5512145757675171}"
      ]
     },
     "execution_count": 117,
     "metadata": {},
     "output_type": "execute_result"
    }
   ],
   "source": [
    "results = like7_.model.evaluate(X_valid_, Y_valid_oh_, verbose = 0, return_dict=True)\n",
    "results"
   ]
  },
  {
   "cell_type": "code",
   "execution_count": 122,
   "metadata": {},
   "outputs": [
    {
     "name": "stdout",
     "output_type": "stream",
     "text": [
      "\u001b[1m155/155\u001b[0m \u001b[32m━━━━━━━━━━━━━━━━━━━━\u001b[0m\u001b[37m\u001b[0m \u001b[1m1s\u001b[0m 5ms/step\n"
     ]
    },
    {
     "data": {
      "application/vnd.plotly.v1+json": {
       "config": {
        "plotlyServerURL": "https://plot.ly"
       },
       "data": [
        {
         "colorbar": {
          "title": {
           "text": "Percentage of<br>true label"
          }
         },
         "colorscale": [
          [
           0,
           "#440154"
          ],
          [
           0.1111111111111111,
           "#482878"
          ],
          [
           0.2222222222222222,
           "#3e4989"
          ],
          [
           0.3333333333333333,
           "#31688e"
          ],
          [
           0.4444444444444444,
           "#26828e"
          ],
          [
           0.5555555555555556,
           "#1f9e89"
          ],
          [
           0.6666666666666666,
           "#35b779"
          ],
          [
           0.7777777777777778,
           "#6ece58"
          ],
          [
           0.8888888888888888,
           "#b5de2b"
          ],
          [
           1,
           "#fde725"
          ]
         ],
         "text": [
          [
           1519,
           74,
           65,
           41,
           120,
           17,
           45,
           35,
           94,
           29,
           142,
           44,
           44,
           43,
           24
          ],
          [
           27,
           71,
           16,
           3,
           44,
           2,
           0,
           0,
           2,
           0,
           2,
           0,
           1,
           0,
           1
          ],
          [
           12,
           3,
           77,
           0,
           1,
           1,
           0,
           0,
           8,
           1,
           13,
           1,
           0,
           0,
           1
          ],
          [
           7,
           11,
           5,
           140,
           15,
           2,
           3,
           0,
           0,
           8,
           9,
           0,
           0,
           0,
           0
          ],
          [
           19,
           44,
           12,
           0,
           92,
           0,
           30,
           0,
           2,
           0,
           4,
           0,
           1,
           0,
           1
          ],
          [
           17,
           15,
           3,
           6,
           18,
           97,
           42,
           15,
           16,
           0,
           6,
           0,
           0,
           6,
           3
          ],
          [
           6,
           11,
           2,
           12,
           29,
           2,
           150,
           0,
           5,
           2,
           1,
           1,
           0,
           1,
           0
          ],
          [
           4,
           1,
           2,
           0,
           0,
           0,
           0,
           76,
           0,
           0,
           0,
           3,
           0,
           7,
           3
          ],
          [
           8,
           1,
           1,
           0,
           0,
           0,
           9,
           0,
           83,
           6,
           2,
           0,
           2,
           0,
           5
          ],
          [
           2,
           3,
           0,
           13,
           0,
           3,
           0,
           2,
           0,
           61,
           2,
           14,
           0,
           0,
           3
          ],
          [
           0,
           0,
           1,
           0,
           1,
           1,
           0,
           0,
           0,
           0,
           65,
           1,
           29,
           0,
           0
          ],
          [
           2,
           0,
           0,
           0,
           0,
           0,
           0,
           13,
           30,
           2,
           0,
           197,
           39,
           47,
           3
          ],
          [
           1,
           0,
           0,
           0,
           0,
           0,
           11,
           19,
           0,
           1,
           7,
           11,
           233,
           5,
           3
          ],
          [
           0,
           0,
           0,
           0,
           0,
           0,
           0,
           1,
           0,
           0,
           2,
           20,
           7,
           180,
           0
          ],
          [
           35,
           2,
           1,
           0,
           1,
           5,
           0,
           10,
           7,
           1,
           4,
           1,
           1,
           0,
           130
          ]
         ],
         "texttemplate": "%{z:.0%}<br>(%{text:d})",
         "type": "heatmap",
         "x": [
          0,
          1,
          2,
          3,
          4,
          5,
          6,
          7,
          8,
          9,
          10,
          11,
          12,
          13,
          14
         ],
         "y": [
          0,
          1,
          2,
          3,
          4,
          5,
          6,
          7,
          8,
          9,
          10,
          11,
          12,
          13,
          14
         ],
         "z": [
          [
           0.65,
           0.03,
           0.03,
           0.02,
           0.05,
           0.01,
           0.02,
           0.01,
           0.04,
           0.01,
           0.06,
           0.02,
           0.02,
           0.02,
           0.01
          ],
          [
           0.16,
           0.42,
           0.09,
           0.02,
           0.26,
           0.01,
           0,
           0,
           0.01,
           0,
           0.01,
           0,
           0.01,
           0,
           0.01
          ],
          [
           0.1,
           0.03,
           0.65,
           0,
           0.01,
           0.01,
           0,
           0,
           0.07,
           0.01,
           0.11,
           0.01,
           0,
           0,
           0.01
          ],
          [
           0.04,
           0.06,
           0.02,
           0.7,
           0.08,
           0.01,
           0.02,
           0,
           0,
           0.04,
           0.04,
           0,
           0,
           0,
           0
          ],
          [
           0.09,
           0.21,
           0.06,
           0,
           0.45,
           0,
           0.15,
           0,
           0.01,
           0,
           0.02,
           0,
           0,
           0,
           0
          ],
          [
           0.07,
           0.06,
           0.01,
           0.02,
           0.07,
           0.4,
           0.17,
           0.06,
           0.07,
           0,
           0.02,
           0,
           0,
           0.02,
           0.01
          ],
          [
           0.03,
           0.05,
           0.01,
           0.05,
           0.13,
           0.01,
           0.68,
           0,
           0.02,
           0.01,
           0,
           0,
           0,
           0,
           0
          ],
          [
           0.04,
           0.01,
           0.02,
           0,
           0,
           0,
           0,
           0.79,
           0,
           0,
           0,
           0.03,
           0,
           0.07,
           0.03
          ],
          [
           0.07,
           0.01,
           0.01,
           0,
           0,
           0,
           0.08,
           0,
           0.71,
           0.05,
           0.02,
           0,
           0.02,
           0,
           0.04
          ],
          [
           0.02,
           0.03,
           0,
           0.13,
           0,
           0.03,
           0,
           0.02,
           0,
           0.59,
           0.02,
           0.14,
           0,
           0,
           0.03
          ],
          [
           0,
           0,
           0.01,
           0,
           0.01,
           0.01,
           0,
           0,
           0,
           0,
           0.66,
           0.01,
           0.3,
           0,
           0
          ],
          [
           0.01,
           0,
           0,
           0,
           0,
           0,
           0,
           0.04,
           0.09,
           0.01,
           0,
           0.59,
           0.12,
           0.14,
           0.01
          ],
          [
           0,
           0,
           0,
           0,
           0,
           0,
           0.04,
           0.07,
           0,
           0,
           0.02,
           0.04,
           0.8,
           0.02,
           0.01
          ],
          [
           0,
           0,
           0,
           0,
           0,
           0,
           0,
           0,
           0,
           0,
           0.01,
           0.1,
           0.03,
           0.86,
           0
          ],
          [
           0.18,
           0.01,
           0.01,
           0,
           0.01,
           0.03,
           0,
           0.05,
           0.04,
           0.01,
           0.02,
           0.01,
           0.01,
           0,
           0.66
          ]
         ],
         "zmax": 1,
         "zmin": 0
        }
       ],
       "layout": {
        "autosize": false,
        "height": 800,
        "template": {
         "data": {
          "bar": [
           {
            "error_x": {
             "color": "#2a3f5f"
            },
            "error_y": {
             "color": "#2a3f5f"
            },
            "marker": {
             "line": {
              "color": "#E5ECF6",
              "width": 0.5
             },
             "pattern": {
              "fillmode": "overlay",
              "size": 10,
              "solidity": 0.2
             }
            },
            "type": "bar"
           }
          ],
          "barpolar": [
           {
            "marker": {
             "line": {
              "color": "#E5ECF6",
              "width": 0.5
             },
             "pattern": {
              "fillmode": "overlay",
              "size": 10,
              "solidity": 0.2
             }
            },
            "type": "barpolar"
           }
          ],
          "carpet": [
           {
            "aaxis": {
             "endlinecolor": "#2a3f5f",
             "gridcolor": "white",
             "linecolor": "white",
             "minorgridcolor": "white",
             "startlinecolor": "#2a3f5f"
            },
            "baxis": {
             "endlinecolor": "#2a3f5f",
             "gridcolor": "white",
             "linecolor": "white",
             "minorgridcolor": "white",
             "startlinecolor": "#2a3f5f"
            },
            "type": "carpet"
           }
          ],
          "choropleth": [
           {
            "colorbar": {
             "outlinewidth": 0,
             "ticks": ""
            },
            "type": "choropleth"
           }
          ],
          "contour": [
           {
            "colorbar": {
             "outlinewidth": 0,
             "ticks": ""
            },
            "colorscale": [
             [
              0,
              "#0d0887"
             ],
             [
              0.1111111111111111,
              "#46039f"
             ],
             [
              0.2222222222222222,
              "#7201a8"
             ],
             [
              0.3333333333333333,
              "#9c179e"
             ],
             [
              0.4444444444444444,
              "#bd3786"
             ],
             [
              0.5555555555555556,
              "#d8576b"
             ],
             [
              0.6666666666666666,
              "#ed7953"
             ],
             [
              0.7777777777777778,
              "#fb9f3a"
             ],
             [
              0.8888888888888888,
              "#fdca26"
             ],
             [
              1,
              "#f0f921"
             ]
            ],
            "type": "contour"
           }
          ],
          "contourcarpet": [
           {
            "colorbar": {
             "outlinewidth": 0,
             "ticks": ""
            },
            "type": "contourcarpet"
           }
          ],
          "heatmap": [
           {
            "colorbar": {
             "outlinewidth": 0,
             "ticks": ""
            },
            "colorscale": [
             [
              0,
              "#0d0887"
             ],
             [
              0.1111111111111111,
              "#46039f"
             ],
             [
              0.2222222222222222,
              "#7201a8"
             ],
             [
              0.3333333333333333,
              "#9c179e"
             ],
             [
              0.4444444444444444,
              "#bd3786"
             ],
             [
              0.5555555555555556,
              "#d8576b"
             ],
             [
              0.6666666666666666,
              "#ed7953"
             ],
             [
              0.7777777777777778,
              "#fb9f3a"
             ],
             [
              0.8888888888888888,
              "#fdca26"
             ],
             [
              1,
              "#f0f921"
             ]
            ],
            "type": "heatmap"
           }
          ],
          "heatmapgl": [
           {
            "colorbar": {
             "outlinewidth": 0,
             "ticks": ""
            },
            "colorscale": [
             [
              0,
              "#0d0887"
             ],
             [
              0.1111111111111111,
              "#46039f"
             ],
             [
              0.2222222222222222,
              "#7201a8"
             ],
             [
              0.3333333333333333,
              "#9c179e"
             ],
             [
              0.4444444444444444,
              "#bd3786"
             ],
             [
              0.5555555555555556,
              "#d8576b"
             ],
             [
              0.6666666666666666,
              "#ed7953"
             ],
             [
              0.7777777777777778,
              "#fb9f3a"
             ],
             [
              0.8888888888888888,
              "#fdca26"
             ],
             [
              1,
              "#f0f921"
             ]
            ],
            "type": "heatmapgl"
           }
          ],
          "histogram": [
           {
            "marker": {
             "pattern": {
              "fillmode": "overlay",
              "size": 10,
              "solidity": 0.2
             }
            },
            "type": "histogram"
           }
          ],
          "histogram2d": [
           {
            "colorbar": {
             "outlinewidth": 0,
             "ticks": ""
            },
            "colorscale": [
             [
              0,
              "#0d0887"
             ],
             [
              0.1111111111111111,
              "#46039f"
             ],
             [
              0.2222222222222222,
              "#7201a8"
             ],
             [
              0.3333333333333333,
              "#9c179e"
             ],
             [
              0.4444444444444444,
              "#bd3786"
             ],
             [
              0.5555555555555556,
              "#d8576b"
             ],
             [
              0.6666666666666666,
              "#ed7953"
             ],
             [
              0.7777777777777778,
              "#fb9f3a"
             ],
             [
              0.8888888888888888,
              "#fdca26"
             ],
             [
              1,
              "#f0f921"
             ]
            ],
            "type": "histogram2d"
           }
          ],
          "histogram2dcontour": [
           {
            "colorbar": {
             "outlinewidth": 0,
             "ticks": ""
            },
            "colorscale": [
             [
              0,
              "#0d0887"
             ],
             [
              0.1111111111111111,
              "#46039f"
             ],
             [
              0.2222222222222222,
              "#7201a8"
             ],
             [
              0.3333333333333333,
              "#9c179e"
             ],
             [
              0.4444444444444444,
              "#bd3786"
             ],
             [
              0.5555555555555556,
              "#d8576b"
             ],
             [
              0.6666666666666666,
              "#ed7953"
             ],
             [
              0.7777777777777778,
              "#fb9f3a"
             ],
             [
              0.8888888888888888,
              "#fdca26"
             ],
             [
              1,
              "#f0f921"
             ]
            ],
            "type": "histogram2dcontour"
           }
          ],
          "mesh3d": [
           {
            "colorbar": {
             "outlinewidth": 0,
             "ticks": ""
            },
            "type": "mesh3d"
           }
          ],
          "parcoords": [
           {
            "line": {
             "colorbar": {
              "outlinewidth": 0,
              "ticks": ""
             }
            },
            "type": "parcoords"
           }
          ],
          "pie": [
           {
            "automargin": true,
            "type": "pie"
           }
          ],
          "scatter": [
           {
            "fillpattern": {
             "fillmode": "overlay",
             "size": 10,
             "solidity": 0.2
            },
            "type": "scatter"
           }
          ],
          "scatter3d": [
           {
            "line": {
             "colorbar": {
              "outlinewidth": 0,
              "ticks": ""
             }
            },
            "marker": {
             "colorbar": {
              "outlinewidth": 0,
              "ticks": ""
             }
            },
            "type": "scatter3d"
           }
          ],
          "scattercarpet": [
           {
            "marker": {
             "colorbar": {
              "outlinewidth": 0,
              "ticks": ""
             }
            },
            "type": "scattercarpet"
           }
          ],
          "scattergeo": [
           {
            "marker": {
             "colorbar": {
              "outlinewidth": 0,
              "ticks": ""
             }
            },
            "type": "scattergeo"
           }
          ],
          "scattergl": [
           {
            "marker": {
             "colorbar": {
              "outlinewidth": 0,
              "ticks": ""
             }
            },
            "type": "scattergl"
           }
          ],
          "scattermapbox": [
           {
            "marker": {
             "colorbar": {
              "outlinewidth": 0,
              "ticks": ""
             }
            },
            "type": "scattermapbox"
           }
          ],
          "scatterpolar": [
           {
            "marker": {
             "colorbar": {
              "outlinewidth": 0,
              "ticks": ""
             }
            },
            "type": "scatterpolar"
           }
          ],
          "scatterpolargl": [
           {
            "marker": {
             "colorbar": {
              "outlinewidth": 0,
              "ticks": ""
             }
            },
            "type": "scatterpolargl"
           }
          ],
          "scatterternary": [
           {
            "marker": {
             "colorbar": {
              "outlinewidth": 0,
              "ticks": ""
             }
            },
            "type": "scatterternary"
           }
          ],
          "surface": [
           {
            "colorbar": {
             "outlinewidth": 0,
             "ticks": ""
            },
            "colorscale": [
             [
              0,
              "#0d0887"
             ],
             [
              0.1111111111111111,
              "#46039f"
             ],
             [
              0.2222222222222222,
              "#7201a8"
             ],
             [
              0.3333333333333333,
              "#9c179e"
             ],
             [
              0.4444444444444444,
              "#bd3786"
             ],
             [
              0.5555555555555556,
              "#d8576b"
             ],
             [
              0.6666666666666666,
              "#ed7953"
             ],
             [
              0.7777777777777778,
              "#fb9f3a"
             ],
             [
              0.8888888888888888,
              "#fdca26"
             ],
             [
              1,
              "#f0f921"
             ]
            ],
            "type": "surface"
           }
          ],
          "table": [
           {
            "cells": {
             "fill": {
              "color": "#EBF0F8"
             },
             "line": {
              "color": "white"
             }
            },
            "header": {
             "fill": {
              "color": "#C8D4E3"
             },
             "line": {
              "color": "white"
             }
            },
            "type": "table"
           }
          ]
         },
         "layout": {
          "annotationdefaults": {
           "arrowcolor": "#2a3f5f",
           "arrowhead": 0,
           "arrowwidth": 1
          },
          "autotypenumbers": "strict",
          "coloraxis": {
           "colorbar": {
            "outlinewidth": 0,
            "ticks": ""
           }
          },
          "colorscale": {
           "diverging": [
            [
             0,
             "#8e0152"
            ],
            [
             0.1,
             "#c51b7d"
            ],
            [
             0.2,
             "#de77ae"
            ],
            [
             0.3,
             "#f1b6da"
            ],
            [
             0.4,
             "#fde0ef"
            ],
            [
             0.5,
             "#f7f7f7"
            ],
            [
             0.6,
             "#e6f5d0"
            ],
            [
             0.7,
             "#b8e186"
            ],
            [
             0.8,
             "#7fbc41"
            ],
            [
             0.9,
             "#4d9221"
            ],
            [
             1,
             "#276419"
            ]
           ],
           "sequential": [
            [
             0,
             "#0d0887"
            ],
            [
             0.1111111111111111,
             "#46039f"
            ],
            [
             0.2222222222222222,
             "#7201a8"
            ],
            [
             0.3333333333333333,
             "#9c179e"
            ],
            [
             0.4444444444444444,
             "#bd3786"
            ],
            [
             0.5555555555555556,
             "#d8576b"
            ],
            [
             0.6666666666666666,
             "#ed7953"
            ],
            [
             0.7777777777777778,
             "#fb9f3a"
            ],
            [
             0.8888888888888888,
             "#fdca26"
            ],
            [
             1,
             "#f0f921"
            ]
           ],
           "sequentialminus": [
            [
             0,
             "#0d0887"
            ],
            [
             0.1111111111111111,
             "#46039f"
            ],
            [
             0.2222222222222222,
             "#7201a8"
            ],
            [
             0.3333333333333333,
             "#9c179e"
            ],
            [
             0.4444444444444444,
             "#bd3786"
            ],
            [
             0.5555555555555556,
             "#d8576b"
            ],
            [
             0.6666666666666666,
             "#ed7953"
            ],
            [
             0.7777777777777778,
             "#fb9f3a"
            ],
            [
             0.8888888888888888,
             "#fdca26"
            ],
            [
             1,
             "#f0f921"
            ]
           ]
          },
          "colorway": [
           "#636efa",
           "#EF553B",
           "#00cc96",
           "#ab63fa",
           "#FFA15A",
           "#19d3f3",
           "#FF6692",
           "#B6E880",
           "#FF97FF",
           "#FECB52"
          ],
          "font": {
           "color": "#2a3f5f"
          },
          "geo": {
           "bgcolor": "white",
           "lakecolor": "white",
           "landcolor": "#E5ECF6",
           "showlakes": true,
           "showland": true,
           "subunitcolor": "white"
          },
          "hoverlabel": {
           "align": "left"
          },
          "hovermode": "closest",
          "mapbox": {
           "style": "light"
          },
          "paper_bgcolor": "white",
          "plot_bgcolor": "#E5ECF6",
          "polar": {
           "angularaxis": {
            "gridcolor": "white",
            "linecolor": "white",
            "ticks": ""
           },
           "bgcolor": "#E5ECF6",
           "radialaxis": {
            "gridcolor": "white",
            "linecolor": "white",
            "ticks": ""
           }
          },
          "scene": {
           "xaxis": {
            "backgroundcolor": "#E5ECF6",
            "gridcolor": "white",
            "gridwidth": 2,
            "linecolor": "white",
            "showbackground": true,
            "ticks": "",
            "zerolinecolor": "white"
           },
           "yaxis": {
            "backgroundcolor": "#E5ECF6",
            "gridcolor": "white",
            "gridwidth": 2,
            "linecolor": "white",
            "showbackground": true,
            "ticks": "",
            "zerolinecolor": "white"
           },
           "zaxis": {
            "backgroundcolor": "#E5ECF6",
            "gridcolor": "white",
            "gridwidth": 2,
            "linecolor": "white",
            "showbackground": true,
            "ticks": "",
            "zerolinecolor": "white"
           }
          },
          "shapedefaults": {
           "line": {
            "color": "#2a3f5f"
           }
          },
          "ternary": {
           "aaxis": {
            "gridcolor": "white",
            "linecolor": "white",
            "ticks": ""
           },
           "baxis": {
            "gridcolor": "white",
            "linecolor": "white",
            "ticks": ""
           },
           "bgcolor": "#E5ECF6",
           "caxis": {
            "gridcolor": "white",
            "linecolor": "white",
            "ticks": ""
           }
          },
          "title": {
           "x": 0.05
          },
          "xaxis": {
           "automargin": true,
           "gridcolor": "white",
           "linecolor": "white",
           "ticks": "",
           "title": {
            "standoff": 15
           },
           "zerolinecolor": "white",
           "zerolinewidth": 2
          },
          "yaxis": {
           "automargin": true,
           "gridcolor": "white",
           "linecolor": "white",
           "ticks": "",
           "title": {
            "standoff": 15
           },
           "zerolinecolor": "white",
           "zerolinewidth": 2
          }
         }
        },
        "title": {
         "text": "Confusion Matrix Validation Data old"
        },
        "width": 800,
        "xaxis": {
         "title": {
          "text": "Predicted label"
         }
        },
        "yaxis": {
         "autorange": "reversed",
         "title": {
          "text": "True Label"
         }
        }
       }
      }
     },
     "metadata": {},
     "output_type": "display_data"
    },
    {
     "data": {
      "application/vnd.plotly.v1+json": {
       "config": {
        "plotlyServerURL": "https://plot.ly"
       },
       "data": [
        {
         "colorbar": {
          "title": {
           "text": "Percentage of<br>predicted label"
          }
         },
         "colorscale": [
          [
           0,
           "#440154"
          ],
          [
           0.1111111111111111,
           "#482878"
          ],
          [
           0.2222222222222222,
           "#3e4989"
          ],
          [
           0.3333333333333333,
           "#31688e"
          ],
          [
           0.4444444444444444,
           "#26828e"
          ],
          [
           0.5555555555555556,
           "#1f9e89"
          ],
          [
           0.6666666666666666,
           "#35b779"
          ],
          [
           0.7777777777777778,
           "#6ece58"
          ],
          [
           0.8888888888888888,
           "#b5de2b"
          ],
          [
           1,
           "#fde725"
          ]
         ],
         "text": [
          [
           1519,
           74,
           65,
           41,
           120,
           17,
           45,
           35,
           94,
           29,
           142,
           44,
           44,
           43,
           24
          ],
          [
           27,
           71,
           16,
           3,
           44,
           2,
           0,
           0,
           2,
           0,
           2,
           0,
           1,
           0,
           1
          ],
          [
           12,
           3,
           77,
           0,
           1,
           1,
           0,
           0,
           8,
           1,
           13,
           1,
           0,
           0,
           1
          ],
          [
           7,
           11,
           5,
           140,
           15,
           2,
           3,
           0,
           0,
           8,
           9,
           0,
           0,
           0,
           0
          ],
          [
           19,
           44,
           12,
           0,
           92,
           0,
           30,
           0,
           2,
           0,
           4,
           0,
           1,
           0,
           1
          ],
          [
           17,
           15,
           3,
           6,
           18,
           97,
           42,
           15,
           16,
           0,
           6,
           0,
           0,
           6,
           3
          ],
          [
           6,
           11,
           2,
           12,
           29,
           2,
           150,
           0,
           5,
           2,
           1,
           1,
           0,
           1,
           0
          ],
          [
           4,
           1,
           2,
           0,
           0,
           0,
           0,
           76,
           0,
           0,
           0,
           3,
           0,
           7,
           3
          ],
          [
           8,
           1,
           1,
           0,
           0,
           0,
           9,
           0,
           83,
           6,
           2,
           0,
           2,
           0,
           5
          ],
          [
           2,
           3,
           0,
           13,
           0,
           3,
           0,
           2,
           0,
           61,
           2,
           14,
           0,
           0,
           3
          ],
          [
           0,
           0,
           1,
           0,
           1,
           1,
           0,
           0,
           0,
           0,
           65,
           1,
           29,
           0,
           0
          ],
          [
           2,
           0,
           0,
           0,
           0,
           0,
           0,
           13,
           30,
           2,
           0,
           197,
           39,
           47,
           3
          ],
          [
           1,
           0,
           0,
           0,
           0,
           0,
           11,
           19,
           0,
           1,
           7,
           11,
           233,
           5,
           3
          ],
          [
           0,
           0,
           0,
           0,
           0,
           0,
           0,
           1,
           0,
           0,
           2,
           20,
           7,
           180,
           0
          ],
          [
           35,
           2,
           1,
           0,
           1,
           5,
           0,
           10,
           7,
           1,
           4,
           1,
           1,
           0,
           130
          ]
         ],
         "texttemplate": "%{z:.0%}<br>(%{text:d})",
         "type": "heatmap",
         "x": [
          0,
          1,
          2,
          3,
          4,
          5,
          6,
          7,
          8,
          9,
          10,
          11,
          12,
          13,
          14
         ],
         "y": [
          0,
          1,
          2,
          3,
          4,
          5,
          6,
          7,
          8,
          9,
          10,
          11,
          12,
          13,
          14
         ],
         "z": [
          [
           0.92,
           0.31,
           0.35,
           0.19,
           0.37,
           0.13,
           0.16,
           0.2,
           0.38,
           0.26,
           0.55,
           0.15,
           0.12,
           0.15,
           0.14
          ],
          [
           0.02,
           0.3,
           0.09,
           0.01,
           0.14,
           0.02,
           0,
           0,
           0.01,
           0,
           0.01,
           0,
           0,
           0,
           0.01
          ],
          [
           0.01,
           0.01,
           0.42,
           0,
           0,
           0.01,
           0,
           0,
           0.03,
           0.01,
           0.05,
           0,
           0,
           0,
           0.01
          ],
          [
           0,
           0.05,
           0.03,
           0.65,
           0.05,
           0.02,
           0.01,
           0,
           0,
           0.07,
           0.03,
           0,
           0,
           0,
           0
          ],
          [
           0.01,
           0.19,
           0.06,
           0,
           0.29,
           0,
           0.1,
           0,
           0.01,
           0,
           0.02,
           0,
           0,
           0,
           0.01
          ],
          [
           0.01,
           0.06,
           0.02,
           0.03,
           0.06,
           0.75,
           0.14,
           0.09,
           0.06,
           0,
           0.02,
           0,
           0,
           0.02,
           0.02
          ],
          [
           0,
           0.05,
           0.01,
           0.06,
           0.09,
           0.02,
           0.52,
           0,
           0.02,
           0.02,
           0,
           0,
           0,
           0,
           0
          ],
          [
           0,
           0,
           0.01,
           0,
           0,
           0,
           0,
           0.44,
           0,
           0,
           0,
           0.01,
           0,
           0.02,
           0.02
          ],
          [
           0,
           0,
           0.01,
           0,
           0,
           0,
           0.03,
           0,
           0.34,
           0.05,
           0.01,
           0,
           0.01,
           0,
           0.03
          ],
          [
           0,
           0.01,
           0,
           0.06,
           0,
           0.02,
           0,
           0.01,
           0,
           0.55,
           0.01,
           0.05,
           0,
           0,
           0.02
          ],
          [
           0,
           0,
           0.01,
           0,
           0,
           0.01,
           0,
           0,
           0,
           0,
           0.25,
           0,
           0.08,
           0,
           0
          ],
          [
           0,
           0,
           0,
           0,
           0,
           0,
           0,
           0.08,
           0.12,
           0.02,
           0,
           0.67,
           0.11,
           0.16,
           0.02
          ],
          [
           0,
           0,
           0,
           0,
           0,
           0,
           0.04,
           0.11,
           0,
           0.01,
           0.03,
           0.04,
           0.65,
           0.02,
           0.02
          ],
          [
           0,
           0,
           0,
           0,
           0,
           0,
           0,
           0.01,
           0,
           0,
           0.01,
           0.07,
           0.02,
           0.62,
           0
          ],
          [
           0.02,
           0.01,
           0.01,
           0,
           0,
           0.04,
           0,
           0.06,
           0.03,
           0.01,
           0.02,
           0,
           0,
           0,
           0.73
          ]
         ],
         "zmax": 1,
         "zmin": 0
        }
       ],
       "layout": {
        "autosize": false,
        "height": 800,
        "template": {
         "data": {
          "bar": [
           {
            "error_x": {
             "color": "#2a3f5f"
            },
            "error_y": {
             "color": "#2a3f5f"
            },
            "marker": {
             "line": {
              "color": "#E5ECF6",
              "width": 0.5
             },
             "pattern": {
              "fillmode": "overlay",
              "size": 10,
              "solidity": 0.2
             }
            },
            "type": "bar"
           }
          ],
          "barpolar": [
           {
            "marker": {
             "line": {
              "color": "#E5ECF6",
              "width": 0.5
             },
             "pattern": {
              "fillmode": "overlay",
              "size": 10,
              "solidity": 0.2
             }
            },
            "type": "barpolar"
           }
          ],
          "carpet": [
           {
            "aaxis": {
             "endlinecolor": "#2a3f5f",
             "gridcolor": "white",
             "linecolor": "white",
             "minorgridcolor": "white",
             "startlinecolor": "#2a3f5f"
            },
            "baxis": {
             "endlinecolor": "#2a3f5f",
             "gridcolor": "white",
             "linecolor": "white",
             "minorgridcolor": "white",
             "startlinecolor": "#2a3f5f"
            },
            "type": "carpet"
           }
          ],
          "choropleth": [
           {
            "colorbar": {
             "outlinewidth": 0,
             "ticks": ""
            },
            "type": "choropleth"
           }
          ],
          "contour": [
           {
            "colorbar": {
             "outlinewidth": 0,
             "ticks": ""
            },
            "colorscale": [
             [
              0,
              "#0d0887"
             ],
             [
              0.1111111111111111,
              "#46039f"
             ],
             [
              0.2222222222222222,
              "#7201a8"
             ],
             [
              0.3333333333333333,
              "#9c179e"
             ],
             [
              0.4444444444444444,
              "#bd3786"
             ],
             [
              0.5555555555555556,
              "#d8576b"
             ],
             [
              0.6666666666666666,
              "#ed7953"
             ],
             [
              0.7777777777777778,
              "#fb9f3a"
             ],
             [
              0.8888888888888888,
              "#fdca26"
             ],
             [
              1,
              "#f0f921"
             ]
            ],
            "type": "contour"
           }
          ],
          "contourcarpet": [
           {
            "colorbar": {
             "outlinewidth": 0,
             "ticks": ""
            },
            "type": "contourcarpet"
           }
          ],
          "heatmap": [
           {
            "colorbar": {
             "outlinewidth": 0,
             "ticks": ""
            },
            "colorscale": [
             [
              0,
              "#0d0887"
             ],
             [
              0.1111111111111111,
              "#46039f"
             ],
             [
              0.2222222222222222,
              "#7201a8"
             ],
             [
              0.3333333333333333,
              "#9c179e"
             ],
             [
              0.4444444444444444,
              "#bd3786"
             ],
             [
              0.5555555555555556,
              "#d8576b"
             ],
             [
              0.6666666666666666,
              "#ed7953"
             ],
             [
              0.7777777777777778,
              "#fb9f3a"
             ],
             [
              0.8888888888888888,
              "#fdca26"
             ],
             [
              1,
              "#f0f921"
             ]
            ],
            "type": "heatmap"
           }
          ],
          "heatmapgl": [
           {
            "colorbar": {
             "outlinewidth": 0,
             "ticks": ""
            },
            "colorscale": [
             [
              0,
              "#0d0887"
             ],
             [
              0.1111111111111111,
              "#46039f"
             ],
             [
              0.2222222222222222,
              "#7201a8"
             ],
             [
              0.3333333333333333,
              "#9c179e"
             ],
             [
              0.4444444444444444,
              "#bd3786"
             ],
             [
              0.5555555555555556,
              "#d8576b"
             ],
             [
              0.6666666666666666,
              "#ed7953"
             ],
             [
              0.7777777777777778,
              "#fb9f3a"
             ],
             [
              0.8888888888888888,
              "#fdca26"
             ],
             [
              1,
              "#f0f921"
             ]
            ],
            "type": "heatmapgl"
           }
          ],
          "histogram": [
           {
            "marker": {
             "pattern": {
              "fillmode": "overlay",
              "size": 10,
              "solidity": 0.2
             }
            },
            "type": "histogram"
           }
          ],
          "histogram2d": [
           {
            "colorbar": {
             "outlinewidth": 0,
             "ticks": ""
            },
            "colorscale": [
             [
              0,
              "#0d0887"
             ],
             [
              0.1111111111111111,
              "#46039f"
             ],
             [
              0.2222222222222222,
              "#7201a8"
             ],
             [
              0.3333333333333333,
              "#9c179e"
             ],
             [
              0.4444444444444444,
              "#bd3786"
             ],
             [
              0.5555555555555556,
              "#d8576b"
             ],
             [
              0.6666666666666666,
              "#ed7953"
             ],
             [
              0.7777777777777778,
              "#fb9f3a"
             ],
             [
              0.8888888888888888,
              "#fdca26"
             ],
             [
              1,
              "#f0f921"
             ]
            ],
            "type": "histogram2d"
           }
          ],
          "histogram2dcontour": [
           {
            "colorbar": {
             "outlinewidth": 0,
             "ticks": ""
            },
            "colorscale": [
             [
              0,
              "#0d0887"
             ],
             [
              0.1111111111111111,
              "#46039f"
             ],
             [
              0.2222222222222222,
              "#7201a8"
             ],
             [
              0.3333333333333333,
              "#9c179e"
             ],
             [
              0.4444444444444444,
              "#bd3786"
             ],
             [
              0.5555555555555556,
              "#d8576b"
             ],
             [
              0.6666666666666666,
              "#ed7953"
             ],
             [
              0.7777777777777778,
              "#fb9f3a"
             ],
             [
              0.8888888888888888,
              "#fdca26"
             ],
             [
              1,
              "#f0f921"
             ]
            ],
            "type": "histogram2dcontour"
           }
          ],
          "mesh3d": [
           {
            "colorbar": {
             "outlinewidth": 0,
             "ticks": ""
            },
            "type": "mesh3d"
           }
          ],
          "parcoords": [
           {
            "line": {
             "colorbar": {
              "outlinewidth": 0,
              "ticks": ""
             }
            },
            "type": "parcoords"
           }
          ],
          "pie": [
           {
            "automargin": true,
            "type": "pie"
           }
          ],
          "scatter": [
           {
            "fillpattern": {
             "fillmode": "overlay",
             "size": 10,
             "solidity": 0.2
            },
            "type": "scatter"
           }
          ],
          "scatter3d": [
           {
            "line": {
             "colorbar": {
              "outlinewidth": 0,
              "ticks": ""
             }
            },
            "marker": {
             "colorbar": {
              "outlinewidth": 0,
              "ticks": ""
             }
            },
            "type": "scatter3d"
           }
          ],
          "scattercarpet": [
           {
            "marker": {
             "colorbar": {
              "outlinewidth": 0,
              "ticks": ""
             }
            },
            "type": "scattercarpet"
           }
          ],
          "scattergeo": [
           {
            "marker": {
             "colorbar": {
              "outlinewidth": 0,
              "ticks": ""
             }
            },
            "type": "scattergeo"
           }
          ],
          "scattergl": [
           {
            "marker": {
             "colorbar": {
              "outlinewidth": 0,
              "ticks": ""
             }
            },
            "type": "scattergl"
           }
          ],
          "scattermapbox": [
           {
            "marker": {
             "colorbar": {
              "outlinewidth": 0,
              "ticks": ""
             }
            },
            "type": "scattermapbox"
           }
          ],
          "scatterpolar": [
           {
            "marker": {
             "colorbar": {
              "outlinewidth": 0,
              "ticks": ""
             }
            },
            "type": "scatterpolar"
           }
          ],
          "scatterpolargl": [
           {
            "marker": {
             "colorbar": {
              "outlinewidth": 0,
              "ticks": ""
             }
            },
            "type": "scatterpolargl"
           }
          ],
          "scatterternary": [
           {
            "marker": {
             "colorbar": {
              "outlinewidth": 0,
              "ticks": ""
             }
            },
            "type": "scatterternary"
           }
          ],
          "surface": [
           {
            "colorbar": {
             "outlinewidth": 0,
             "ticks": ""
            },
            "colorscale": [
             [
              0,
              "#0d0887"
             ],
             [
              0.1111111111111111,
              "#46039f"
             ],
             [
              0.2222222222222222,
              "#7201a8"
             ],
             [
              0.3333333333333333,
              "#9c179e"
             ],
             [
              0.4444444444444444,
              "#bd3786"
             ],
             [
              0.5555555555555556,
              "#d8576b"
             ],
             [
              0.6666666666666666,
              "#ed7953"
             ],
             [
              0.7777777777777778,
              "#fb9f3a"
             ],
             [
              0.8888888888888888,
              "#fdca26"
             ],
             [
              1,
              "#f0f921"
             ]
            ],
            "type": "surface"
           }
          ],
          "table": [
           {
            "cells": {
             "fill": {
              "color": "#EBF0F8"
             },
             "line": {
              "color": "white"
             }
            },
            "header": {
             "fill": {
              "color": "#C8D4E3"
             },
             "line": {
              "color": "white"
             }
            },
            "type": "table"
           }
          ]
         },
         "layout": {
          "annotationdefaults": {
           "arrowcolor": "#2a3f5f",
           "arrowhead": 0,
           "arrowwidth": 1
          },
          "autotypenumbers": "strict",
          "coloraxis": {
           "colorbar": {
            "outlinewidth": 0,
            "ticks": ""
           }
          },
          "colorscale": {
           "diverging": [
            [
             0,
             "#8e0152"
            ],
            [
             0.1,
             "#c51b7d"
            ],
            [
             0.2,
             "#de77ae"
            ],
            [
             0.3,
             "#f1b6da"
            ],
            [
             0.4,
             "#fde0ef"
            ],
            [
             0.5,
             "#f7f7f7"
            ],
            [
             0.6,
             "#e6f5d0"
            ],
            [
             0.7,
             "#b8e186"
            ],
            [
             0.8,
             "#7fbc41"
            ],
            [
             0.9,
             "#4d9221"
            ],
            [
             1,
             "#276419"
            ]
           ],
           "sequential": [
            [
             0,
             "#0d0887"
            ],
            [
             0.1111111111111111,
             "#46039f"
            ],
            [
             0.2222222222222222,
             "#7201a8"
            ],
            [
             0.3333333333333333,
             "#9c179e"
            ],
            [
             0.4444444444444444,
             "#bd3786"
            ],
            [
             0.5555555555555556,
             "#d8576b"
            ],
            [
             0.6666666666666666,
             "#ed7953"
            ],
            [
             0.7777777777777778,
             "#fb9f3a"
            ],
            [
             0.8888888888888888,
             "#fdca26"
            ],
            [
             1,
             "#f0f921"
            ]
           ],
           "sequentialminus": [
            [
             0,
             "#0d0887"
            ],
            [
             0.1111111111111111,
             "#46039f"
            ],
            [
             0.2222222222222222,
             "#7201a8"
            ],
            [
             0.3333333333333333,
             "#9c179e"
            ],
            [
             0.4444444444444444,
             "#bd3786"
            ],
            [
             0.5555555555555556,
             "#d8576b"
            ],
            [
             0.6666666666666666,
             "#ed7953"
            ],
            [
             0.7777777777777778,
             "#fb9f3a"
            ],
            [
             0.8888888888888888,
             "#fdca26"
            ],
            [
             1,
             "#f0f921"
            ]
           ]
          },
          "colorway": [
           "#636efa",
           "#EF553B",
           "#00cc96",
           "#ab63fa",
           "#FFA15A",
           "#19d3f3",
           "#FF6692",
           "#B6E880",
           "#FF97FF",
           "#FECB52"
          ],
          "font": {
           "color": "#2a3f5f"
          },
          "geo": {
           "bgcolor": "white",
           "lakecolor": "white",
           "landcolor": "#E5ECF6",
           "showlakes": true,
           "showland": true,
           "subunitcolor": "white"
          },
          "hoverlabel": {
           "align": "left"
          },
          "hovermode": "closest",
          "mapbox": {
           "style": "light"
          },
          "paper_bgcolor": "white",
          "plot_bgcolor": "#E5ECF6",
          "polar": {
           "angularaxis": {
            "gridcolor": "white",
            "linecolor": "white",
            "ticks": ""
           },
           "bgcolor": "#E5ECF6",
           "radialaxis": {
            "gridcolor": "white",
            "linecolor": "white",
            "ticks": ""
           }
          },
          "scene": {
           "xaxis": {
            "backgroundcolor": "#E5ECF6",
            "gridcolor": "white",
            "gridwidth": 2,
            "linecolor": "white",
            "showbackground": true,
            "ticks": "",
            "zerolinecolor": "white"
           },
           "yaxis": {
            "backgroundcolor": "#E5ECF6",
            "gridcolor": "white",
            "gridwidth": 2,
            "linecolor": "white",
            "showbackground": true,
            "ticks": "",
            "zerolinecolor": "white"
           },
           "zaxis": {
            "backgroundcolor": "#E5ECF6",
            "gridcolor": "white",
            "gridwidth": 2,
            "linecolor": "white",
            "showbackground": true,
            "ticks": "",
            "zerolinecolor": "white"
           }
          },
          "shapedefaults": {
           "line": {
            "color": "#2a3f5f"
           }
          },
          "ternary": {
           "aaxis": {
            "gridcolor": "white",
            "linecolor": "white",
            "ticks": ""
           },
           "baxis": {
            "gridcolor": "white",
            "linecolor": "white",
            "ticks": ""
           },
           "bgcolor": "#E5ECF6",
           "caxis": {
            "gridcolor": "white",
            "linecolor": "white",
            "ticks": ""
           }
          },
          "title": {
           "x": 0.05
          },
          "xaxis": {
           "automargin": true,
           "gridcolor": "white",
           "linecolor": "white",
           "ticks": "",
           "title": {
            "standoff": 15
           },
           "zerolinecolor": "white",
           "zerolinewidth": 2
          },
          "yaxis": {
           "automargin": true,
           "gridcolor": "white",
           "linecolor": "white",
           "ticks": "",
           "title": {
            "standoff": 15
           },
           "zerolinecolor": "white",
           "zerolinewidth": 2
          }
         }
        },
        "title": {
         "text": "Confusion Matrix Validation Data_old"
        },
        "width": 800,
        "xaxis": {
         "title": {
          "text": "Predicted label"
         }
        },
        "yaxis": {
         "autorange": "reversed",
         "title": {
          "text": "True Label"
         }
        }
       }
      }
     },
     "metadata": {},
     "output_type": "display_data"
    }
   ],
   "source": [
    "y_scores_valid = like7_.model.predict(dada_old['X_valid'])\n",
    "Y_hat_valid = np.argmax(y_scores_valid, axis=1)\n",
    "\n",
    "plot_CM(dada_old['Y_valid'], Y_hat_valid, 'Confusion Matrix Validation Data old', percentagereference='recall')\n",
    "plot_CM(dada_old['Y_valid'], Y_hat_valid, 'Confusion Matrix Validation Data_old', percentagereference='precision')"
   ]
  },
  {
   "cell_type": "code",
   "execution_count": 42,
   "metadata": {},
   "outputs": [
    {
     "data": {
      "text/html": [
       "<pre style=\"white-space:pre;overflow-x:auto;line-height:normal;font-family:Menlo,'DejaVu Sans Mono',consolas,'Courier New',monospace\"><span style=\"font-weight: bold\">Model: \"functional_13\"</span>\n",
       "</pre>\n"
      ],
      "text/plain": [
       "\u001b[1mModel: \"functional_13\"\u001b[0m\n"
      ]
     },
     "metadata": {},
     "output_type": "display_data"
    },
    {
     "data": {
      "text/html": [
       "<pre style=\"white-space:pre;overflow-x:auto;line-height:normal;font-family:Menlo,'DejaVu Sans Mono',consolas,'Courier New',monospace\">┏━━━━━━━━━━━━━━━━━━━━━┳━━━━━━━━━━━━━━━━━━━┳━━━━━━━━━━━━┳━━━━━━━━━━━━━━━━━━━┓\n",
       "┃<span style=\"font-weight: bold\"> Layer (type)        </span>┃<span style=\"font-weight: bold\"> Output Shape      </span>┃<span style=\"font-weight: bold\">    Param # </span>┃<span style=\"font-weight: bold\"> Connected to      </span>┃\n",
       "┡━━━━━━━━━━━━━━━━━━━━━╇━━━━━━━━━━━━━━━━━━━╇━━━━━━━━━━━━╇━━━━━━━━━━━━━━━━━━━┩\n",
       "│ input_layer_12      │ (<span style=\"color: #00d7ff; text-decoration-color: #00d7ff\">None</span>, <span style=\"color: #00af00; text-decoration-color: #00af00\">4</span>, <span style=\"color: #00af00; text-decoration-color: #00af00\">302</span>, <span style=\"color: #00af00; text-decoration-color: #00af00\">5</span>) │          <span style=\"color: #00af00; text-decoration-color: #00af00\">0</span> │ -                 │\n",
       "│ (<span style=\"color: #0087ff; text-decoration-color: #0087ff\">InputLayer</span>)        │                   │            │                   │\n",
       "├─────────────────────┼───────────────────┼────────────┼───────────────────┤\n",
       "│ conv1.5d_1 (<span style=\"color: #0087ff; text-decoration-color: #0087ff\">Conv2D</span>) │ (<span style=\"color: #00d7ff; text-decoration-color: #00d7ff\">None</span>, <span style=\"color: #00af00; text-decoration-color: #00af00\">1</span>, <span style=\"color: #00af00; text-decoration-color: #00af00\">300</span>, <span style=\"color: #00af00; text-decoration-color: #00af00\">6</span>) │        <span style=\"color: #00af00; text-decoration-color: #00af00\">366</span> │ input_layer_12[<span style=\"color: #00af00; text-decoration-color: #00af00\">0</span>… │\n",
       "├─────────────────────┼───────────────────┼────────────┼───────────────────┤\n",
       "│ reshape_6 (<span style=\"color: #0087ff; text-decoration-color: #0087ff\">Reshape</span>) │ (<span style=\"color: #00d7ff; text-decoration-color: #00d7ff\">None</span>, <span style=\"color: #00af00; text-decoration-color: #00af00\">300</span>, <span style=\"color: #00af00; text-decoration-color: #00af00\">6</span>)    │          <span style=\"color: #00af00; text-decoration-color: #00af00\">0</span> │ conv1.5d_1[<span style=\"color: #00af00; text-decoration-color: #00af00\">0</span>][<span style=\"color: #00af00; text-decoration-color: #00af00\">0</span>]  │\n",
       "├─────────────────────┼───────────────────┼────────────┼───────────────────┤\n",
       "│ input_layer_13      │ (<span style=\"color: #00d7ff; text-decoration-color: #00d7ff\">None</span>, <span style=\"color: #00af00; text-decoration-color: #00af00\">300</span>, <span style=\"color: #00af00; text-decoration-color: #00af00\">7</span>)    │          <span style=\"color: #00af00; text-decoration-color: #00af00\">0</span> │ -                 │\n",
       "│ (<span style=\"color: #0087ff; text-decoration-color: #0087ff\">InputLayer</span>)        │                   │            │                   │\n",
       "├─────────────────────┼───────────────────┼────────────┼───────────────────┤\n",
       "│ conv1d_36 (<span style=\"color: #0087ff; text-decoration-color: #0087ff\">Conv1D</span>)  │ (<span style=\"color: #00d7ff; text-decoration-color: #00d7ff\">None</span>, <span style=\"color: #00af00; text-decoration-color: #00af00\">298</span>, <span style=\"color: #00af00; text-decoration-color: #00af00\">16</span>)   │        <span style=\"color: #00af00; text-decoration-color: #00af00\">304</span> │ reshape_6[<span style=\"color: #00af00; text-decoration-color: #00af00\">0</span>][<span style=\"color: #00af00; text-decoration-color: #00af00\">0</span>]   │\n",
       "├─────────────────────┼───────────────────┼────────────┼───────────────────┤\n",
       "│ conv1d_39 (<span style=\"color: #0087ff; text-decoration-color: #0087ff\">Conv1D</span>)  │ (<span style=\"color: #00d7ff; text-decoration-color: #00d7ff\">None</span>, <span style=\"color: #00af00; text-decoration-color: #00af00\">298</span>, <span style=\"color: #00af00; text-decoration-color: #00af00\">16</span>)   │        <span style=\"color: #00af00; text-decoration-color: #00af00\">352</span> │ input_layer_13[<span style=\"color: #00af00; text-decoration-color: #00af00\">0</span>… │\n",
       "├─────────────────────┼───────────────────┼────────────┼───────────────────┤\n",
       "│ conv1d_37 (<span style=\"color: #0087ff; text-decoration-color: #0087ff\">Conv1D</span>)  │ (<span style=\"color: #00d7ff; text-decoration-color: #00d7ff\">None</span>, <span style=\"color: #00af00; text-decoration-color: #00af00\">294</span>, <span style=\"color: #00af00; text-decoration-color: #00af00\">64</span>)   │      <span style=\"color: #00af00; text-decoration-color: #00af00\">3,136</span> │ conv1d_36[<span style=\"color: #00af00; text-decoration-color: #00af00\">0</span>][<span style=\"color: #00af00; text-decoration-color: #00af00\">0</span>]   │\n",
       "├─────────────────────┼───────────────────┼────────────┼───────────────────┤\n",
       "│ conv1d_40 (<span style=\"color: #0087ff; text-decoration-color: #0087ff\">Conv1D</span>)  │ (<span style=\"color: #00d7ff; text-decoration-color: #00d7ff\">None</span>, <span style=\"color: #00af00; text-decoration-color: #00af00\">294</span>, <span style=\"color: #00af00; text-decoration-color: #00af00\">64</span>)   │      <span style=\"color: #00af00; text-decoration-color: #00af00\">3,136</span> │ conv1d_39[<span style=\"color: #00af00; text-decoration-color: #00af00\">0</span>][<span style=\"color: #00af00; text-decoration-color: #00af00\">0</span>]   │\n",
       "├─────────────────────┼───────────────────┼────────────┼───────────────────┤\n",
       "│ conv1d_38 (<span style=\"color: #0087ff; text-decoration-color: #0087ff\">Conv1D</span>)  │ (<span style=\"color: #00d7ff; text-decoration-color: #00d7ff\">None</span>, <span style=\"color: #00af00; text-decoration-color: #00af00\">286</span>, <span style=\"color: #00af00; text-decoration-color: #00af00\">64</span>)   │     <span style=\"color: #00af00; text-decoration-color: #00af00\">12,352</span> │ conv1d_37[<span style=\"color: #00af00; text-decoration-color: #00af00\">0</span>][<span style=\"color: #00af00; text-decoration-color: #00af00\">0</span>]   │\n",
       "├─────────────────────┼───────────────────┼────────────┼───────────────────┤\n",
       "│ conv1d_41 (<span style=\"color: #0087ff; text-decoration-color: #0087ff\">Conv1D</span>)  │ (<span style=\"color: #00d7ff; text-decoration-color: #00d7ff\">None</span>, <span style=\"color: #00af00; text-decoration-color: #00af00\">286</span>, <span style=\"color: #00af00; text-decoration-color: #00af00\">64</span>)   │     <span style=\"color: #00af00; text-decoration-color: #00af00\">12,352</span> │ conv1d_40[<span style=\"color: #00af00; text-decoration-color: #00af00\">0</span>][<span style=\"color: #00af00; text-decoration-color: #00af00\">0</span>]   │\n",
       "├─────────────────────┼───────────────────┼────────────┼───────────────────┤\n",
       "│ max_pooling1d_12    │ (<span style=\"color: #00d7ff; text-decoration-color: #00d7ff\">None</span>, <span style=\"color: #00af00; text-decoration-color: #00af00\">95</span>, <span style=\"color: #00af00; text-decoration-color: #00af00\">64</span>)    │          <span style=\"color: #00af00; text-decoration-color: #00af00\">0</span> │ conv1d_38[<span style=\"color: #00af00; text-decoration-color: #00af00\">0</span>][<span style=\"color: #00af00; text-decoration-color: #00af00\">0</span>]   │\n",
       "│ (<span style=\"color: #0087ff; text-decoration-color: #0087ff\">MaxPooling1D</span>)      │                   │            │                   │\n",
       "├─────────────────────┼───────────────────┼────────────┼───────────────────┤\n",
       "│ max_pooling1d_13    │ (<span style=\"color: #00d7ff; text-decoration-color: #00d7ff\">None</span>, <span style=\"color: #00af00; text-decoration-color: #00af00\">95</span>, <span style=\"color: #00af00; text-decoration-color: #00af00\">64</span>)    │          <span style=\"color: #00af00; text-decoration-color: #00af00\">0</span> │ conv1d_41[<span style=\"color: #00af00; text-decoration-color: #00af00\">0</span>][<span style=\"color: #00af00; text-decoration-color: #00af00\">0</span>]   │\n",
       "│ (<span style=\"color: #0087ff; text-decoration-color: #0087ff\">MaxPooling1D</span>)      │                   │            │                   │\n",
       "├─────────────────────┼───────────────────┼────────────┼───────────────────┤\n",
       "│ concatenate_6       │ (<span style=\"color: #00d7ff; text-decoration-color: #00d7ff\">None</span>, <span style=\"color: #00af00; text-decoration-color: #00af00\">95</span>, <span style=\"color: #00af00; text-decoration-color: #00af00\">128</span>)   │          <span style=\"color: #00af00; text-decoration-color: #00af00\">0</span> │ max_pooling1d_12… │\n",
       "│ (<span style=\"color: #0087ff; text-decoration-color: #0087ff\">Concatenate</span>)       │                   │            │ max_pooling1d_13… │\n",
       "├─────────────────────┼───────────────────┼────────────┼───────────────────┤\n",
       "│ flatten_6 (<span style=\"color: #0087ff; text-decoration-color: #0087ff\">Flatten</span>) │ (<span style=\"color: #00d7ff; text-decoration-color: #00d7ff\">None</span>, <span style=\"color: #00af00; text-decoration-color: #00af00\">12160</span>)     │          <span style=\"color: #00af00; text-decoration-color: #00af00\">0</span> │ concatenate_6[<span style=\"color: #00af00; text-decoration-color: #00af00\">0</span>]… │\n",
       "├─────────────────────┼───────────────────┼────────────┼───────────────────┤\n",
       "│ dense_12 (<span style=\"color: #0087ff; text-decoration-color: #0087ff\">Dense</span>)    │ (<span style=\"color: #00d7ff; text-decoration-color: #00d7ff\">None</span>, <span style=\"color: #00af00; text-decoration-color: #00af00\">200</span>)       │  <span style=\"color: #00af00; text-decoration-color: #00af00\">2,432,200</span> │ flatten_6[<span style=\"color: #00af00; text-decoration-color: #00af00\">0</span>][<span style=\"color: #00af00; text-decoration-color: #00af00\">0</span>]   │\n",
       "├─────────────────────┼───────────────────┼────────────┼───────────────────┤\n",
       "│ dropout_6 (<span style=\"color: #0087ff; text-decoration-color: #0087ff\">Dropout</span>) │ (<span style=\"color: #00d7ff; text-decoration-color: #00d7ff\">None</span>, <span style=\"color: #00af00; text-decoration-color: #00af00\">200</span>)       │          <span style=\"color: #00af00; text-decoration-color: #00af00\">0</span> │ dense_12[<span style=\"color: #00af00; text-decoration-color: #00af00\">0</span>][<span style=\"color: #00af00; text-decoration-color: #00af00\">0</span>]    │\n",
       "├─────────────────────┼───────────────────┼────────────┼───────────────────┤\n",
       "│ dense_13 (<span style=\"color: #0087ff; text-decoration-color: #0087ff\">Dense</span>)    │ (<span style=\"color: #00d7ff; text-decoration-color: #00d7ff\">None</span>, <span style=\"color: #00af00; text-decoration-color: #00af00\">14</span>)        │      <span style=\"color: #00af00; text-decoration-color: #00af00\">2,814</span> │ dropout_6[<span style=\"color: #00af00; text-decoration-color: #00af00\">0</span>][<span style=\"color: #00af00; text-decoration-color: #00af00\">0</span>]   │\n",
       "└─────────────────────┴───────────────────┴────────────┴───────────────────┘\n",
       "</pre>\n"
      ],
      "text/plain": [
       "┏━━━━━━━━━━━━━━━━━━━━━┳━━━━━━━━━━━━━━━━━━━┳━━━━━━━━━━━━┳━━━━━━━━━━━━━━━━━━━┓\n",
       "┃\u001b[1m \u001b[0m\u001b[1mLayer (type)       \u001b[0m\u001b[1m \u001b[0m┃\u001b[1m \u001b[0m\u001b[1mOutput Shape     \u001b[0m\u001b[1m \u001b[0m┃\u001b[1m \u001b[0m\u001b[1m   Param #\u001b[0m\u001b[1m \u001b[0m┃\u001b[1m \u001b[0m\u001b[1mConnected to     \u001b[0m\u001b[1m \u001b[0m┃\n",
       "┡━━━━━━━━━━━━━━━━━━━━━╇━━━━━━━━━━━━━━━━━━━╇━━━━━━━━━━━━╇━━━━━━━━━━━━━━━━━━━┩\n",
       "│ input_layer_12      │ (\u001b[38;5;45mNone\u001b[0m, \u001b[38;5;34m4\u001b[0m, \u001b[38;5;34m302\u001b[0m, \u001b[38;5;34m5\u001b[0m) │          \u001b[38;5;34m0\u001b[0m │ -                 │\n",
       "│ (\u001b[38;5;33mInputLayer\u001b[0m)        │                   │            │                   │\n",
       "├─────────────────────┼───────────────────┼────────────┼───────────────────┤\n",
       "│ conv1.5d_1 (\u001b[38;5;33mConv2D\u001b[0m) │ (\u001b[38;5;45mNone\u001b[0m, \u001b[38;5;34m1\u001b[0m, \u001b[38;5;34m300\u001b[0m, \u001b[38;5;34m6\u001b[0m) │        \u001b[38;5;34m366\u001b[0m │ input_layer_12[\u001b[38;5;34m0\u001b[0m… │\n",
       "├─────────────────────┼───────────────────┼────────────┼───────────────────┤\n",
       "│ reshape_6 (\u001b[38;5;33mReshape\u001b[0m) │ (\u001b[38;5;45mNone\u001b[0m, \u001b[38;5;34m300\u001b[0m, \u001b[38;5;34m6\u001b[0m)    │          \u001b[38;5;34m0\u001b[0m │ conv1.5d_1[\u001b[38;5;34m0\u001b[0m][\u001b[38;5;34m0\u001b[0m]  │\n",
       "├─────────────────────┼───────────────────┼────────────┼───────────────────┤\n",
       "│ input_layer_13      │ (\u001b[38;5;45mNone\u001b[0m, \u001b[38;5;34m300\u001b[0m, \u001b[38;5;34m7\u001b[0m)    │          \u001b[38;5;34m0\u001b[0m │ -                 │\n",
       "│ (\u001b[38;5;33mInputLayer\u001b[0m)        │                   │            │                   │\n",
       "├─────────────────────┼───────────────────┼────────────┼───────────────────┤\n",
       "│ conv1d_36 (\u001b[38;5;33mConv1D\u001b[0m)  │ (\u001b[38;5;45mNone\u001b[0m, \u001b[38;5;34m298\u001b[0m, \u001b[38;5;34m16\u001b[0m)   │        \u001b[38;5;34m304\u001b[0m │ reshape_6[\u001b[38;5;34m0\u001b[0m][\u001b[38;5;34m0\u001b[0m]   │\n",
       "├─────────────────────┼───────────────────┼────────────┼───────────────────┤\n",
       "│ conv1d_39 (\u001b[38;5;33mConv1D\u001b[0m)  │ (\u001b[38;5;45mNone\u001b[0m, \u001b[38;5;34m298\u001b[0m, \u001b[38;5;34m16\u001b[0m)   │        \u001b[38;5;34m352\u001b[0m │ input_layer_13[\u001b[38;5;34m0\u001b[0m… │\n",
       "├─────────────────────┼───────────────────┼────────────┼───────────────────┤\n",
       "│ conv1d_37 (\u001b[38;5;33mConv1D\u001b[0m)  │ (\u001b[38;5;45mNone\u001b[0m, \u001b[38;5;34m294\u001b[0m, \u001b[38;5;34m64\u001b[0m)   │      \u001b[38;5;34m3,136\u001b[0m │ conv1d_36[\u001b[38;5;34m0\u001b[0m][\u001b[38;5;34m0\u001b[0m]   │\n",
       "├─────────────────────┼───────────────────┼────────────┼───────────────────┤\n",
       "│ conv1d_40 (\u001b[38;5;33mConv1D\u001b[0m)  │ (\u001b[38;5;45mNone\u001b[0m, \u001b[38;5;34m294\u001b[0m, \u001b[38;5;34m64\u001b[0m)   │      \u001b[38;5;34m3,136\u001b[0m │ conv1d_39[\u001b[38;5;34m0\u001b[0m][\u001b[38;5;34m0\u001b[0m]   │\n",
       "├─────────────────────┼───────────────────┼────────────┼───────────────────┤\n",
       "│ conv1d_38 (\u001b[38;5;33mConv1D\u001b[0m)  │ (\u001b[38;5;45mNone\u001b[0m, \u001b[38;5;34m286\u001b[0m, \u001b[38;5;34m64\u001b[0m)   │     \u001b[38;5;34m12,352\u001b[0m │ conv1d_37[\u001b[38;5;34m0\u001b[0m][\u001b[38;5;34m0\u001b[0m]   │\n",
       "├─────────────────────┼───────────────────┼────────────┼───────────────────┤\n",
       "│ conv1d_41 (\u001b[38;5;33mConv1D\u001b[0m)  │ (\u001b[38;5;45mNone\u001b[0m, \u001b[38;5;34m286\u001b[0m, \u001b[38;5;34m64\u001b[0m)   │     \u001b[38;5;34m12,352\u001b[0m │ conv1d_40[\u001b[38;5;34m0\u001b[0m][\u001b[38;5;34m0\u001b[0m]   │\n",
       "├─────────────────────┼───────────────────┼────────────┼───────────────────┤\n",
       "│ max_pooling1d_12    │ (\u001b[38;5;45mNone\u001b[0m, \u001b[38;5;34m95\u001b[0m, \u001b[38;5;34m64\u001b[0m)    │          \u001b[38;5;34m0\u001b[0m │ conv1d_38[\u001b[38;5;34m0\u001b[0m][\u001b[38;5;34m0\u001b[0m]   │\n",
       "│ (\u001b[38;5;33mMaxPooling1D\u001b[0m)      │                   │            │                   │\n",
       "├─────────────────────┼───────────────────┼────────────┼───────────────────┤\n",
       "│ max_pooling1d_13    │ (\u001b[38;5;45mNone\u001b[0m, \u001b[38;5;34m95\u001b[0m, \u001b[38;5;34m64\u001b[0m)    │          \u001b[38;5;34m0\u001b[0m │ conv1d_41[\u001b[38;5;34m0\u001b[0m][\u001b[38;5;34m0\u001b[0m]   │\n",
       "│ (\u001b[38;5;33mMaxPooling1D\u001b[0m)      │                   │            │                   │\n",
       "├─────────────────────┼───────────────────┼────────────┼───────────────────┤\n",
       "│ concatenate_6       │ (\u001b[38;5;45mNone\u001b[0m, \u001b[38;5;34m95\u001b[0m, \u001b[38;5;34m128\u001b[0m)   │          \u001b[38;5;34m0\u001b[0m │ max_pooling1d_12… │\n",
       "│ (\u001b[38;5;33mConcatenate\u001b[0m)       │                   │            │ max_pooling1d_13… │\n",
       "├─────────────────────┼───────────────────┼────────────┼───────────────────┤\n",
       "│ flatten_6 (\u001b[38;5;33mFlatten\u001b[0m) │ (\u001b[38;5;45mNone\u001b[0m, \u001b[38;5;34m12160\u001b[0m)     │          \u001b[38;5;34m0\u001b[0m │ concatenate_6[\u001b[38;5;34m0\u001b[0m]… │\n",
       "├─────────────────────┼───────────────────┼────────────┼───────────────────┤\n",
       "│ dense_12 (\u001b[38;5;33mDense\u001b[0m)    │ (\u001b[38;5;45mNone\u001b[0m, \u001b[38;5;34m200\u001b[0m)       │  \u001b[38;5;34m2,432,200\u001b[0m │ flatten_6[\u001b[38;5;34m0\u001b[0m][\u001b[38;5;34m0\u001b[0m]   │\n",
       "├─────────────────────┼───────────────────┼────────────┼───────────────────┤\n",
       "│ dropout_6 (\u001b[38;5;33mDropout\u001b[0m) │ (\u001b[38;5;45mNone\u001b[0m, \u001b[38;5;34m200\u001b[0m)       │          \u001b[38;5;34m0\u001b[0m │ dense_12[\u001b[38;5;34m0\u001b[0m][\u001b[38;5;34m0\u001b[0m]    │\n",
       "├─────────────────────┼───────────────────┼────────────┼───────────────────┤\n",
       "│ dense_13 (\u001b[38;5;33mDense\u001b[0m)    │ (\u001b[38;5;45mNone\u001b[0m, \u001b[38;5;34m14\u001b[0m)        │      \u001b[38;5;34m2,814\u001b[0m │ dropout_6[\u001b[38;5;34m0\u001b[0m][\u001b[38;5;34m0\u001b[0m]   │\n",
       "└─────────────────────┴───────────────────┴────────────┴───────────────────┘\n"
      ]
     },
     "metadata": {},
     "output_type": "display_data"
    },
    {
     "data": {
      "text/html": [
       "<pre style=\"white-space:pre;overflow-x:auto;line-height:normal;font-family:Menlo,'DejaVu Sans Mono',consolas,'Courier New',monospace\"><span style=\"font-weight: bold\"> Total params: </span><span style=\"color: #00af00; text-decoration-color: #00af00\">7,401,038</span> (28.23 MB)\n",
       "</pre>\n"
      ],
      "text/plain": [
       "\u001b[1m Total params: \u001b[0m\u001b[38;5;34m7,401,038\u001b[0m (28.23 MB)\n"
      ]
     },
     "metadata": {},
     "output_type": "display_data"
    },
    {
     "data": {
      "text/html": [
       "<pre style=\"white-space:pre;overflow-x:auto;line-height:normal;font-family:Menlo,'DejaVu Sans Mono',consolas,'Courier New',monospace\"><span style=\"font-weight: bold\"> Trainable params: </span><span style=\"color: #00af00; text-decoration-color: #00af00\">2,467,012</span> (9.41 MB)\n",
       "</pre>\n"
      ],
      "text/plain": [
       "\u001b[1m Trainable params: \u001b[0m\u001b[38;5;34m2,467,012\u001b[0m (9.41 MB)\n"
      ]
     },
     "metadata": {},
     "output_type": "display_data"
    },
    {
     "data": {
      "text/html": [
       "<pre style=\"white-space:pre;overflow-x:auto;line-height:normal;font-family:Menlo,'DejaVu Sans Mono',consolas,'Courier New',monospace\"><span style=\"font-weight: bold\"> Non-trainable params: </span><span style=\"color: #00af00; text-decoration-color: #00af00\">0</span> (0.00 B)\n",
       "</pre>\n"
      ],
      "text/plain": [
       "\u001b[1m Non-trainable params: \u001b[0m\u001b[38;5;34m0\u001b[0m (0.00 B)\n"
      ]
     },
     "metadata": {},
     "output_type": "display_data"
    },
    {
     "data": {
      "text/html": [
       "<pre style=\"white-space:pre;overflow-x:auto;line-height:normal;font-family:Menlo,'DejaVu Sans Mono',consolas,'Courier New',monospace\"><span style=\"font-weight: bold\"> Optimizer params: </span><span style=\"color: #00af00; text-decoration-color: #00af00\">4,934,026</span> (18.82 MB)\n",
       "</pre>\n"
      ],
      "text/plain": [
       "\u001b[1m Optimizer params: \u001b[0m\u001b[38;5;34m4,934,026\u001b[0m (18.82 MB)\n"
      ]
     },
     "metadata": {},
     "output_type": "display_data"
    }
   ],
   "source": [
    "like7.model.summary()\n"
   ]
  },
  {
   "cell_type": "code",
   "execution_count": 43,
   "metadata": {},
   "outputs": [
    {
     "data": {
      "image/png": "[encoded data removed]",
      "text/plain": [
       "<IPython.core.display.Image object>"
      ]
     },
     "execution_count": 43,
     "metadata": {},
     "output_type": "execute_result"
    }
   ],
   "source": [
    "keras.utils.plot_model(like7.model, show_shapes=True, rankdir = 'TB', dpi = 100, to_file='model7.png')"
   ]
  },
  {
   "cell_type": "code",
   "execution_count": null,
   "metadata": {},
   "outputs": [],
   "source": [
    "resultsDF = pd.DataFrame()"
   ]
  },
  {
   "cell_type": "code",
   "execution_count": null,
   "metadata": {},
   "outputs": [],
   "source": [
    "# validation score is influenced by regularization terms!!!!\n",
    "results = like7.model.evaluate([X_valid_angles, X_valid_pointquat], Y_valid_oh, verbose = 0, return_dict=True)\n",
    "print(f'NLL: {results['NLL']:,.2f}')\n",
    "#print(f'Validation score: {results['loss']:,.2f}')\n",
    "print(f'Validation accuracy: {results['accuracy']:,.2f}')\n",
    "print(f'Validation F1Score: {results['f1_score']:,.2f}')\n",
    "#%%\n",
    "\n",
    "\n",
    "# NLL: 0.95\n",
    "# Validation accuracy: 0.73\n",
    "# Validation F1Score: 0.73\n",
    "results"
   ]
  },
  {
   "cell_type": "code",
   "execution_count": 112,
   "metadata": {},
   "outputs": [
    {
     "name": "stdout",
     "output_type": "stream",
     "text": [
      "\u001b[1m91/91\u001b[0m \u001b[32m━━━━━━━━━━━━━━━━━━━━\u001b[0m\u001b[37m\u001b[0m \u001b[1m3s\u001b[0m 10ms/step\n"
     ]
    }
   ],
   "source": [
    "\n",
    "\n",
    "y_scores_valid = like7.model.predict(foldsprocessors[1].window_sets_processed['valid']['X'])\n",
    "Y_hat_valid = np.argmax(y_scores_valid, axis=1)\n",
    "\n",
    "plot_CM(foldsprocessors[1].window_sets_processed['valid']['Y'], Y_hat_valid, 'Confusion Matrix Validation Data', percentagereference='recall')\n",
    "plot_CM(foldsprocessors[1].window_sets_processed['valid']['Y'], Y_hat_valid, 'Confusion Matrix Validation Data', percentagereference='precision')\n",
    "\n",
    "# T_valid.loc[:, 'Y_hat'] = Y_hat_valid\n",
    "# T_valid.loc[:, 'Y'] = Y_valid\n",
    "# T_valid.loc[:, 'Y_score_true'] = y_scores_valid[np.arange(y_scores_valid.shape[0]), Y_valid]\n",
    "# T_valid.loc[:, 'Y_score_nogest'] = y_scores_valid[:, 0]\n",
    "# T_valid"
   ]
  },
  {
   "cell_type": "code",
   "execution_count": 113,
   "metadata": {},
   "outputs": [
    {
     "data": {
      "application/vnd.plotly.v1+json": {
       "config": {
        "plotlyServerURL": "https://plot.ly"
       },
       "data": [
        {
         "colorbar": {
          "title": {
           "text": "Percentage of<br>true label"
          }
         },
         "colorscale": [
          [
           0,
           "#440154"
          ],
          [
           0.1111111111111111,
           "#482878"
          ],
          [
           0.2222222222222222,
           "#3e4989"
          ],
          [
           0.3333333333333333,
           "#31688e"
          ],
          [
           0.4444444444444444,
           "#26828e"
          ],
          [
           0.5555555555555556,
           "#1f9e89"
          ],
          [
           0.6666666666666666,
           "#35b779"
          ],
          [
           0.7777777777777778,
           "#6ece58"
          ],
          [
           0.8888888888888888,
           "#b5de2b"
          ],
          [
           1,
           "#fde725"
          ]
         ],
         "text": [
          [
           552,
           65,
           66,
           18,
           120,
           64,
           45,
           31,
           118,
           53,
           81,
           21,
           30,
           13,
           8
          ],
          [
           6,
           40,
           22,
           6,
           18,
           3,
           4,
           0,
           1,
           8,
           16,
           0,
           2,
           0,
           0
          ],
          [
           2,
           3,
           64,
           0,
           0,
           0,
           0,
           0,
           0,
           0,
           9,
           0,
           0,
           0,
           0
          ],
          [
           7,
           2,
           6,
           66,
           5,
           1,
           0,
           1,
           0,
           16,
           2,
           0,
           0,
           0,
           0
          ],
          [
           5,
           22,
           0,
           0,
           64,
           0,
           2,
           0,
           0,
           1,
           12,
           0,
           0,
           0,
           0
          ],
          [
           2,
           7,
           0,
           0,
           5,
           70,
           3,
           0,
           24,
           0,
           2,
           0,
           0,
           0,
           0
          ],
          [
           6,
           22,
           7,
           1,
           3,
           11,
           78,
           0,
           14,
           0,
           1,
           0,
           0,
           0,
           0
          ],
          [
           0,
           0,
           1,
           1,
           0,
           5,
           6,
           42,
           4,
           1,
           0,
           5,
           6,
           2,
           6
          ],
          [
           2,
           1,
           1,
           3,
           3,
           18,
           1,
           1,
           54,
           1,
           3,
           2,
           0,
           0,
           7
          ],
          [
           1,
           1,
           0,
           7,
           0,
           2,
           6,
           1,
           1,
           40,
           0,
           4,
           4,
           1,
           2
          ],
          [
           3,
           0,
           3,
           0,
           0,
           6,
           0,
           1,
           0,
           0,
           47,
           0,
           3,
           0,
           0
          ],
          [
           0,
           0,
           0,
           0,
           0,
           0,
           0,
           3,
           0,
           0,
           0,
           118,
           3,
           39,
           0
          ],
          [
           3,
           0,
           0,
           0,
           0,
           3,
           3,
           32,
           3,
           0,
           14,
           18,
           117,
           11,
           0
          ],
          [
           0,
           0,
           0,
           0,
           0,
           2,
           0,
           3,
           0,
           0,
           0,
           30,
           1,
           102,
           0
          ],
          [
           6,
           2,
           17,
           0,
           4,
           19,
           8,
           6,
           5,
           1,
           15,
           0,
           6,
           0,
           46
          ]
         ],
         "texttemplate": "%{z:.0%}<br>(%{text:d})",
         "type": "heatmap",
         "x": [
          0,
          1,
          2,
          3,
          4,
          5,
          6,
          7,
          8,
          9,
          10,
          11,
          12,
          13,
          14
         ],
         "y": [
          0,
          1,
          2,
          3,
          4,
          5,
          6,
          7,
          8,
          9,
          10,
          11,
          12,
          13,
          14
         ],
         "z": [
          [
           0.43,
           0.05,
           0.05,
           0.01,
           0.09,
           0.05,
           0.04,
           0.02,
           0.09,
           0.04,
           0.06,
           0.02,
           0.02,
           0.01,
           0.01
          ],
          [
           0.05,
           0.32,
           0.17,
           0.05,
           0.14,
           0.02,
           0.03,
           0,
           0.01,
           0.06,
           0.13,
           0,
           0.02,
           0,
           0
          ],
          [
           0.03,
           0.04,
           0.82,
           0,
           0,
           0,
           0,
           0,
           0,
           0,
           0.12,
           0,
           0,
           0,
           0
          ],
          [
           0.07,
           0.02,
           0.06,
           0.62,
           0.05,
           0.01,
           0,
           0.01,
           0,
           0.15,
           0.02,
           0,
           0,
           0,
           0
          ],
          [
           0.05,
           0.21,
           0,
           0,
           0.6,
           0,
           0.02,
           0,
           0,
           0.01,
           0.11,
           0,
           0,
           0,
           0
          ],
          [
           0.02,
           0.06,
           0,
           0,
           0.04,
           0.62,
           0.03,
           0,
           0.21,
           0,
           0.02,
           0,
           0,
           0,
           0
          ],
          [
           0.04,
           0.15,
           0.05,
           0.01,
           0.02,
           0.08,
           0.55,
           0,
           0.1,
           0,
           0.01,
           0,
           0,
           0,
           0
          ],
          [
           0,
           0,
           0.01,
           0.01,
           0,
           0.06,
           0.08,
           0.53,
           0.05,
           0.01,
           0,
           0.06,
           0.08,
           0.03,
           0.08
          ],
          [
           0.02,
           0.01,
           0.01,
           0.03,
           0.03,
           0.19,
           0.01,
           0.01,
           0.56,
           0.01,
           0.03,
           0.02,
           0,
           0,
           0.07
          ],
          [
           0.01,
           0.01,
           0,
           0.1,
           0,
           0.03,
           0.09,
           0.01,
           0.01,
           0.57,
           0,
           0.06,
           0.06,
           0.01,
           0.03
          ],
          [
           0.05,
           0,
           0.05,
           0,
           0,
           0.1,
           0,
           0.02,
           0,
           0,
           0.75,
           0,
           0.05,
           0,
           0
          ],
          [
           0,
           0,
           0,
           0,
           0,
           0,
           0,
           0.02,
           0,
           0,
           0,
           0.72,
           0.02,
           0.24,
           0
          ],
          [
           0.01,
           0,
           0,
           0,
           0,
           0.01,
           0.01,
           0.16,
           0.01,
           0,
           0.07,
           0.09,
           0.57,
           0.05,
           0
          ],
          [
           0,
           0,
           0,
           0,
           0,
           0.01,
           0,
           0.02,
           0,
           0,
           0,
           0.22,
           0.01,
           0.74,
           0
          ],
          [
           0.04,
           0.01,
           0.13,
           0,
           0.03,
           0.14,
           0.06,
           0.04,
           0.04,
           0.01,
           0.11,
           0,
           0.04,
           0,
           0.34
          ]
         ],
         "zmax": 1,
         "zmin": 0
        }
       ],
       "layout": {
        "autosize": false,
        "height": 800,
        "template": {
         "data": {
          "bar": [
           {
            "error_x": {
             "color": "#2a3f5f"
            },
            "error_y": {
             "color": "#2a3f5f"
            },
            "marker": {
             "line": {
              "color": "#E5ECF6",
              "width": 0.5
             },
             "pattern": {
              "fillmode": "overlay",
              "size": 10,
              "solidity": 0.2
             }
            },
            "type": "bar"
           }
          ],
          "barpolar": [
           {
            "marker": {
             "line": {
              "color": "#E5ECF6",
              "width": 0.5
             },
             "pattern": {
              "fillmode": "overlay",
              "size": 10,
              "solidity": 0.2
             }
            },
            "type": "barpolar"
           }
          ],
          "carpet": [
           {
            "aaxis": {
             "endlinecolor": "#2a3f5f",
             "gridcolor": "white",
             "linecolor": "white",
             "minorgridcolor": "white",
             "startlinecolor": "#2a3f5f"
            },
            "baxis": {
             "endlinecolor": "#2a3f5f",
             "gridcolor": "white",
             "linecolor": "white",
             "minorgridcolor": "white",
             "startlinecolor": "#2a3f5f"
            },
            "type": "carpet"
           }
          ],
          "choropleth": [
           {
            "colorbar": {
             "outlinewidth": 0,
             "ticks": ""
            },
            "type": "choropleth"
           }
          ],
          "contour": [
           {
            "colorbar": {
             "outlinewidth": 0,
             "ticks": ""
            },
            "colorscale": [
             [
              0,
              "#0d0887"
             ],
             [
              0.1111111111111111,
              "#46039f"
             ],
             [
              0.2222222222222222,
              "#7201a8"
             ],
             [
              0.3333333333333333,
              "#9c179e"
             ],
             [
              0.4444444444444444,
              "#bd3786"
             ],
             [
              0.5555555555555556,
              "#d8576b"
             ],
             [
              0.6666666666666666,
              "#ed7953"
             ],
             [
              0.7777777777777778,
              "#fb9f3a"
             ],
             [
              0.8888888888888888,
              "#fdca26"
             ],
             [
              1,
              "#f0f921"
             ]
            ],
            "type": "contour"
           }
          ],
          "contourcarpet": [
           {
            "colorbar": {
             "outlinewidth": 0,
             "ticks": ""
            },
            "type": "contourcarpet"
           }
          ],
          "heatmap": [
           {
            "colorbar": {
             "outlinewidth": 0,
             "ticks": ""
            },
            "colorscale": [
             [
              0,
              "#0d0887"
             ],
             [
              0.1111111111111111,
              "#46039f"
             ],
             [
              0.2222222222222222,
              "#7201a8"
             ],
             [
              0.3333333333333333,
              "#9c179e"
             ],
             [
              0.4444444444444444,
              "#bd3786"
             ],
             [
              0.5555555555555556,
              "#d8576b"
             ],
             [
              0.6666666666666666,
              "#ed7953"
             ],
             [
              0.7777777777777778,
              "#fb9f3a"
             ],
             [
              0.8888888888888888,
              "#fdca26"
             ],
             [
              1,
              "#f0f921"
             ]
            ],
            "type": "heatmap"
           }
          ],
          "heatmapgl": [
           {
            "colorbar": {
             "outlinewidth": 0,
             "ticks": ""
            },
            "colorscale": [
             [
              0,
              "#0d0887"
             ],
             [
              0.1111111111111111,
              "#46039f"
             ],
             [
              0.2222222222222222,
              "#7201a8"
             ],
             [
              0.3333333333333333,
              "#9c179e"
             ],
             [
              0.4444444444444444,
              "#bd3786"
             ],
             [
              0.5555555555555556,
              "#d8576b"
             ],
             [
              0.6666666666666666,
              "#ed7953"
             ],
             [
              0.7777777777777778,
              "#fb9f3a"
             ],
             [
              0.8888888888888888,
              "#fdca26"
             ],
             [
              1,
              "#f0f921"
             ]
            ],
            "type": "heatmapgl"
           }
          ],
          "histogram": [
           {
            "marker": {
             "pattern": {
              "fillmode": "overlay",
              "size": 10,
              "solidity": 0.2
             }
            },
            "type": "histogram"
           }
          ],
          "histogram2d": [
           {
            "colorbar": {
             "outlinewidth": 0,
             "ticks": ""
            },
            "colorscale": [
             [
              0,
              "#0d0887"
             ],
             [
              0.1111111111111111,
              "#46039f"
             ],
             [
              0.2222222222222222,
              "#7201a8"
             ],
             [
              0.3333333333333333,
              "#9c179e"
             ],
             [
              0.4444444444444444,
              "#bd3786"
             ],
             [
              0.5555555555555556,
              "#d8576b"
             ],
             [
              0.6666666666666666,
              "#ed7953"
             ],
             [
              0.7777777777777778,
              "#fb9f3a"
             ],
             [
              0.8888888888888888,
              "#fdca26"
             ],
             [
              1,
              "#f0f921"
             ]
            ],
            "type": "histogram2d"
           }
          ],
          "histogram2dcontour": [
           {
            "colorbar": {
             "outlinewidth": 0,
             "ticks": ""
            },
            "colorscale": [
             [
              0,
              "#0d0887"
             ],
             [
              0.1111111111111111,
              "#46039f"
             ],
             [
              0.2222222222222222,
              "#7201a8"
             ],
             [
              0.3333333333333333,
              "#9c179e"
             ],
             [
              0.4444444444444444,
              "#bd3786"
             ],
             [
              0.5555555555555556,
              "#d8576b"
             ],
             [
              0.6666666666666666,
              "#ed7953"
             ],
             [
              0.7777777777777778,
              "#fb9f3a"
             ],
             [
              0.8888888888888888,
              "#fdca26"
             ],
             [
              1,
              "#f0f921"
             ]
            ],
            "type": "histogram2dcontour"
           }
          ],
          "mesh3d": [
           {
            "colorbar": {
             "outlinewidth": 0,
             "ticks": ""
            },
            "type": "mesh3d"
           }
          ],
          "parcoords": [
           {
            "line": {
             "colorbar": {
              "outlinewidth": 0,
              "ticks": ""
             }
            },
            "type": "parcoords"
           }
          ],
          "pie": [
           {
            "automargin": true,
            "type": "pie"
           }
          ],
          "scatter": [
           {
            "fillpattern": {
             "fillmode": "overlay",
             "size": 10,
             "solidity": 0.2
            },
            "type": "scatter"
           }
          ],
          "scatter3d": [
           {
            "line": {
             "colorbar": {
              "outlinewidth": 0,
              "ticks": ""
             }
            },
            "marker": {
             "colorbar": {
              "outlinewidth": 0,
              "ticks": ""
             }
            },
            "type": "scatter3d"
           }
          ],
          "scattercarpet": [
           {
            "marker": {
             "colorbar": {
              "outlinewidth": 0,
              "ticks": ""
             }
            },
            "type": "scattercarpet"
           }
          ],
          "scattergeo": [
           {
            "marker": {
             "colorbar": {
              "outlinewidth": 0,
              "ticks": ""
             }
            },
            "type": "scattergeo"
           }
          ],
          "scattergl": [
           {
            "marker": {
             "colorbar": {
              "outlinewidth": 0,
              "ticks": ""
             }
            },
            "type": "scattergl"
           }
          ],
          "scattermapbox": [
           {
            "marker": {
             "colorbar": {
              "outlinewidth": 0,
              "ticks": ""
             }
            },
            "type": "scattermapbox"
           }
          ],
          "scatterpolar": [
           {
            "marker": {
             "colorbar": {
              "outlinewidth": 0,
              "ticks": ""
             }
            },
            "type": "scatterpolar"
           }
          ],
          "scatterpolargl": [
           {
            "marker": {
             "colorbar": {
              "outlinewidth": 0,
              "ticks": ""
             }
            },
            "type": "scatterpolargl"
           }
          ],
          "scatterternary": [
           {
            "marker": {
             "colorbar": {
              "outlinewidth": 0,
              "ticks": ""
             }
            },
            "type": "scatterternary"
           }
          ],
          "surface": [
           {
            "colorbar": {
             "outlinewidth": 0,
             "ticks": ""
            },
            "colorscale": [
             [
              0,
              "#0d0887"
             ],
             [
              0.1111111111111111,
              "#46039f"
             ],
             [
              0.2222222222222222,
              "#7201a8"
             ],
             [
              0.3333333333333333,
              "#9c179e"
             ],
             [
              0.4444444444444444,
              "#bd3786"
             ],
             [
              0.5555555555555556,
              "#d8576b"
             ],
             [
              0.6666666666666666,
              "#ed7953"
             ],
             [
              0.7777777777777778,
              "#fb9f3a"
             ],
             [
              0.8888888888888888,
              "#fdca26"
             ],
             [
              1,
              "#f0f921"
             ]
            ],
            "type": "surface"
           }
          ],
          "table": [
           {
            "cells": {
             "fill": {
              "color": "#EBF0F8"
             },
             "line": {
              "color": "white"
             }
            },
            "header": {
             "fill": {
              "color": "#C8D4E3"
             },
             "line": {
              "color": "white"
             }
            },
            "type": "table"
           }
          ]
         },
         "layout": {
          "annotationdefaults": {
           "arrowcolor": "#2a3f5f",
           "arrowhead": 0,
           "arrowwidth": 1
          },
          "autotypenumbers": "strict",
          "coloraxis": {
           "colorbar": {
            "outlinewidth": 0,
            "ticks": ""
           }
          },
          "colorscale": {
           "diverging": [
            [
             0,
             "#8e0152"
            ],
            [
             0.1,
             "#c51b7d"
            ],
            [
             0.2,
             "#de77ae"
            ],
            [
             0.3,
             "#f1b6da"
            ],
            [
             0.4,
             "#fde0ef"
            ],
            [
             0.5,
             "#f7f7f7"
            ],
            [
             0.6,
             "#e6f5d0"
            ],
            [
             0.7,
             "#b8e186"
            ],
            [
             0.8,
             "#7fbc41"
            ],
            [
             0.9,
             "#4d9221"
            ],
            [
             1,
             "#276419"
            ]
           ],
           "sequential": [
            [
             0,
             "#0d0887"
            ],
            [
             0.1111111111111111,
             "#46039f"
            ],
            [
             0.2222222222222222,
             "#7201a8"
            ],
            [
             0.3333333333333333,
             "#9c179e"
            ],
            [
             0.4444444444444444,
             "#bd3786"
            ],
            [
             0.5555555555555556,
             "#d8576b"
            ],
            [
             0.6666666666666666,
             "#ed7953"
            ],
            [
             0.7777777777777778,
             "#fb9f3a"
            ],
            [
             0.8888888888888888,
             "#fdca26"
            ],
            [
             1,
             "#f0f921"
            ]
           ],
           "sequentialminus": [
            [
             0,
             "#0d0887"
            ],
            [
             0.1111111111111111,
             "#46039f"
            ],
            [
             0.2222222222222222,
             "#7201a8"
            ],
            [
             0.3333333333333333,
             "#9c179e"
            ],
            [
             0.4444444444444444,
             "#bd3786"
            ],
            [
             0.5555555555555556,
             "#d8576b"
            ],
            [
             0.6666666666666666,
             "#ed7953"
            ],
            [
             0.7777777777777778,
             "#fb9f3a"
            ],
            [
             0.8888888888888888,
             "#fdca26"
            ],
            [
             1,
             "#f0f921"
            ]
           ]
          },
          "colorway": [
           "#636efa",
           "#EF553B",
           "#00cc96",
           "#ab63fa",
           "#FFA15A",
           "#19d3f3",
           "#FF6692",
           "#B6E880",
           "#FF97FF",
           "#FECB52"
          ],
          "font": {
           "color": "#2a3f5f"
          },
          "geo": {
           "bgcolor": "white",
           "lakecolor": "white",
           "landcolor": "#E5ECF6",
           "showlakes": true,
           "showland": true,
           "subunitcolor": "white"
          },
          "hoverlabel": {
           "align": "left"
          },
          "hovermode": "closest",
          "mapbox": {
           "style": "light"
          },
          "paper_bgcolor": "white",
          "plot_bgcolor": "#E5ECF6",
          "polar": {
           "angularaxis": {
            "gridcolor": "white",
            "linecolor": "white",
            "ticks": ""
           },
           "bgcolor": "#E5ECF6",
           "radialaxis": {
            "gridcolor": "white",
            "linecolor": "white",
            "ticks": ""
           }
          },
          "scene": {
           "xaxis": {
            "backgroundcolor": "#E5ECF6",
            "gridcolor": "white",
            "gridwidth": 2,
            "linecolor": "white",
            "showbackground": true,
            "ticks": "",
            "zerolinecolor": "white"
           },
           "yaxis": {
            "backgroundcolor": "#E5ECF6",
            "gridcolor": "white",
            "gridwidth": 2,
            "linecolor": "white",
            "showbackground": true,
            "ticks": "",
            "zerolinecolor": "white"
           },
           "zaxis": {
            "backgroundcolor": "#E5ECF6",
            "gridcolor": "white",
            "gridwidth": 2,
            "linecolor": "white",
            "showbackground": true,
            "ticks": "",
            "zerolinecolor": "white"
           }
          },
          "shapedefaults": {
           "line": {
            "color": "#2a3f5f"
           }
          },
          "ternary": {
           "aaxis": {
            "gridcolor": "white",
            "linecolor": "white",
            "ticks": ""
           },
           "baxis": {
            "gridcolor": "white",
            "linecolor": "white",
            "ticks": ""
           },
           "bgcolor": "#E5ECF6",
           "caxis": {
            "gridcolor": "white",
            "linecolor": "white",
            "ticks": ""
           }
          },
          "title": {
           "x": 0.05
          },
          "xaxis": {
           "automargin": true,
           "gridcolor": "white",
           "linecolor": "white",
           "ticks": "",
           "title": {
            "standoff": 15
           },
           "zerolinecolor": "white",
           "zerolinewidth": 2
          },
          "yaxis": {
           "automargin": true,
           "gridcolor": "white",
           "linecolor": "white",
           "ticks": "",
           "title": {
            "standoff": 15
           },
           "zerolinecolor": "white",
           "zerolinewidth": 2
          }
         }
        },
        "title": {
         "text": "Confusion Matrix Validation Data"
        },
        "width": 800,
        "xaxis": {
         "title": {
          "text": "Predicted label"
         }
        },
        "yaxis": {
         "autorange": "reversed",
         "title": {
          "text": "True Label"
         }
        }
       }
      }
     },
     "metadata": {},
     "output_type": "display_data"
    },
    {
     "data": {
      "application/vnd.plotly.v1+json": {
       "config": {
        "plotlyServerURL": "https://plot.ly"
       },
       "data": [
        {
         "colorbar": {
          "title": {
           "text": "Percentage of<br>predicted label"
          }
         },
         "colorscale": [
          [
           0,
           "#440154"
          ],
          [
           0.1111111111111111,
           "#482878"
          ],
          [
           0.2222222222222222,
           "#3e4989"
          ],
          [
           0.3333333333333333,
           "#31688e"
          ],
          [
           0.4444444444444444,
           "#26828e"
          ],
          [
           0.5555555555555556,
           "#1f9e89"
          ],
          [
           0.6666666666666666,
           "#35b779"
          ],
          [
           0.7777777777777778,
           "#6ece58"
          ],
          [
           0.8888888888888888,
           "#b5de2b"
          ],
          [
           1,
           "#fde725"
          ]
         ],
         "text": [
          [
           552,
           65,
           66,
           18,
           120,
           64,
           45,
           31,
           118,
           53,
           81,
           21,
           30,
           13,
           8
          ],
          [
           6,
           40,
           22,
           6,
           18,
           3,
           4,
           0,
           1,
           8,
           16,
           0,
           2,
           0,
           0
          ],
          [
           2,
           3,
           64,
           0,
           0,
           0,
           0,
           0,
           0,
           0,
           9,
           0,
           0,
           0,
           0
          ],
          [
           7,
           2,
           6,
           66,
           5,
           1,
           0,
           1,
           0,
           16,
           2,
           0,
           0,
           0,
           0
          ],
          [
           5,
           22,
           0,
           0,
           64,
           0,
           2,
           0,
           0,
           1,
           12,
           0,
           0,
           0,
           0
          ],
          [
           2,
           7,
           0,
           0,
           5,
           70,
           3,
           0,
           24,
           0,
           2,
           0,
           0,
           0,
           0
          ],
          [
           6,
           22,
           7,
           1,
           3,
           11,
           78,
           0,
           14,
           0,
           1,
           0,
           0,
           0,
           0
          ],
          [
           0,
           0,
           1,
           1,
           0,
           5,
           6,
           42,
           4,
           1,
           0,
           5,
           6,
           2,
           6
          ],
          [
           2,
           1,
           1,
           3,
           3,
           18,
           1,
           1,
           54,
           1,
           3,
           2,
           0,
           0,
           7
          ],
          [
           1,
           1,
           0,
           7,
           0,
           2,
           6,
           1,
           1,
           40,
           0,
           4,
           4,
           1,
           2
          ],
          [
           3,
           0,
           3,
           0,
           0,
           6,
           0,
           1,
           0,
           0,
           47,
           0,
           3,
           0,
           0
          ],
          [
           0,
           0,
           0,
           0,
           0,
           0,
           0,
           3,
           0,
           0,
           0,
           118,
           3,
           39,
           0
          ],
          [
           3,
           0,
           0,
           0,
           0,
           3,
           3,
           32,
           3,
           0,
           14,
           18,
           117,
           11,
           0
          ],
          [
           0,
           0,
           0,
           0,
           0,
           2,
           0,
           3,
           0,
           0,
           0,
           30,
           1,
           102,
           0
          ],
          [
           6,
           2,
           17,
           0,
           4,
           19,
           8,
           6,
           5,
           1,
           15,
           0,
           6,
           0,
           46
          ]
         ],
         "texttemplate": "%{z:.0%}<br>(%{text:d})",
         "type": "heatmap",
         "x": [
          0,
          1,
          2,
          3,
          4,
          5,
          6,
          7,
          8,
          9,
          10,
          11,
          12,
          13,
          14
         ],
         "y": [
          0,
          1,
          2,
          3,
          4,
          5,
          6,
          7,
          8,
          9,
          10,
          11,
          12,
          13,
          14
         ],
         "z": [
          [
           0.93,
           0.39,
           0.35,
           0.18,
           0.54,
           0.31,
           0.29,
           0.26,
           0.53,
           0.44,
           0.4,
           0.11,
           0.17,
           0.08,
           0.12
          ],
          [
           0.01,
           0.24,
           0.12,
           0.06,
           0.08,
           0.01,
           0.03,
           0,
           0,
           0.07,
           0.08,
           0,
           0.01,
           0,
           0
          ],
          [
           0,
           0.02,
           0.34,
           0,
           0,
           0,
           0,
           0,
           0,
           0,
           0.04,
           0,
           0,
           0,
           0
          ],
          [
           0.01,
           0.01,
           0.03,
           0.65,
           0.02,
           0,
           0,
           0.01,
           0,
           0.13,
           0.01,
           0,
           0,
           0,
           0
          ],
          [
           0.01,
           0.13,
           0,
           0,
           0.29,
           0,
           0.01,
           0,
           0,
           0.01,
           0.06,
           0,
           0,
           0,
           0
          ],
          [
           0,
           0.04,
           0,
           0,
           0.02,
           0.34,
           0.02,
           0,
           0.11,
           0,
           0.01,
           0,
           0,
           0,
           0
          ],
          [
           0.01,
           0.13,
           0.04,
           0.01,
           0.01,
           0.05,
           0.5,
           0,
           0.06,
           0,
           0,
           0,
           0,
           0,
           0
          ],
          [
           0,
           0,
           0.01,
           0.01,
           0,
           0.02,
           0.04,
           0.35,
           0.02,
           0.01,
           0,
           0.03,
           0.03,
           0.01,
           0.09
          ],
          [
           0,
           0.01,
           0.01,
           0.03,
           0.01,
           0.09,
           0.01,
           0.01,
           0.24,
           0.01,
           0.01,
           0.01,
           0,
           0,
           0.1
          ],
          [
           0,
           0.01,
           0,
           0.07,
           0,
           0.01,
           0.04,
           0.01,
           0,
           0.33,
           0,
           0.02,
           0.02,
           0.01,
           0.03
          ],
          [
           0.01,
           0,
           0.02,
           0,
           0,
           0.03,
           0,
           0.01,
           0,
           0,
           0.23,
           0,
           0.02,
           0,
           0
          ],
          [
           0,
           0,
           0,
           0,
           0,
           0,
           0,
           0.02,
           0,
           0,
           0,
           0.6,
           0.02,
           0.23,
           0
          ],
          [
           0.01,
           0,
           0,
           0,
           0,
           0.01,
           0.02,
           0.26,
           0.01,
           0,
           0.07,
           0.09,
           0.68,
           0.07,
           0
          ],
          [
           0,
           0,
           0,
           0,
           0,
           0.01,
           0,
           0.02,
           0,
           0,
           0,
           0.15,
           0.01,
           0.61,
           0
          ],
          [
           0.01,
           0.01,
           0.09,
           0,
           0.02,
           0.09,
           0.05,
           0.05,
           0.02,
           0.01,
           0.07,
           0,
           0.03,
           0,
           0.67
          ]
         ],
         "zmax": 1,
         "zmin": 0
        }
       ],
       "layout": {
        "autosize": false,
        "height": 800,
        "template": {
         "data": {
          "bar": [
           {
            "error_x": {
             "color": "#2a3f5f"
            },
            "error_y": {
             "color": "#2a3f5f"
            },
            "marker": {
             "line": {
              "color": "#E5ECF6",
              "width": 0.5
             },
             "pattern": {
              "fillmode": "overlay",
              "size": 10,
              "solidity": 0.2
             }
            },
            "type": "bar"
           }
          ],
          "barpolar": [
           {
            "marker": {
             "line": {
              "color": "#E5ECF6",
              "width": 0.5
             },
             "pattern": {
              "fillmode": "overlay",
              "size": 10,
              "solidity": 0.2
             }
            },
            "type": "barpolar"
           }
          ],
          "carpet": [
           {
            "aaxis": {
             "endlinecolor": "#2a3f5f",
             "gridcolor": "white",
             "linecolor": "white",
             "minorgridcolor": "white",
             "startlinecolor": "#2a3f5f"
            },
            "baxis": {
             "endlinecolor": "#2a3f5f",
             "gridcolor": "white",
             "linecolor": "white",
             "minorgridcolor": "white",
             "startlinecolor": "#2a3f5f"
            },
            "type": "carpet"
           }
          ],
          "choropleth": [
           {
            "colorbar": {
             "outlinewidth": 0,
             "ticks": ""
            },
            "type": "choropleth"
           }
          ],
          "contour": [
           {
            "colorbar": {
             "outlinewidth": 0,
             "ticks": ""
            },
            "colorscale": [
             [
              0,
              "#0d0887"
             ],
             [
              0.1111111111111111,
              "#46039f"
             ],
             [
              0.2222222222222222,
              "#7201a8"
             ],
             [
              0.3333333333333333,
              "#9c179e"
             ],
             [
              0.4444444444444444,
              "#bd3786"
             ],
             [
              0.5555555555555556,
              "#d8576b"
             ],
             [
              0.6666666666666666,
              "#ed7953"
             ],
             [
              0.7777777777777778,
              "#fb9f3a"
             ],
             [
              0.8888888888888888,
              "#fdca26"
             ],
             [
              1,
              "#f0f921"
             ]
            ],
            "type": "contour"
           }
          ],
          "contourcarpet": [
           {
            "colorbar": {
             "outlinewidth": 0,
             "ticks": ""
            },
            "type": "contourcarpet"
           }
          ],
          "heatmap": [
           {
            "colorbar": {
             "outlinewidth": 0,
             "ticks": ""
            },
            "colorscale": [
             [
              0,
              "#0d0887"
             ],
             [
              0.1111111111111111,
              "#46039f"
             ],
             [
              0.2222222222222222,
              "#7201a8"
             ],
             [
              0.3333333333333333,
              "#9c179e"
             ],
             [
              0.4444444444444444,
              "#bd3786"
             ],
             [
              0.5555555555555556,
              "#d8576b"
             ],
             [
              0.6666666666666666,
              "#ed7953"
             ],
             [
              0.7777777777777778,
              "#fb9f3a"
             ],
             [
              0.8888888888888888,
              "#fdca26"
             ],
             [
              1,
              "#f0f921"
             ]
            ],
            "type": "heatmap"
           }
          ],
          "heatmapgl": [
           {
            "colorbar": {
             "outlinewidth": 0,
             "ticks": ""
            },
            "colorscale": [
             [
              0,
              "#0d0887"
             ],
             [
              0.1111111111111111,
              "#46039f"
             ],
             [
              0.2222222222222222,
              "#7201a8"
             ],
             [
              0.3333333333333333,
              "#9c179e"
             ],
             [
              0.4444444444444444,
              "#bd3786"
             ],
             [
              0.5555555555555556,
              "#d8576b"
             ],
             [
              0.6666666666666666,
              "#ed7953"
             ],
             [
              0.7777777777777778,
              "#fb9f3a"
             ],
             [
              0.8888888888888888,
              "#fdca26"
             ],
             [
              1,
              "#f0f921"
             ]
            ],
            "type": "heatmapgl"
           }
          ],
          "histogram": [
           {
            "marker": {
             "pattern": {
              "fillmode": "overlay",
              "size": 10,
              "solidity": 0.2
             }
            },
            "type": "histogram"
           }
          ],
          "histogram2d": [
           {
            "colorbar": {
             "outlinewidth": 0,
             "ticks": ""
            },
            "colorscale": [
             [
              0,
              "#0d0887"
             ],
             [
              0.1111111111111111,
              "#46039f"
             ],
             [
              0.2222222222222222,
              "#7201a8"
             ],
             [
              0.3333333333333333,
              "#9c179e"
             ],
             [
              0.4444444444444444,
              "#bd3786"
             ],
             [
              0.5555555555555556,
              "#d8576b"
             ],
             [
              0.6666666666666666,
              "#ed7953"
             ],
             [
              0.7777777777777778,
              "#fb9f3a"
             ],
             [
              0.8888888888888888,
              "#fdca26"
             ],
             [
              1,
              "#f0f921"
             ]
            ],
            "type": "histogram2d"
           }
          ],
          "histogram2dcontour": [
           {
            "colorbar": {
             "outlinewidth": 0,
             "ticks": ""
            },
            "colorscale": [
             [
              0,
              "#0d0887"
             ],
             [
              0.1111111111111111,
              "#46039f"
             ],
             [
              0.2222222222222222,
              "#7201a8"
             ],
             [
              0.3333333333333333,
              "#9c179e"
             ],
             [
              0.4444444444444444,
              "#bd3786"
             ],
             [
              0.5555555555555556,
              "#d8576b"
             ],
             [
              0.6666666666666666,
              "#ed7953"
             ],
             [
              0.7777777777777778,
              "#fb9f3a"
             ],
             [
              0.8888888888888888,
              "#fdca26"
             ],
             [
              1,
              "#f0f921"
             ]
            ],
            "type": "histogram2dcontour"
           }
          ],
          "mesh3d": [
           {
            "colorbar": {
             "outlinewidth": 0,
             "ticks": ""
            },
            "type": "mesh3d"
           }
          ],
          "parcoords": [
           {
            "line": {
             "colorbar": {
              "outlinewidth": 0,
              "ticks": ""
             }
            },
            "type": "parcoords"
           }
          ],
          "pie": [
           {
            "automargin": true,
            "type": "pie"
           }
          ],
          "scatter": [
           {
            "fillpattern": {
             "fillmode": "overlay",
             "size": 10,
             "solidity": 0.2
            },
            "type": "scatter"
           }
          ],
          "scatter3d": [
           {
            "line": {
             "colorbar": {
              "outlinewidth": 0,
              "ticks": ""
             }
            },
            "marker": {
             "colorbar": {
              "outlinewidth": 0,
              "ticks": ""
             }
            },
            "type": "scatter3d"
           }
          ],
          "scattercarpet": [
           {
            "marker": {
             "colorbar": {
              "outlinewidth": 0,
              "ticks": ""
             }
            },
            "type": "scattercarpet"
           }
          ],
          "scattergeo": [
           {
            "marker": {
             "colorbar": {
              "outlinewidth": 0,
              "ticks": ""
             }
            },
            "type": "scattergeo"
           }
          ],
          "scattergl": [
           {
            "marker": {
             "colorbar": {
              "outlinewidth": 0,
              "ticks": ""
             }
            },
            "type": "scattergl"
           }
          ],
          "scattermapbox": [
           {
            "marker": {
             "colorbar": {
              "outlinewidth": 0,
              "ticks": ""
             }
            },
            "type": "scattermapbox"
           }
          ],
          "scatterpolar": [
           {
            "marker": {
             "colorbar": {
              "outlinewidth": 0,
              "ticks": ""
             }
            },
            "type": "scatterpolar"
           }
          ],
          "scatterpolargl": [
           {
            "marker": {
             "colorbar": {
              "outlinewidth": 0,
              "ticks": ""
             }
            },
            "type": "scatterpolargl"
           }
          ],
          "scatterternary": [
           {
            "marker": {
             "colorbar": {
              "outlinewidth": 0,
              "ticks": ""
             }
            },
            "type": "scatterternary"
           }
          ],
          "surface": [
           {
            "colorbar": {
             "outlinewidth": 0,
             "ticks": ""
            },
            "colorscale": [
             [
              0,
              "#0d0887"
             ],
             [
              0.1111111111111111,
              "#46039f"
             ],
             [
              0.2222222222222222,
              "#7201a8"
             ],
             [
              0.3333333333333333,
              "#9c179e"
             ],
             [
              0.4444444444444444,
              "#bd3786"
             ],
             [
              0.5555555555555556,
              "#d8576b"
             ],
             [
              0.6666666666666666,
              "#ed7953"
             ],
             [
              0.7777777777777778,
              "#fb9f3a"
             ],
             [
              0.8888888888888888,
              "#fdca26"
             ],
             [
              1,
              "#f0f921"
             ]
            ],
            "type": "surface"
           }
          ],
          "table": [
           {
            "cells": {
             "fill": {
              "color": "#EBF0F8"
             },
             "line": {
              "color": "white"
             }
            },
            "header": {
             "fill": {
              "color": "#C8D4E3"
             },
             "line": {
              "color": "white"
             }
            },
            "type": "table"
           }
          ]
         },
         "layout": {
          "annotationdefaults": {
           "arrowcolor": "#2a3f5f",
           "arrowhead": 0,
           "arrowwidth": 1
          },
          "autotypenumbers": "strict",
          "coloraxis": {
           "colorbar": {
            "outlinewidth": 0,
            "ticks": ""
           }
          },
          "colorscale": {
           "diverging": [
            [
             0,
             "#8e0152"
            ],
            [
             0.1,
             "#c51b7d"
            ],
            [
             0.2,
             "#de77ae"
            ],
            [
             0.3,
             "#f1b6da"
            ],
            [
             0.4,
             "#fde0ef"
            ],
            [
             0.5,
             "#f7f7f7"
            ],
            [
             0.6,
             "#e6f5d0"
            ],
            [
             0.7,
             "#b8e186"
            ],
            [
             0.8,
             "#7fbc41"
            ],
            [
             0.9,
             "#4d9221"
            ],
            [
             1,
             "#276419"
            ]
           ],
           "sequential": [
            [
             0,
             "#0d0887"
            ],
            [
             0.1111111111111111,
             "#46039f"
            ],
            [
             0.2222222222222222,
             "#7201a8"
            ],
            [
             0.3333333333333333,
             "#9c179e"
            ],
            [
             0.4444444444444444,
             "#bd3786"
            ],
            [
             0.5555555555555556,
             "#d8576b"
            ],
            [
             0.6666666666666666,
             "#ed7953"
            ],
            [
             0.7777777777777778,
             "#fb9f3a"
            ],
            [
             0.8888888888888888,
             "#fdca26"
            ],
            [
             1,
             "#f0f921"
            ]
           ],
           "sequentialminus": [
            [
             0,
             "#0d0887"
            ],
            [
             0.1111111111111111,
             "#46039f"
            ],
            [
             0.2222222222222222,
             "#7201a8"
            ],
            [
             0.3333333333333333,
             "#9c179e"
            ],
            [
             0.4444444444444444,
             "#bd3786"
            ],
            [
             0.5555555555555556,
             "#d8576b"
            ],
            [
             0.6666666666666666,
             "#ed7953"
            ],
            [
             0.7777777777777778,
             "#fb9f3a"
            ],
            [
             0.8888888888888888,
             "#fdca26"
            ],
            [
             1,
             "#f0f921"
            ]
           ]
          },
          "colorway": [
           "#636efa",
           "#EF553B",
           "#00cc96",
           "#ab63fa",
           "#FFA15A",
           "#19d3f3",
           "#FF6692",
           "#B6E880",
           "#FF97FF",
           "#FECB52"
          ],
          "font": {
           "color": "#2a3f5f"
          },
          "geo": {
           "bgcolor": "white",
           "lakecolor": "white",
           "landcolor": "#E5ECF6",
           "showlakes": true,
           "showland": true,
           "subunitcolor": "white"
          },
          "hoverlabel": {
           "align": "left"
          },
          "hovermode": "closest",
          "mapbox": {
           "style": "light"
          },
          "paper_bgcolor": "white",
          "plot_bgcolor": "#E5ECF6",
          "polar": {
           "angularaxis": {
            "gridcolor": "white",
            "linecolor": "white",
            "ticks": ""
           },
           "bgcolor": "#E5ECF6",
           "radialaxis": {
            "gridcolor": "white",
            "linecolor": "white",
            "ticks": ""
           }
          },
          "scene": {
           "xaxis": {
            "backgroundcolor": "#E5ECF6",
            "gridcolor": "white",
            "gridwidth": 2,
            "linecolor": "white",
            "showbackground": true,
            "ticks": "",
            "zerolinecolor": "white"
           },
           "yaxis": {
            "backgroundcolor": "#E5ECF6",
            "gridcolor": "white",
            "gridwidth": 2,
            "linecolor": "white",
            "showbackground": true,
            "ticks": "",
            "zerolinecolor": "white"
           },
           "zaxis": {
            "backgroundcolor": "#E5ECF6",
            "gridcolor": "white",
            "gridwidth": 2,
            "linecolor": "white",
            "showbackground": true,
            "ticks": "",
            "zerolinecolor": "white"
           }
          },
          "shapedefaults": {
           "line": {
            "color": "#2a3f5f"
           }
          },
          "ternary": {
           "aaxis": {
            "gridcolor": "white",
            "linecolor": "white",
            "ticks": ""
           },
           "baxis": {
            "gridcolor": "white",
            "linecolor": "white",
            "ticks": ""
           },
           "bgcolor": "#E5ECF6",
           "caxis": {
            "gridcolor": "white",
            "linecolor": "white",
            "ticks": ""
           }
          },
          "title": {
           "x": 0.05
          },
          "xaxis": {
           "automargin": true,
           "gridcolor": "white",
           "linecolor": "white",
           "ticks": "",
           "title": {
            "standoff": 15
           },
           "zerolinecolor": "white",
           "zerolinewidth": 2
          },
          "yaxis": {
           "automargin": true,
           "gridcolor": "white",
           "linecolor": "white",
           "ticks": "",
           "title": {
            "standoff": 15
           },
           "zerolinecolor": "white",
           "zerolinewidth": 2
          }
         }
        },
        "title": {
         "text": "Confusion Matrix Validation Data"
        },
        "width": 800,
        "xaxis": {
         "title": {
          "text": "Predicted label"
         }
        },
        "yaxis": {
         "autorange": "reversed",
         "title": {
          "text": "True Label"
         }
        }
       }
      }
     },
     "metadata": {},
     "output_type": "display_data"
    }
   ],
   "source": [
    "plot_CM(foldsprocessors[1].window_sets_processed['valid']['Y'], Y_hat_valid, 'Confusion Matrix Validation Data', percentagereference='recall')\n",
    "plot_CM(foldsprocessors[1].window_sets_processed['valid']['Y'], Y_hat_valid, 'Confusion Matrix Validation Data', percentagereference='precision')"
   ]
  },
  {
   "cell_type": "code",
   "execution_count": null,
   "metadata": {},
   "outputs": [],
   "source": [
    "px.histogram(T_valid.loc[(T_valid['n_gesture']==7) & (T_valid['Y']==0), 'Y_hat'], nbins = 15)\n"
   ]
  },
  {
   "cell_type": "markdown",
   "metadata": {},
   "source": [
    "|# |\tName of the gesture |\tType of the gesture|\n",
    "| --- | --- | --- |\n",
    "|1 \t|Grab \t        |Fine|\n",
    "|2 \t|Tap \t        |Coarse|\n",
    "|3 \t|Expand \t    |Fine|\n",
    "|4 \t|Pinch \t        |Fine|\n",
    "|5 \t|Rotation CW \t|Fine|\n",
    "|6 \t|Rotation CCW \t|Fine|\n",
    "|7 \t|Swipe Right \t|Coarse|\n",
    "|8 \t|Swipe Left \t|Coarse|\n",
    "|9 \t|Swipe Up \t    |Coarse|\n",
    "|10 |\tSwipe Down \t|Coarse|\n",
    "|11 |\tSwipe X \t|Coarse|\n",
    "|12 |\tSwipe V \t|Coarse|\n",
    "|13 |\tSwipe + \t|Coarse|\n",
    "|14 |\tShake \t    |Coarse |"
   ]
  },
  {
   "cell_type": "code",
   "execution_count": null,
   "metadata": {},
   "outputs": [],
   "source": [
    "%version_information tensorflow, numpy, matplotlib, plotly, pandas, keras"
   ]
  }
 ],
 "metadata": {
  "kernelspec": {
   "display_name": "gestclass2",
   "language": "python",
   "name": "python3"
  },
  "language_info": {
   "codemirror_mode": {
    "name": "ipython",
    "version": 3
   },
   "file_extension": ".py",
   "mimetype": "text/x-python",
   "name": "python",
   "nbconvert_exporter": "python",
   "pygments_lexer": "ipython3",
   "version": "3.12.2"
  }
 },
 "nbformat": 4,
 "nbformat_minor": 2
}
